{
 "cells": [
  {
   "cell_type": "markdown",
   "metadata": {
    "colab": {
     "base_uri": "https://localhost:8080/"
    },
    "executionInfo": {
     "elapsed": 3835,
     "status": "ok",
     "timestamp": 1674398535575,
     "user": {
      "displayName": "rweyemamu barongo",
      "userId": "08892034532025439007"
     },
     "user_tz": -180
    },
    "id": "bWKs7yjb-K3G",
    "outputId": "206bd117-2fac-43ef-e5c2-9494f5177bdb"
   },
   "source": [
    "### Program 3 of 3\n",
    "### Purpose: Model Building and Evaluation\n",
    "### Programs: Data split in train and test, data scaling, build and train models, model tests and results\n",
    "### Inputs: Labeled data for training and testing\n",
    "### Outputs: Models and Test results of alternative RF, MLP, and Hybrid RF-MLP models \n",
    "### Developer: Rweyemamu Barongo rbarongo@gmail.com, ribarongo@bot.go.tz, ribarongo@udsm.ac.tz"
   ]
  },
  {
   "cell_type": "markdown",
   "metadata": {},
   "source": [
    "#### Install Libraries"
   ]
  },
  {
   "cell_type": "code",
   "execution_count": 2,
   "metadata": {},
   "outputs": [],
   "source": [
    "#working with xls files\n",
    "#!pip install --upgrade xlrd"
   ]
  },
  {
   "cell_type": "code",
   "execution_count": 3,
   "metadata": {},
   "outputs": [],
   "source": [
    "#!pip install xlwt"
   ]
  },
  {
   "cell_type": "code",
   "execution_count": 4,
   "metadata": {},
   "outputs": [
    {
     "name": "stdout",
     "output_type": "stream",
     "text": [
      "\u001b[31mERROR: Could not find a version that satisfies the requirement pickle (from versions: none)\u001b[0m\n",
      "\u001b[31mERROR: No matching distribution found for pickle\u001b[0m\n"
     ]
    }
   ],
   "source": [
    "#for loading saved machine learning models\n",
    "!pip install pickle"
   ]
  },
  {
   "cell_type": "code",
   "execution_count": 5,
   "metadata": {},
   "outputs": [
    {
     "name": "stdout",
     "output_type": "stream",
     "text": [
      "Collecting tensorflow\n",
      "  Using cached tensorflow-2.13.1-cp38-cp38-manylinux_2_17_x86_64.manylinux2014_x86_64.whl (479.6 MB)\n",
      "Collecting termcolor>=1.1.0\n",
      "  Downloading termcolor-2.3.0-py3-none-any.whl (6.9 kB)\n",
      "Collecting grpcio<2.0,>=1.24.3\n",
      "  Downloading grpcio-1.59.2-cp38-cp38-manylinux_2_17_x86_64.manylinux2014_x86_64.whl (5.3 MB)\n",
      "\u001b[K     |████████████████████████████████| 5.3 MB 35.5 MB/s eta 0:00:01\n",
      "\u001b[?25hCollecting opt-einsum>=2.3.2\n",
      "  Downloading opt_einsum-3.3.0-py3-none-any.whl (65 kB)\n",
      "\u001b[K     |████████████████████████████████| 65 kB 8.5 MB/s s eta 0:00:01\n",
      "\u001b[?25hCollecting absl-py>=1.0.0\n",
      "  Downloading absl_py-2.0.0-py3-none-any.whl (130 kB)\n",
      "\u001b[K     |████████████████████████████████| 130 kB 116.1 MB/s eta 0:00:01\n",
      "\u001b[?25hCollecting protobuf!=4.21.0,!=4.21.1,!=4.21.2,!=4.21.3,!=4.21.4,!=4.21.5,<5.0.0dev,>=3.20.3\n",
      "  Downloading protobuf-4.25.1-cp37-abi3-manylinux2014_x86_64.whl (294 kB)\n",
      "\u001b[K     |████████████████████████████████| 294 kB 111.8 MB/s eta 0:00:01\n",
      "\u001b[?25hCollecting google-pasta>=0.1.1\n",
      "  Downloading google_pasta-0.2.0-py3-none-any.whl (57 kB)\n",
      "\u001b[K     |████████████████████████████████| 57 kB 6.8 MB/s  eta 0:00:01\n",
      "\u001b[?25hCollecting h5py>=2.9.0\n",
      "  Downloading h5py-3.10.0-cp38-cp38-manylinux_2_17_x86_64.manylinux2014_x86_64.whl (4.8 MB)\n",
      "\u001b[K     |████████████████████████████████| 4.8 MB 108.4 MB/s eta 0:00:01\n",
      "\u001b[?25hCollecting keras<2.14,>=2.13.1\n",
      "  Downloading keras-2.13.1-py3-none-any.whl (1.7 MB)\n",
      "\u001b[K     |████████████████████████████████| 1.7 MB 109.4 MB/s eta 0:00:01\n",
      "\u001b[?25hCollecting tensorflow-io-gcs-filesystem>=0.23.1; platform_machine != \"arm64\" or platform_system != \"Darwin\"\n",
      "  Downloading tensorflow_io_gcs_filesystem-0.34.0-cp38-cp38-manylinux_2_12_x86_64.manylinux2010_x86_64.whl (2.4 MB)\n",
      "\u001b[K     |████████████████████████████████| 2.4 MB 99.8 MB/s eta 0:00:01\n",
      "\u001b[?25hCollecting wrapt>=1.11.0\n",
      "  Downloading wrapt-1.16.0-cp38-cp38-manylinux_2_5_x86_64.manylinux1_x86_64.manylinux_2_17_x86_64.manylinux2014_x86_64.whl (83 kB)\n",
      "\u001b[K     |████████████████████████████████| 83 kB 527 kB/s s eta 0:00:01\n",
      "\u001b[?25hCollecting tensorboard<2.14,>=2.13\n",
      "  Downloading tensorboard-2.13.0-py3-none-any.whl (5.6 MB)\n",
      "\u001b[K     |████████████████████████████████| 5.6 MB 114.0 MB/s eta 0:00:01\n",
      "\u001b[?25hCollecting flatbuffers>=23.1.21\n",
      "  Downloading flatbuffers-23.5.26-py2.py3-none-any.whl (26 kB)\n",
      "Collecting libclang>=13.0.0\n",
      "  Downloading libclang-16.0.6-py2.py3-none-manylinux2010_x86_64.whl (22.9 MB)\n",
      "\u001b[K     |████████████████████████████████| 22.9 MB 114.4 MB/s eta 0:00:01\n",
      "\u001b[?25hCollecting gast<=0.4.0,>=0.2.1\n",
      "  Downloading gast-0.4.0-py3-none-any.whl (9.8 kB)\n",
      "Requirement already satisfied: six>=1.12.0 in /usr/local/lib/python3.8/dist-packages (from tensorflow) (1.16.0)\n",
      "Requirement already satisfied: setuptools in /usr/lib/python3/dist-packages (from tensorflow) (45.2.0)\n",
      "Requirement already satisfied: packaging in /usr/local/lib/python3.8/dist-packages (from tensorflow) (23.2)\n",
      "Collecting typing-extensions<4.6.0,>=3.6.6\n",
      "  Downloading typing_extensions-4.5.0-py3-none-any.whl (27 kB)\n",
      "Collecting tensorflow-estimator<2.14,>=2.13.0\n",
      "  Downloading tensorflow_estimator-2.13.0-py2.py3-none-any.whl (440 kB)\n",
      "\u001b[K     |████████████████████████████████| 440 kB 82.7 MB/s eta 0:00:01\n",
      "\u001b[?25hCollecting numpy<=1.24.3,>=1.22\n",
      "  Downloading numpy-1.24.3-cp38-cp38-manylinux_2_17_x86_64.manylinux2014_x86_64.whl (17.3 MB)\n",
      "\u001b[K     |████████████████████████████████| 17.3 MB 110.0 MB/s eta 0:00:01\n",
      "\u001b[?25hCollecting astunparse>=1.6.0\n",
      "  Downloading astunparse-1.6.3-py2.py3-none-any.whl (12 kB)\n",
      "Collecting markdown>=2.6.8\n",
      "  Downloading Markdown-3.5.1-py3-none-any.whl (102 kB)\n",
      "\u001b[K     |████████████████████████████████| 102 kB 2.8 MB/s  eta 0:00:01\n",
      "\u001b[?25hRequirement already satisfied: wheel>=0.26 in /usr/lib/python3/dist-packages (from tensorboard<2.14,>=2.13->tensorflow) (0.34.2)\n",
      "Collecting google-auth<3,>=1.6.3\n",
      "  Downloading google_auth-2.23.4-py2.py3-none-any.whl (183 kB)\n",
      "\u001b[K     |████████████████████████████████| 183 kB 108.0 MB/s eta 0:00:01\n",
      "\u001b[?25hCollecting werkzeug>=1.0.1\n",
      "  Downloading werkzeug-3.0.1-py3-none-any.whl (226 kB)\n",
      "\u001b[K     |████████████████████████████████| 226 kB 104.5 MB/s eta 0:00:01\n",
      "\u001b[?25hCollecting tensorboard-data-server<0.8.0,>=0.7.0\n",
      "  Downloading tensorboard_data_server-0.7.2-py3-none-any.whl (2.4 kB)\n",
      "Collecting google-auth-oauthlib<1.1,>=0.5\n",
      "  Downloading google_auth_oauthlib-1.0.0-py2.py3-none-any.whl (18 kB)\n",
      "Requirement already satisfied: requests<3,>=2.21.0 in /usr/local/lib/python3.8/dist-packages (from tensorboard<2.14,>=2.13->tensorflow) (2.31.0)\n",
      "Requirement already satisfied: importlib-metadata>=4.4; python_version < \"3.10\" in /usr/local/lib/python3.8/dist-packages (from markdown>=2.6.8->tensorboard<2.14,>=2.13->tensorflow) (6.8.0)\n",
      "Collecting pyasn1-modules>=0.2.1\n",
      "  Downloading pyasn1_modules-0.3.0-py2.py3-none-any.whl (181 kB)\n",
      "\u001b[K     |████████████████████████████████| 181 kB 111.4 MB/s eta 0:00:01\n",
      "\u001b[?25hCollecting cachetools<6.0,>=2.0.0\n",
      "  Downloading cachetools-5.3.2-py3-none-any.whl (9.3 kB)\n",
      "Collecting rsa<5,>=3.1.4\n",
      "  Downloading rsa-4.9-py3-none-any.whl (34 kB)\n",
      "Requirement already satisfied: MarkupSafe>=2.1.1 in /usr/local/lib/python3.8/dist-packages (from werkzeug>=1.0.1->tensorboard<2.14,>=2.13->tensorflow) (2.1.3)\n",
      "Collecting requests-oauthlib>=0.7.0\n",
      "  Downloading requests_oauthlib-1.3.1-py2.py3-none-any.whl (23 kB)\n",
      "Requirement already satisfied: charset-normalizer<4,>=2 in /usr/local/lib/python3.8/dist-packages (from requests<3,>=2.21.0->tensorboard<2.14,>=2.13->tensorflow) (3.3.2)\n",
      "Requirement already satisfied: certifi>=2017.4.17 in /usr/local/lib/python3.8/dist-packages (from requests<3,>=2.21.0->tensorboard<2.14,>=2.13->tensorflow) (2023.7.22)\n",
      "Requirement already satisfied: urllib3<3,>=1.21.1 in /usr/local/lib/python3.8/dist-packages (from requests<3,>=2.21.0->tensorboard<2.14,>=2.13->tensorflow) (2.1.0)\n",
      "Requirement already satisfied: idna<4,>=2.5 in /usr/local/lib/python3.8/dist-packages (from requests<3,>=2.21.0->tensorboard<2.14,>=2.13->tensorflow) (3.4)\n",
      "Requirement already satisfied: zipp>=0.5 in /usr/local/lib/python3.8/dist-packages (from importlib-metadata>=4.4; python_version < \"3.10\"->markdown>=2.6.8->tensorboard<2.14,>=2.13->tensorflow) (3.17.0)\n",
      "Collecting pyasn1<0.6.0,>=0.4.6\n",
      "  Downloading pyasn1-0.5.0-py2.py3-none-any.whl (83 kB)\n",
      "\u001b[K     |████████████████████████████████| 83 kB 384 kB/s s eta 0:00:01\n",
      "\u001b[?25hCollecting oauthlib>=3.0.0\n",
      "  Downloading oauthlib-3.2.2-py3-none-any.whl (151 kB)\n",
      "\u001b[K     |████████████████████████████████| 151 kB 122.9 MB/s eta 0:00:01\n",
      "\u001b[?25hInstalling collected packages: termcolor, grpcio, numpy, opt-einsum, absl-py, protobuf, google-pasta, h5py, keras, tensorflow-io-gcs-filesystem, wrapt, markdown, pyasn1, pyasn1-modules, cachetools, rsa, google-auth, werkzeug, tensorboard-data-server, oauthlib, requests-oauthlib, google-auth-oauthlib, tensorboard, flatbuffers, libclang, gast, typing-extensions, tensorflow-estimator, astunparse, tensorflow\n",
      "  Attempting uninstall: numpy\n",
      "    Found existing installation: numpy 1.24.4\n",
      "    Uninstalling numpy-1.24.4:\n",
      "      Successfully uninstalled numpy-1.24.4\n",
      "  Attempting uninstall: typing-extensions\n",
      "    Found existing installation: typing-extensions 4.8.0\n",
      "    Uninstalling typing-extensions-4.8.0:\n",
      "      Successfully uninstalled typing-extensions-4.8.0\n",
      "Successfully installed absl-py-2.0.0 astunparse-1.6.3 cachetools-5.3.2 flatbuffers-23.5.26 gast-0.4.0 google-auth-2.23.4 google-auth-oauthlib-1.0.0 google-pasta-0.2.0 grpcio-1.59.2 h5py-3.10.0 keras-2.13.1 libclang-16.0.6 markdown-3.5.1 numpy-1.24.3 oauthlib-3.2.2 opt-einsum-3.3.0 protobuf-4.25.1 pyasn1-0.5.0 pyasn1-modules-0.3.0 requests-oauthlib-1.3.1 rsa-4.9 tensorboard-2.13.0 tensorboard-data-server-0.7.2 tensorflow-2.13.1 tensorflow-estimator-2.13.0 tensorflow-io-gcs-filesystem-0.34.0 termcolor-2.3.0 typing-extensions-4.5.0 werkzeug-3.0.1 wrapt-1.16.0\n"
     ]
    }
   ],
   "source": [
    "!pip install tensorflow"
   ]
  },
  {
   "cell_type": "code",
   "execution_count": 6,
   "metadata": {},
   "outputs": [
    {
     "name": "stdout",
     "output_type": "stream",
     "text": [
      "Requirement already satisfied: scikit-learn in /usr/local/lib/python3.8/dist-packages (1.3.2)\n",
      "Requirement already satisfied: threadpoolctl>=2.0.0 in /usr/local/lib/python3.8/dist-packages (from scikit-learn) (3.2.0)\n",
      "Requirement already satisfied: numpy<2.0,>=1.17.3 in /usr/local/lib/python3.8/dist-packages (from scikit-learn) (1.24.3)\n",
      "Requirement already satisfied: scipy>=1.5.0 in /usr/local/lib/python3.8/dist-packages (from scikit-learn) (1.10.1)\n",
      "Requirement already satisfied: joblib>=1.1.1 in /usr/local/lib/python3.8/dist-packages (from scikit-learn) (1.3.2)\n"
     ]
    }
   ],
   "source": [
    "!pip install scikit-learn"
   ]
  },
  {
   "cell_type": "code",
   "execution_count": 7,
   "metadata": {},
   "outputs": [
    {
     "name": "stdout",
     "output_type": "stream",
     "text": [
      "Collecting imbalanced-learn\n",
      "  Downloading imbalanced_learn-0.11.0-py3-none-any.whl (235 kB)\n",
      "\u001b[K     |████████████████████████████████| 235 kB 35.5 MB/s eta 0:00:01\n",
      "\u001b[?25hRequirement already satisfied: numpy>=1.17.3 in /usr/local/lib/python3.8/dist-packages (from imbalanced-learn) (1.24.3)\n",
      "Requirement already satisfied: threadpoolctl>=2.0.0 in /usr/local/lib/python3.8/dist-packages (from imbalanced-learn) (3.2.0)\n",
      "Requirement already satisfied: scipy>=1.5.0 in /usr/local/lib/python3.8/dist-packages (from imbalanced-learn) (1.10.1)\n",
      "Requirement already satisfied: joblib>=1.1.1 in /usr/local/lib/python3.8/dist-packages (from imbalanced-learn) (1.3.2)\n",
      "Requirement already satisfied: scikit-learn>=1.0.2 in /usr/local/lib/python3.8/dist-packages (from imbalanced-learn) (1.3.2)\n",
      "Installing collected packages: imbalanced-learn\n",
      "Successfully installed imbalanced-learn-0.11.0\n"
     ]
    }
   ],
   "source": [
    "!pip install imbalanced-learn"
   ]
  },
  {
   "cell_type": "code",
   "execution_count": 8,
   "metadata": {},
   "outputs": [
    {
     "name": "stdout",
     "output_type": "stream",
     "text": [
      "Collecting pandas\n",
      "  Downloading pandas-2.0.3-cp38-cp38-manylinux_2_17_x86_64.manylinux2014_x86_64.whl (12.4 MB)\n",
      "\u001b[K     |████████████████████████████████| 12.4 MB 31.8 MB/s eta 0:00:01\n",
      "\u001b[?25hRequirement already satisfied: numpy>=1.20.3; python_version < \"3.10\" in /usr/local/lib/python3.8/dist-packages (from pandas) (1.24.3)\n",
      "Collecting tzdata>=2022.1\n",
      "  Downloading tzdata-2023.3-py2.py3-none-any.whl (341 kB)\n",
      "\u001b[K     |████████████████████████████████| 341 kB 115.0 MB/s eta 0:00:01\n",
      "\u001b[?25hRequirement already satisfied: pytz>=2020.1 in /usr/local/lib/python3.8/dist-packages (from pandas) (2023.3.post1)\n",
      "Requirement already satisfied: python-dateutil>=2.8.2 in /usr/local/lib/python3.8/dist-packages (from pandas) (2.8.2)\n",
      "Requirement already satisfied: six>=1.5 in /usr/local/lib/python3.8/dist-packages (from python-dateutil>=2.8.2->pandas) (1.16.0)\n",
      "Installing collected packages: tzdata, pandas\n",
      "Successfully installed pandas-2.0.3 tzdata-2023.3\n"
     ]
    }
   ],
   "source": [
    "!pip install pandas"
   ]
  },
  {
   "cell_type": "code",
   "execution_count": 9,
   "metadata": {},
   "outputs": [
    {
     "name": "stdout",
     "output_type": "stream",
     "text": [
      "Requirement already satisfied: matplotlib in /usr/local/lib/python3.8/dist-packages (3.7.3)\n",
      "Requirement already satisfied: numpy<2,>=1.20 in /usr/local/lib/python3.8/dist-packages (from matplotlib) (1.24.3)\n",
      "Requirement already satisfied: cycler>=0.10 in /usr/local/lib/python3.8/dist-packages (from matplotlib) (0.12.1)\n",
      "Requirement already satisfied: importlib-resources>=3.2.0; python_version < \"3.10\" in /usr/local/lib/python3.8/dist-packages (from matplotlib) (6.1.1)\n",
      "Requirement already satisfied: contourpy>=1.0.1 in /usr/local/lib/python3.8/dist-packages (from matplotlib) (1.1.1)\n",
      "Requirement already satisfied: kiwisolver>=1.0.1 in /usr/local/lib/python3.8/dist-packages (from matplotlib) (1.4.5)\n",
      "Requirement already satisfied: packaging>=20.0 in /usr/local/lib/python3.8/dist-packages (from matplotlib) (23.2)\n",
      "Requirement already satisfied: pyparsing>=2.3.1 in /usr/local/lib/python3.8/dist-packages (from matplotlib) (3.1.1)\n",
      "Requirement already satisfied: pillow>=6.2.0 in /usr/local/lib/python3.8/dist-packages (from matplotlib) (10.1.0)\n",
      "Requirement already satisfied: fonttools>=4.22.0 in /usr/local/lib/python3.8/dist-packages (from matplotlib) (4.44.3)\n",
      "Requirement already satisfied: python-dateutil>=2.7 in /usr/local/lib/python3.8/dist-packages (from matplotlib) (2.8.2)\n",
      "Requirement already satisfied: zipp>=3.1.0; python_version < \"3.10\" in /usr/local/lib/python3.8/dist-packages (from importlib-resources>=3.2.0; python_version < \"3.10\"->matplotlib) (3.17.0)\n",
      "Requirement already satisfied: six>=1.5 in /usr/local/lib/python3.8/dist-packages (from python-dateutil>=2.7->matplotlib) (1.16.0)\n"
     ]
    }
   ],
   "source": [
    "!pip install matplotlib"
   ]
  },
  {
   "cell_type": "code",
   "execution_count": 10,
   "metadata": {},
   "outputs": [
    {
     "name": "stdout",
     "output_type": "stream",
     "text": [
      "Collecting seaborn\n",
      "  Downloading seaborn-0.13.0-py3-none-any.whl (294 kB)\n",
      "\u001b[K     |████████████████████████████████| 294 kB 30.2 MB/s eta 0:00:01\n",
      "\u001b[?25hRequirement already satisfied: matplotlib!=3.6.1,>=3.3 in /usr/local/lib/python3.8/dist-packages (from seaborn) (3.7.3)\n",
      "Requirement already satisfied: numpy!=1.24.0,>=1.20 in /usr/local/lib/python3.8/dist-packages (from seaborn) (1.24.3)\n",
      "Requirement already satisfied: pandas>=1.2 in /usr/local/lib/python3.8/dist-packages (from seaborn) (2.0.3)\n",
      "Requirement already satisfied: pillow>=6.2.0 in /usr/local/lib/python3.8/dist-packages (from matplotlib!=3.6.1,>=3.3->seaborn) (10.1.0)\n",
      "Requirement already satisfied: packaging>=20.0 in /usr/local/lib/python3.8/dist-packages (from matplotlib!=3.6.1,>=3.3->seaborn) (23.2)\n",
      "Requirement already satisfied: contourpy>=1.0.1 in /usr/local/lib/python3.8/dist-packages (from matplotlib!=3.6.1,>=3.3->seaborn) (1.1.1)\n",
      "Requirement already satisfied: cycler>=0.10 in /usr/local/lib/python3.8/dist-packages (from matplotlib!=3.6.1,>=3.3->seaborn) (0.12.1)\n",
      "Requirement already satisfied: kiwisolver>=1.0.1 in /usr/local/lib/python3.8/dist-packages (from matplotlib!=3.6.1,>=3.3->seaborn) (1.4.5)\n",
      "Requirement already satisfied: importlib-resources>=3.2.0; python_version < \"3.10\" in /usr/local/lib/python3.8/dist-packages (from matplotlib!=3.6.1,>=3.3->seaborn) (6.1.1)\n",
      "Requirement already satisfied: pyparsing>=2.3.1 in /usr/local/lib/python3.8/dist-packages (from matplotlib!=3.6.1,>=3.3->seaborn) (3.1.1)\n",
      "Requirement already satisfied: python-dateutil>=2.7 in /usr/local/lib/python3.8/dist-packages (from matplotlib!=3.6.1,>=3.3->seaborn) (2.8.2)\n",
      "Requirement already satisfied: fonttools>=4.22.0 in /usr/local/lib/python3.8/dist-packages (from matplotlib!=3.6.1,>=3.3->seaborn) (4.44.3)\n",
      "Requirement already satisfied: tzdata>=2022.1 in /usr/local/lib/python3.8/dist-packages (from pandas>=1.2->seaborn) (2023.3)\n",
      "Requirement already satisfied: pytz>=2020.1 in /usr/local/lib/python3.8/dist-packages (from pandas>=1.2->seaborn) (2023.3.post1)\n",
      "Requirement already satisfied: zipp>=3.1.0; python_version < \"3.10\" in /usr/local/lib/python3.8/dist-packages (from importlib-resources>=3.2.0; python_version < \"3.10\"->matplotlib!=3.6.1,>=3.3->seaborn) (3.17.0)\n",
      "Requirement already satisfied: six>=1.5 in /usr/local/lib/python3.8/dist-packages (from python-dateutil>=2.7->matplotlib!=3.6.1,>=3.3->seaborn) (1.16.0)\n",
      "Installing collected packages: seaborn\n",
      "Successfully installed seaborn-0.13.0\n"
     ]
    }
   ],
   "source": [
    "!pip install seaborn"
   ]
  },
  {
   "cell_type": "markdown",
   "metadata": {},
   "source": [
    "#### Import Libraries"
   ]
  },
  {
   "cell_type": "code",
   "execution_count": 11,
   "metadata": {
    "id": "rw-SIFqz-V2-"
   },
   "outputs": [
    {
     "name": "stdout",
     "output_type": "stream",
     "text": [
      "It's ok. You just don't need google.colab libraries outside google platform\n"
     ]
    },
    {
     "name": "stderr",
     "output_type": "stream",
     "text": [
      "2023-11-16 08:23:40.773510: I tensorflow/tsl/cuda/cudart_stub.cc:28] Could not find cuda drivers on your machine, GPU will not be used.\n",
      "2023-11-16 08:23:40.823078: I tensorflow/tsl/cuda/cudart_stub.cc:28] Could not find cuda drivers on your machine, GPU will not be used.\n",
      "2023-11-16 08:23:40.823939: I tensorflow/core/platform/cpu_feature_guard.cc:182] This TensorFlow binary is optimized to use available CPU instructions in performance-critical operations.\n",
      "To enable the following instructions: AVX2 AVX512F FMA, in other operations, rebuild TensorFlow with the appropriate compiler flags.\n",
      "2023-11-16 08:23:41.596760: W tensorflow/compiler/tf2tensorrt/utils/py_utils.cc:38] TF-TRT Warning: Could not find TensorRT\n"
     ]
    }
   ],
   "source": [
    "#data processing libraries\n",
    "import pandas as pd\n",
    "import numpy as np\n",
    "\n",
    "#data visualisation libraries\n",
    "import matplotlib.pyplot as plt\n",
    "import seaborn as sns\n",
    "\n",
    "#configuration of data files\n",
    "import config_unix_filesystem as config\n",
    "from config_unix_filesystem import check_model_results_file\n",
    "from config_unix_filesystem import check_if_exist_or_create_folders\n",
    "from config_unix_filesystem import check_data_files_III\n",
    "\n",
    "#setup colab libraries if working in colab\n",
    "try:\n",
    "    import google.colab\n",
    "except:\n",
    "    print(\"It's ok. You just don't need google.colab libraries outside google platform\")\n",
    "from datetime import date\n",
    "\n",
    "#data spliting\n",
    "from sklearn.model_selection import train_test_split\n",
    "\n",
    "#data scaling\n",
    "from sklearn.preprocessing import StandardScaler\n",
    "\n",
    "#chains and combinations\n",
    "from itertools import chain, combinations\n",
    "\n",
    "#machine learning algorithms\n",
    "from sklearn.linear_model import LogisticRegression\n",
    "\n",
    "#Random Forest\n",
    "from sklearn.ensemble import RandomForestClassifier\n",
    "\n",
    "#Deep Learning \n",
    "import tensorflow as tf\n",
    "from tensorflow.keras.models import Sequential\n",
    "from tensorflow.keras.layers import Dense\n",
    "from tensorflow.keras.layers import LeakyReLU, PReLU, ELU\n",
    "from tensorflow.keras.layers import BatchNormalization\n",
    "from tensorflow.keras.layers import Dropout\n",
    "from tensorflow.keras.optimizers import SGD\n",
    "\n",
    "#machine learning metrics\n",
    "from sklearn import metrics\n",
    "from sklearn.metrics import classification_report\n",
    "from sklearn.metrics import accuracy_score\n",
    "from sklearn.metrics import precision_score\n",
    "from sklearn.metrics import recall_score\n",
    "from sklearn.metrics import f1_score\n",
    "from sklearn.metrics import cohen_kappa_score\n",
    "from sklearn.metrics import roc_auc_score\n",
    "from sklearn.metrics import confusion_matrix\n",
    "from sklearn.metrics import balanced_accuracy_score\n",
    "from imblearn.metrics import geometric_mean_score\n",
    "#ROC curve\n",
    "from sklearn.preprocessing import label_binarize\n",
    "from sklearn.metrics import roc_curve, auc\n",
    "from itertools import cycle\n",
    "\n",
    "from sklearn.datasets import make_circles\n",
    "\n",
    "#upsampling\n",
    "from sklearn.utils import resample\n",
    "\n",
    "#visualization\n",
    "from matplotlib.pyplot import figure\n",
    "#loading saved model\n",
    "import pickle\n",
    "\n",
    "#other imports\n",
    "import time"
   ]
  },
  {
   "cell_type": "markdown",
   "metadata": {},
   "source": [
    "#### inspect configurations and input data"
   ]
  },
  {
   "cell_type": "code",
   "execution_count": 12,
   "metadata": {},
   "outputs": [
    {
     "name": "stdout",
     "output_type": "stream",
     "text": [
      "File 'results/models_results.csv' created with header columns.\n"
     ]
    }
   ],
   "source": [
    "check_data_files_III()\n",
    "check_if_exist_or_create_folders()\n",
    "check_model_results_file()\n"
   ]
  },
  {
   "cell_type": "markdown",
   "metadata": {},
   "source": [
    "#### Models Configurations"
   ]
  },
  {
   "cell_type": "code",
   "execution_count": 13,
   "metadata": {},
   "outputs": [],
   "source": [
    "# RF\n",
    "num_estimators = 199\n",
    "\n",
    "#MLP\n",
    "#Model selection\n",
    "num_model = 6                    #1 to 9 for M1 to M9\n",
    "loss_function = 'sparse_categorical_crossentropy'\n",
    "number_of_epochs = 30\n",
    "training_validation_split = 0.3"
   ]
  },
  {
   "cell_type": "markdown",
   "metadata": {},
   "source": [
    "#### Load data from files"
   ]
  },
  {
   "cell_type": "code",
   "execution_count": 14,
   "metadata": {},
   "outputs": [],
   "source": [
    "dataset = pd.read_csv(config.dataWbook) #, sheet_name=\"finalDataset_240622\", header=1)\n",
    "unnamedCols = [col for col in dataset.columns if 'Unnamed' in col]\n",
    "dataset.drop(columns=unnamedCols, inplace=True)\n",
    "dataset.shape \n",
    "\n",
    "df_inputs_X = pd.read_csv(config.model_inputs_X, parse_dates=[\"REPORTINGDATE\"])\n",
    "unnamedCols2 = [col for col in df_inputs_X.columns if 'Unnamed' in str(col)]\n",
    "df_inputs_X.drop(columns=unnamedCols2, inplace=True)\n",
    "\n",
    "df_inputs_Y = pd.read_csv(config.model_inputs_Y)\n",
    "unnamedCols2 = [col for col in df_inputs_Y.columns if 'Unnamed' in str(col)]\n",
    "df_inputs_Y.drop(columns=unnamedCols2, inplace=True)\n",
    "\n",
    "#df_results = pd.read_csv(results, parse_dates=[\"date\"])\n",
    "df_results = pd.read_csv(config.results)\n",
    "unnamedCols2 = [col for col in df_results.columns if 'Unnamed' in str(col)]\n",
    "df_results.drop(columns=unnamedCols2, inplace=True)\n",
    "try:\n",
    "    df_results['date'] = pd.to_datetime(df_results['date']) #, unit='d', origin='1899-12-30')\n",
    "except:\n",
    "    print(\"column or file {} do not exist\".format(config.results))"
   ]
  },
  {
   "cell_type": "code",
   "execution_count": 15,
   "metadata": {},
   "outputs": [
    {
     "name": "stderr",
     "output_type": "stream",
     "text": [
      "/tmp/ipykernel_465/1040156644.py:9: SettingWithCopyWarning: \n",
      "A value is trying to be set on a copy of a slice from a DataFrame.\n",
      "Try using .loc[row_indexer,col_indexer] = value instead\n",
      "\n",
      "See the caveats in the documentation: https://pandas.pydata.org/pandas-docs/stable/user_guide/indexing.html#returning-a-view-versus-a-copy\n",
      "  df_tmp_results['sno']= [sno_val]\n"
     ]
    }
   ],
   "source": [
    "#temporary storage of test results\n",
    "try:\n",
    "    sno_val = max(0,df_results['sno'].max()) + 1\n",
    "    sno_val\n",
    "except:\n",
    "    sno_val = 1\n",
    "\n",
    "df_tmp_results = df_results.iloc[0:0]\n",
    "df_tmp_results['sno']= [sno_val]\n",
    "df_tmp_results.loc[df_tmp_results['sno']==sno_val, 'date'] = date.today() "
   ]
  },
  {
   "cell_type": "markdown",
   "metadata": {},
   "source": [
    "#### Select input features and target column"
   ]
  },
  {
   "cell_type": "code",
   "execution_count": 16,
   "metadata": {},
   "outputs": [],
   "source": [
    "#model input features without identity of banks and reporting date\n",
    "scaled_X = df_inputs_X[[  \n",
    "'BANKSIZE', \n",
    "'LR',\n",
    "'EWAQ_NPLsNetOfProvisions',  \n",
    "'EWAQ_NPLsNetOfProvisions2CoreCapital', #little contribution\n",
    "'EWAQ_NPL', \n",
    "'ExcessShortTLiab2LongTAsset',\n",
    "'CD_TO_TOTAL_ASSET',\n",
    "'LIQASSET2TOTALASSET',  \n",
    "'LIQASSET2DEPOSIT', \n",
    "'TOTAL_DEPOSITS'\n",
    "]]\n",
    "\n",
    "#model input features with bank codes and reporting date for practical performance benchmarking\n",
    "scaled_X_bm = df_inputs_X[[\n",
    "'REPORTINGDATE',    \n",
    "'INSTITUTIONCODE',    \n",
    "'BANKSIZE', \n",
    "'LR',\n",
    "'EWAQ_NPLsNetOfProvisions',  \n",
    "'EWAQ_NPLsNetOfProvisions2CoreCapital', #little contribution\n",
    "'EWAQ_NPL', \n",
    "'ExcessShortTLiab2LongTAsset',\n",
    "'CD_TO_TOTAL_ASSET',\n",
    "'LIQASSET2TOTALASSET',  \n",
    "'LIQASSET2DEPOSIT', \n",
    "'TOTAL_DEPOSITS'\n",
    "]]\n",
    "\n",
    "#model target/label\n",
    "Y = df_inputs_Y[['XX_MLA_CLASS2']]"
   ]
  },
  {
   "cell_type": "code",
   "execution_count": 17,
   "metadata": {
    "id": "5o7m0CF_i1t9"
   },
   "outputs": [],
   "source": [
    "#recording input variables/features that were used\n",
    "if 'BANKSIZE' in scaled_X.columns:\n",
    "    df_tmp_results.loc[df_tmp_results['sno']==sno_val, 'BANKSIZE'] = 'ok' \n",
    "if 'LR' in scaled_X.columns:    \n",
    "    df_tmp_results.loc[df_tmp_results['sno']==sno_val, 'LR'] = 'ok' \n",
    "if 'EWAQ_NPLsNetOfProvisions' in scaled_X.columns: \n",
    "    df_tmp_results.loc[df_tmp_results['sno']==sno_val, 'EWAQ_NPLsNetOfProvisions'] = 'ok' \n",
    "if 'EWAQ_NPLsNetOfProvisions2CoreCapital' in scaled_X.columns: \n",
    "    df_tmp_results.loc[df_tmp_results['sno']==sno_val, 'EWAQ_NPLsNetOfProvisions2CoreCapital'] = 'ok' \n",
    "if 'EWAQ_NPL' in scaled_X.columns: \n",
    "    df_tmp_results.loc[df_tmp_results['sno']==sno_val, 'EWAQ_NPL'] = 'ok'     \n",
    "if 'ExcessShortTLiab2LongTAsset' in scaled_X.columns: \n",
    "    df_tmp_results.loc[df_tmp_results['sno']==sno_val, 'ExcessShortTLiab2LongTAsset'] = 'ok' \n",
    "if 'CD_TO_TOTAL_ASSET' in scaled_X.columns: \n",
    "    df_tmp_results.loc[df_tmp_results['sno']==sno_val, 'CD_TO_TOTAL_ASSET'] = 'ok' \n",
    "if 'LIQASSET2TOTALASSET' in scaled_X.columns: \n",
    "    df_tmp_results.loc[df_tmp_results['sno']==sno_val, 'LIQASSET2TOTALASSET'] = 'ok' \n",
    "if 'LIQASSET2DEPOSIT' in scaled_X.columns: \n",
    "    df_tmp_results.loc[df_tmp_results['sno']==sno_val, 'LIQASSET2DEPOSIT'] = 'ok' \n",
    "if 'TOTAL_DEPOSITS' in scaled_X.columns: \n",
    "    df_tmp_results.loc[df_tmp_results['sno']==sno_val, 'TOTAL_DEPOSITS'] = 'ok' \n",
    "\n"
   ]
  },
  {
   "cell_type": "code",
   "execution_count": 18,
   "metadata": {
    "id": "NzIaTezr1aWB"
   },
   "outputs": [
    {
     "data": {
      "text/plain": [
       "Index(['BANKSIZE', 'LR', 'EWAQ_NPLsNetOfProvisions',\n",
       "       'EWAQ_NPLsNetOfProvisions2CoreCapital', 'EWAQ_NPL',\n",
       "       'ExcessShortTLiab2LongTAsset', 'CD_TO_TOTAL_ASSET',\n",
       "       'LIQASSET2TOTALASSET', 'LIQASSET2DEPOSIT', 'TOTAL_DEPOSITS',\n",
       "       'XX_MLA_CLASS2'],\n",
       "      dtype='object')"
      ]
     },
     "execution_count": 18,
     "metadata": {},
     "output_type": "execute_result"
    }
   ],
   "source": [
    "factors = pd.concat([scaled_X, Y], axis = 1)\n",
    "factors.columns"
   ]
  },
  {
   "cell_type": "code",
   "execution_count": 19,
   "metadata": {
    "id": "0yq8ZaxNP2vx"
   },
   "outputs": [
    {
     "data": {
      "text/plain": [
       "array([1, 1, 1, ..., 1, 1, 1])"
      ]
     },
     "execution_count": 19,
     "metadata": {},
     "output_type": "execute_result"
    }
   ],
   "source": [
    "#transpose target values\n",
    "Y.T.values[0]"
   ]
  },
  {
   "cell_type": "code",
   "execution_count": 20,
   "metadata": {
    "id": "R-GOptvCh5B7"
   },
   "outputs": [
    {
     "data": {
      "text/plain": [
       "(20878,)"
      ]
     },
     "execution_count": 20,
     "metadata": {},
     "output_type": "execute_result"
    }
   ],
   "source": [
    "Y.T.values[0].shape"
   ]
  },
  {
   "cell_type": "markdown",
   "metadata": {
    "id": "VQrhsiBgh6Bp"
   },
   "source": [
    "**Split Dataset into Train and Test datasets**"
   ]
  },
  {
   "cell_type": "code",
   "execution_count": 21,
   "metadata": {
    "id": "7uRiWvFp3C1p"
   },
   "outputs": [],
   "source": [
    "#without bank codes and reporting date\n",
    "from sklearn.model_selection import train_test_split\n",
    "#X_train, X_test, y_train, y_test = train_test_split(scaled_X,Y,test_size=0.33,random_state=42)\n",
    "X_train, X_test, y_train, y_test = train_test_split(scaled_X.values,Y.T.values[0],test_size=0.33,random_state=42)"
   ]
  },
  {
   "cell_type": "code",
   "execution_count": 22,
   "metadata": {},
   "outputs": [],
   "source": [
    "##with bank codes for practical performance benchmarking\n",
    "from sklearn.model_selection import train_test_split\n",
    "#X_train, X_test, y_train, y_test = train_test_split(scaled_X,Y,test_size=0.33,random_state=42)\n",
    "X_train_bm, X_test_bm, y_train_bm, y_test_bm = train_test_split(scaled_X_bm.values,Y.T.values[0],test_size=0.33,random_state=42)"
   ]
  },
  {
   "cell_type": "code",
   "execution_count": 23,
   "metadata": {},
   "outputs": [
    {
     "name": "stdout",
     "output_type": "stream",
     "text": [
      "[[ True  True  True ...  True  True  True]\n",
      " [ True  True  True ...  True  True  True]\n",
      " [ True  True  True ...  True  True  True]\n",
      " ...\n",
      " [ True  True  True ...  True  True  True]\n",
      " [ True  True  True ...  True  True  True]\n",
      " [ True  True  True ...  True  True  True]]\n"
     ]
    }
   ],
   "source": [
    "result = X_train[2:, :] == X_train_bm[2:, 2:]\n",
    "print(result)"
   ]
  },
  {
   "cell_type": "code",
   "execution_count": 24,
   "metadata": {},
   "outputs": [
    {
     "data": {
      "text/plain": [
       "(13986, 10)"
      ]
     },
     "execution_count": 24,
     "metadata": {},
     "output_type": "execute_result"
    }
   ],
   "source": [
    "result.shape"
   ]
  },
  {
   "cell_type": "code",
   "execution_count": 25,
   "metadata": {},
   "outputs": [
    {
     "name": "stdout",
     "output_type": "stream",
     "text": [
      "[[ True  True  True ...  True  True  True]\n",
      " [ True  True  True ...  True  True  True]\n",
      " [ True  True  True ...  True  True  True]\n",
      " ...\n",
      " [ True  True  True ...  True  True  True]\n",
      " [ True  True  True ...  True  True  True]\n",
      " [ True  True  True ...  True  True  True]]\n"
     ]
    }
   ],
   "source": [
    "result = X_test[2:, :] == X_test_bm[2:, 2:]\n",
    "print(result)"
   ]
  },
  {
   "cell_type": "code",
   "execution_count": 26,
   "metadata": {},
   "outputs": [
    {
     "data": {
      "text/plain": [
       "(6888, 10)"
      ]
     },
     "execution_count": 26,
     "metadata": {},
     "output_type": "execute_result"
    }
   ],
   "source": [
    "result.shape"
   ]
  },
  {
   "cell_type": "code",
   "execution_count": 27,
   "metadata": {},
   "outputs": [
    {
     "name": "stdout",
     "output_type": "stream",
     "text": [
      "[ True  True  True ...  True  True  True]\n"
     ]
    }
   ],
   "source": [
    "result = y_test == y_test_bm\n",
    "print(result)"
   ]
  },
  {
   "cell_type": "markdown",
   "metadata": {
    "id": "TUB4FZIeiE4w"
   },
   "source": [
    "**Scaling datasets (using Standard Scaler)**"
   ]
  },
  {
   "cell_type": "code",
   "execution_count": 28,
   "metadata": {
    "id": "bBVZOGefmP-x"
   },
   "outputs": [],
   "source": [
    "from sklearn.preprocessing import StandardScaler\n",
    "sc=StandardScaler()\n",
    "X_train=sc.fit_transform(X_train)\n",
    "X_test=sc.transform(X_test)\n"
   ]
  },
  {
   "cell_type": "code",
   "execution_count": 29,
   "metadata": {},
   "outputs": [],
   "source": [
    "#temporarily scrapped bank codes for scaling\n",
    "X_train_bm_scrapped=sc.fit_transform(X_train_bm[:,2:])\n",
    "X_test_bm_scrapped=sc.transform(X_test_bm[:,2:])\n",
    "\n",
    "# Concatenate the first two columns from the original arrays with the scaled arrays\n",
    "X_train_bm2 = np.hstack((X_train_bm[:, :2], X_train_bm_scrapped))\n",
    "X_test_bm2 = np.hstack((X_test_bm[:, :2], X_test_bm_scrapped))\n"
   ]
  },
  {
   "cell_type": "code",
   "execution_count": 30,
   "metadata": {},
   "outputs": [
    {
     "data": {
      "text/plain": [
       "array([[Timestamp('2014-07-11 00:00:00'), 'B5418', -0.3090925395687512,\n",
       "        ..., -0.45919308985183777, -0.014611229390741559,\n",
       "        -0.35122863546587685],\n",
       "       [Timestamp('2010-07-30 00:00:00'), 'B5912', 1.4944582408495175,\n",
       "        ..., 0.054032151328555676, -0.014611229390741994,\n",
       "        1.4158612472175431],\n",
       "       [Timestamp('2021-05-21 00:00:00'), 'B5919', -1.539971211070949,\n",
       "        ..., -0.07437665970050605, -0.014611229390624461,\n",
       "        -0.47241399306381787],\n",
       "       ...,\n",
       "       [Timestamp('2013-05-31 00:00:00'), 'B5213', 0.8776453057031665,\n",
       "        ..., -0.6366455558622105, -0.014611229390719165,\n",
       "        -0.02727118905334712],\n",
       "       [Timestamp('2014-02-21 00:00:00'), 'B5015', 1.8321985270954604,\n",
       "        ..., -0.02611886826237614, -0.014611229390752675,\n",
       "        2.820098883154293],\n",
       "       [Timestamp('2017-05-12 00:00:00'), 'B5813', -0.13479792552641082,\n",
       "        ..., 1.2653545454556752, -0.01461122939060852,\n",
       "        -0.36044723846913035]], dtype=object)"
      ]
     },
     "execution_count": 30,
     "metadata": {},
     "output_type": "execute_result"
    }
   ],
   "source": [
    "X_train_bm2"
   ]
  },
  {
   "cell_type": "code",
   "execution_count": 31,
   "metadata": {
    "id": "Xro94RomP7Qk"
   },
   "outputs": [
    {
     "data": {
      "text/plain": [
       "10"
      ]
     },
     "execution_count": 31,
     "metadata": {},
     "output_type": "execute_result"
    }
   ],
   "source": [
    "X_train.shape[1]"
   ]
  },
  {
   "cell_type": "code",
   "execution_count": null,
   "metadata": {
    "id": "bxG88Z9r1KFy"
   },
   "outputs": [],
   "source": []
  },
  {
   "cell_type": "markdown",
   "metadata": {
    "id": "B6z8ykbeLeUc"
   },
   "source": [
    "#### Building Machine Learning Models"
   ]
  },
  {
   "cell_type": "markdown",
   "metadata": {
    "id": "0TVphb0V1OKf"
   },
   "source": [
    "**(a) Model Building using Imbalanced Data (Original data before treating imbalances)**"
   ]
  },
  {
   "cell_type": "markdown",
   "metadata": {
    "id": "DsJQrNA4lhcV"
   },
   "source": [
    "<!-- #### Logistic Regression With Imbalanced Data (for performance comparison with target models) -->"
   ]
  },
  {
   "cell_type": "markdown",
   "metadata": {},
   "source": [
    "#### Random Forest With Imbalanced Data (for performance comparison with target models)"
   ]
  },
  {
   "cell_type": "code",
   "execution_count": 32,
   "metadata": {
    "id": "JdkueNavLkG9"
   },
   "outputs": [
    {
     "name": "stdout",
     "output_type": "stream",
     "text": [
      "Evaluating Random Forest \n",
      " Confusion Matrix:\n",
      "[[2927   91    5    0    0]\n",
      " [ 116 1738  106    0    0]\n",
      " [   2  122 1672    3    1]\n",
      " [   0    0   18   50    5]\n",
      " [   0    0    1    2   31]]\n",
      " ClassificationReport:\n",
      "              precision    recall  f1-score   support\n",
      "\n",
      "           1       0.96      0.97      0.96      3023\n",
      "           2       0.89      0.89      0.89      1960\n",
      "           3       0.93      0.93      0.93      1800\n",
      "           4       0.91      0.68      0.78        73\n",
      "           5       0.84      0.91      0.87        34\n",
      "\n",
      "    accuracy                           0.93      6890\n",
      "   macro avg       0.91      0.88      0.89      6890\n",
      "weighted avg       0.93      0.93      0.93      6890\n",
      "\n",
      " Random Forest Accuracy=0.9314949201741655 \n",
      " Precision=0.9313300985624667 \n",
      " F1 Score=0.9312308335352786 \n",
      "Recall=0.9314949201741655\n"
     ]
    }
   ],
   "source": [
    "# train model\n",
    "#num_estimators = 199\n",
    "rfc = RandomForestClassifier(n_estimators=num_estimators).fit(X_train, y_train)\n",
    "\n",
    "# save the model to disk\n",
    "pickle.dump(rfc, open(config.rfc, 'wb'))\n",
    "\n",
    "# load the model from disk\n",
    "rfc = pickle.load(open(config.rfc, 'rb'))\n",
    "\n",
    "# predict on test set\n",
    "rfc_pred = rfc.predict(X_test)\n",
    "\n",
    "rfc_accuracy = accuracy_score(y_test, rfc_pred)\n",
    "rfc_precision = precision_score(y_test, rfc_pred, average='weighted')\n",
    "#0.9995\n",
    "rfc_f1_score = f1_score(y_test, rfc_pred,average='weighted')\n",
    "#0.8666\n",
    "rfc_recall = recall_score(y_test, rfc_pred,average='weighted')\n",
    "#0.7878\n",
    "print(\"Evaluating Random Forest \\n Confusion Matrix:\\n{}\\n ClassificationReport:\\n{}\\n Random Forest Accuracy={} \\n Precision={} \\n F1 Score={} \\nRecall={}\".format(confusion_matrix(y_test,rfc_pred),\n",
    "                                                                                                                    classification_report(y_test,rfc_pred),\n",
    "                                                                                                                    rfc_accuracy,rfc_precision,rfc_f1_score,rfc_recall))\n",
    "\n",
    "\n"
   ]
  },
  {
   "cell_type": "code",
   "execution_count": 33,
   "metadata": {
    "id": "Up8e0T6wMPU0"
   },
   "outputs": [],
   "source": [
    "#collect results into a dataframe\n",
    "df_tmp_results.loc[df_tmp_results['sno']==sno_val, 'RF_Acc'] = rfc_accuracy\n",
    "df_tmp_results.loc[df_tmp_results['sno']==sno_val, 'RF_Prec'] = rfc_precision\n",
    "df_tmp_results.loc[df_tmp_results['sno']==sno_val, 'RF_F1'] = rfc_f1_score\n",
    "df_tmp_results.loc[df_tmp_results['sno']==sno_val, 'RF_Recall'] = rfc_recall\n",
    "df_tmp_results.loc[df_tmp_results['sno']==sno_val, 'RF_Remarks'] = '{} estimators'.format(num_estimators)"
   ]
  },
  {
   "cell_type": "markdown",
   "metadata": {
    "id": "-cs7As0KP8RX"
   },
   "source": [
    "#### Building a MLP ANN model With Imbalanced Data (for performance comparison with target models)"
   ]
  },
  {
   "cell_type": "code",
   "execution_count": 34,
   "metadata": {},
   "outputs": [],
   "source": [
    "#models MLP_model_M1 to MLP_model_M9 are alternative best performing among various tested models\n",
    "sc=StandardScaler()\n",
    "X_train_scaled=sc.fit_transform(X_train)\n",
    "X_test_scaled=sc.transform(X_test)\n",
    "number_of_neurons = []\n",
    "\n",
    "\n",
    "#Model M1\n",
    "# Add number of neurons in layers\n",
    "neurons_M1 = []\n",
    "neurons_M1.append(24)\n",
    "neurons_M1.append(16)\n",
    "MLP_model_M1 = tf.keras.models.Sequential(\n",
    "    [\n",
    "     tf.keras.layers.Flatten(),\n",
    "     tf.keras.layers.Dense(neurons_M1[0],activation = 'relu',input_dim=X_train.shape[1]),\n",
    "     #tf.keras.layers.Dropout(0.2),\n",
    "     tf.keras.layers.Dense(neurons_M1[1],activation = 'relu'),\n",
    "     #tf.keras.layers.Dropout(0.2),\n",
    "     tf.keras.layers.Dense(6,activation = 'softmax')\n",
    "    ]\n",
    ")\n",
    "\n",
    "#Model M2\n",
    "# Add number of neurons in layers\n",
    "neurons_M2 = []\n",
    "neurons_M2.append(512)\n",
    "neurons_M2.append(250)\n",
    "neurons_M2.append(120)\n",
    "MLP_model_M2 = tf.keras.models.Sequential(\n",
    "    [\n",
    "     tf.keras.layers.Flatten(),\n",
    "     tf.keras.layers.Dense(neurons_M2[0],activation = 'relu',input_dim=X_train.shape[1]),\n",
    "     #tf.keras.layers.Dropout(0.2),\n",
    "     #tf.keras.layers.Dense(24,activation = 'relu'),\n",
    "     #tf.keras.layers.Dropout(0.2),\n",
    "     tf.keras.layers.Dense(neurons_M2[1],activation = 'relu'),\n",
    "     #tf.keras.layers.Dropout(0.2),\n",
    "     tf.keras.layers.Dense(neurons_M2[2],activation = 'relu'),\n",
    "     #tf.keras.layers.Dropout(0.2),\n",
    "     #tf.keras.layers.Dropout(0.2),\n",
    "     tf.keras.layers.Dense(6,activation = 'softmax')\n",
    "    ]\n",
    ")\n",
    "\n",
    "#Model M3\n",
    "# Add number of neurons in layers\n",
    "neurons_M3 = []\n",
    "neurons_M3.append(512)\n",
    "neurons_M3.append(250)\n",
    "neurons_M3.append(120)\n",
    "neurons_M3.append(60)\n",
    "MLP_model_M3 = tf.keras.models.Sequential(\n",
    "    [\n",
    "     tf.keras.layers.Flatten(),\n",
    "     tf.keras.layers.Dense(neurons_M3[0],activation = 'relu',input_dim=X_train.shape[1]),\n",
    "     #tf.keras.layers.Dropout(0.2),\n",
    "     tf.keras.layers.Dense(neurons_M3[1],activation = 'relu'),\n",
    "     #tf.keras.layers.Dropout(0.2),\n",
    "     tf.keras.layers.Dense(neurons_M3[2],activation = 'relu'),\n",
    "     #tf.keras.layers.Dropout(0.2),\n",
    "     tf.keras.layers.Dense(neurons_M3[3],activation = 'relu'),\n",
    "     #tf.keras.layers.Dropout(0.2),\n",
    "     #tf.keras.layers.Dropout(0.2),\n",
    "     tf.keras.layers.Dense(6,activation = 'softmax')\n",
    "    ]\n",
    ")\n",
    "\n",
    "#Model M4\n",
    "# Add number of neurons in layers\n",
    "neurons_M4 = []\n",
    "neurons_M4.append(520)\n",
    "neurons_M4.append(250)\n",
    "MLP_model_M4 = tf.keras.models.Sequential(\n",
    "    [\n",
    "     tf.keras.layers.Flatten(),\n",
    "     tf.keras.layers.Dense(neurons_M4[0],activation = 'relu',input_dim=X_train.shape[1]),\n",
    "     #tf.keras.layers.Dropout(0.2),\n",
    "     #tf.keras.layers.Dense(24,activation = 'relu'),\n",
    "     #tf.keras.layers.Dropout(0.2),\n",
    "     tf.keras.layers.Dense(neurons_M4[1],activation = 'relu'),\n",
    "     #tf.keras.layers.Dropout(0.2),  \n",
    "     #tf.keras.layers.Dropout(0.2),\n",
    "     #tf.keras.layers.Dropout(0.2),\n",
    "     tf.keras.layers.Dense(6,activation = 'softmax')\n",
    "    ]\n",
    ")\n",
    "\n",
    "#Model M5\n",
    "# Add number of neurons in layers\n",
    "neurons_M5 = []\n",
    "neurons_M5.append(512)\n",
    "neurons_M5.append(250)\n",
    "neurons_M5.append(120)\n",
    "neurons_M5.append(80)\n",
    "neurons_M5.append(60)\n",
    "MLP_model_M5 = tf.keras.models.Sequential(\n",
    "    [\n",
    "     tf.keras.layers.Flatten(),\n",
    "     tf.keras.layers.Dense(neurons_M5[0],activation = 'relu',input_dim=X_train.shape[1]),\n",
    "     #tf.keras.layers.Dropout(0.2),\n",
    "     #tf.keras.layers.Dense(24,activation = 'relu'),\n",
    "     #tf.keras.layers.Dropout(0.2),\n",
    "     #tf.keras.layers.Dropout(0.2),\n",
    "     tf.keras.layers.Dense(neurons_M5[1],activation = 'relu'),\n",
    "     #tf.keras.layers.Dropout(0.2),\n",
    "     tf.keras.layers.Dense(neurons_M5[2],activation = 'relu'),\n",
    "     #tf.keras.layers.Dropout(0.2),\n",
    "     tf.keras.layers.Dense(neurons_M5[3],activation = 'relu'),\n",
    "     #tf.keras.layers.Dropout(0.2),\n",
    "     tf.keras.layers.Dense(neurons_M5[4],activation = 'relu'),\n",
    "     #tf.keras.layers.Dropout(0.2),\n",
    "     #tf.keras.layers.Dropout(0.2),\n",
    "     tf.keras.layers.Dense(6,activation = 'softmax')\n",
    "    ]\n",
    ")\n",
    "\n",
    "#Model M6\n",
    "# Add number of neurons in layers\n",
    "neurons_M6 = []\n",
    "neurons_M6.append(512)\n",
    "neurons_M6.append(250)\n",
    "neurons_M6.append(120)\n",
    "neurons_M6.append(80)\n",
    "neurons_M6.append(60)                         \n",
    "MLP_model_M6 = tf.keras.models.Sequential(\n",
    "    [\n",
    "     tf.keras.layers.Flatten(),\n",
    "     tf.keras.layers.Dense(neurons_M6[0],activation = 'relu',input_dim=X_train.shape[1]),\n",
    "     #tf.keras.layers.Dropout(0.2),\n",
    "     #tf.keras.layers.Dense(512,activation = 'relu'),\n",
    "     #tf.keras.layers.Dropout(0.2),\n",
    "     tf.keras.layers.Dense(neurons_M6[1],activation = 'relu'),\n",
    "     #tf.keras.layers.Dropout(0.2),\n",
    "     tf.keras.layers.Dense(neurons_M6[2],activation = 'relu'),\n",
    "     #tf.keras.layers.Dropout(0.2),\n",
    "     tf.keras.layers.Dense(neurons_M6[3],activation = 'relu'),\n",
    "     #tf.keras.layers.Dropout(0.2),\n",
    "     tf.keras.layers.Dense(neurons_M6[4],activation = 'relu'),\n",
    "     #tf.keras.layers.Dropout(0.2),\n",
    "     tf.keras.layers.Dense(6,activation = 'softmax')\n",
    "    ]\n",
    ")\n",
    "                         \n",
    "#Model M7\n",
    "# Add number of neurons in layers\n",
    "neurons_M7 = []\n",
    "neurons_M7.append(512)\n",
    "neurons_M7.append(350)\n",
    "neurons_M7.append(250)\n",
    "neurons_M7.append(120)\n",
    "neurons_M7.append(80)\n",
    "neurons_M7.append(60)  \n",
    "MLP_model_M7 = tf.keras.models.Sequential(\n",
    "    [\n",
    "     tf.keras.layers.Flatten(),\n",
    "     tf.keras.layers.Dense(neurons_M7[0],activation = 'relu',input_dim=X_train.shape[1]),\n",
    "     #tf.keras.layers.Dropout(0.2),\n",
    "     tf.keras.layers.Dense(neurons_M7[1],activation = 'relu'),\n",
    "     #tf.keras.layers.Dropout(0.2)\n",
    "     tf.keras.layers.Dense(neurons_M7[2],activation = 'relu'),\n",
    "     #tf.keras.layers.Dropout(0.2),\n",
    "     tf.keras.layers.Dense(neurons_M7[3],activation = 'relu'),\n",
    "     #tf.keras.layers.Dropout(0.2),\n",
    "     tf.keras.layers.Dense(neurons_M7[4],activation = 'relu'),\n",
    "     #tf.keras.layers.Dropout(0.2),\n",
    "     tf.keras.layers.Dense(neurons_M7[5],activation = 'relu'),\n",
    "     #tf.keras.layers.Dropout(0.2),\n",
    "     tf.keras.layers.Dense(6,activation = 'softmax')\n",
    "    ]\n",
    ")\n",
    "\n",
    "#Model M8\n",
    "# Add number of neurons in layers\n",
    "neurons_M8 = []\n",
    "neurons_M8.append(512)\n",
    "neurons_M8.append(250)\n",
    "neurons_M8.append(300)                         \n",
    "MLP_model_M8 = tf.keras.models.Sequential(\n",
    "    [\n",
    "     tf.keras.layers.Flatten(),\n",
    "     tf.keras.layers.Dense(neurons_M8[0],activation = 'relu',input_dim=X_train.shape[1]),\n",
    "     #tf.keras.layers.Dropout(0.2),\n",
    "     #tf.keras.layers.Dense(512,activation = 'relu'),\n",
    "     tf.keras.layers.Dropout(0.2),\n",
    "     tf.keras.layers.Dense(neurons_M8[1],activation = 'relu'),\n",
    "     tf.keras.layers.Dropout(0.2),\n",
    "     tf.keras.layers.Dense(neurons_M8[2],activation = 'relu'),\n",
    "     #tf.keras.layers.Dropout(0.2),\n",
    "     tf.keras.layers.Dropout(0.2),\n",
    "     tf.keras.layers.Dense(6,activation = 'softmax')\n",
    "    ]\n",
    ")\n",
    "\n",
    "#Model M9\n",
    "# Add number of neurons in layers\n",
    "neurons_M9 = []\n",
    "neurons_M9.append(682)\n",
    "neurons_M9.append(512)\n",
    "neurons_M9.append(350)\n",
    "neurons_M9.append(250)\n",
    "neurons_M9.append(120)\n",
    "neurons_M9.append(80)\n",
    "neurons_M9.append(60)                         \n",
    "MLP_model_M9 = tf.keras.models.Sequential(\n",
    "    [\n",
    "     tf.keras.layers.Flatten(),\n",
    "     tf.keras.layers.Dense(neurons_M9[0],activation = 'relu',input_dim=X_train.shape[1]),\n",
    "     #tf.keras.layers.Dropout(0.2),\n",
    "     #tf.keras.layers.Dense(512,activation = 'relu'),\n",
    "     #tf.keras.layers.Dropout(0.2),\n",
    "     tf.keras.layers.Dense(neurons_M9[1],activation = 'relu'),\n",
    "     #tf.keras.layers.Dropout(0.2),\n",
    "     tf.keras.layers.Dense(neurons_M9[2],activation = 'relu'),\n",
    "     #tf.keras.layers.Dropout(0.2),\n",
    "     tf.keras.layers.Dense(neurons_M9[3],activation = 'relu'),\n",
    "     #tf.keras.layers.Dropout(0.2),\n",
    "     tf.keras.layers.Dense(neurons_M9[4],activation = 'relu'),\n",
    "     #tf.keras.layers.Dropout(0.2), \n",
    "     tf.keras.layers.Dense(neurons_M9[5],activation = 'relu'),\n",
    "     #tf.keras.layers.Dropout(0.2),\n",
    "     tf.keras.layers.Dense(neurons_M9[6],activation = 'relu'),\n",
    "     #tf.keras.layers.Dropout(0.2),        \n",
    "     #tf.keras.layers.Dropout(0.2),\n",
    "     tf.keras.layers.Dense(6,activation = 'softmax')\n",
    "    ]\n",
    ")\n",
    "\n"
   ]
  },
  {
   "cell_type": "code",
   "execution_count": 35,
   "metadata": {},
   "outputs": [],
   "source": [
    "#selection of MLP model and parameters for training and testing\n",
    "# modelMLP = MLP_model_M6   \n",
    "# number_of_neurons = neurons_M6\n",
    "\n",
    "modelMLP = MLP_model_M6   \n",
    "#number_of_neurons = num_neurons\n",
    "num_neurons = neurons_M6\n",
    "#model architecture\n",
    "arch = \"10-\"\n",
    "for i in range(len(number_of_neurons)):\n",
    "    arch = \"{}{}-\".format(arch,str(number_of_neurons[i]))\n",
    "arch = arch + str(\"6\")\n",
    "\n",
    "dropout = 'None'\n",
    "if num_model == 1:\n",
    "    model_selection = MLP_model_M1   \n",
    "    num_neurons = neurons_M1 \n",
    "    optimization_function = 'sgd'   #adam or SGD etc\n",
    "if num_model == 2:\n",
    "    model_selection = MLP_model_M2   \n",
    "    num_neurons = neurons_M2\n",
    "    optimization_function = 'sgd'   #adam or SGD etc\n",
    "if num_model == 3:\n",
    "    model_selection = MLP_model_M3   \n",
    "    num_neurons = neurons_M3\n",
    "    optimization_function = 'sgd'   #adam or SGD etc\n",
    "if num_model == 4:\n",
    "    model_selection = MLP_model_M4   \n",
    "    num_neurons = neurons_M4\n",
    "    optimization_function = 'sgd'   #adam or SGD etc\n",
    "if num_model == 5:\n",
    "    model_selection = MLP_model_M5   \n",
    "    num_neurons = neurons_M5 \n",
    "    optimization_function = 'sgd'   #adam or SGD etc\n",
    "if num_model == 6:\n",
    "    model_selection = MLP_model_M6   \n",
    "    num_neurons = neurons_M6 \n",
    "    optimization_function = 'adam'   #adam or SGD etc    \n",
    "if num_model == 7:\n",
    "    model_selection = MLP_model_M7   \n",
    "    num_neurons = neurons_M7\n",
    "    optimization_function = 'adam'   #adam or SGD etc  \n",
    "if num_model == 8:\n",
    "    model_selection = MLP_model_M8   \n",
    "    num_neurons = neurons_M8 \n",
    "    optimization_function = 'adam'   #adam or SGD etc  \n",
    "    dropout = '0.2'\n",
    "if num_model == 9:\n",
    "    model_selection = MLP_model_M9   \n",
    "    num_neurons = neurons_M9 \n",
    "    optimization_function = 'adam'   #adam or SGD etc  \n",
    "modelMLP = model_selection\n",
    "var_optimizer = optimization_function\n",
    "var_loss = loss_function\n",
    "var_arch = 'Model {}: {} Dropout {}'.format(num_model,arch,dropout)\n",
    "var_epochs = number_of_epochs\n",
    "var_validation_split = training_validation_split\n",
    "var_remarks_MLP = \"Architecture:{}, Loss function: {}, Optimizer: {}\".format(var_arch, var_loss, var_optimizer.upper())\n",
    "\n",
    "modelMLP.compile(loss = var_loss,optimizer = var_optimizer,metrics = ['accuracy'])"
   ]
  },
  {
   "cell_type": "code",
   "execution_count": 36,
   "metadata": {},
   "outputs": [
    {
     "name": "stdout",
     "output_type": "stream",
     "text": [
      "Architecture:Model 6: 10-6 Dropout None, Loss function: sparse_categorical_crossentropy, Optimizer: ADAM\n"
     ]
    }
   ],
   "source": [
    "print(var_remarks_MLP)"
   ]
  },
  {
   "cell_type": "code",
   "execution_count": 37,
   "metadata": {},
   "outputs": [
    {
     "name": "stdout",
     "output_type": "stream",
     "text": [
      "Epoch 1/30\n",
      "306/306 [==============================] - 2s 4ms/step - loss: 0.6229 - accuracy: 0.7495 - val_loss: 0.5096 - val_accuracy: 0.7765\n",
      "Epoch 2/30\n",
      "306/306 [==============================] - 1s 3ms/step - loss: 0.4632 - accuracy: 0.8096 - val_loss: 0.4288 - val_accuracy: 0.8370\n",
      "Epoch 3/30\n",
      "306/306 [==============================] - 1s 2ms/step - loss: 0.4255 - accuracy: 0.8235 - val_loss: 0.4395 - val_accuracy: 0.8270\n",
      "Epoch 4/30\n",
      "306/306 [==============================] - 1s 2ms/step - loss: 0.3983 - accuracy: 0.8384 - val_loss: 0.3939 - val_accuracy: 0.8346\n",
      "Epoch 5/30\n",
      "306/306 [==============================] - 1s 2ms/step - loss: 0.3763 - accuracy: 0.8444 - val_loss: 0.4078 - val_accuracy: 0.8313\n",
      "Epoch 6/30\n",
      "306/306 [==============================] - 1s 2ms/step - loss: 0.3624 - accuracy: 0.8542 - val_loss: 0.3691 - val_accuracy: 0.8523\n",
      "Epoch 7/30\n",
      "306/306 [==============================] - 1s 2ms/step - loss: 0.3484 - accuracy: 0.8596 - val_loss: 0.3414 - val_accuracy: 0.8709\n",
      "Epoch 8/30\n",
      "306/306 [==============================] - 1s 2ms/step - loss: 0.3372 - accuracy: 0.8655 - val_loss: 0.3380 - val_accuracy: 0.8697\n",
      "Epoch 9/30\n",
      "306/306 [==============================] - 1s 2ms/step - loss: 0.3172 - accuracy: 0.8725 - val_loss: 0.3363 - val_accuracy: 0.8699\n",
      "Epoch 10/30\n",
      "306/306 [==============================] - 1s 2ms/step - loss: 0.3112 - accuracy: 0.8752 - val_loss: 0.3297 - val_accuracy: 0.8699\n",
      "Epoch 11/30\n",
      "306/306 [==============================] - 1s 2ms/step - loss: 0.3000 - accuracy: 0.8784 - val_loss: 0.3199 - val_accuracy: 0.8763\n",
      "Epoch 12/30\n",
      "306/306 [==============================] - 1s 2ms/step - loss: 0.2894 - accuracy: 0.8847 - val_loss: 0.3126 - val_accuracy: 0.8821\n",
      "Epoch 13/30\n",
      "306/306 [==============================] - 1s 2ms/step - loss: 0.2852 - accuracy: 0.8846 - val_loss: 0.3045 - val_accuracy: 0.8813\n",
      "Epoch 14/30\n",
      "306/306 [==============================] - 1s 2ms/step - loss: 0.2803 - accuracy: 0.8860 - val_loss: 0.2965 - val_accuracy: 0.8852\n",
      "Epoch 15/30\n",
      "306/306 [==============================] - 1s 2ms/step - loss: 0.2694 - accuracy: 0.8907 - val_loss: 0.2998 - val_accuracy: 0.8821\n",
      "Epoch 16/30\n",
      "306/306 [==============================] - 1s 3ms/step - loss: 0.2599 - accuracy: 0.8965 - val_loss: 0.2774 - val_accuracy: 0.8925\n",
      "Epoch 17/30\n",
      "306/306 [==============================] - 1s 2ms/step - loss: 0.2496 - accuracy: 0.8997 - val_loss: 0.2851 - val_accuracy: 0.8904\n",
      "Epoch 18/30\n",
      "306/306 [==============================] - 1s 2ms/step - loss: 0.2504 - accuracy: 0.8979 - val_loss: 0.3001 - val_accuracy: 0.8859\n",
      "Epoch 19/30\n",
      "306/306 [==============================] - 1s 2ms/step - loss: 0.2469 - accuracy: 0.8995 - val_loss: 0.2874 - val_accuracy: 0.8918\n",
      "Epoch 20/30\n",
      "306/306 [==============================] - 1s 2ms/step - loss: 0.2376 - accuracy: 0.9042 - val_loss: 0.2940 - val_accuracy: 0.8925\n",
      "Epoch 21/30\n",
      "306/306 [==============================] - 1s 2ms/step - loss: 0.2340 - accuracy: 0.9041 - val_loss: 0.3065 - val_accuracy: 0.8911\n",
      "Epoch 22/30\n",
      "306/306 [==============================] - 1s 2ms/step - loss: 0.2314 - accuracy: 0.9052 - val_loss: 0.2794 - val_accuracy: 0.8930\n",
      "Epoch 23/30\n",
      "306/306 [==============================] - 1s 2ms/step - loss: 0.2243 - accuracy: 0.9066 - val_loss: 0.2760 - val_accuracy: 0.8964\n",
      "Epoch 24/30\n",
      "306/306 [==============================] - 1s 2ms/step - loss: 0.2225 - accuracy: 0.9096 - val_loss: 0.2674 - val_accuracy: 0.9037\n",
      "Epoch 25/30\n",
      "306/306 [==============================] - 1s 2ms/step - loss: 0.2162 - accuracy: 0.9111 - val_loss: 0.2736 - val_accuracy: 0.8997\n",
      "Epoch 26/30\n",
      "306/306 [==============================] - 1s 2ms/step - loss: 0.2423 - accuracy: 0.9031 - val_loss: 0.2729 - val_accuracy: 0.8971\n",
      "Epoch 27/30\n",
      "306/306 [==============================] - 1s 2ms/step - loss: 0.2103 - accuracy: 0.9136 - val_loss: 0.2991 - val_accuracy: 0.8885\n",
      "Epoch 28/30\n",
      "306/306 [==============================] - 1s 2ms/step - loss: 0.1989 - accuracy: 0.9192 - val_loss: 0.2803 - val_accuracy: 0.8964\n",
      "Epoch 29/30\n",
      "306/306 [==============================] - 1s 2ms/step - loss: 0.1976 - accuracy: 0.9174 - val_loss: 0.2975 - val_accuracy: 0.8861\n",
      "Epoch 30/30\n",
      "306/306 [==============================] - 1s 2ms/step - loss: 0.1967 - accuracy: 0.9185 - val_loss: 0.2898 - val_accuracy: 0.8959\n",
      "CPU times: user 1min 2s, sys: 12.3 s, total: 1min 14s\n",
      "Wall time: 24 s\n"
     ]
    }
   ],
   "source": [
    "%%time\n",
    "#Model training and validation\n",
    "t0 = time.time()\n",
    "model_history = modelMLP.fit(X_train_scaled,y_train,validation_split=var_validation_split,epochs = var_epochs)\n",
    "training_time  = time.time()-t0"
   ]
  },
  {
   "cell_type": "code",
   "execution_count": 38,
   "metadata": {},
   "outputs": [
    {
     "name": "stdout",
     "output_type": "stream",
     "text": [
      "Model: \"sequential_5\"\n",
      "_________________________________________________________________\n",
      " Layer (type)                Output Shape              Param #   \n",
      "=================================================================\n",
      " flatten_5 (Flatten)         (None, 10)                0         \n",
      "                                                                 \n",
      " dense_21 (Dense)            (None, 512)               5632      \n",
      "                                                                 \n",
      " dense_22 (Dense)            (None, 250)               128250    \n",
      "                                                                 \n",
      " dense_23 (Dense)            (None, 120)               30120     \n",
      "                                                                 \n",
      " dense_24 (Dense)            (None, 80)                9680      \n",
      "                                                                 \n",
      " dense_25 (Dense)            (None, 60)                4860      \n",
      "                                                                 \n",
      " dense_26 (Dense)            (None, 6)                 366       \n",
      "                                                                 \n",
      "=================================================================\n",
      "Total params: 178908 (698.86 KB)\n",
      "Trainable params: 178908 (698.86 KB)\n",
      "Non-trainable params: 0 (0.00 Byte)\n",
      "_________________________________________________________________\n"
     ]
    }
   ],
   "source": [
    "#MLP model summary\n",
    "modelMLP.summary()"
   ]
  },
  {
   "cell_type": "code",
   "execution_count": 39,
   "metadata": {
    "id": "tO6eBQX_rIcn"
   },
   "outputs": [
    {
     "data": {
      "image/png": "[encoded data removed]",
      "text/plain": [
       "<Figure size 1000x400 with 2 Axes>"
      ]
     },
     "metadata": {},
     "output_type": "display_data"
    }
   ],
   "source": [
    "#Plots of MLP Training and Validation Before Dataset Balancing\n",
    "accuracy = model_history.history['accuracy']\n",
    "val_accuracy = model_history.history['val_accuracy']\n",
    "loss = model_history.history['loss']\n",
    "val_loss = model_history.history['val_loss']\n",
    "epochs  = range(len(accuracy))\n",
    "#fig = plt.figure() \n",
    "fig, (ax1, ax2) = plt.subplots(1, 2, figsize=(10,4))\n",
    "#fig, axes = plt.subplots(nrows = 6, ncols = 4, figsize=(15,12)) #, sharex=True, sharey = True)\n",
    "fig.suptitle('MLP Model M{} Training and Validation With Imbalance Data'.format(num_model))\n",
    "ax1.plot(epochs, accuracy, label='Training')  \n",
    "ax1.plot(epochs, val_accuracy, label='Validation')\n",
    "ax1.set(xlabel='Number of Epochs', ylabel='Accuracy')\n",
    "ax1.set_title('Accuracy Evaluation')\n",
    "ax1.legend()\n",
    "ax2.plot(epochs, loss,label='Training')\n",
    "ax2.plot(epochs, val_loss,label='Validation')\n",
    "ax2.legend()\n",
    "ax2.set(xlabel='Number of Epochs', ylabel='Loss')\n",
    "ax2.set_title('Loss Evaluation')\n",
    "plt.subplots_adjust(left=0.1,\n",
    "                    bottom=0.1,\n",
    "                    right=0.9,\n",
    "                    top=0.9,\n",
    "                    wspace=0.3,\n",
    "                    hspace=1.0)\n",
    "plt.show()"
   ]
  },
  {
   "cell_type": "code",
   "execution_count": 40,
   "metadata": {
    "id": "tMCkuf8SrhZ4"
   },
   "outputs": [
    {
     "name": "stdout",
     "output_type": "stream",
     "text": [
      "88.96952271461487\n"
     ]
    }
   ],
   "source": [
    "#Alternative estimation of the mean accuracy \n",
    "cvs = []\n",
    "ev = modelMLP.evaluate(X_test_scaled, y_test, verbose=0)\n",
    "cvs.append(ev[1] * 100)\n",
    "ev\n",
    "print(np.mean(cvs))"
   ]
  },
  {
   "cell_type": "code",
   "execution_count": 41,
   "metadata": {
    "id": "kyzZG_4fqGHC"
   },
   "outputs": [
    {
     "name": "stderr",
     "output_type": "stream",
     "text": [
      "/usr/local/lib/python3.8/dist-packages/keras/src/engine/training.py:3000: UserWarning: You are saving your model as an HDF5 file via `model.save()`. This file format is considered legacy. We recommend using instead the native Keras format, e.g. `model.save('my_model.keras')`.\n",
      "  saving_api.save_model(\n"
     ]
    }
   ],
   "source": [
    "#Saving the model\n",
    "modelMLP.save(config.MLP)\n",
    "model = tf.keras.models.load_model(config.MLP)"
   ]
  },
  {
   "cell_type": "code",
   "execution_count": 42,
   "metadata": {
    "id": "seEIkcVFWQtO"
   },
   "outputs": [
    {
     "name": "stdout",
     "output_type": "stream",
     "text": [
      "88.96952271461487\n"
     ]
    }
   ],
   "source": [
    "cvs = []\n",
    "ev = model.evaluate(X_test_scaled, y_test, verbose=0)\n",
    "cvs.append(ev[1] * 100)\n",
    "ev\n",
    "print(np.mean(cvs))\n",
    "\n",
    "#https://machinelearningmastery.com/evaluate-performance-deep-learning-models-keras/  CV Scores"
   ]
  },
  {
   "cell_type": "code",
   "execution_count": 43,
   "metadata": {
    "id": "lyhvM3BDhCwa"
   },
   "outputs": [
    {
     "name": "stdout",
     "output_type": "stream",
     "text": [
      "216/216 [==============================] - 0s 906us/step\n"
     ]
    },
    {
     "data": {
      "text/plain": [
       "array([[3.39254023e-27, 9.99977887e-01, 2.19998055e-05, 5.53122103e-14,\n",
       "        5.47219251e-26, 6.39611325e-23],\n",
       "       [5.13880252e-14, 9.02077973e-01, 9.79217812e-02, 2.62224120e-07,\n",
       "        3.53417518e-14, 9.27873013e-13],\n",
       "       [8.14580119e-19, 9.99882758e-01, 1.17174262e-04, 5.85458704e-09,\n",
       "        1.33528147e-18, 5.90243157e-16],\n",
       "       ...,\n",
       "       [1.52502078e-09, 6.42839521e-02, 9.35088992e-01, 6.27018337e-04,\n",
       "        8.89829188e-09, 1.21540795e-08],\n",
       "       [3.39716929e-14, 1.35593137e-08, 6.20904088e-04, 9.98513043e-01,\n",
       "        8.66077666e-04, 3.36073462e-08],\n",
       "       [1.78010845e-13, 1.19082060e-07, 4.83459421e-03, 9.95022535e-01,\n",
       "        1.42825636e-04, 1.95856504e-08]], dtype=float32)"
      ]
     },
     "execution_count": 43,
     "metadata": {},
     "output_type": "execute_result"
    }
   ],
   "source": [
    "y_pred = model.predict(X_test_scaled)\n",
    "y_pred"
   ]
  },
  {
   "cell_type": "code",
   "execution_count": 44,
   "metadata": {
    "id": "lvrCk8V8fvif"
   },
   "outputs": [],
   "source": [
    "#accuracy_score(y_test, y_pred, normalize=False)"
   ]
  },
  {
   "cell_type": "code",
   "execution_count": 45,
   "metadata": {
    "id": "u2rWRUTYfSs8"
   },
   "outputs": [],
   "source": [
    "#model_history.history"
   ]
  },
  {
   "cell_type": "code",
   "execution_count": 46,
   "metadata": {
    "id": "G3kQWNh5rJ5S"
   },
   "outputs": [
    {
     "data": {
      "text/plain": [
       "0.9184965491294861"
      ]
     },
     "execution_count": 46,
     "metadata": {},
     "output_type": "execute_result"
    }
   ],
   "source": [
    "#import Keras.Backend.argmax()\n",
    "#import numpy as np\n",
    "best_model_accuracy = model_history.history['accuracy'][np.argmin(model_history.history['loss'])]\n",
    "best_model_accuracy\n"
   ]
  },
  {
   "cell_type": "code",
   "execution_count": 47,
   "metadata": {},
   "outputs": [
    {
     "data": {
      "text/plain": [
       "0.9037407636642456"
      ]
     },
     "execution_count": 47,
     "metadata": {},
     "output_type": "execute_result"
    }
   ],
   "source": [
    "best_model_val_accuracy = model_history.history['val_accuracy'][np.argmin(model_history.history['val_loss'])]\n",
    "best_model_val_accuracy"
   ]
  },
  {
   "cell_type": "code",
   "execution_count": 48,
   "metadata": {
    "id": "YrVPsMvtEw6z"
   },
   "outputs": [
    {
     "name": "stdout",
     "output_type": "stream",
     "text": [
      "accuracy:  0.8807680527369182\n",
      "val accuracy:  0.8749027132987977\n",
      "loss:  0.29352220793565115\n",
      "val loss:  0.32378973563512164\n",
      "###\n",
      "best_model_accuracy  0.9184965491294861\n",
      "best_model_val_accuracy  0.9037407636642456\n"
     ]
    }
   ],
   "source": [
    "#import numpy as np\n",
    "print(\"accuracy: \", np.mean(np.array(accuracy)))\n",
    "print(\"val accuracy: \", np.mean(np.array(val_accuracy)))\n",
    "print(\"loss: \", np.mean(np.array(loss)))\n",
    "print(\"val loss: \", np.mean(np.array(val_loss)))\n",
    "print(\"###\")\n",
    "print(\"best_model_accuracy \",best_model_accuracy )\n",
    "print(\"best_model_val_accuracy \",best_model_val_accuracy )\n"
   ]
  },
  {
   "cell_type": "code",
   "execution_count": 49,
   "metadata": {
    "id": "u4Qg51Ki1y9v"
   },
   "outputs": [
    {
     "name": "stdout",
     "output_type": "stream",
     "text": [
      "216/216 [==============================] - 0s 958us/step\n",
      "Evaluating ANN \n",
      " Confusion Matrix: \n",
      "[[2794  228    1    0    0]\n",
      " [ 120 1759   81    0    0]\n",
      " [   4  278 1513    4    1]\n",
      " [   0    0   25   44    4]\n",
      " [   1    0    1   12   20]]\n",
      "ClassificationReport:\n",
      "              precision    recall  f1-score   support\n",
      "\n",
      "           1       0.96      0.92      0.94      3023\n",
      "           2       0.78      0.90      0.83      1960\n",
      "           3       0.93      0.84      0.88      1800\n",
      "           4       0.73      0.60      0.66        73\n",
      "           5       0.80      0.59      0.68        34\n",
      "\n",
      "    accuracy                           0.89      6890\n",
      "   macro avg       0.84      0.77      0.80      6890\n",
      "weighted avg       0.90      0.89      0.89      6890\n",
      "\n",
      " Random Forest\n",
      " Accuracy=0.8896952104499274 \n",
      " Precision =0.896442764449912 \n",
      " F1 Score=0.8909199739844565 \n",
      " Recall=0.8896952104499274\n"
     ]
    }
   ],
   "source": [
    "# demonstration of calculating metrics for a neural network model using sklearn\n",
    "# predict on test set\n",
    "ann_pred = model.predict(X_test)\n",
    "\n",
    "# predict crisp classes for test set (reduce 2D (actual+predicted) to 1D\n",
    "yhat_classes = np.argmax(ann_pred,axis=1) #model.predict_classes(X_test, verbose=0)\n",
    "\n",
    "\n",
    "# reduce to 1d array\n",
    "yhat_probs = ann_pred[:, 0]\n",
    "\n",
    "accuracy = accuracy_score(y_test, yhat_classes)\n",
    "\n",
    "precision = precision_score(y_test, yhat_classes, average='weighted')\n",
    "\n",
    "recall = recall_score(y_test, yhat_classes, average='weighted')\n",
    "\n",
    "f1 = f1_score(y_test, yhat_classes, average='weighted')\n",
    "\n",
    "#kappa = cohen_kappa_score(y_test, yhat_classes)\n",
    "#print('Cohens kappa: %f' % kappa)\n",
    "\n",
    "\n",
    "matrix = confusion_matrix(y_test, yhat_classes)\n",
    "classification_reportRF = classification_report(y_test, yhat_classes)\n",
    "\n",
    "#print(matrix)\n",
    "print(\"Evaluating ANN \\n Confusion Matrix: \\n{}\\nClassificationReport:\\n{}\\n Random Forest\\n Accuracy={} \\n Precision ={} \\n F1 Score={} \\n Recall={}\".format(matrix,classification_reportRF,accuracy,precision,f1,recall))\n",
    "\n"
   ]
  },
  {
   "cell_type": "code",
   "execution_count": 50,
   "metadata": {
    "id": "oCK-hto_gQix"
   },
   "outputs": [],
   "source": [
    "#https://towardsdatascience.com/methods-for-dealing-with-imbalanced-data-5b761be45a18"
   ]
  },
  {
   "cell_type": "code",
   "execution_count": 51,
   "metadata": {
    "id": "MsCs6E20mH7J"
   },
   "outputs": [],
   "source": [
    "df_tmp_results.loc[df_tmp_results['sno']==sno_val, 'MLP_Acc'] = accuracy\n",
    "df_tmp_results.loc[df_tmp_results['sno']==sno_val, 'MLP_Prec'] = precision\n",
    "df_tmp_results.loc[df_tmp_results['sno']==sno_val, 'MLP_F1'] = f1\n",
    "df_tmp_results.loc[df_tmp_results['sno']==sno_val, 'MLP_Recall'] = recall\n",
    "#df_tmp_results.loc[df_tmp_results['sno']==sno_val, 'MLP_Remarks'] = var_remarks_MLP\n"
   ]
  },
  {
   "cell_type": "code",
   "execution_count": 52,
   "metadata": {},
   "outputs": [
    {
     "name": "stdout",
     "output_type": "stream",
     "text": [
      "Architecture:Model 6: 10-6 Dropout None, Loss function: sparse_categorical_crossentropy, Optimizer: ADAM\n"
     ]
    }
   ],
   "source": [
    "print(var_remarks_MLP)"
   ]
  },
  {
   "cell_type": "markdown",
   "metadata": {
    "id": "1Q2O_PR1tQT2"
   },
   "source": [
    "**(b) Model Building after Treating Data Imbalancies**"
   ]
  },
  {
   "cell_type": "markdown",
   "metadata": {
    "id": "4DGZc_e8tRJj"
   },
   "source": [
    "**Treatment of Data Imbalances**"
   ]
  },
  {
   "cell_type": "markdown",
   "metadata": {
    "id": "teTlZgPh5J13"
   },
   "source": [
    "#### Upsampling"
   ]
  },
  {
   "cell_type": "code",
   "execution_count": 53,
   "metadata": {
    "id": "tU36P86H5Uf5"
   },
   "outputs": [
    {
     "data": {
      "text/plain": [
       "'\\n1    9100\\n2    6016\\n3    5449\\n4     197\\n5     116\\n'"
      ]
     },
     "execution_count": 53,
     "metadata": {},
     "output_type": "execute_result"
    }
   ],
   "source": [
    "#before \n",
    "factors.XX_MLA_CLASS2.value_counts()\n",
    "\"\"\"\n",
    "1    9100\n",
    "2    6016\n",
    "3    5449\n",
    "4     197\n",
    "5     116\n",
    "\"\"\"\n"
   ]
  },
  {
   "cell_type": "code",
   "execution_count": null,
   "metadata": {},
   "outputs": [],
   "source": []
  },
  {
   "cell_type": "code",
   "execution_count": 54,
   "metadata": {
    "id": "mPDtic6z5MtN"
   },
   "outputs": [
    {
     "data": {
      "text/plain": [
       "XX_MLA_CLASS2\n",
       "1    9100\n",
       "2    9100\n",
       "3    9100\n",
       "4    9100\n",
       "5    9100\n",
       "Name: count, dtype: int64"
      ]
     },
     "execution_count": 54,
     "metadata": {},
     "output_type": "execute_result"
    }
   ],
   "source": [
    "# concatenate our training data back together\n",
    "#y_train = Y\n",
    "X_traind = pd.DataFrame(scaled_X)\n",
    "y_traind = pd.DataFrame(Y)\n",
    "X = pd.concat([X_traind, y_traind], axis=1)\n",
    "\n",
    "# separate minority and majority classes\n",
    "one = X[X.XX_MLA_CLASS2==1]\n",
    "two = X[X.XX_MLA_CLASS2==2]\n",
    "three = X[X.XX_MLA_CLASS2==3]\n",
    "four = X[X.XX_MLA_CLASS2==4]\n",
    "five = X[X.XX_MLA_CLASS2==5]\n",
    "\n",
    "\n",
    "# upsample minority\n",
    "from sklearn.utils import resample\n",
    "two_upsampled = resample(two,\n",
    "                          replace=True, # sample with replacement\n",
    "                          n_samples=len(one), # match number in majority class\n",
    "                          random_state=42) # reproducible results\n",
    "upsampled = pd.concat([one, two_upsampled], axis=0)\n",
    "three_upsampled = resample(three,\n",
    "                          replace=True, # sample with replacement\n",
    "                          n_samples=len(one), # match number in majority class\n",
    "                          random_state=42) # reproducible results\n",
    "upsampled = pd.concat([upsampled, three_upsampled], axis=0)\n",
    "four_upsampled = resample(four,\n",
    "                          replace=True, # sample with replacement\n",
    "                          n_samples=len(one), # match number in majority class\n",
    "                          random_state=42) # reproducible results\n",
    "upsampled = pd.concat([upsampled, four_upsampled], axis=0)\n",
    "five_upsampled = resample(five,\n",
    "                          replace=True, # sample with replacement\n",
    "                          n_samples=len(one), # match number in majority class\n",
    "                          random_state=42) # reproducible results\n",
    "upsampled = pd.concat([upsampled, five_upsampled], axis=0)\n",
    "# combine majority and upsampled minority\n",
    "#upsampled = pd.concat([one, two_upsampled, three_upsampled, four_upsampled, five_upsampled])\n",
    "\n",
    "# check new class counts\n",
    "upsampled.XX_MLA_CLASS2.value_counts()\n",
    "\n"
   ]
  },
  {
   "cell_type": "code",
   "execution_count": 55,
   "metadata": {},
   "outputs": [
    {
     "data": {
      "text/plain": [
       "XX_MLA_CLASS2\n",
       "1    9100\n",
       "2    9100\n",
       "3    9100\n",
       "4    9100\n",
       "5    9100\n",
       "Name: count, dtype: int64"
      ]
     },
     "execution_count": 55,
     "metadata": {},
     "output_type": "execute_result"
    }
   ],
   "source": [
    "#Upscale BM\n",
    "\n",
    "X_traind_bm = pd.DataFrame(scaled_X_bm)\n",
    "y_traind_bm = pd.DataFrame(Y)\n",
    "X_bm = pd.concat([X_traind_bm, y_traind_bm], axis=1)\n",
    "\n",
    "# separate minority and majority classes\n",
    "one_bm = X_bm[X_bm.XX_MLA_CLASS2==1]\n",
    "two_bm = X_bm[X_bm.XX_MLA_CLASS2==2]\n",
    "three_bm = X_bm[X_bm.XX_MLA_CLASS2==3]\n",
    "four_bm = X_bm[X_bm.XX_MLA_CLASS2==4]\n",
    "five_bm = X_bm[X_bm.XX_MLA_CLASS2==5]\n",
    "\n",
    "\n",
    "# upsample minority\n",
    "#from sklearn.utils import resample\n",
    "two_upsampled_bm = resample(two_bm,\n",
    "                          replace=True, # sample with replacement\n",
    "                          n_samples=len(one_bm), # match number in majority class\n",
    "                          random_state=42) # reproducible results\n",
    "upsampled_bm = pd.concat([one_bm, two_upsampled_bm], axis=0)\n",
    "three_upsampled_bm = resample(three,\n",
    "                          replace=True, # sample with replacement\n",
    "                          n_samples=len(one_bm), # match number in majority class\n",
    "                          random_state=42) # reproducible results\n",
    "upsampled_bm = pd.concat([upsampled_bm, three_upsampled_bm], axis=0)\n",
    "four_upsampled_bm = resample(four,\n",
    "                          replace=True, # sample with replacement\n",
    "                          n_samples=len(one_bm), # match number in majority class\n",
    "                          random_state=42) # reproducible results\n",
    "upsampled_bm = pd.concat([upsampled_bm, four_upsampled_bm], axis=0)\n",
    "five_upsampled_bm = resample(five,\n",
    "                          replace=True, # sample with replacement\n",
    "                          n_samples=len(one_bm), # match number in majority class\n",
    "                          random_state=42) # reproducible results\n",
    "upsampled_bm = pd.concat([upsampled_bm, five_upsampled_bm], axis=0)\n",
    "# combine majority and upsampled minority\n",
    "#upsampled = pd.concat([one, two_upsampled, three_upsampled, four_upsampled, five_upsampled])\n",
    "\n",
    "# check new class counts\n",
    "upsampled_bm.XX_MLA_CLASS2.value_counts()\n",
    "\n"
   ]
  },
  {
   "cell_type": "code",
   "execution_count": 56,
   "metadata": {
    "id": "o0WdaBqHtWhV"
   },
   "outputs": [
    {
     "data": {
      "text/html": [
       "<div>\n",
       "<style scoped>\n",
       "    .dataframe tbody tr th:only-of-type {\n",
       "        vertical-align: middle;\n",
       "    }\n",
       "\n",
       "    .dataframe tbody tr th {\n",
       "        vertical-align: top;\n",
       "    }\n",
       "\n",
       "    .dataframe thead th {\n",
       "        text-align: right;\n",
       "    }\n",
       "</style>\n",
       "<table border=\"1\" class=\"dataframe\">\n",
       "  <thead>\n",
       "    <tr style=\"text-align: right;\">\n",
       "      <th></th>\n",
       "      <th>REPORTINGDATE</th>\n",
       "      <th>INSTITUTIONCODE</th>\n",
       "      <th>BANKSIZE</th>\n",
       "      <th>LR</th>\n",
       "      <th>EWAQ_NPLsNetOfProvisions</th>\n",
       "      <th>EWAQ_NPLsNetOfProvisions2CoreCapital</th>\n",
       "      <th>EWAQ_NPL</th>\n",
       "      <th>ExcessShortTLiab2LongTAsset</th>\n",
       "      <th>CD_TO_TOTAL_ASSET</th>\n",
       "      <th>LIQASSET2TOTALASSET</th>\n",
       "      <th>LIQASSET2DEPOSIT</th>\n",
       "      <th>TOTAL_DEPOSITS</th>\n",
       "      <th>XX_MLA_CLASS2</th>\n",
       "    </tr>\n",
       "  </thead>\n",
       "  <tbody>\n",
       "    <tr>\n",
       "      <th>0</th>\n",
       "      <td>2010-02-05</td>\n",
       "      <td>B5014</td>\n",
       "      <td>11.137502</td>\n",
       "      <td>14.634353</td>\n",
       "      <td>44468.326344</td>\n",
       "      <td>0.000003</td>\n",
       "      <td>8.063249e+08</td>\n",
       "      <td>-0.065458</td>\n",
       "      <td>0.451251</td>\n",
       "      <td>0.537186</td>\n",
       "      <td>1.059766</td>\n",
       "      <td>6.956926e+10</td>\n",
       "      <td>1</td>\n",
       "    </tr>\n",
       "    <tr>\n",
       "      <th>1</th>\n",
       "      <td>2010-02-12</td>\n",
       "      <td>B5014</td>\n",
       "      <td>11.129058</td>\n",
       "      <td>14.635804</td>\n",
       "      <td>59291.101792</td>\n",
       "      <td>0.000004</td>\n",
       "      <td>8.206735e+08</td>\n",
       "      <td>-0.096342</td>\n",
       "      <td>0.447671</td>\n",
       "      <td>0.547733</td>\n",
       "      <td>1.086425</td>\n",
       "      <td>6.786213e+10</td>\n",
       "      <td>1</td>\n",
       "    </tr>\n",
       "    <tr>\n",
       "      <th>2</th>\n",
       "      <td>2010-02-19</td>\n",
       "      <td>B5014</td>\n",
       "      <td>11.125597</td>\n",
       "      <td>14.640078</td>\n",
       "      <td>51879.714068</td>\n",
       "      <td>0.000004</td>\n",
       "      <td>8.167797e+08</td>\n",
       "      <td>-0.114094</td>\n",
       "      <td>0.443746</td>\n",
       "      <td>0.552115</td>\n",
       "      <td>1.101995</td>\n",
       "      <td>6.690330e+10</td>\n",
       "      <td>1</td>\n",
       "    </tr>\n",
       "    <tr>\n",
       "      <th>3</th>\n",
       "      <td>2010-02-26</td>\n",
       "      <td>B5014</td>\n",
       "      <td>11.126559</td>\n",
       "      <td>14.646235</td>\n",
       "      <td>29645.550896</td>\n",
       "      <td>0.000002</td>\n",
       "      <td>7.985373e+08</td>\n",
       "      <td>-0.102229</td>\n",
       "      <td>0.444068</td>\n",
       "      <td>0.550894</td>\n",
       "      <td>1.090917</td>\n",
       "      <td>6.758268e+10</td>\n",
       "      <td>1</td>\n",
       "    </tr>\n",
       "    <tr>\n",
       "      <th>4</th>\n",
       "      <td>2010-03-05</td>\n",
       "      <td>B5014</td>\n",
       "      <td>11.138860</td>\n",
       "      <td>14.660432</td>\n",
       "      <td>-29645.550896</td>\n",
       "      <td>-0.000002</td>\n",
       "      <td>7.345822e+08</td>\n",
       "      <td>-0.026119</td>\n",
       "      <td>0.464603</td>\n",
       "      <td>0.535509</td>\n",
       "      <td>1.023180</td>\n",
       "      <td>7.205682e+10</td>\n",
       "      <td>1</td>\n",
       "    </tr>\n",
       "  </tbody>\n",
       "</table>\n",
       "</div>"
      ],
      "text/plain": [
       "  REPORTINGDATE INSTITUTIONCODE   BANKSIZE         LR  \\\n",
       "0    2010-02-05           B5014  11.137502  14.634353   \n",
       "1    2010-02-12           B5014  11.129058  14.635804   \n",
       "2    2010-02-19           B5014  11.125597  14.640078   \n",
       "3    2010-02-26           B5014  11.126559  14.646235   \n",
       "4    2010-03-05           B5014  11.138860  14.660432   \n",
       "\n",
       "   EWAQ_NPLsNetOfProvisions  EWAQ_NPLsNetOfProvisions2CoreCapital  \\\n",
       "0              44468.326344                              0.000003   \n",
       "1              59291.101792                              0.000004   \n",
       "2              51879.714068                              0.000004   \n",
       "3              29645.550896                              0.000002   \n",
       "4             -29645.550896                             -0.000002   \n",
       "\n",
       "       EWAQ_NPL  ExcessShortTLiab2LongTAsset  CD_TO_TOTAL_ASSET  \\\n",
       "0  8.063249e+08                    -0.065458           0.451251   \n",
       "1  8.206735e+08                    -0.096342           0.447671   \n",
       "2  8.167797e+08                    -0.114094           0.443746   \n",
       "3  7.985373e+08                    -0.102229           0.444068   \n",
       "4  7.345822e+08                    -0.026119           0.464603   \n",
       "\n",
       "   LIQASSET2TOTALASSET  LIQASSET2DEPOSIT  TOTAL_DEPOSITS  XX_MLA_CLASS2  \n",
       "0             0.537186          1.059766    6.956926e+10              1  \n",
       "1             0.547733          1.086425    6.786213e+10              1  \n",
       "2             0.552115          1.101995    6.690330e+10              1  \n",
       "3             0.550894          1.090917    6.758268e+10              1  \n",
       "4             0.535509          1.023180    7.205682e+10              1  "
      ]
     },
     "execution_count": 56,
     "metadata": {},
     "output_type": "execute_result"
    }
   ],
   "source": [
    "upsampled_bm.head()"
   ]
  },
  {
   "cell_type": "code",
   "execution_count": 57,
   "metadata": {
    "id": "YnMby-8yw0HZ"
   },
   "outputs": [
    {
     "data": {
      "text/plain": [
       "(20878, 10)"
      ]
     },
     "execution_count": 57,
     "metadata": {},
     "output_type": "execute_result"
    }
   ],
   "source": [
    "scaled_X.shape"
   ]
  },
  {
   "cell_type": "code",
   "execution_count": 58,
   "metadata": {
    "id": "uDPCMKcqtgTH"
   },
   "outputs": [
    {
     "data": {
      "text/plain": [
       "(20878, 12)"
      ]
     },
     "execution_count": 58,
     "metadata": {},
     "output_type": "execute_result"
    }
   ],
   "source": [
    "scaled_X_bm.shape"
   ]
  },
  {
   "cell_type": "markdown",
   "metadata": {
    "id": "uuhms1K3tg9y"
   },
   "source": [
    "**Redo Data Spliting into Train and Test datasets**"
   ]
  },
  {
   "cell_type": "code",
   "execution_count": 59,
   "metadata": {
    "id": "IbWeHS7gNU4_"
   },
   "outputs": [],
   "source": [
    "#Split and again \n",
    "# Separate input features and target\n",
    "\n",
    "YUS = upsampled.XX_MLA_CLASS2\n",
    "scaled_XUS = upsampled.drop('XX_MLA_CLASS2', axis=1)\n",
    "\n",
    "\n",
    "# setting up testing and training sets\n",
    "X_trainUS, X_testUS, y_trainUS, y_testUS = train_test_split(scaled_XUS.values, YUS, test_size=0.33, random_state=42)\n",
    "\n"
   ]
  },
  {
   "cell_type": "code",
   "execution_count": 60,
   "metadata": {},
   "outputs": [],
   "source": [
    "#split benchmark\n",
    "YUS_bm = upsampled_bm.XX_MLA_CLASS2\n",
    "scaled_XUS_bm = upsampled_bm.drop('XX_MLA_CLASS2', axis=1)\n",
    "\n",
    "X_trainUS_bm, X_testUS_bm, y_trainUS_bm, y_testUS_bm = train_test_split(scaled_XUS_bm.values,YUS_bm,test_size=0.33,random_state=42)"
   ]
  },
  {
   "cell_type": "code",
   "execution_count": 61,
   "metadata": {},
   "outputs": [
    {
     "data": {
      "text/plain": [
       "10884    2\n",
       "11763    4\n",
       "11836    5\n",
       "6256     1\n",
       "10511    1\n",
       "        ..\n",
       "11860    5\n",
       "6940     1\n",
       "11722    4\n",
       "14327    2\n",
       "1718     2\n",
       "Name: XX_MLA_CLASS2, Length: 15015, dtype: int64"
      ]
     },
     "execution_count": 61,
     "metadata": {},
     "output_type": "execute_result"
    }
   ],
   "source": [
    "y_testUS"
   ]
  },
  {
   "cell_type": "code",
   "execution_count": 62,
   "metadata": {},
   "outputs": [
    {
     "data": {
      "text/plain": [
       "10884    2\n",
       "11763    4\n",
       "11836    5\n",
       "6256     1\n",
       "10511    1\n",
       "        ..\n",
       "11860    5\n",
       "6940     1\n",
       "11722    4\n",
       "14327    2\n",
       "1718     2\n",
       "Name: XX_MLA_CLASS2, Length: 15015, dtype: int64"
      ]
     },
     "execution_count": 62,
     "metadata": {},
     "output_type": "execute_result"
    }
   ],
   "source": [
    "y_testUS_bm"
   ]
  },
  {
   "cell_type": "code",
   "execution_count": 63,
   "metadata": {},
   "outputs": [],
   "source": [
    "#upsampled_bm.iloc[:,2:]"
   ]
  },
  {
   "cell_type": "code",
   "execution_count": 64,
   "metadata": {},
   "outputs": [],
   "source": [
    "#tests\n",
    "# result = X_trainUS[:,:] == X_trainUS_bm[:,2:]\n",
    "# print(result)\n",
    "# result = X_testUS[:,:] == X_testUS_bm[:,2:]\n",
    "# print(result)\n",
    "# result = y_trainUS == y_trainUS_bm\n",
    "# print(result)\n",
    "# result = y_testUS == y_testUS_bm\n",
    "# print(result)"
   ]
  },
  {
   "cell_type": "code",
   "execution_count": 65,
   "metadata": {},
   "outputs": [
    {
     "data": {
      "text/plain": [
       "(15015,)"
      ]
     },
     "execution_count": 65,
     "metadata": {},
     "output_type": "execute_result"
    }
   ],
   "source": [
    "y_testUS_bm.shape"
   ]
  },
  {
   "cell_type": "code",
   "execution_count": 66,
   "metadata": {},
   "outputs": [
    {
     "data": {
      "text/plain": [
       "array([[1.03996830e+01, 1.46850348e+01, 9.96063285e+07, ...,\n",
       "        6.19293851e-01, 1.01696295e+00, 1.52853234e+10],\n",
       "       [1.21614056e+01, 1.58228737e+01, 7.11172124e+10, ...,\n",
       "        3.70437061e-01, 5.48815225e-01, 9.81810121e+11],\n",
       "       [1.16484976e+01, 1.58200000e+01, 1.77603501e+09, ...,\n",
       "        1.59635612e-01, 4.20176360e-01, 1.69120309e+11],\n",
       "       ...,\n",
       "       [1.18435714e+01, 1.74085715e+01, 7.09663402e+10, ...,\n",
       "        1.22613456e-01, 3.26833477e-01, 2.61687495e+11],\n",
       "       [1.09656537e+01, 1.43915404e+01, 9.20708872e+08, ...,\n",
       "        3.62159065e-01, 5.09259869e-01, 7.36374772e+10],\n",
       "       [1.12864337e+01, 1.63553743e+01, 7.21862914e+09, ...,\n",
       "        3.51689055e-01, 8.70362596e-01, 7.81433981e+10]])"
      ]
     },
     "execution_count": 66,
     "metadata": {},
     "output_type": "execute_result"
    }
   ],
   "source": [
    "X_trainUS"
   ]
  },
  {
   "cell_type": "markdown",
   "metadata": {
    "id": "vbE9pgryt3tI"
   },
   "source": [
    "**Redo Data Scaling**"
   ]
  },
  {
   "cell_type": "code",
   "execution_count": 67,
   "metadata": {
    "id": "yIcuknFSt1pF"
   },
   "outputs": [],
   "source": [
    "#from sklearn.preprocessing import StandardScaler\n",
    "sc=StandardScaler()\n",
    "X_trainUS=sc.fit_transform(X_trainUS)\n",
    "X_testUS=sc.transform(X_testUS)"
   ]
  },
  {
   "cell_type": "code",
   "execution_count": 68,
   "metadata": {},
   "outputs": [],
   "source": [
    "X_trainUS_bm_scaled=sc.fit_transform(X_trainUS_bm[:,2:])\n",
    "X_testUS_bm_scaled=sc.transform(X_testUS_bm[:,2:])"
   ]
  },
  {
   "cell_type": "code",
   "execution_count": 69,
   "metadata": {},
   "outputs": [],
   "source": [
    "# Concatenate the first two columns from the original arrays with the scaled arrays\n",
    "X_trainUS_bm2 = np.hstack((X_trainUS_bm[:, :2], X_trainUS_bm_scaled))\n",
    "X_testUS_bm2 = np.hstack((X_testUS_bm[:, :2], X_testUS_bm_scaled))"
   ]
  },
  {
   "cell_type": "code",
   "execution_count": 70,
   "metadata": {},
   "outputs": [
    {
     "data": {
      "text/plain": [
       "10884    False\n",
       "11763    False\n",
       "11836    False\n",
       "6256     False\n",
       "10511    False\n",
       "         ...  \n",
       "11860    False\n",
       "6940     False\n",
       "11722    False\n",
       "14327    False\n",
       "1718     False\n",
       "Name: XX_MLA_CLASS2, Length: 15015, dtype: bool"
      ]
     },
     "execution_count": 70,
     "metadata": {},
     "output_type": "execute_result"
    }
   ],
   "source": [
    "np.isnan(y_testUS)"
   ]
  },
  {
   "cell_type": "code",
   "execution_count": 71,
   "metadata": {},
   "outputs": [
    {
     "data": {
      "text/plain": [
       "array([[-2.55316055, -2.21095965, -0.76725161, ...,  1.49965332,\n",
       "        -0.0114348 , -0.55097859],\n",
       "       [ 0.99214969, -0.84905311, -0.04654044, ...,  0.5141993 ,\n",
       "        -0.0114348 ,  0.9632512 ],\n",
       "       [-0.0400321 , -0.85249271, -0.75023863, ..., -0.32055844,\n",
       "        -0.0114348 , -0.30996923],\n",
       "       ...,\n",
       "       [ 0.35253654,  1.04890641, -0.04807154, ..., -0.46716337,\n",
       "        -0.0114348 , -0.16494658],\n",
       "       [-1.41419471, -2.56225016, -0.75891878, ...,  0.48141907,\n",
       "        -0.0114348 , -0.45955975],\n",
       "       [-0.76865361, -0.21169041, -0.69500531, ...,  0.43995862,\n",
       "        -0.0114348 , -0.45250044]])"
      ]
     },
     "execution_count": 71,
     "metadata": {},
     "output_type": "execute_result"
    }
   ],
   "source": [
    "X_trainUS"
   ]
  },
  {
   "cell_type": "code",
   "execution_count": 72,
   "metadata": {},
   "outputs": [
    {
     "data": {
      "text/plain": [
       "0"
      ]
     },
     "execution_count": 72,
     "metadata": {},
     "output_type": "execute_result"
    }
   ],
   "source": [
    "np.sum(np.isnan(y_testUS_bm))"
   ]
  },
  {
   "cell_type": "code",
   "execution_count": 73,
   "metadata": {},
   "outputs": [],
   "source": [
    "#save to file\n",
    "columns1=['BANKSIZE', 'LR', 'EWAQ_NPLsNetOfProvisions',\n",
    "       'EWAQ_NPLsNetOfProvisions2CoreCapital', 'EWAQ_NPL',\n",
    "       'ExcessShortTLiab2LongTAsset', 'CD_TO_TOTAL_ASSET',\n",
    "       'LIQASSET2TOTALASSET', 'LIQASSET2DEPOSIT', 'TOTAL_DEPOSITS']\n",
    "columns2=['REPORTINGDATE','INSTITUTIONCODE','BANKSIZE', 'LR', 'EWAQ_NPLsNetOfProvisions',\n",
    "       'EWAQ_NPLsNetOfProvisions2CoreCapital', 'EWAQ_NPL',\n",
    "       'ExcessShortTLiab2LongTAsset', 'CD_TO_TOTAL_ASSET',\n",
    "       'LIQASSET2TOTALASSET', 'LIQASSET2DEPOSIT', 'TOTAL_DEPOSITS']\n",
    "\n",
    "# Use np.savetxt to save the NumPy array as a CSV file\n",
    "\n",
    "df_X_testUS = pd.DataFrame(X_testUS,columns=columns1)\n",
    "df_X_testUS.to_csv(config.X_testUS, index=False)\n",
    "df_X_testUS = pd.read_csv(config.X_testUS)\n",
    "df_X_testUS.columns = columns1\n",
    "\n",
    "df_Y_testUS = pd.DataFrame(y_testUS,columns=['XX_MLA_CLASS2'])\n",
    "df_Y_testUS.to_csv(config.Y_testUS, index=False)\n",
    "df_Y_testUS = pd.read_csv(config.Y_testUS)\n",
    "df_Y_testUS.columns = ['XX_MLA_CLASS2']\n",
    "\n",
    "# Use np.savetxt to save the NumPy array as a CSV file\n",
    "\n",
    "df_X_testUS_bm2 = pd.DataFrame(X_testUS_bm2,columns=columns2)\n",
    "df_X_testUS_bm2.to_csv(config.X_testUS_bm2, index=False)\n",
    "df_X_testUS_bm2 = pd.read_csv(config.X_testUS_bm2)\n",
    "df_X_testUS_bm2.columns = columns2\n",
    "\n",
    "df_Y_testUS_bm2 = pd.DataFrame(y_testUS_bm,columns=['XX_MLA_CLASS2'])\n",
    "df_Y_testUS_bm2.to_csv(config.Y_testUS_bm, index=False)\n",
    "df_Y_testUS_bm2 = pd.read_csv(config.Y_testUS_bm)\n",
    "df_Y_testUS_bm2.columns = ['XX_MLA_CLASS2']\n",
    "\n"
   ]
  },
  {
   "cell_type": "code",
   "execution_count": 74,
   "metadata": {},
   "outputs": [
    {
     "data": {
      "text/plain": [
       "10884    2\n",
       "11763    4\n",
       "11836    5\n",
       "6256     1\n",
       "10511    1\n",
       "Name: XX_MLA_CLASS2, dtype: int64"
      ]
     },
     "execution_count": 74,
     "metadata": {},
     "output_type": "execute_result"
    }
   ],
   "source": [
    "y_testUS.head()"
   ]
  },
  {
   "cell_type": "code",
   "execution_count": 75,
   "metadata": {},
   "outputs": [
    {
     "data": {
      "text/plain": [
       "pandas.core.frame.DataFrame"
      ]
     },
     "execution_count": 75,
     "metadata": {},
     "output_type": "execute_result"
    }
   ],
   "source": [
    "type(df_Y_testUS)"
   ]
  },
  {
   "cell_type": "code",
   "execution_count": null,
   "metadata": {},
   "outputs": [],
   "source": []
  },
  {
   "cell_type": "code",
   "execution_count": 76,
   "metadata": {},
   "outputs": [
    {
     "data": {
      "text/plain": [
       "array([[ 1.15408633, -0.50155682, -0.4133626 , ...,  0.68941354,\n",
       "        -0.0114348 ,  0.19867845],\n",
       "       [ 0.76648552,  0.28182362,  1.47275479, ..., -0.61791865,\n",
       "        -0.0114348 , -0.07446734],\n",
       "       [ 0.7754604 ,  0.18451356,  1.7274715 , ..., -0.73548122,\n",
       "        -0.0114348 ,  0.03969977],\n",
       "       ...,\n",
       "       [ 0.7954516 ,  0.43973583,  1.67085083, ..., -0.53593992,\n",
       "        -0.0114348 , -0.10087279],\n",
       "       [-0.57614697,  0.57397885, -0.20617018, ...,  0.43979364,\n",
       "        -0.0114348 , -0.48655915],\n",
       "       [-0.95615527,  1.74406013, -0.67325875, ...,  0.10571705,\n",
       "        -0.0114348 , -0.40879904]])"
      ]
     },
     "execution_count": 76,
     "metadata": {},
     "output_type": "execute_result"
    }
   ],
   "source": [
    "X_testUS"
   ]
  },
  {
   "cell_type": "code",
   "execution_count": 77,
   "metadata": {},
   "outputs": [
    {
     "data": {
      "text/html": [
       "<div>\n",
       "<style scoped>\n",
       "    .dataframe tbody tr th:only-of-type {\n",
       "        vertical-align: middle;\n",
       "    }\n",
       "\n",
       "    .dataframe tbody tr th {\n",
       "        vertical-align: top;\n",
       "    }\n",
       "\n",
       "    .dataframe thead th {\n",
       "        text-align: right;\n",
       "    }\n",
       "</style>\n",
       "<table border=\"1\" class=\"dataframe\">\n",
       "  <thead>\n",
       "    <tr style=\"text-align: right;\">\n",
       "      <th></th>\n",
       "      <th>XX_MLA_CLASS2</th>\n",
       "    </tr>\n",
       "  </thead>\n",
       "  <tbody>\n",
       "    <tr>\n",
       "      <th>0</th>\n",
       "      <td>1</td>\n",
       "    </tr>\n",
       "    <tr>\n",
       "      <th>1</th>\n",
       "      <td>1</td>\n",
       "    </tr>\n",
       "    <tr>\n",
       "      <th>4</th>\n",
       "      <td>1</td>\n",
       "    </tr>\n",
       "    <tr>\n",
       "      <th>6</th>\n",
       "      <td>1</td>\n",
       "    </tr>\n",
       "    <tr>\n",
       "      <th>7</th>\n",
       "      <td>1</td>\n",
       "    </tr>\n",
       "    <tr>\n",
       "      <th>...</th>\n",
       "      <td>...</td>\n",
       "    </tr>\n",
       "    <tr>\n",
       "      <th>20862</th>\n",
       "      <td>1</td>\n",
       "    </tr>\n",
       "    <tr>\n",
       "      <th>20864</th>\n",
       "      <td>1</td>\n",
       "    </tr>\n",
       "    <tr>\n",
       "      <th>20865</th>\n",
       "      <td>1</td>\n",
       "    </tr>\n",
       "    <tr>\n",
       "      <th>20871</th>\n",
       "      <td>1</td>\n",
       "    </tr>\n",
       "    <tr>\n",
       "      <th>20875</th>\n",
       "      <td>1</td>\n",
       "    </tr>\n",
       "  </tbody>\n",
       "</table>\n",
       "<p>15015 rows × 1 columns</p>\n",
       "</div>"
      ],
      "text/plain": [
       "       XX_MLA_CLASS2\n",
       "0                  1\n",
       "1                  1\n",
       "4                  1\n",
       "6                  1\n",
       "7                  1\n",
       "...              ...\n",
       "20862              1\n",
       "20864              1\n",
       "20865              1\n",
       "20871              1\n",
       "20875              1\n",
       "\n",
       "[15015 rows x 1 columns]"
      ]
     },
     "execution_count": 77,
     "metadata": {},
     "output_type": "execute_result"
    }
   ],
   "source": [
    "df_y_testUS = pd.DataFrame(y_testUS, columns=['XX_MLA_CLASS2'])\n",
    "df_y_testUS.sort_index()"
   ]
  },
  {
   "cell_type": "code",
   "execution_count": 78,
   "metadata": {},
   "outputs": [
    {
     "data": {
      "text/html": [
       "<div>\n",
       "<style scoped>\n",
       "    .dataframe tbody tr th:only-of-type {\n",
       "        vertical-align: middle;\n",
       "    }\n",
       "\n",
       "    .dataframe tbody tr th {\n",
       "        vertical-align: top;\n",
       "    }\n",
       "\n",
       "    .dataframe thead th {\n",
       "        text-align: right;\n",
       "    }\n",
       "</style>\n",
       "<table border=\"1\" class=\"dataframe\">\n",
       "  <thead>\n",
       "    <tr style=\"text-align: right;\">\n",
       "      <th></th>\n",
       "      <th>BANKSIZE</th>\n",
       "      <th>LR</th>\n",
       "      <th>EWAQ_NPLsNetOfProvisions</th>\n",
       "      <th>EWAQ_NPLsNetOfProvisions2CoreCapital</th>\n",
       "      <th>EWAQ_NPL</th>\n",
       "      <th>ExcessShortTLiab2LongTAsset</th>\n",
       "      <th>CD_TO_TOTAL_ASSET</th>\n",
       "      <th>LIQASSET2TOTALASSET</th>\n",
       "      <th>LIQASSET2DEPOSIT</th>\n",
       "      <th>TOTAL_DEPOSITS</th>\n",
       "    </tr>\n",
       "  </thead>\n",
       "  <tbody>\n",
       "    <tr>\n",
       "      <th>0</th>\n",
       "      <td>1.154086</td>\n",
       "      <td>-0.501557</td>\n",
       "      <td>-0.413363</td>\n",
       "      <td>-0.116690</td>\n",
       "      <td>-0.388823</td>\n",
       "      <td>-0.228397</td>\n",
       "      <td>-0.128209</td>\n",
       "      <td>0.689414</td>\n",
       "      <td>-0.011435</td>\n",
       "      <td>0.198678</td>\n",
       "    </tr>\n",
       "    <tr>\n",
       "      <th>1</th>\n",
       "      <td>0.766486</td>\n",
       "      <td>0.281824</td>\n",
       "      <td>1.472755</td>\n",
       "      <td>-0.089521</td>\n",
       "      <td>1.622116</td>\n",
       "      <td>0.021179</td>\n",
       "      <td>-0.581599</td>\n",
       "      <td>-0.617919</td>\n",
       "      <td>-0.011435</td>\n",
       "      <td>-0.074467</td>\n",
       "    </tr>\n",
       "    <tr>\n",
       "      <th>2</th>\n",
       "      <td>0.775460</td>\n",
       "      <td>0.184514</td>\n",
       "      <td>1.727471</td>\n",
       "      <td>-0.087094</td>\n",
       "      <td>1.882613</td>\n",
       "      <td>0.071434</td>\n",
       "      <td>-0.459371</td>\n",
       "      <td>-0.735481</td>\n",
       "      <td>-0.011435</td>\n",
       "      <td>0.039700</td>\n",
       "    </tr>\n",
       "    <tr>\n",
       "      <th>3</th>\n",
       "      <td>-1.238104</td>\n",
       "      <td>1.527523</td>\n",
       "      <td>-0.703836</td>\n",
       "      <td>-0.111406</td>\n",
       "      <td>-0.721601</td>\n",
       "      <td>-0.380212</td>\n",
       "      <td>-0.765913</td>\n",
       "      <td>1.063540</td>\n",
       "      <td>-0.011435</td>\n",
       "      <td>-0.526334</td>\n",
       "    </tr>\n",
       "    <tr>\n",
       "      <th>4</th>\n",
       "      <td>0.238661</td>\n",
       "      <td>-0.010650</td>\n",
       "      <td>0.263193</td>\n",
       "      <td>-0.082750</td>\n",
       "      <td>0.552617</td>\n",
       "      <td>0.002379</td>\n",
       "      <td>-0.100279</td>\n",
       "      <td>0.421840</td>\n",
       "      <td>-0.011435</td>\n",
       "      <td>-0.125650</td>\n",
       "    </tr>\n",
       "    <tr>\n",
       "      <th>...</th>\n",
       "      <td>...</td>\n",
       "      <td>...</td>\n",
       "      <td>...</td>\n",
       "      <td>...</td>\n",
       "      <td>...</td>\n",
       "      <td>...</td>\n",
       "      <td>...</td>\n",
       "      <td>...</td>\n",
       "      <td>...</td>\n",
       "      <td>...</td>\n",
       "    </tr>\n",
       "    <tr>\n",
       "      <th>15010</th>\n",
       "      <td>0.810289</td>\n",
       "      <td>-0.177204</td>\n",
       "      <td>1.409034</td>\n",
       "      <td>-0.091895</td>\n",
       "      <td>1.606002</td>\n",
       "      <td>0.071716</td>\n",
       "      <td>-0.549042</td>\n",
       "      <td>-0.657968</td>\n",
       "      <td>-0.011435</td>\n",
       "      <td>0.090511</td>\n",
       "    </tr>\n",
       "    <tr>\n",
       "      <th>15011</th>\n",
       "      <td>-0.106960</td>\n",
       "      <td>1.426208</td>\n",
       "      <td>-0.343692</td>\n",
       "      <td>-0.098138</td>\n",
       "      <td>-0.392922</td>\n",
       "      <td>0.057141</td>\n",
       "      <td>0.084883</td>\n",
       "      <td>0.557514</td>\n",
       "      <td>-0.011435</td>\n",
       "      <td>-0.214800</td>\n",
       "    </tr>\n",
       "    <tr>\n",
       "      <th>15012</th>\n",
       "      <td>0.795452</td>\n",
       "      <td>0.439736</td>\n",
       "      <td>1.670851</td>\n",
       "      <td>-0.084162</td>\n",
       "      <td>1.517931</td>\n",
       "      <td>-0.003914</td>\n",
       "      <td>-0.396499</td>\n",
       "      <td>-0.535940</td>\n",
       "      <td>-0.011435</td>\n",
       "      <td>-0.100873</td>\n",
       "    </tr>\n",
       "    <tr>\n",
       "      <th>15013</th>\n",
       "      <td>-0.576147</td>\n",
       "      <td>0.573979</td>\n",
       "      <td>-0.206170</td>\n",
       "      <td>0.009603</td>\n",
       "      <td>-0.153401</td>\n",
       "      <td>-0.203590</td>\n",
       "      <td>-0.751985</td>\n",
       "      <td>0.439794</td>\n",
       "      <td>-0.011435</td>\n",
       "      <td>-0.486559</td>\n",
       "    </tr>\n",
       "    <tr>\n",
       "      <th>15014</th>\n",
       "      <td>-0.956155</td>\n",
       "      <td>1.744060</td>\n",
       "      <td>-0.673259</td>\n",
       "      <td>-0.103623</td>\n",
       "      <td>-0.634346</td>\n",
       "      <td>0.196260</td>\n",
       "      <td>0.267726</td>\n",
       "      <td>0.105717</td>\n",
       "      <td>-0.011435</td>\n",
       "      <td>-0.408799</td>\n",
       "    </tr>\n",
       "  </tbody>\n",
       "</table>\n",
       "<p>15015 rows × 10 columns</p>\n",
       "</div>"
      ],
      "text/plain": [
       "       BANKSIZE        LR  EWAQ_NPLsNetOfProvisions  \\\n",
       "0      1.154086 -0.501557                 -0.413363   \n",
       "1      0.766486  0.281824                  1.472755   \n",
       "2      0.775460  0.184514                  1.727471   \n",
       "3     -1.238104  1.527523                 -0.703836   \n",
       "4      0.238661 -0.010650                  0.263193   \n",
       "...         ...       ...                       ...   \n",
       "15010  0.810289 -0.177204                  1.409034   \n",
       "15011 -0.106960  1.426208                 -0.343692   \n",
       "15012  0.795452  0.439736                  1.670851   \n",
       "15013 -0.576147  0.573979                 -0.206170   \n",
       "15014 -0.956155  1.744060                 -0.673259   \n",
       "\n",
       "       EWAQ_NPLsNetOfProvisions2CoreCapital  EWAQ_NPL  \\\n",
       "0                                 -0.116690 -0.388823   \n",
       "1                                 -0.089521  1.622116   \n",
       "2                                 -0.087094  1.882613   \n",
       "3                                 -0.111406 -0.721601   \n",
       "4                                 -0.082750  0.552617   \n",
       "...                                     ...       ...   \n",
       "15010                             -0.091895  1.606002   \n",
       "15011                             -0.098138 -0.392922   \n",
       "15012                             -0.084162  1.517931   \n",
       "15013                              0.009603 -0.153401   \n",
       "15014                             -0.103623 -0.634346   \n",
       "\n",
       "       ExcessShortTLiab2LongTAsset  CD_TO_TOTAL_ASSET  LIQASSET2TOTALASSET  \\\n",
       "0                        -0.228397          -0.128209             0.689414   \n",
       "1                         0.021179          -0.581599            -0.617919   \n",
       "2                         0.071434          -0.459371            -0.735481   \n",
       "3                        -0.380212          -0.765913             1.063540   \n",
       "4                         0.002379          -0.100279             0.421840   \n",
       "...                            ...                ...                  ...   \n",
       "15010                     0.071716          -0.549042            -0.657968   \n",
       "15011                     0.057141           0.084883             0.557514   \n",
       "15012                    -0.003914          -0.396499            -0.535940   \n",
       "15013                    -0.203590          -0.751985             0.439794   \n",
       "15014                     0.196260           0.267726             0.105717   \n",
       "\n",
       "       LIQASSET2DEPOSIT  TOTAL_DEPOSITS  \n",
       "0             -0.011435        0.198678  \n",
       "1             -0.011435       -0.074467  \n",
       "2             -0.011435        0.039700  \n",
       "3             -0.011435       -0.526334  \n",
       "4             -0.011435       -0.125650  \n",
       "...                 ...             ...  \n",
       "15010         -0.011435        0.090511  \n",
       "15011         -0.011435       -0.214800  \n",
       "15012         -0.011435       -0.100873  \n",
       "15013         -0.011435       -0.486559  \n",
       "15014         -0.011435       -0.408799  \n",
       "\n",
       "[15015 rows x 10 columns]"
      ]
     },
     "execution_count": 78,
     "metadata": {},
     "output_type": "execute_result"
    }
   ],
   "source": [
    "df_X_testUS"
   ]
  },
  {
   "cell_type": "code",
   "execution_count": 79,
   "metadata": {},
   "outputs": [
    {
     "data": {
      "text/html": [
       "<div>\n",
       "<style scoped>\n",
       "    .dataframe tbody tr th:only-of-type {\n",
       "        vertical-align: middle;\n",
       "    }\n",
       "\n",
       "    .dataframe tbody tr th {\n",
       "        vertical-align: top;\n",
       "    }\n",
       "\n",
       "    .dataframe thead th {\n",
       "        text-align: right;\n",
       "    }\n",
       "</style>\n",
       "<table border=\"1\" class=\"dataframe\">\n",
       "  <thead>\n",
       "    <tr style=\"text-align: right;\">\n",
       "      <th></th>\n",
       "      <th>BANKSIZE</th>\n",
       "      <th>LR</th>\n",
       "      <th>EWAQ_NPLsNetOfProvisions</th>\n",
       "      <th>EWAQ_NPLsNetOfProvisions2CoreCapital</th>\n",
       "      <th>EWAQ_NPL</th>\n",
       "      <th>ExcessShortTLiab2LongTAsset</th>\n",
       "      <th>CD_TO_TOTAL_ASSET</th>\n",
       "      <th>LIQASSET2TOTALASSET</th>\n",
       "      <th>LIQASSET2DEPOSIT</th>\n",
       "      <th>TOTAL_DEPOSITS</th>\n",
       "      <th>Y</th>\n",
       "    </tr>\n",
       "  </thead>\n",
       "  <tbody>\n",
       "    <tr>\n",
       "      <th>0</th>\n",
       "      <td>1.154086</td>\n",
       "      <td>-0.501557</td>\n",
       "      <td>-0.413363</td>\n",
       "      <td>-0.116690</td>\n",
       "      <td>-0.388823</td>\n",
       "      <td>-0.228397</td>\n",
       "      <td>-0.128209</td>\n",
       "      <td>0.689414</td>\n",
       "      <td>-0.011435</td>\n",
       "      <td>0.198678</td>\n",
       "      <td>2</td>\n",
       "    </tr>\n",
       "    <tr>\n",
       "      <th>1</th>\n",
       "      <td>0.766486</td>\n",
       "      <td>0.281824</td>\n",
       "      <td>1.472755</td>\n",
       "      <td>-0.089521</td>\n",
       "      <td>1.622116</td>\n",
       "      <td>0.021179</td>\n",
       "      <td>-0.581599</td>\n",
       "      <td>-0.617919</td>\n",
       "      <td>-0.011435</td>\n",
       "      <td>-0.074467</td>\n",
       "      <td>4</td>\n",
       "    </tr>\n",
       "    <tr>\n",
       "      <th>2</th>\n",
       "      <td>0.775460</td>\n",
       "      <td>0.184514</td>\n",
       "      <td>1.727471</td>\n",
       "      <td>-0.087094</td>\n",
       "      <td>1.882613</td>\n",
       "      <td>0.071434</td>\n",
       "      <td>-0.459371</td>\n",
       "      <td>-0.735481</td>\n",
       "      <td>-0.011435</td>\n",
       "      <td>0.039700</td>\n",
       "      <td>5</td>\n",
       "    </tr>\n",
       "    <tr>\n",
       "      <th>3</th>\n",
       "      <td>-1.238104</td>\n",
       "      <td>1.527523</td>\n",
       "      <td>-0.703836</td>\n",
       "      <td>-0.111406</td>\n",
       "      <td>-0.721601</td>\n",
       "      <td>-0.380212</td>\n",
       "      <td>-0.765913</td>\n",
       "      <td>1.063540</td>\n",
       "      <td>-0.011435</td>\n",
       "      <td>-0.526334</td>\n",
       "      <td>1</td>\n",
       "    </tr>\n",
       "    <tr>\n",
       "      <th>4</th>\n",
       "      <td>0.238661</td>\n",
       "      <td>-0.010650</td>\n",
       "      <td>0.263193</td>\n",
       "      <td>-0.082750</td>\n",
       "      <td>0.552617</td>\n",
       "      <td>0.002379</td>\n",
       "      <td>-0.100279</td>\n",
       "      <td>0.421840</td>\n",
       "      <td>-0.011435</td>\n",
       "      <td>-0.125650</td>\n",
       "      <td>1</td>\n",
       "    </tr>\n",
       "    <tr>\n",
       "      <th>...</th>\n",
       "      <td>...</td>\n",
       "      <td>...</td>\n",
       "      <td>...</td>\n",
       "      <td>...</td>\n",
       "      <td>...</td>\n",
       "      <td>...</td>\n",
       "      <td>...</td>\n",
       "      <td>...</td>\n",
       "      <td>...</td>\n",
       "      <td>...</td>\n",
       "      <td>...</td>\n",
       "    </tr>\n",
       "    <tr>\n",
       "      <th>15010</th>\n",
       "      <td>0.810289</td>\n",
       "      <td>-0.177204</td>\n",
       "      <td>1.409034</td>\n",
       "      <td>-0.091895</td>\n",
       "      <td>1.606002</td>\n",
       "      <td>0.071716</td>\n",
       "      <td>-0.549042</td>\n",
       "      <td>-0.657968</td>\n",
       "      <td>-0.011435</td>\n",
       "      <td>0.090511</td>\n",
       "      <td>5</td>\n",
       "    </tr>\n",
       "    <tr>\n",
       "      <th>15011</th>\n",
       "      <td>-0.106960</td>\n",
       "      <td>1.426208</td>\n",
       "      <td>-0.343692</td>\n",
       "      <td>-0.098138</td>\n",
       "      <td>-0.392922</td>\n",
       "      <td>0.057141</td>\n",
       "      <td>0.084883</td>\n",
       "      <td>0.557514</td>\n",
       "      <td>-0.011435</td>\n",
       "      <td>-0.214800</td>\n",
       "      <td>1</td>\n",
       "    </tr>\n",
       "    <tr>\n",
       "      <th>15012</th>\n",
       "      <td>0.795452</td>\n",
       "      <td>0.439736</td>\n",
       "      <td>1.670851</td>\n",
       "      <td>-0.084162</td>\n",
       "      <td>1.517931</td>\n",
       "      <td>-0.003914</td>\n",
       "      <td>-0.396499</td>\n",
       "      <td>-0.535940</td>\n",
       "      <td>-0.011435</td>\n",
       "      <td>-0.100873</td>\n",
       "      <td>4</td>\n",
       "    </tr>\n",
       "    <tr>\n",
       "      <th>15013</th>\n",
       "      <td>-0.576147</td>\n",
       "      <td>0.573979</td>\n",
       "      <td>-0.206170</td>\n",
       "      <td>0.009603</td>\n",
       "      <td>-0.153401</td>\n",
       "      <td>-0.203590</td>\n",
       "      <td>-0.751985</td>\n",
       "      <td>0.439794</td>\n",
       "      <td>-0.011435</td>\n",
       "      <td>-0.486559</td>\n",
       "      <td>2</td>\n",
       "    </tr>\n",
       "    <tr>\n",
       "      <th>15014</th>\n",
       "      <td>-0.956155</td>\n",
       "      <td>1.744060</td>\n",
       "      <td>-0.673259</td>\n",
       "      <td>-0.103623</td>\n",
       "      <td>-0.634346</td>\n",
       "      <td>0.196260</td>\n",
       "      <td>0.267726</td>\n",
       "      <td>0.105717</td>\n",
       "      <td>-0.011435</td>\n",
       "      <td>-0.408799</td>\n",
       "      <td>2</td>\n",
       "    </tr>\n",
       "  </tbody>\n",
       "</table>\n",
       "<p>15015 rows × 11 columns</p>\n",
       "</div>"
      ],
      "text/plain": [
       "       BANKSIZE        LR  EWAQ_NPLsNetOfProvisions  \\\n",
       "0      1.154086 -0.501557                 -0.413363   \n",
       "1      0.766486  0.281824                  1.472755   \n",
       "2      0.775460  0.184514                  1.727471   \n",
       "3     -1.238104  1.527523                 -0.703836   \n",
       "4      0.238661 -0.010650                  0.263193   \n",
       "...         ...       ...                       ...   \n",
       "15010  0.810289 -0.177204                  1.409034   \n",
       "15011 -0.106960  1.426208                 -0.343692   \n",
       "15012  0.795452  0.439736                  1.670851   \n",
       "15013 -0.576147  0.573979                 -0.206170   \n",
       "15014 -0.956155  1.744060                 -0.673259   \n",
       "\n",
       "       EWAQ_NPLsNetOfProvisions2CoreCapital  EWAQ_NPL  \\\n",
       "0                                 -0.116690 -0.388823   \n",
       "1                                 -0.089521  1.622116   \n",
       "2                                 -0.087094  1.882613   \n",
       "3                                 -0.111406 -0.721601   \n",
       "4                                 -0.082750  0.552617   \n",
       "...                                     ...       ...   \n",
       "15010                             -0.091895  1.606002   \n",
       "15011                             -0.098138 -0.392922   \n",
       "15012                             -0.084162  1.517931   \n",
       "15013                              0.009603 -0.153401   \n",
       "15014                             -0.103623 -0.634346   \n",
       "\n",
       "       ExcessShortTLiab2LongTAsset  CD_TO_TOTAL_ASSET  LIQASSET2TOTALASSET  \\\n",
       "0                        -0.228397          -0.128209             0.689414   \n",
       "1                         0.021179          -0.581599            -0.617919   \n",
       "2                         0.071434          -0.459371            -0.735481   \n",
       "3                        -0.380212          -0.765913             1.063540   \n",
       "4                         0.002379          -0.100279             0.421840   \n",
       "...                            ...                ...                  ...   \n",
       "15010                     0.071716          -0.549042            -0.657968   \n",
       "15011                     0.057141           0.084883             0.557514   \n",
       "15012                    -0.003914          -0.396499            -0.535940   \n",
       "15013                    -0.203590          -0.751985             0.439794   \n",
       "15014                     0.196260           0.267726             0.105717   \n",
       "\n",
       "       LIQASSET2DEPOSIT  TOTAL_DEPOSITS  Y  \n",
       "0             -0.011435        0.198678  2  \n",
       "1             -0.011435       -0.074467  4  \n",
       "2             -0.011435        0.039700  5  \n",
       "3             -0.011435       -0.526334  1  \n",
       "4             -0.011435       -0.125650  1  \n",
       "...                 ...             ... ..  \n",
       "15010         -0.011435        0.090511  5  \n",
       "15011         -0.011435       -0.214800  1  \n",
       "15012         -0.011435       -0.100873  4  \n",
       "15013         -0.011435       -0.486559  2  \n",
       "15014         -0.011435       -0.408799  2  \n",
       "\n",
       "[15015 rows x 11 columns]"
      ]
     },
     "execution_count": 79,
     "metadata": {},
     "output_type": "execute_result"
    }
   ],
   "source": [
    "#merge testing data\n",
    "test_data = df_X_testUS\n",
    "test_data['Y'] = df_Y_testUS['XX_MLA_CLASS2']\n",
    "test_data"
   ]
  },
  {
   "cell_type": "code",
   "execution_count": 80,
   "metadata": {},
   "outputs": [
    {
     "data": {
      "text/html": [
       "<div>\n",
       "<style scoped>\n",
       "    .dataframe tbody tr th:only-of-type {\n",
       "        vertical-align: middle;\n",
       "    }\n",
       "\n",
       "    .dataframe tbody tr th {\n",
       "        vertical-align: top;\n",
       "    }\n",
       "\n",
       "    .dataframe thead th {\n",
       "        text-align: right;\n",
       "    }\n",
       "</style>\n",
       "<table border=\"1\" class=\"dataframe\">\n",
       "  <thead>\n",
       "    <tr style=\"text-align: right;\">\n",
       "      <th></th>\n",
       "      <th>REPORTINGDATE</th>\n",
       "      <th>INSTITUTIONCODE</th>\n",
       "      <th>BANKSIZE</th>\n",
       "      <th>LR</th>\n",
       "      <th>EWAQ_NPLsNetOfProvisions</th>\n",
       "      <th>EWAQ_NPLsNetOfProvisions2CoreCapital</th>\n",
       "      <th>EWAQ_NPL</th>\n",
       "      <th>ExcessShortTLiab2LongTAsset</th>\n",
       "      <th>CD_TO_TOTAL_ASSET</th>\n",
       "      <th>LIQASSET2TOTALASSET</th>\n",
       "      <th>LIQASSET2DEPOSIT</th>\n",
       "      <th>TOTAL_DEPOSITS</th>\n",
       "      <th>Y</th>\n",
       "    </tr>\n",
       "  </thead>\n",
       "  <tbody>\n",
       "    <tr>\n",
       "      <th>0</th>\n",
       "      <td>2015-06-26</td>\n",
       "      <td>B5512</td>\n",
       "      <td>1.154086</td>\n",
       "      <td>-0.501557</td>\n",
       "      <td>-0.413363</td>\n",
       "      <td>-0.116690</td>\n",
       "      <td>-0.388823</td>\n",
       "      <td>-0.228397</td>\n",
       "      <td>-0.128209</td>\n",
       "      <td>0.689414</td>\n",
       "      <td>-0.011435</td>\n",
       "      <td>0.198678</td>\n",
       "      <td>2</td>\n",
       "    </tr>\n",
       "    <tr>\n",
       "      <th>1</th>\n",
       "      <td>NaN</td>\n",
       "      <td>NaN</td>\n",
       "      <td>0.766486</td>\n",
       "      <td>0.281824</td>\n",
       "      <td>1.472755</td>\n",
       "      <td>-0.089521</td>\n",
       "      <td>1.622116</td>\n",
       "      <td>0.021179</td>\n",
       "      <td>-0.581599</td>\n",
       "      <td>-0.617919</td>\n",
       "      <td>-0.011435</td>\n",
       "      <td>-0.074467</td>\n",
       "      <td>4</td>\n",
       "    </tr>\n",
       "    <tr>\n",
       "      <th>2</th>\n",
       "      <td>NaN</td>\n",
       "      <td>NaN</td>\n",
       "      <td>0.775460</td>\n",
       "      <td>0.184514</td>\n",
       "      <td>1.727471</td>\n",
       "      <td>-0.087094</td>\n",
       "      <td>1.882613</td>\n",
       "      <td>0.071434</td>\n",
       "      <td>-0.459371</td>\n",
       "      <td>-0.735481</td>\n",
       "      <td>-0.011435</td>\n",
       "      <td>0.039700</td>\n",
       "      <td>5</td>\n",
       "    </tr>\n",
       "    <tr>\n",
       "      <th>3</th>\n",
       "      <td>2017-07-28</td>\n",
       "      <td>B5215</td>\n",
       "      <td>-1.238104</td>\n",
       "      <td>1.527523</td>\n",
       "      <td>-0.703836</td>\n",
       "      <td>-0.111406</td>\n",
       "      <td>-0.721601</td>\n",
       "      <td>-0.380212</td>\n",
       "      <td>-0.765913</td>\n",
       "      <td>1.063540</td>\n",
       "      <td>-0.011435</td>\n",
       "      <td>-0.526334</td>\n",
       "      <td>1</td>\n",
       "    </tr>\n",
       "    <tr>\n",
       "      <th>4</th>\n",
       "      <td>2020-06-26</td>\n",
       "      <td>B5418</td>\n",
       "      <td>0.238661</td>\n",
       "      <td>-0.010650</td>\n",
       "      <td>0.263193</td>\n",
       "      <td>-0.082750</td>\n",
       "      <td>0.552617</td>\n",
       "      <td>0.002379</td>\n",
       "      <td>-0.100279</td>\n",
       "      <td>0.421840</td>\n",
       "      <td>-0.011435</td>\n",
       "      <td>-0.125650</td>\n",
       "      <td>1</td>\n",
       "    </tr>\n",
       "    <tr>\n",
       "      <th>...</th>\n",
       "      <td>...</td>\n",
       "      <td>...</td>\n",
       "      <td>...</td>\n",
       "      <td>...</td>\n",
       "      <td>...</td>\n",
       "      <td>...</td>\n",
       "      <td>...</td>\n",
       "      <td>...</td>\n",
       "      <td>...</td>\n",
       "      <td>...</td>\n",
       "      <td>...</td>\n",
       "      <td>...</td>\n",
       "      <td>...</td>\n",
       "    </tr>\n",
       "    <tr>\n",
       "      <th>15010</th>\n",
       "      <td>NaN</td>\n",
       "      <td>NaN</td>\n",
       "      <td>0.810289</td>\n",
       "      <td>-0.177204</td>\n",
       "      <td>1.409034</td>\n",
       "      <td>-0.091895</td>\n",
       "      <td>1.606002</td>\n",
       "      <td>0.071716</td>\n",
       "      <td>-0.549042</td>\n",
       "      <td>-0.657968</td>\n",
       "      <td>-0.011435</td>\n",
       "      <td>0.090511</td>\n",
       "      <td>5</td>\n",
       "    </tr>\n",
       "    <tr>\n",
       "      <th>15011</th>\n",
       "      <td>2018-05-18</td>\n",
       "      <td>B5216</td>\n",
       "      <td>-0.106960</td>\n",
       "      <td>1.426208</td>\n",
       "      <td>-0.343692</td>\n",
       "      <td>-0.098138</td>\n",
       "      <td>-0.392922</td>\n",
       "      <td>0.057141</td>\n",
       "      <td>0.084883</td>\n",
       "      <td>0.557514</td>\n",
       "      <td>-0.011435</td>\n",
       "      <td>-0.214800</td>\n",
       "      <td>1</td>\n",
       "    </tr>\n",
       "    <tr>\n",
       "      <th>15012</th>\n",
       "      <td>NaN</td>\n",
       "      <td>NaN</td>\n",
       "      <td>0.795452</td>\n",
       "      <td>0.439736</td>\n",
       "      <td>1.670851</td>\n",
       "      <td>-0.084162</td>\n",
       "      <td>1.517931</td>\n",
       "      <td>-0.003914</td>\n",
       "      <td>-0.396499</td>\n",
       "      <td>-0.535940</td>\n",
       "      <td>-0.011435</td>\n",
       "      <td>-0.100873</td>\n",
       "      <td>4</td>\n",
       "    </tr>\n",
       "    <tr>\n",
       "      <th>15013</th>\n",
       "      <td>2019-04-26</td>\n",
       "      <td>B5717</td>\n",
       "      <td>-0.576147</td>\n",
       "      <td>0.573979</td>\n",
       "      <td>-0.206170</td>\n",
       "      <td>0.009603</td>\n",
       "      <td>-0.153401</td>\n",
       "      <td>-0.203590</td>\n",
       "      <td>-0.751985</td>\n",
       "      <td>0.439794</td>\n",
       "      <td>-0.011435</td>\n",
       "      <td>-0.486559</td>\n",
       "      <td>2</td>\n",
       "    </tr>\n",
       "    <tr>\n",
       "      <th>15014</th>\n",
       "      <td>2018-03-02</td>\n",
       "      <td>B5016</td>\n",
       "      <td>-0.956155</td>\n",
       "      <td>1.744060</td>\n",
       "      <td>-0.673259</td>\n",
       "      <td>-0.103623</td>\n",
       "      <td>-0.634346</td>\n",
       "      <td>0.196260</td>\n",
       "      <td>0.267726</td>\n",
       "      <td>0.105717</td>\n",
       "      <td>-0.011435</td>\n",
       "      <td>-0.408799</td>\n",
       "      <td>2</td>\n",
       "    </tr>\n",
       "  </tbody>\n",
       "</table>\n",
       "<p>15015 rows × 13 columns</p>\n",
       "</div>"
      ],
      "text/plain": [
       "      REPORTINGDATE INSTITUTIONCODE  BANKSIZE        LR  \\\n",
       "0        2015-06-26           B5512  1.154086 -0.501557   \n",
       "1               NaN             NaN  0.766486  0.281824   \n",
       "2               NaN             NaN  0.775460  0.184514   \n",
       "3        2017-07-28           B5215 -1.238104  1.527523   \n",
       "4        2020-06-26           B5418  0.238661 -0.010650   \n",
       "...             ...             ...       ...       ...   \n",
       "15010           NaN             NaN  0.810289 -0.177204   \n",
       "15011    2018-05-18           B5216 -0.106960  1.426208   \n",
       "15012           NaN             NaN  0.795452  0.439736   \n",
       "15013    2019-04-26           B5717 -0.576147  0.573979   \n",
       "15014    2018-03-02           B5016 -0.956155  1.744060   \n",
       "\n",
       "       EWAQ_NPLsNetOfProvisions  EWAQ_NPLsNetOfProvisions2CoreCapital  \\\n",
       "0                     -0.413363                             -0.116690   \n",
       "1                      1.472755                             -0.089521   \n",
       "2                      1.727471                             -0.087094   \n",
       "3                     -0.703836                             -0.111406   \n",
       "4                      0.263193                             -0.082750   \n",
       "...                         ...                                   ...   \n",
       "15010                  1.409034                             -0.091895   \n",
       "15011                 -0.343692                             -0.098138   \n",
       "15012                  1.670851                             -0.084162   \n",
       "15013                 -0.206170                              0.009603   \n",
       "15014                 -0.673259                             -0.103623   \n",
       "\n",
       "       EWAQ_NPL  ExcessShortTLiab2LongTAsset  CD_TO_TOTAL_ASSET  \\\n",
       "0     -0.388823                    -0.228397          -0.128209   \n",
       "1      1.622116                     0.021179          -0.581599   \n",
       "2      1.882613                     0.071434          -0.459371   \n",
       "3     -0.721601                    -0.380212          -0.765913   \n",
       "4      0.552617                     0.002379          -0.100279   \n",
       "...         ...                          ...                ...   \n",
       "15010  1.606002                     0.071716          -0.549042   \n",
       "15011 -0.392922                     0.057141           0.084883   \n",
       "15012  1.517931                    -0.003914          -0.396499   \n",
       "15013 -0.153401                    -0.203590          -0.751985   \n",
       "15014 -0.634346                     0.196260           0.267726   \n",
       "\n",
       "       LIQASSET2TOTALASSET  LIQASSET2DEPOSIT  TOTAL_DEPOSITS  Y  \n",
       "0                 0.689414         -0.011435        0.198678  2  \n",
       "1                -0.617919         -0.011435       -0.074467  4  \n",
       "2                -0.735481         -0.011435        0.039700  5  \n",
       "3                 1.063540         -0.011435       -0.526334  1  \n",
       "4                 0.421840         -0.011435       -0.125650  1  \n",
       "...                    ...               ...             ... ..  \n",
       "15010            -0.657968         -0.011435        0.090511  5  \n",
       "15011             0.557514         -0.011435       -0.214800  1  \n",
       "15012            -0.535940         -0.011435       -0.100873  4  \n",
       "15013             0.439794         -0.011435       -0.486559  2  \n",
       "15014             0.105717         -0.011435       -0.408799  2  \n",
       "\n",
       "[15015 rows x 13 columns]"
      ]
     },
     "execution_count": 80,
     "metadata": {},
     "output_type": "execute_result"
    }
   ],
   "source": [
    "#merge practical benchmarking data\n",
    "benchmark_data = df_X_testUS_bm2\n",
    "benchmark_data['Y'] = df_Y_testUS_bm2['XX_MLA_CLASS2']\n",
    "benchmark_data "
   ]
  },
  {
   "cell_type": "markdown",
   "metadata": {},
   "source": [
    "<!-- #### Logistic Regression After Treating Data Imbalances -->"
   ]
  },
  {
   "cell_type": "markdown",
   "metadata": {},
   "source": [
    "#### Random Forest After Treating Data Imbalances"
   ]
  },
  {
   "cell_type": "code",
   "execution_count": 81,
   "metadata": {
    "id": "FVaBcOiAUjdP"
   },
   "outputs": [],
   "source": [
    "#num_estimators = 199\n",
    "\n",
    "# train model\n",
    "rfcUS = RandomForestClassifier(n_estimators=num_estimators).fit(X_trainUS, y_trainUS)\n",
    "\n",
    "# save the model to disk\n",
    "rfcUS_filename = config.rfcUS\n",
    "with open(rfcUS_filename, 'wb') as rfcUS_file:\n",
    "    pickle.dump(rfcUS, rfcUS_file)\n",
    "\n",
    "# load the model from disk\n",
    "with open(rfcUS_filename, 'rb') as rfcUS_file:\n",
    "    rfcUS = pickle.load(rfcUS_file)\n",
    "\n",
    "# predict on test set\n",
    "rfcUS_pred = rfcUS.predict(X_testUS)\n",
    "\n",
    "rfcUS_accuracy = accuracy_score(y_testUS, rfcUS_pred)\n",
    "\n",
    "rfcUS_precision = precision_score(y_testUS, rfcUS_pred,average='weighted')\n",
    "\n",
    "rfcUS_f1_score = f1_score(y_testUS, rfcUS_pred,average='weighted')\n",
    "\n",
    "rfcUS_recall = recall_score(y_testUS, rfcUS_pred,average='weighted')\n",
    "\n"
   ]
  },
  {
   "cell_type": "markdown",
   "metadata": {
    "id": "Ihh12o6wvAdH"
   },
   "source": [
    "#### MLP ANN After Treating Data Imbalances"
   ]
  },
  {
   "cell_type": "code",
   "execution_count": 82,
   "metadata": {},
   "outputs": [],
   "source": [
    "#selection of MLP model and parameters for training and testing\n",
    "# modelMLPUS = MLP_model_M6  #.95 accuracy\n",
    "# number_of_neurons = neurons_M6\n",
    "modelMLPUS = model_selection   \n",
    "number_of_neurons = num_neurons\n",
    "\n",
    "\n",
    "#model architecture\n",
    "arch = \"10-\"\n",
    "for i in range(len(number_of_neurons)):\n",
    "    arch = \"{}{}-\".format(arch,str(number_of_neurons[i]))\n",
    "arch = arch + str(\"6\")\n",
    "\n",
    "\n",
    "dropout = 'None'\n",
    "if num_model == 1:\n",
    "    model_selection = MLP_model_M1   \n",
    "    num_neurons = neurons_M1 \n",
    "    optimization_function = 'sgd'   #adam or SGD etc\n",
    "if num_model == 2:\n",
    "    model_selection = MLP_model_M2   \n",
    "    num_neurons = neurons_M2\n",
    "    optimization_function = 'sgd'   #adam or SGD etc\n",
    "if num_model == 3:\n",
    "    model_selection = MLP_model_M3   \n",
    "    num_neurons = neurons_M3\n",
    "    optimization_function = 'sgd'   #adam or SGD etc\n",
    "if num_model == 4:\n",
    "    model_selection = MLP_model_M4   \n",
    "    num_neurons = neurons_M4\n",
    "    optimization_function = 'sgd'   #adam or SGD etc\n",
    "if num_model == 5:\n",
    "    model_selection = MLP_model_M5   \n",
    "    num_neurons = neurons_M5 \n",
    "    optimization_function = 'sgd'   #adam or SGD etc\n",
    "if num_model == 6:\n",
    "    model_selection = MLP_model_M6   \n",
    "    num_neurons = neurons_M6 \n",
    "    optimization_function = 'adam'   #adam or SGD etc    \n",
    "if num_model == 7:\n",
    "    model_selection = MLP_model_M7   \n",
    "    num_neurons = neurons_M7\n",
    "    optimization_function = 'adam'   #adam or SGD etc  \n",
    "if num_model == 8:\n",
    "    model_selection = MLP_model_M8   \n",
    "    num_neurons = neurons_M8 \n",
    "    optimization_function = 'adam'   #adam or SGD etc  \n",
    "    dropout = '0.2'\n",
    "if num_model == 9:\n",
    "    model_selection = MLP_model_M9   \n",
    "    num_neurons = neurons_M9 \n",
    "    optimization_function = 'adam'   #adam or SGD etc \n",
    "var_optimizer = optimization_function\n",
    "var_loss = loss_function\n",
    "var_arch = 'Model M{}: {} Dropout {}'.format(num_model,arch,dropout)\n",
    "var_epochs = number_of_epochs\n",
    "var_validation_split = training_validation_split\n",
    "\n",
    "var_remarks_MLP = 'MLP Architecture:{}, Loss:{}, Optimizer:{}, epochs:{}, validation_split:{}'.format(var_arch, \n",
    "                                                                                   var_loss,\n",
    "                                                                                   var_optimizer.upper(),\n",
    "                                                                                   str(var_epochs),\n",
    "                                                                                   str(var_validation_split))\n",
    "\n",
    "\n",
    "modelMLPUS.compile(loss = var_loss,optimizer = var_optimizer,metrics = ['accuracy'])"
   ]
  },
  {
   "cell_type": "code",
   "execution_count": 83,
   "metadata": {},
   "outputs": [
    {
     "name": "stdout",
     "output_type": "stream",
     "text": [
      "Epoch 1/30\n",
      "667/667 [==============================] - 3s 3ms/step - loss: 0.4514 - accuracy: 0.8292 - val_loss: 0.3613 - val_accuracy: 0.8561\n",
      "Epoch 2/30\n",
      "667/667 [==============================] - 2s 2ms/step - loss: 0.2742 - accuracy: 0.8899 - val_loss: 0.2575 - val_accuracy: 0.8932\n",
      "Epoch 3/30\n",
      "667/667 [==============================] - 2s 2ms/step - loss: 0.2482 - accuracy: 0.9001 - val_loss: 0.2036 - val_accuracy: 0.9173\n",
      "Epoch 4/30\n",
      "667/667 [==============================] - 2s 2ms/step - loss: 0.2306 - accuracy: 0.9081 - val_loss: 0.2581 - val_accuracy: 0.8942\n",
      "Epoch 5/30\n",
      "667/667 [==============================] - 2s 2ms/step - loss: 0.2255 - accuracy: 0.9106 - val_loss: 0.2067 - val_accuracy: 0.9154\n",
      "Epoch 6/30\n",
      "667/667 [==============================] - 2s 2ms/step - loss: 0.2030 - accuracy: 0.9182 - val_loss: 0.1949 - val_accuracy: 0.9218\n",
      "Epoch 7/30\n",
      "667/667 [==============================] - 2s 2ms/step - loss: 0.1928 - accuracy: 0.9224 - val_loss: 0.2034 - val_accuracy: 0.9252\n",
      "Epoch 8/30\n",
      "667/667 [==============================] - 2s 2ms/step - loss: 0.1892 - accuracy: 0.9246 - val_loss: 0.1814 - val_accuracy: 0.9276\n",
      "Epoch 9/30\n",
      "667/667 [==============================] - 2s 2ms/step - loss: 0.1783 - accuracy: 0.9289 - val_loss: 0.1693 - val_accuracy: 0.9297\n",
      "Epoch 10/30\n",
      "667/667 [==============================] - 2s 2ms/step - loss: 0.1730 - accuracy: 0.9313 - val_loss: 0.1904 - val_accuracy: 0.9295\n",
      "Epoch 11/30\n",
      "667/667 [==============================] - 2s 2ms/step - loss: 0.1710 - accuracy: 0.9312 - val_loss: 0.2108 - val_accuracy: 0.9204\n",
      "Epoch 12/30\n",
      "667/667 [==============================] - 2s 2ms/step - loss: 0.1675 - accuracy: 0.9324 - val_loss: 0.1711 - val_accuracy: 0.9302\n",
      "Epoch 13/30\n",
      "667/667 [==============================] - 2s 2ms/step - loss: 0.1604 - accuracy: 0.9365 - val_loss: 0.1722 - val_accuracy: 0.9267\n",
      "Epoch 14/30\n",
      "667/667 [==============================] - 2s 2ms/step - loss: 0.1529 - accuracy: 0.9395 - val_loss: 0.2022 - val_accuracy: 0.9207\n",
      "Epoch 15/30\n",
      "667/667 [==============================] - 2s 2ms/step - loss: 0.1464 - accuracy: 0.9409 - val_loss: 0.1519 - val_accuracy: 0.9395\n",
      "Epoch 16/30\n",
      "667/667 [==============================] - 2s 2ms/step - loss: 0.1480 - accuracy: 0.9401 - val_loss: 0.2402 - val_accuracy: 0.9082\n",
      "Epoch 17/30\n",
      "667/667 [==============================] - 2s 2ms/step - loss: 0.1470 - accuracy: 0.9420 - val_loss: 0.1478 - val_accuracy: 0.9384\n",
      "Epoch 18/30\n",
      "667/667 [==============================] - 2s 2ms/step - loss: 0.1405 - accuracy: 0.9452 - val_loss: 0.1530 - val_accuracy: 0.9417\n",
      "Epoch 19/30\n",
      "667/667 [==============================] - 2s 2ms/step - loss: 0.1420 - accuracy: 0.9431 - val_loss: 0.1497 - val_accuracy: 0.9375\n",
      "Epoch 20/30\n",
      "667/667 [==============================] - 2s 2ms/step - loss: 0.1311 - accuracy: 0.9458 - val_loss: 0.1367 - val_accuracy: 0.9498\n",
      "Epoch 21/30\n",
      "667/667 [==============================] - 2s 2ms/step - loss: 0.1320 - accuracy: 0.9470 - val_loss: 0.1676 - val_accuracy: 0.9311\n",
      "Epoch 22/30\n",
      "667/667 [==============================] - 2s 2ms/step - loss: 0.1259 - accuracy: 0.9492 - val_loss: 0.1820 - val_accuracy: 0.9349\n",
      "Epoch 23/30\n",
      "667/667 [==============================] - 2s 2ms/step - loss: 0.1244 - accuracy: 0.9490 - val_loss: 0.1290 - val_accuracy: 0.9504\n",
      "Epoch 24/30\n",
      "667/667 [==============================] - 2s 2ms/step - loss: 0.1246 - accuracy: 0.9502 - val_loss: 0.1643 - val_accuracy: 0.9406\n",
      "Epoch 25/30\n",
      "667/667 [==============================] - 2s 2ms/step - loss: 0.1263 - accuracy: 0.9489 - val_loss: 0.2245 - val_accuracy: 0.9159\n",
      "Epoch 26/30\n",
      "667/667 [==============================] - 2s 2ms/step - loss: 0.1206 - accuracy: 0.9519 - val_loss: 0.1527 - val_accuracy: 0.9427\n",
      "Epoch 27/30\n",
      "667/667 [==============================] - 2s 2ms/step - loss: 0.1149 - accuracy: 0.9532 - val_loss: 0.1630 - val_accuracy: 0.9370\n",
      "Epoch 28/30\n",
      "667/667 [==============================] - 2s 2ms/step - loss: 0.1121 - accuracy: 0.9554 - val_loss: 0.1246 - val_accuracy: 0.9518\n",
      "Epoch 29/30\n",
      "667/667 [==============================] - 2s 2ms/step - loss: 0.1119 - accuracy: 0.9547 - val_loss: 0.1236 - val_accuracy: 0.9544\n",
      "Epoch 30/30\n",
      "667/667 [==============================] - 2s 2ms/step - loss: 0.1192 - accuracy: 0.9525 - val_loss: 0.1569 - val_accuracy: 0.9427\n",
      "CPU times: user 2min 11s, sys: 27 s, total: 2min 38s\n",
      "Wall time: 49.8 s\n"
     ]
    }
   ],
   "source": [
    "%%time\n",
    "#Model training and validation\n",
    "t0 = time.time()\n",
    "modelMLP_history = modelMLPUS.fit(X_trainUS, y_trainUS,validation_split=var_validation_split,epochs = var_epochs)\n",
    "training_timeUS  = time.time()-t0   "
   ]
  },
  {
   "cell_type": "code",
   "execution_count": 84,
   "metadata": {
    "id": "A9Z_WCuIVHxb"
   },
   "outputs": [
    {
     "name": "stdout",
     "output_type": "stream",
     "text": [
      "Model: \"sequential_5\"\n",
      "_________________________________________________________________\n",
      " Layer (type)                Output Shape              Param #   \n",
      "=================================================================\n",
      " flatten_5 (Flatten)         (None, 10)                0         \n",
      "                                                                 \n",
      " dense_21 (Dense)            (None, 512)               5632      \n",
      "                                                                 \n",
      " dense_22 (Dense)            (None, 250)               128250    \n",
      "                                                                 \n",
      " dense_23 (Dense)            (None, 120)               30120     \n",
      "                                                                 \n",
      " dense_24 (Dense)            (None, 80)                9680      \n",
      "                                                                 \n",
      " dense_25 (Dense)            (None, 60)                4860      \n",
      "                                                                 \n",
      " dense_26 (Dense)            (None, 6)                 366       \n",
      "                                                                 \n",
      "=================================================================\n",
      "Total params: 178908 (698.86 KB)\n",
      "Trainable params: 178908 (698.86 KB)\n",
      "Non-trainable params: 0 (0.00 Byte)\n",
      "_________________________________________________________________\n"
     ]
    }
   ],
   "source": [
    "modelMLPUS.summary()"
   ]
  },
  {
   "cell_type": "code",
   "execution_count": 85,
   "metadata": {
    "id": "xLCoCN1evF_P"
   },
   "outputs": [
    {
     "name": "stderr",
     "output_type": "stream",
     "text": [
      "/usr/local/lib/python3.8/dist-packages/keras/src/engine/training.py:3000: UserWarning: You are saving your model as an HDF5 file via `model.save()`. This file format is considered legacy. We recommend using instead the native Keras format, e.g. `model.save('my_model.keras')`.\n",
      "  saving_api.save_model(\n"
     ]
    }
   ],
   "source": [
    "modelMLPUS.save(config.MLPUS)\n",
    "modelMLPUS = tf.keras.models.load_model(config.MLPUS)"
   ]
  },
  {
   "cell_type": "code",
   "execution_count": 86,
   "metadata": {},
   "outputs": [
    {
     "data": {
      "image/png": "[encoded data removed]",
      "text/plain": [
       "<Figure size 1000x400 with 2 Axes>"
      ]
     },
     "metadata": {},
     "output_type": "display_data"
    }
   ],
   "source": [
    "#Plots of MLP Training and Validation Before Dataset Balancing\n",
    "accuracyUS = modelMLP_history.history['accuracy']\n",
    "val_accuracyUS = modelMLP_history.history['val_accuracy']\n",
    "lossUS = modelMLP_history.history['loss']\n",
    "val_lossUS = modelMLP_history.history['val_loss']\n",
    "epochsUS  = range(len(accuracyUS))\n",
    "#fig = plt.figure() \n",
    "fig, (ax1, ax2) = plt.subplots(1, 2, figsize=(10,4))\n",
    "#fig, axes = plt.subplots(nrows = 6, ncols = 4, figsize=(15,12)) #, sharex=True, sharey = True)\n",
    "fig.suptitle('MLP Model M{} Training and Validation - Balanced Data'.format(num_model))\n",
    "ax1.plot(epochsUS, accuracyUS, label='Training')  \n",
    "ax1.plot(epochsUS, val_accuracyUS, label='Validation')\n",
    "ax1.set(xlabel='Number of Epochs', ylabel='Accuracy')\n",
    "ax1.set_title('Accuracy Evaluation')\n",
    "ax1.legend()\n",
    "ax2.plot(epochsUS, lossUS,label='Training')\n",
    "ax2.plot(epochsUS, val_lossUS,label='Validation')\n",
    "ax2.legend()\n",
    "ax2.set(xlabel='Number of Epochs', ylabel='Loss')\n",
    "ax2.set_title('Loss Evaluation')\n",
    "plt.subplots_adjust(left=0.1,\n",
    "                    bottom=0.1,\n",
    "                    right=0.9,\n",
    "                    top=0.9,\n",
    "                    wspace=0.3,\n",
    "                    hspace=1.0)\n",
    "plt.show()"
   ]
  },
  {
   "cell_type": "code",
   "execution_count": 87,
   "metadata": {},
   "outputs": [
    {
     "name": "stdout",
     "output_type": "stream",
     "text": [
      "Best Training accuracy: 0.954730749130249 \n",
      "Best Training validation accuracy: 0.9544063210487366 \n",
      "Mean Training accuracy: 0.8896952104499274 \n",
      "Mean Training validation accuracy: 0.8749027132987977 \n",
      "Mean Training loss: 0.29352220793565115 \n",
      "Mean Training validation loss: 0.32378973563512164\n",
      "Training time: 23.98640489578247 seconds\n"
     ]
    }
   ],
   "source": [
    "#Evaluating MLP M6 Training and Validation after Upsampling\n",
    "best_model_accuracy = modelMLP_history.history['accuracy'][np.argmin(modelMLP_history.history['loss'])]\n",
    "best_model_val_accuracy = modelMLP_history.history['val_accuracy'][np.argmin(modelMLP_history.history['val_loss'])]\n",
    "df_tmp_results.loc[df_tmp_results['sno']==sno_val, 'MLPUS_BestTrAcc'] = best_model_accuracy\n",
    "df_tmp_results.loc[df_tmp_results['sno']==sno_val, 'MLPUS_BestValAcc'] = best_model_val_accuracy\n",
    "df_tmp_results.loc[df_tmp_results['sno']==sno_val, 'MLPUS_TrAcc'] = np.mean(np.array(accuracyUS))\n",
    "df_tmp_results.loc[df_tmp_results['sno']==sno_val, 'MLPUS_TrLoss'] = np.mean(np.array(lossUS))\n",
    "df_tmp_results.loc[df_tmp_results['sno']==sno_val, 'MLPUS_ValAcc'] = np.mean(np.array(val_accuracyUS))\n",
    "df_tmp_results.loc[df_tmp_results['sno']==sno_val, 'MLPUS_ValLoss'] = np.mean(np.array(val_lossUS))\n",
    "df_tmp_results.loc[df_tmp_results['sno']==sno_val, 'MLPUS_TrTime'] = training_time\n",
    "\n",
    "\n",
    "\n",
    "print(\"Best Training accuracy: {} \\n\"\n",
    "      \"Best Training validation accuracy: {} \\n\"\n",
    "      \"Mean Training accuracy: {} \\n\"\n",
    "      \"Mean Training validation accuracy: {} \\n\"\n",
    "      \"Mean Training loss: {} \\n\"\n",
    "      \"Mean Training validation loss: {}\\n\"\n",
    "      \"Training time: {} seconds\"\n",
    "      .format(best_model_accuracy,\n",
    "              best_model_val_accuracy,\n",
    "              np.mean(np.array(accuracy)),\n",
    "              np.mean(np.array(val_accuracy)),\n",
    "              np.mean(np.array(loss)),\n",
    "              np.mean(np.array(val_loss)),\n",
    "              training_time\n",
    "             ))"
   ]
  },
  {
   "cell_type": "code",
   "execution_count": 88,
   "metadata": {
    "id": "JJtJurFoVKAr"
   },
   "outputs": [
    {
     "name": "stdout",
     "output_type": "stream",
     "text": [
      "470/470 [==============================] - 1s 1ms/step\n"
     ]
    }
   ],
   "source": [
    "# predict on test set\n",
    "ann_pred = modelMLPUS.predict(X_testUS)\n",
    "\n",
    "# predict crisp classes for test set (reduce 2D (actual+predicted) to 1D\n",
    "yhat_classes = np.argmax(ann_pred,axis=1) #model.predict_classes(X_test, verbose=0)\n",
    "\n",
    "\n",
    "# reduce to 1d array\n",
    "yhat_probs = ann_pred[:, 0]\n",
    "\n",
    "MLPUS_accuracy = accuracy_score(y_testUS, yhat_classes)\n",
    "\n",
    "MLPUS_precision = precision_score(y_testUS, yhat_classes, average='weighted')\n",
    "\n",
    "MLPUS_recall = recall_score(y_testUS, yhat_classes, average='weighted')\n",
    "\n",
    "MLPUS_f1 = f1_score(y_testUS, yhat_classes, average='weighted')\n",
    "\n",
    "# confusion matrix\n",
    "matrix = confusion_matrix(y_testUS, yhat_classes)\n",
    "\n"
   ]
  },
  {
   "cell_type": "markdown",
   "metadata": {},
   "source": [
    "#### Hybrid RF-MLP Model"
   ]
  },
  {
   "cell_type": "code",
   "execution_count": 89,
   "metadata": {},
   "outputs": [
    {
     "data": {
      "text/plain": [
       "(15015,)"
      ]
     },
     "execution_count": 89,
     "metadata": {},
     "output_type": "execute_result"
    }
   ],
   "source": [
    "y_testUSF = y_testUS.to_numpy().reshape(15015,)\n",
    "y_testUSF.shape"
   ]
  },
  {
   "cell_type": "code",
   "execution_count": 90,
   "metadata": {
    "id": "DOL5t-dPwyUC"
   },
   "outputs": [
    {
     "data": {
      "text/html": [
       "<div>\n",
       "<style scoped>\n",
       "    .dataframe tbody tr th:only-of-type {\n",
       "        vertical-align: middle;\n",
       "    }\n",
       "\n",
       "    .dataframe tbody tr th {\n",
       "        vertical-align: top;\n",
       "    }\n",
       "\n",
       "    .dataframe thead th {\n",
       "        text-align: right;\n",
       "    }\n",
       "</style>\n",
       "<table border=\"1\" class=\"dataframe\">\n",
       "  <thead>\n",
       "    <tr style=\"text-align: right;\">\n",
       "      <th></th>\n",
       "      <th>Y</th>\n",
       "      <th>RF</th>\n",
       "      <th>MLP</th>\n",
       "      <th>HML</th>\n",
       "    </tr>\n",
       "  </thead>\n",
       "  <tbody>\n",
       "    <tr>\n",
       "      <th>0</th>\n",
       "      <td>2</td>\n",
       "      <td>2</td>\n",
       "      <td>2</td>\n",
       "      <td>2</td>\n",
       "    </tr>\n",
       "    <tr>\n",
       "      <th>1</th>\n",
       "      <td>4</td>\n",
       "      <td>4</td>\n",
       "      <td>4</td>\n",
       "      <td>4</td>\n",
       "    </tr>\n",
       "    <tr>\n",
       "      <th>2</th>\n",
       "      <td>5</td>\n",
       "      <td>5</td>\n",
       "      <td>5</td>\n",
       "      <td>5</td>\n",
       "    </tr>\n",
       "    <tr>\n",
       "      <th>3</th>\n",
       "      <td>1</td>\n",
       "      <td>1</td>\n",
       "      <td>1</td>\n",
       "      <td>1</td>\n",
       "    </tr>\n",
       "    <tr>\n",
       "      <th>4</th>\n",
       "      <td>1</td>\n",
       "      <td>1</td>\n",
       "      <td>1</td>\n",
       "      <td>1</td>\n",
       "    </tr>\n",
       "  </tbody>\n",
       "</table>\n",
       "</div>"
      ],
      "text/plain": [
       "   Y  RF  MLP  HML\n",
       "0  2   2    2    2\n",
       "1  4   4    4    4\n",
       "2  5   5    5    5\n",
       "3  1   1    1    1\n",
       "4  1   1    1    1"
      ]
     },
     "execution_count": 90,
     "metadata": {},
     "output_type": "execute_result"
    }
   ],
   "source": [
    "# HML = pd.DataFrame()\n",
    "# if ((str(num_estimators) == str(199)) and (modelMLPUS == MLP_model_M6)):\n",
    "HML = pd.DataFrame({'Y': y_testUSF, 'RF': rfcUS_pred, 'MLP': yhat_classes}, columns=['Y','RF','MLP'])\n",
    "HML['HML']=HML.apply(lambda x: x.RF if x.RF>x.MLP else x.MLP,axis=1 )\n",
    "# else:\n",
    "#     HML = pd.DataFrame()\n",
    "\n",
    "HML.head()"
   ]
  },
  {
   "cell_type": "code",
   "execution_count": 91,
   "metadata": {},
   "outputs": [
    {
     "data": {
      "text/html": [
       "<div>\n",
       "<style scoped>\n",
       "    .dataframe tbody tr th:only-of-type {\n",
       "        vertical-align: middle;\n",
       "    }\n",
       "\n",
       "    .dataframe tbody tr th {\n",
       "        vertical-align: top;\n",
       "    }\n",
       "\n",
       "    .dataframe thead th {\n",
       "        text-align: right;\n",
       "    }\n",
       "</style>\n",
       "<table border=\"1\" class=\"dataframe\">\n",
       "  <thead>\n",
       "    <tr style=\"text-align: right;\">\n",
       "      <th></th>\n",
       "      <th>Y</th>\n",
       "      <th>RF</th>\n",
       "      <th>MLP</th>\n",
       "      <th>HML</th>\n",
       "    </tr>\n",
       "  </thead>\n",
       "  <tbody>\n",
       "    <tr>\n",
       "      <th>0</th>\n",
       "      <td>2</td>\n",
       "      <td>2</td>\n",
       "      <td>2</td>\n",
       "      <td>2</td>\n",
       "    </tr>\n",
       "    <tr>\n",
       "      <th>1</th>\n",
       "      <td>4</td>\n",
       "      <td>4</td>\n",
       "      <td>4</td>\n",
       "      <td>4</td>\n",
       "    </tr>\n",
       "    <tr>\n",
       "      <th>2</th>\n",
       "      <td>5</td>\n",
       "      <td>5</td>\n",
       "      <td>5</td>\n",
       "      <td>5</td>\n",
       "    </tr>\n",
       "    <tr>\n",
       "      <th>3</th>\n",
       "      <td>1</td>\n",
       "      <td>1</td>\n",
       "      <td>1</td>\n",
       "      <td>1</td>\n",
       "    </tr>\n",
       "    <tr>\n",
       "      <th>4</th>\n",
       "      <td>1</td>\n",
       "      <td>1</td>\n",
       "      <td>1</td>\n",
       "      <td>1</td>\n",
       "    </tr>\n",
       "  </tbody>\n",
       "</table>\n",
       "</div>"
      ],
      "text/plain": [
       "   Y  RF  MLP  HML\n",
       "0  2   2    2    2\n",
       "1  4   4    4    4\n",
       "2  5   5    5    5\n",
       "3  1   1    1    1\n",
       "4  1   1    1    1"
      ]
     },
     "execution_count": 91,
     "metadata": {},
     "output_type": "execute_result"
    }
   ],
   "source": [
    "\n",
    "HML.head()"
   ]
  },
  {
   "cell_type": "code",
   "execution_count": 92,
   "metadata": {},
   "outputs": [
    {
     "data": {
      "text/plain": [
       "array([2, 4, 5, ..., 4, 3, 2])"
      ]
     },
     "execution_count": 92,
     "metadata": {},
     "output_type": "execute_result"
    }
   ],
   "source": [
    "y_hml=HML['HML'].to_numpy().reshape(15015,)\n",
    "y_hml"
   ]
  },
  {
   "cell_type": "code",
   "execution_count": 93,
   "metadata": {},
   "outputs": [],
   "source": [
    "hml_accuracy = accuracy_score(y_testUS, y_hml)\n",
    "\n",
    "hml_precision = precision_score(y_testUS, y_hml,average='weighted')\n",
    "#0.9995\n",
    "hml_f1_score = f1_score(y_testUS, y_hml,average='weighted')\n",
    "#0.8666\n",
    "hml_recall = recall_score(y_testUS, y_hml,average='weighted')\n",
    "\n"
   ]
  },
  {
   "cell_type": "code",
   "execution_count": null,
   "metadata": {},
   "outputs": [],
   "source": []
  },
  {
   "cell_type": "markdown",
   "metadata": {},
   "source": [
    "### Models Performance Test Results"
   ]
  },
  {
   "cell_type": "markdown",
   "metadata": {},
   "source": [
    "#### Accuracy, Precision, F1 Score, Recall"
   ]
  },
  {
   "cell_type": "code",
   "execution_count": 94,
   "metadata": {},
   "outputs": [
    {
     "name": "stdout",
     "output_type": "stream",
     "text": [
      "Evaluating Random Forest R2 with 199 Estimators\n",
      " Confusion Matrix:\n",
      "[[2979  112    1    0    0]\n",
      " [  57 2826   49    0    0]\n",
      " [   3   59 2923    1    2]\n",
      " [   0    0    0 3009    0]\n",
      " [   0    0    0    0 2994]]\n",
      " ClassificationReport:\n",
      "              precision    recall  f1-score   support\n",
      "\n",
      "           1       0.98      0.96      0.97      3092\n",
      "           2       0.94      0.96      0.95      2932\n",
      "           3       0.98      0.98      0.98      2988\n",
      "           4       1.00      1.00      1.00      3009\n",
      "           5       1.00      1.00      1.00      2994\n",
      "\n",
      "    accuracy                           0.98     15015\n",
      "   macro avg       0.98      0.98      0.98     15015\n",
      "weighted avg       0.98      0.98      0.98     15015\n",
      "\n",
      " Random Forest Accuracy=0.9810855810855811 \n",
      " Precision =0.9812462010504919 \n",
      " F1 Score=0.981127296262813 \n",
      "Recall=0.9810855810855811\n"
     ]
    }
   ],
   "source": [
    "#Evaluating RF results\n",
    "df_tmp_results.loc[df_tmp_results['sno']==sno_val, 'RFUS_Acc'] = rfcUS_accuracy\n",
    "df_tmp_results.loc[df_tmp_results['sno']==sno_val, 'RFUS_Prec'] = rfcUS_precision\n",
    "df_tmp_results.loc[df_tmp_results['sno']==sno_val, 'RFUS_F1'] = rfcUS_f1_score\n",
    "df_tmp_results.loc[df_tmp_results['sno']==sno_val, 'RFUS_Recall'] = rfcUS_recall\n",
    "df_tmp_results.loc[df_tmp_results['sno']==sno_val, 'RF_Remarks'] = '{} estimators'.format(num_estimators)\n",
    "\n",
    "\n",
    "\n",
    "matrix = confusion_matrix(y_testUS,rfcUS_pred)\n",
    "classification_report_RFUS = classification_report(y_testUS,rfcUS_pred)\n",
    "#print results\n",
    "print(\"Evaluating Random Forest R2 with {} Estimators\\n Confusion Matrix:\\n{}\\n ClassificationReport:\\n{}\\n Random Forest Accuracy={} \\n Precision ={} \\n F1 Score={} \\nRecall={}\".format(str(num_estimators),matrix,\n",
    "                                                                                                                    classification_report_RFUS,\n",
    "                                                                                                                    rfcUS_accuracy,rfcUS_precision,rfcUS_f1_score,rfcUS_recall))\n",
    "\n",
    "\n",
    "\n"
   ]
  },
  {
   "cell_type": "code",
   "execution_count": null,
   "metadata": {},
   "outputs": [],
   "source": []
  },
  {
   "cell_type": "code",
   "execution_count": 95,
   "metadata": {},
   "outputs": [
    {
     "name": "stdout",
     "output_type": "stream",
     "text": [
      "Evaluating ANN \n",
      " Confusion Matrix: \n",
      "[[2979  112    1    0    0]\n",
      " [  57 2826   49    0    0]\n",
      " [   3   59 2923    1    2]\n",
      " [   0    0    0 3009    0]\n",
      " [   0    0    0    0 2994]]\n",
      " ClassificationReport:\n",
      "              precision    recall  f1-score   support\n",
      "\n",
      "           1       0.95      0.93      0.94      3092\n",
      "           2       0.87      0.90      0.88      2932\n",
      "           3       0.94      0.92      0.93      2988\n",
      "           4       0.96      0.99      0.97      3009\n",
      "           5       0.99      0.97      0.98      2994\n",
      "\n",
      "    accuracy                           0.94     15015\n",
      "   macro avg       0.94      0.94      0.94     15015\n",
      "weighted avg       0.94      0.94      0.94     15015\n",
      "\n",
      " MLP ANN Accuracy=0.9411255411255411 \n",
      " Precision =0.9415927644833889 \n",
      " F1 Score=0.9412261563142235 \n",
      "Recall=0.9411255411255411\n"
     ]
    }
   ],
   "source": [
    "#MLP Results\n",
    "df_tmp_results.loc[df_tmp_results['sno']==sno_val, 'MLPUS_Acc'] = MLPUS_accuracy\n",
    "df_tmp_results.loc[df_tmp_results['sno']==sno_val, 'MLPUS_Prec'] = MLPUS_precision\n",
    "df_tmp_results.loc[df_tmp_results['sno']==sno_val, 'MLPUS_F1'] = MLPUS_f1\n",
    "df_tmp_results.loc[df_tmp_results['sno']==sno_val, 'MLPUS_Recall'] = MLPUS_recall\n",
    "df_tmp_results.loc[df_tmp_results['sno']==sno_val, 'MLPUS_Remarks'] = var_remarks_MLP \n",
    "\n",
    "\n",
    "print(\"Evaluating ANN \\n Confusion Matrix: \\n{}\\n ClassificationReport:\\n{}\\n MLP ANN Accuracy={} \\n Precision ={} \\n F1 Score={} \\nRecall={}\".format(matrix,classification_report(y_testUS,yhat_classes),MLPUS_accuracy,MLPUS_precision,MLPUS_f1,MLPUS_recall))\n",
    "\n"
   ]
  },
  {
   "cell_type": "code",
   "execution_count": 96,
   "metadata": {},
   "outputs": [
    {
     "name": "stdout",
     "output_type": "stream",
     "text": [
      "Hybrid Machine Learning \n",
      " Confusion Matrix:\n",
      "[[2832  251    9    0    0]\n",
      " [  32 2719  181    0    0]\n",
      " [   3   35 2897   51    2]\n",
      " [   0    0    0 2981   28]\n",
      " [   0    0    0    0 2994]]\n",
      " ClassificationReport:\n",
      "              precision    recall  f1-score   support\n",
      "\n",
      "           1       0.99      0.92      0.95      3092\n",
      "           2       0.90      0.93      0.92      2932\n",
      "           3       0.94      0.97      0.95      2988\n",
      "           4       0.98      0.99      0.99      3009\n",
      "           5       0.99      1.00      1.00      2994\n",
      "\n",
      "    accuracy                           0.96     15015\n",
      "   macro avg       0.96      0.96      0.96     15015\n",
      "weighted avg       0.96      0.96      0.96     15015\n",
      "\n",
      " Hybrid ML Accuracy=0.9605727605727605 \n",
      " Precision =0.9613039471842804 \n",
      " F1 Score=0.9605736451923484 \n",
      "Recall=0.9605727605727605\n"
     ]
    }
   ],
   "source": [
    "#Hybrid RF-MLP\n",
    "df_tmp_results.loc[df_tmp_results['sno']==sno_val, 'HMLUS_Acc'] = hml_accuracy \n",
    "df_tmp_results.loc[df_tmp_results['sno']==sno_val, 'HMLUS_Prec'] = hml_precision\n",
    "df_tmp_results.loc[df_tmp_results['sno']==sno_val, 'HMLUS_F1'] = hml_f1_score\n",
    "df_tmp_results.loc[df_tmp_results['sno']==sno_val, 'HMLUS_Recall'] = hml_recall\n",
    "df_tmp_results.loc[df_tmp_results['sno']==sno_val, 'HMLUS_Remarks'] = \"Hybrid of R2(RF) and M6(MLP) Models\" \n",
    "\n",
    "print(\"Hybrid Machine Learning \\n Confusion Matrix:\\n{}\\n ClassificationReport:\\n{}\\n Hybrid ML Accuracy={} \\n Precision ={} \\n F1 Score={} \\nRecall={}\".format(confusion_matrix(y_testUS,y_hml),\n",
    "                                                                                                                     classification_report(y_testUS,y_hml),\n",
    "                                                                                                                     hml_accuracy,hml_precision,hml_f1_score,hml_recall))\n",
    "\n",
    "\n",
    "\n"
   ]
  },
  {
   "cell_type": "markdown",
   "metadata": {},
   "source": [
    "#### ROC Curve"
   ]
  },
  {
   "cell_type": "code",
   "execution_count": 97,
   "metadata": {},
   "outputs": [],
   "source": [
    "# ROC Curve\n",
    "def roc_auc(y_testUS,yhat_classes, model):\n",
    "    y_testUS_onehot=label_binarize(y_testUS, classes=[1,2,3,4,5])\n",
    "    yhat_classes_onehot=label_binarize(yhat_classes, classes=[1,2,3,4,5])\n",
    "    #y_testUS_onehot.shape\n",
    "    #y_testUS, yhat_classes\n",
    "    n_classes = yhat_classes_onehot.shape[1]\n",
    "    n_classes\n",
    "    fpr = dict()\n",
    "    tpr = dict()\n",
    "    roc_auc= dict()\n",
    "    lw = 2\n",
    "    for i in range(n_classes):\n",
    "        fpr[i], tpr[i],_ = roc_curve(y_testUS_onehot[:,i], yhat_classes_onehot[:,i])\n",
    "        roc_auc[i]=auc(fpr[i],tpr[i])        \n",
    "    colors = cycle(['blue','red','green','yellow','purple'])\n",
    "    #colors = ['blue','red','green','yellow','purple']\n",
    "    for i,color in zip(range(n_classes), colors):\n",
    "        plt.plot(fpr[i], tpr[i],color=color, lw=2,\n",
    "                label='ROC curve of class {0} (AUC ={1:0.2f})'.format(i+1,roc_auc[i]))\n",
    "    plt.plot([0, 1], [0, 1], 'k--', lw=lw)\n",
    "    plt.xlim([-0.05, 1.0])\n",
    "    plt.ylim([0.0, 1.05])\n",
    "    plt.xlabel('False Positive Rate')\n",
    "    plt.ylabel('True Positive Rate')\n",
    "    plt.title('ROC Curve for {} model'.format(model))\n",
    "    plt.legend(loc=\"lower right\")\n",
    "    plt.show()    \n",
    "\n",
    "def computeRoc_auc(y_testUS,yhat_classes, model):\n",
    "    y_testUS_onehot=label_binarize(y_testUS, classes=[1,2,3,4,5])\n",
    "    yhat_classes_onehot=label_binarize(yhat_classes, classes=[1,2,3,4,5])\n",
    "    #y_testUS_onehot.shape\n",
    "    #y_testUS, yhat_classes\n",
    "    n_classes = yhat_classes_onehot.shape[1]\n",
    "    n_classes\n",
    "    fpr = dict()\n",
    "    tpr = dict()\n",
    "    roc_auc= dict()\n",
    "    lw = 2\n",
    "    for i in range(n_classes):\n",
    "        fpr[i], tpr[i],_ = roc_curve(y_testUS_onehot[:,i], yhat_classes_onehot[:,i])\n",
    "         \n",
    "        if model == 'RF':\n",
    "            varname = 'RFUS_ROC_Class{}'.format(i+1)\n",
    "            df_tmp_results.loc[df_tmp_results['sno']==sno_val, varname] = roc_auc[i]=auc(fpr[i],tpr[i])\n",
    "        elif model == 'MLP':\n",
    "            varname = 'MLPUS_ROC_Class{}'.format(i+1)\n",
    "            df_tmp_results.loc[df_tmp_results['sno']==sno_val, varname] = roc_auc[i]=auc(fpr[i],tpr[i])\n",
    "        elif model == 'HML':\n",
    "            varname = 'HML_ROC_Class{}'.format(i+1)\n",
    "            df_tmp_results.loc[df_tmp_results['sno']==sno_val, varname] = roc_auc[i]=auc(fpr[i],tpr[i])\n",
    "computeRoc_auc(y_testUS,yhat_classes, 'MLP')\n",
    "computeRoc_auc(y_testUS,rfcUS_pred, 'RF')\n",
    "computeRoc_auc(y_testUS,y_hml, 'HML')\n",
    "\n",
    "#y_hml"
   ]
  },
  {
   "cell_type": "code",
   "execution_count": 98,
   "metadata": {},
   "outputs": [
    {
     "data": {
      "image/png": "[encoded data removed]",
      "text/plain": [
       "<Figure size 640x480 with 1 Axes>"
      ]
     },
     "metadata": {},
     "output_type": "display_data"
    }
   ],
   "source": [
    "#RF ROC\n",
    "roc_auc(y_testUS, rfcUS_pred, 'RF') "
   ]
  },
  {
   "cell_type": "code",
   "execution_count": 99,
   "metadata": {},
   "outputs": [
    {
     "data": {
      "image/png": "[encoded data removed]",
      "text/plain": [
       "<Figure size 640x480 with 1 Axes>"
      ]
     },
     "metadata": {},
     "output_type": "display_data"
    }
   ],
   "source": [
    "#MLP ROC\n",
    "roc_auc(y_testUS,yhat_classes, 'MLP')  "
   ]
  },
  {
   "cell_type": "code",
   "execution_count": 100,
   "metadata": {},
   "outputs": [
    {
     "data": {
      "image/png": "[encoded data removed]",
      "text/plain": [
       "<Figure size 640x480 with 1 Axes>"
      ]
     },
     "metadata": {},
     "output_type": "display_data"
    }
   ],
   "source": [
    "#HML ROC\n",
    "roc_auc(y_testUS,y_hml, 'HML') "
   ]
  },
  {
   "cell_type": "markdown",
   "metadata": {},
   "source": [
    "#### Cohen's Kappa"
   ]
  },
  {
   "cell_type": "code",
   "execution_count": 101,
   "metadata": {},
   "outputs": [
    {
     "name": "stdout",
     "output_type": "stream",
     "text": [
      "Cohens Kappa of RF is 0.976\n",
      "Cohens Kappa of MLP is 0.926\n",
      "Cohens Kappa of HML is 0.951\n"
     ]
    }
   ],
   "source": [
    "def cohens(y,yhat,model):\n",
    "    cohenskappa = cohen_kappa_score(y, yhat)\n",
    "    return 'Cohens Kappa of {} is {:.3f}'.format(model,cohenskappa)\n",
    "df_tmp_results.loc[df_tmp_results['sno']==sno_val, 'RFUS_CohensKappa'] = cohen_kappa_score(y_testUS, rfcUS_pred)\n",
    "df_tmp_results.loc[df_tmp_results['sno']==sno_val, 'MLPUS_CohensKappa'] = cohen_kappa_score(y_testUS, yhat_classes)   \n",
    "df_tmp_results.loc[df_tmp_results['sno']==sno_val, 'HMLUS_CohensKappa'] = cohen_kappa_score(y_testUS, y_hml) \n",
    "\n",
    "print(\"{}\\n{}\\n{}\".format(cohens(y_testUS, rfcUS_pred, 'RF'),\n",
    "                      cohens(y_testUS, yhat_classes, 'MLP'),\n",
    "                         cohens(y_testUS, y_hml, 'HML')))   "
   ]
  },
  {
   "cell_type": "markdown",
   "metadata": {},
   "source": [
    "#### Balanced Accuracy(BA)"
   ]
  },
  {
   "cell_type": "code",
   "execution_count": 102,
   "metadata": {},
   "outputs": [
    {
     "name": "stdout",
     "output_type": "stream",
     "text": [
      "BA of RF is 0.981\n",
      "BA of MLP is 0.941\n",
      "BA of HML is 0.961\n"
     ]
    }
   ],
   "source": [
    "#from sklearn.metrics import balanced_accuracy_score\n",
    "def balanced_accuracy(y,yhat,model):\n",
    "    BA = balanced_accuracy_score(y, yhat)\n",
    "    return 'BA of {} is {:.3f}'.format(model,BA)\n",
    "df_tmp_results.loc[df_tmp_results['sno']==sno_val, 'RFUS_BA'] = balanced_accuracy_score(y_testUS, rfcUS_pred)\n",
    "df_tmp_results.loc[df_tmp_results['sno']==sno_val, 'MLPUS_BA'] = balanced_accuracy_score(y_testUS, yhat_classes)\n",
    "df_tmp_results.loc[df_tmp_results['sno']==sno_val, 'HMLUS_BA'] = balanced_accuracy_score(y_testUS, y_hml)  \n",
    "\n",
    "print(\"{}\\n{}\\n{}\".format(balanced_accuracy(y_testUS,rfcUS_pred, 'RF'),\n",
    "                      balanced_accuracy(y_testUS,yhat_classes, 'MLP'),\n",
    "                         balanced_accuracy(y_testUS,y_hml, 'HML')))    "
   ]
  },
  {
   "cell_type": "markdown",
   "metadata": {},
   "source": [
    "#### Geometric Mean (G-MEAN)"
   ]
  },
  {
   "cell_type": "code",
   "execution_count": 103,
   "metadata": {},
   "outputs": [
    {
     "name": "stdout",
     "output_type": "stream",
     "text": [
      "G-mean of RF is 0.981\n",
      "G-mean of MLP is 0.940\n",
      "G-mean of HML is 0.960\n"
     ]
    }
   ],
   "source": [
    "#from imblearn.metrics import geometric_mean_score\n",
    "def gmean(y,yhat,model):\n",
    "    gm = geometric_mean_score(y, yhat)\n",
    "    return 'G-mean of {} is {:.3f}'.format(model,gm)\n",
    "    \n",
    "df_tmp_results.loc[df_tmp_results['sno']==sno_val, 'RFUS_GMEAN'] = geometric_mean_score(y_testUS, rfcUS_pred)\n",
    "df_tmp_results.loc[df_tmp_results['sno']==sno_val, 'MLPUS_GMEAN'] = geometric_mean_score(y_testUS, yhat_classes)   \n",
    "df_tmp_results.loc[df_tmp_results['sno']==sno_val, 'HMLUS_GMEAN'] = geometric_mean_score(y_testUS, y_hml) \n",
    "\n",
    "print(\"{}\\n{}\\n{}\".format(gmean(y_testUS,rfcUS_pred, 'RF'),\n",
    "                      gmean(y_testUS,yhat_classes, 'MLP'),\n",
    "                     gmean(y_testUS,y_hml, 'HML')) )    \n",
    "    "
   ]
  },
  {
   "cell_type": "markdown",
   "metadata": {},
   "source": [
    "#### Negative Likelihood Ratio"
   ]
  },
  {
   "cell_type": "code",
   "execution_count": 104,
   "metadata": {},
   "outputs": [
    {
     "name": "stdout",
     "output_type": "stream",
     "text": [
      "Negative Likelihood Ratio of RF is 0.021\n",
      "Negative Likelihood Ratio of MLP is 0.055\n",
      "Negative Likelihood Ratio of HML is 0.013\n"
     ]
    }
   ],
   "source": [
    "def liR(y,yhat,model):\n",
    "    #tn, fp, fn, tp = confusion_matrix(y, yhat).ravel()\n",
    "    cm= confusion_matrix(y, yhat)\n",
    "    tn = cm[0][0]\n",
    "    fp = cm[0][1]\n",
    "    fn = cm[1][0]\n",
    "    tp = cm[1][1] \n",
    "    specificity = tn / (tn+fp)\n",
    "    sensitivity = tp / (tp + fn)\n",
    "    lir = (1 - sensitivity)/specificity\n",
    "    return 'Negative Likelihood Ratio of {} is {:.3f}'.format(model,lir)\n",
    "def computeLiR(y,yhat):\n",
    "    #tn, fp, fn, tp = confusion_matrix(y, yhat).ravel()\n",
    "    cm= confusion_matrix(y, yhat)\n",
    "    tn = cm[0][0]\n",
    "    fp = cm[0][1]\n",
    "    fn = cm[1][0]\n",
    "    tp = cm[1][1] \n",
    "    specificity = tn / (tn+fp)\n",
    "    sensitivity = tp / (tp + fn)\n",
    "    lir = (1 - sensitivity)/specificity\n",
    "    return lir\n",
    "    \n",
    "df_tmp_results.loc[df_tmp_results['sno']==sno_val, 'RFUS_NLiR'] = computeLiR(y_testUS, rfcUS_pred)\n",
    "df_tmp_results.loc[df_tmp_results['sno']==sno_val, 'MLPUS_NLiR'] = computeLiR(y_testUS, yhat_classes)   \n",
    "df_tmp_results.loc[df_tmp_results['sno']==sno_val, 'HMLUS_NLiR'] = computeLiR(y_testUS, y_hml) \n",
    "\n",
    "print(\"{}\\n{}\\n{}\".format(liR(y_testUS,rfcUS_pred, 'RF'),\n",
    "                      liR(y_testUS,yhat_classes, 'MLP'),\n",
    "                     liR(y_testUS,y_hml, 'HML')) )       "
   ]
  },
  {
   "cell_type": "markdown",
   "metadata": {},
   "source": [
    "#### Discriminant Power"
   ]
  },
  {
   "cell_type": "code",
   "execution_count": 105,
   "metadata": {},
   "outputs": [
    {
     "name": "stdout",
     "output_type": "stream",
     "text": [
      "Discriminant Power of RF is 2.619\n",
      "Discriminant Power of MLP is 2.291\n",
      "Discriminant Power of HML is 2.560\n"
     ]
    }
   ],
   "source": [
    "def diP(y,yhat,model):\n",
    "    #tn, fp, fn, tp = confusion_matrix(y, yhat).ravel()\n",
    "    import math\n",
    "    cm= confusion_matrix(y, yhat)\n",
    "    tn = cm[0][0]\n",
    "    fp = cm[0][1]\n",
    "    fn = cm[1][0]\n",
    "    tp = cm[1][1] \n",
    "    specificity = tn / (tn+fp)\n",
    "    sensitivity = tp / (tp + fn)\n",
    "    a = math.log(sensitivity/(1-sensitivity))\n",
    "    b = math.log(specificity/(1-specificity))\n",
    "    dp = math.sqrt(3/(22/7)*(a+b) )     \n",
    "    return 'Discriminant Power of {} is {:.3f}'.format(model,dp)\n",
    "    \n",
    "def computeDiP(y,yhat):\n",
    "    #tn, fp, fn, tp = confusion_matrix(y, yhat).ravel()\n",
    "    import math\n",
    "    cm= confusion_matrix(y, yhat)\n",
    "    tn = cm[0][0]\n",
    "    fp = cm[0][1]\n",
    "    fn = cm[1][0]\n",
    "    tp = cm[1][1] \n",
    "    specificity = tn / (tn+fp)\n",
    "    sensitivity = tp / (tp + fn)\n",
    "    a = math.log(sensitivity/(1-sensitivity))\n",
    "    b = math.log(specificity/(1-specificity))\n",
    "    dp = math.sqrt(3/(22/7)*(a+b) )     \n",
    "    return dp  \n",
    "df_tmp_results.loc[df_tmp_results['sno']==sno_val, 'RFUS_DP'] = computeDiP(y_testUS, rfcUS_pred)\n",
    "df_tmp_results.loc[df_tmp_results['sno']==sno_val, 'MLPUS_DP'] = computeDiP(y_testUS, yhat_classes)   \n",
    "df_tmp_results.loc[df_tmp_results['sno']==sno_val, 'HMLUS_DP'] = computeDiP(y_testUS, y_hml) \n",
    "\n",
    "print(\"{}\\n{}\\n{}\".format(diP(y_testUS,rfcUS_pred, 'RF'),\n",
    "                      diP(y_testUS,yhat_classes, 'MLP'),\n",
    "                         diP(y_testUS,y_hml, 'HML')) )      "
   ]
  },
  {
   "cell_type": "markdown",
   "metadata": {},
   "source": [
    "#### Youden’s Index"
   ]
  },
  {
   "cell_type": "code",
   "execution_count": 106,
   "metadata": {},
   "outputs": [
    {
     "name": "stdout",
     "output_type": "stream",
     "text": [
      "Youden's Index of RF is 0.944\n",
      "Youden's Index of MLP is 0.878\n",
      "Youden's Index of HML is 0.907\n"
     ]
    }
   ],
   "source": [
    "def yInd(y,yhat,model):\n",
    "    cm= confusion_matrix(y, yhat)\n",
    "    tn = cm[0][0]\n",
    "    fp = cm[0][1]\n",
    "    fn = cm[1][0]\n",
    "    tp = cm[1][1] \n",
    "    specificity = tn / (tn+fp)\n",
    "    sensitivity = tp / (tp + fn)\n",
    "    y_index = sensitivity - (1- specificity)     \n",
    "    return 'Youden\\'s Index of {} is {:.3f}'.format(model,y_index)\n",
    "    \n",
    "def ComputeYInd(y,yhat):\n",
    "    cm= confusion_matrix(y, yhat)\n",
    "    tn = cm[0][0]\n",
    "    fp = cm[0][1]\n",
    "    fn = cm[1][0]\n",
    "    tp = cm[1][1] \n",
    "    specificity = tn / (tn+fp)\n",
    "    sensitivity = tp / (tp + fn)\n",
    "    y_index = sensitivity - (1- specificity)     \n",
    "    return y_index\n",
    "    \n",
    "df_tmp_results.loc[df_tmp_results['sno']==sno_val, 'RFUS_YInd'] = ComputeYInd(y_testUS, rfcUS_pred)\n",
    "df_tmp_results.loc[df_tmp_results['sno']==sno_val, 'MLPUS_YInd'] = ComputeYInd(y_testUS, yhat_classes)   \n",
    "df_tmp_results.loc[df_tmp_results['sno']==sno_val, 'HMLUS_YInd'] = ComputeYInd(y_testUS, y_hml) \n",
    "\n",
    "print(\"{}\\n{}\\n{}\".format(yInd(y_testUS,rfcUS_pred, 'RF'),\n",
    "                      yInd(y_testUS,yhat_classes, 'MLP'),\n",
    "                      yInd(y_testUS,y_hml, 'HML')) )         "
   ]
  },
  {
   "cell_type": "markdown",
   "metadata": {},
   "source": [
    "#### Type I and Type II errors"
   ]
  },
  {
   "cell_type": "code",
   "execution_count": 107,
   "metadata": {},
   "outputs": [
    {
     "name": "stdout",
     "output_type": "stream",
     "text": [
      "Type I error of RF is 0.020\n",
      "Type I error of MLP is 0.051\n",
      "Type I error of HML is 0.012\n",
      "Type II error of RF is 0.036\n",
      "Type II error of MLP is 0.071\n",
      "Type II error of HML is 0.081\n"
     ]
    }
   ],
   "source": [
    "def typeI_errors(y,yhat,model):\n",
    "    cm= confusion_matrix(y, yhat)\n",
    "    tn = cm[0][0]\n",
    "    fp = cm[0][1]\n",
    "    fn = cm[1][0]\n",
    "    tp = cm[1][1] \n",
    "    typeI = fn / (tp+fn)  \n",
    "    return 'Type I error of {} is {:.3f}'.format(model,typeI)\n",
    "\n",
    "    \n",
    "def typeII_errors(y,yhat,model):\n",
    "    cm= confusion_matrix(y, yhat)\n",
    "    tn = cm[0][0]\n",
    "    fp = cm[0][1]\n",
    "    fn = cm[1][0]\n",
    "    tp = cm[1][1] \n",
    "    typeII = fp / (tn + fp)    \n",
    "    return 'Type II error of {} is {:.3f}'.format(model,typeII)\n",
    "    \n",
    "def computeTypeI_errors(y,yhat):\n",
    "    cm= confusion_matrix(y, yhat)\n",
    "    tn = cm[0][0]\n",
    "    fp = cm[0][1]\n",
    "    fn = cm[1][0]\n",
    "    tp = cm[1][1] \n",
    "    typeI = fn / (tp+fn)  \n",
    "    return typeI\n",
    "    \n",
    "def computeTypeII_errors(y,yhat):\n",
    "    cm= confusion_matrix(y, yhat)\n",
    "    tn = cm[0][0]\n",
    "    fp = cm[0][1]\n",
    "    fn = cm[1][0]\n",
    "    tp = cm[1][1] \n",
    "    typeII = fp / (tn + fp)    \n",
    "    return typeII\n",
    "\n",
    "df_tmp_results.loc[df_tmp_results['sno']==sno_val, 'RFUS_TypeIError'] = computeTypeI_errors(y_testUS, rfcUS_pred)\n",
    "df_tmp_results.loc[df_tmp_results['sno']==sno_val, 'MLPUS_TypeIError'] = computeTypeI_errors(y_testUS, yhat_classes) \n",
    "df_tmp_results.loc[df_tmp_results['sno']==sno_val, 'HMLUS_TypeIError'] = computeTypeI_errors(y_testUS, y_hml) \n",
    "df_tmp_results.loc[df_tmp_results['sno']==sno_val, 'RFUS_TypeIIError'] = computeTypeII_errors(y_testUS, rfcUS_pred)\n",
    "df_tmp_results.loc[df_tmp_results['sno']==sno_val, 'MLPUS_TypeIIError'] = computeTypeII_errors(y_testUS, yhat_classes) \n",
    "df_tmp_results.loc[df_tmp_results['sno']==sno_val, 'HMLUS_TypeIIError'] = computeTypeII_errors(y_testUS, y_hml) \n",
    "\n",
    "print(\"{}\\n{}\\n{}\\n{}\\n{}\\n{}\".format(typeI_errors(y_testUS,rfcUS_pred, 'RF'),\n",
    "                      typeI_errors(y_testUS,yhat_classes, 'MLP'),\n",
    "                      typeI_errors(y_testUS,y_hml, 'HML'),\n",
    "                             typeII_errors(y_testUS,rfcUS_pred, 'RF'),\n",
    "                      typeII_errors(y_testUS,yhat_classes, 'MLP'),\n",
    "                      typeII_errors(y_testUS,y_hml, 'HML')) )  "
   ]
  },
  {
   "cell_type": "markdown",
   "metadata": {},
   "source": []
  },
  {
   "cell_type": "code",
   "execution_count": 108,
   "metadata": {},
   "outputs": [],
   "source": [
    "# #update hybdrid data\n",
    "# # Set values to empty where RF_Remarks is not '199 estimators' and model M6 does not contain '10-512-250-120-80-60-6'\n",
    "# condition = (df_tmp_results['RF_Remarks'] != '199 estimators') & (~df_tmp_results['MLPUS_Remarks'].str.contains('10-512-250-120-80-60-6'))\n",
    "\n",
    "# # Columns to set as empty\n",
    "# columns_to_empty = ['HMLUS_Acc', 'HMLUS_Prec', 'HMLUS_F1', 'HMLUS_Recall', \n",
    "#                     'HML_ROC_Class1', 'HML_ROC_Class2', 'HML_ROC_Class3', 'HML_ROC_Class4', 'HML_ROC_Class5',\n",
    "#                     'HMLUS_CohensKappa', 'HMLUS_BA', 'HMLUS_GMEAN', 'HMLUS_NLiR', 'HMLUS_DP', 'HMLUS_YInd',\n",
    "#                     'HMLUS_TypeIError', 'HMLUS_TypeIIError','HMLUS_Remarks']\n",
    "# , \n",
    "# # Update the DataFrame based on the conditions\n",
    "# df_tmp_results.loc[condition, columns_to_empty] = ''\n",
    "\n",
    "# condition2 = (df_results['RF_Remarks'] != '199 estimators') & (~df_results['MLPUS_Remarks'].str.contains('10-512-250-120-80-60-6'))\n",
    "\n",
    "# # Columns to set as empty\n",
    "# columns_to_empty = ['HMLUS_Acc', 'HMLUS_Prec', 'HMLUS_F1', 'HMLUS_Recall', \n",
    "#                     'HML_ROC_Class1', 'HML_ROC_Class2', 'HML_ROC_Class3', 'HML_ROC_Class4', 'HML_ROC_Class5',\n",
    "#                     'HMLUS_CohensKappa', 'HMLUS_BA', 'HMLUS_GMEAN', 'HMLUS_NLiR', 'HMLUS_DP', 'HMLUS_YInd',\n",
    "#                     'HMLUS_TypeIError', 'HMLUS_TypeIIError','HMLUS_Remarks']\n",
    "# , \n",
    "# # Update the DataFrame based on the conditions\n",
    "# df_results.loc[condition2, columns_to_empty] = ''\n"
   ]
  },
  {
   "cell_type": "code",
   "execution_count": 109,
   "metadata": {},
   "outputs": [],
   "source": [
    "#Save results\n",
    "df_results = pd.concat([df_results, df_tmp_results], axis=0)\n",
    "df_results.to_csv(config.results)"
   ]
  },
  {
   "cell_type": "code",
   "execution_count": 110,
   "metadata": {},
   "outputs": [
    {
     "data": {
      "text/html": [
       "<div>\n",
       "<style scoped>\n",
       "    .dataframe tbody tr th:only-of-type {\n",
       "        vertical-align: middle;\n",
       "    }\n",
       "\n",
       "    .dataframe tbody tr th {\n",
       "        vertical-align: top;\n",
       "    }\n",
       "\n",
       "    .dataframe thead th {\n",
       "        text-align: right;\n",
       "    }\n",
       "</style>\n",
       "<table border=\"1\" class=\"dataframe\">\n",
       "  <thead>\n",
       "    <tr style=\"text-align: right;\">\n",
       "      <th></th>\n",
       "      <th>sno</th>\n",
       "      <th>date</th>\n",
       "      <th>MLPUS_Acc</th>\n",
       "      <th>MLPUS_Prec</th>\n",
       "      <th>MLPUS_F1</th>\n",
       "      <th>MLPUS_Recall</th>\n",
       "      <th>MLPUS_TrTime</th>\n",
       "    </tr>\n",
       "  </thead>\n",
       "  <tbody>\n",
       "    <tr>\n",
       "      <th>0</th>\n",
       "      <td>1</td>\n",
       "      <td>2023-11-16</td>\n",
       "      <td>0.941126</td>\n",
       "      <td>0.941593</td>\n",
       "      <td>0.941226</td>\n",
       "      <td>0.941126</td>\n",
       "      <td>23.986405</td>\n",
       "    </tr>\n",
       "  </tbody>\n",
       "</table>\n",
       "</div>"
      ],
      "text/plain": [
       "   sno       date  MLPUS_Acc  MLPUS_Prec  MLPUS_F1  MLPUS_Recall  MLPUS_TrTime\n",
       "0    1 2023-11-16   0.941126    0.941593  0.941226      0.941126     23.986405"
      ]
     },
     "execution_count": 110,
     "metadata": {},
     "output_type": "execute_result"
    }
   ],
   "source": [
    "#display updated results file\n",
    "df_results_display = pd.read_csv(config.results)\n",
    "unnamedCols2 = [col for col in df_results_display.columns if 'Unnamed' in str(col)]\n",
    "df_results_display.drop(columns=unnamedCols2, inplace=True)\n",
    "df_results_display['date'] = pd.to_datetime(df_results_display['date'])  \n",
    "df_results_display[['sno', 'date','MLPUS_Acc','MLPUS_Prec','MLPUS_F1','MLPUS_Recall','MLPUS_TrTime']].tail()\n"
   ]
  },
  {
   "cell_type": "code",
   "execution_count": 111,
   "metadata": {
    "id": "rtBIXWDWvIGD"
   },
   "outputs": [
    {
     "data": {
      "text/html": [
       "<div>\n",
       "<style scoped>\n",
       "    .dataframe tbody tr th:only-of-type {\n",
       "        vertical-align: middle;\n",
       "    }\n",
       "\n",
       "    .dataframe tbody tr th {\n",
       "        vertical-align: top;\n",
       "    }\n",
       "\n",
       "    .dataframe thead th {\n",
       "        text-align: right;\n",
       "    }\n",
       "</style>\n",
       "<table border=\"1\" class=\"dataframe\">\n",
       "  <thead>\n",
       "    <tr style=\"text-align: right;\">\n",
       "      <th></th>\n",
       "      <th>sno</th>\n",
       "      <th>date</th>\n",
       "      <th>BANKSIZE</th>\n",
       "      <th>LR</th>\n",
       "      <th>EWAQ_NPLsNetOfProvisions</th>\n",
       "      <th>EWAQ_NPL</th>\n",
       "      <th>EWAQ_NPLsNetOfProvisions2CoreCapital</th>\n",
       "      <th>CD_TO_TOTAL_ASSET</th>\n",
       "      <th>LIQASSET2TOTALASSET</th>\n",
       "      <th>LIQASSET2DEPOSIT</th>\n",
       "      <th>...</th>\n",
       "      <th>RFUS_Prec</th>\n",
       "      <th>RFUS_Recall</th>\n",
       "      <th>RFUS_ROC_Class1</th>\n",
       "      <th>RFUS_ROC_Class2</th>\n",
       "      <th>RFUS_ROC_Class3</th>\n",
       "      <th>RFUS_ROC_Class4</th>\n",
       "      <th>RFUS_ROC_Class5</th>\n",
       "      <th>RFUS_TypeIError</th>\n",
       "      <th>RFUS_TypeIIError</th>\n",
       "      <th>RFUS_YInd</th>\n",
       "    </tr>\n",
       "  </thead>\n",
       "  <tbody>\n",
       "    <tr>\n",
       "      <th>0</th>\n",
       "      <td>1</td>\n",
       "      <td>2023-11-16</td>\n",
       "      <td>ok</td>\n",
       "      <td>ok</td>\n",
       "      <td>ok</td>\n",
       "      <td>ok</td>\n",
       "      <td>ok</td>\n",
       "      <td>ok</td>\n",
       "      <td>ok</td>\n",
       "      <td>ok</td>\n",
       "      <td>...</td>\n",
       "      <td>0.981246</td>\n",
       "      <td>0.981086</td>\n",
       "      <td>0.979211</td>\n",
       "      <td>0.974848</td>\n",
       "      <td>0.987045</td>\n",
       "      <td>0.999958</td>\n",
       "      <td>0.999917</td>\n",
       "      <td>0.019771</td>\n",
       "      <td>0.036234</td>\n",
       "      <td>0.943995</td>\n",
       "    </tr>\n",
       "  </tbody>\n",
       "</table>\n",
       "<p>1 rows × 81 columns</p>\n",
       "</div>"
      ],
      "text/plain": [
       "   sno       date BANKSIZE  LR EWAQ_NPLsNetOfProvisions EWAQ_NPL  \\\n",
       "0    1 2023-11-16       ok  ok                       ok       ok   \n",
       "\n",
       "  EWAQ_NPLsNetOfProvisions2CoreCapital CD_TO_TOTAL_ASSET LIQASSET2TOTALASSET  \\\n",
       "0                                   ok                ok                  ok   \n",
       "\n",
       "  LIQASSET2DEPOSIT  ... RFUS_Prec RFUS_Recall  RFUS_ROC_Class1  \\\n",
       "0               ok  ...  0.981246    0.981086         0.979211   \n",
       "\n",
       "   RFUS_ROC_Class2  RFUS_ROC_Class3  RFUS_ROC_Class4  RFUS_ROC_Class5  \\\n",
       "0         0.974848         0.987045         0.999958         0.999917   \n",
       "\n",
       "   RFUS_TypeIError  RFUS_TypeIIError  RFUS_YInd  \n",
       "0         0.019771          0.036234   0.943995  \n",
       "\n",
       "[1 rows x 81 columns]"
      ]
     },
     "execution_count": 111,
     "metadata": {},
     "output_type": "execute_result"
    }
   ],
   "source": [
    "df_results_display.tail()"
   ]
  },
  {
   "cell_type": "code",
   "execution_count": 112,
   "metadata": {
    "scrolled": true
   },
   "outputs": [
    {
     "data": {
      "text/html": [
       "<div>\n",
       "<style scoped>\n",
       "    .dataframe tbody tr th:only-of-type {\n",
       "        vertical-align: middle;\n",
       "    }\n",
       "\n",
       "    .dataframe tbody tr th {\n",
       "        vertical-align: top;\n",
       "    }\n",
       "\n",
       "    .dataframe thead th {\n",
       "        text-align: right;\n",
       "    }\n",
       "</style>\n",
       "<table border=\"1\" class=\"dataframe\">\n",
       "  <thead>\n",
       "    <tr style=\"text-align: right;\">\n",
       "      <th></th>\n",
       "      <th>RFUS_Acc</th>\n",
       "      <th>RFUS_Prec</th>\n",
       "      <th>RFUS_F1</th>\n",
       "      <th>RFUS_Recall</th>\n",
       "      <th>RFUS_BA</th>\n",
       "      <th>RFUS_CohensKappa</th>\n",
       "      <th>RFUS_DP</th>\n",
       "      <th>RFUS_GMEAN</th>\n",
       "      <th>RFUS_NLiR</th>\n",
       "      <th>RFUS_TypeIError</th>\n",
       "      <th>RFUS_TypeIIError</th>\n",
       "      <th>RFUS_YInd</th>\n",
       "    </tr>\n",
       "    <tr>\n",
       "      <th>RF_Remarks</th>\n",
       "      <th></th>\n",
       "      <th></th>\n",
       "      <th></th>\n",
       "      <th></th>\n",
       "      <th></th>\n",
       "      <th></th>\n",
       "      <th></th>\n",
       "      <th></th>\n",
       "      <th></th>\n",
       "      <th></th>\n",
       "      <th></th>\n",
       "      <th></th>\n",
       "    </tr>\n",
       "  </thead>\n",
       "  <tbody>\n",
       "    <tr>\n",
       "      <th>199 estimators</th>\n",
       "      <td>0.981086</td>\n",
       "      <td>0.981246</td>\n",
       "      <td>0.981127</td>\n",
       "      <td>0.981086</td>\n",
       "      <td>0.98111</td>\n",
       "      <td>0.976356</td>\n",
       "      <td>2.618749</td>\n",
       "      <td>0.980974</td>\n",
       "      <td>0.020514</td>\n",
       "      <td>0.019771</td>\n",
       "      <td>0.036234</td>\n",
       "      <td>0.943995</td>\n",
       "    </tr>\n",
       "  </tbody>\n",
       "</table>\n",
       "</div>"
      ],
      "text/plain": [
       "                RFUS_Acc  RFUS_Prec   RFUS_F1  RFUS_Recall  RFUS_BA  \\\n",
       "RF_Remarks                                                            \n",
       "199 estimators  0.981086   0.981246  0.981127     0.981086  0.98111   \n",
       "\n",
       "                RFUS_CohensKappa   RFUS_DP  RFUS_GMEAN  RFUS_NLiR  \\\n",
       "RF_Remarks                                                          \n",
       "199 estimators          0.976356  2.618749    0.980974   0.020514   \n",
       "\n",
       "                RFUS_TypeIError  RFUS_TypeIIError  RFUS_YInd  \n",
       "RF_Remarks                                                    \n",
       "199 estimators         0.019771          0.036234   0.943995  "
      ]
     },
     "execution_count": 112,
     "metadata": {},
     "output_type": "execute_result"
    }
   ],
   "source": [
    "#Mean RF results after Dataset Balancing (Except ROC)\n",
    "#df_results_display.groupby(['RF_Remarks'])['RF_Remarks','RFUS_Acc','RFUS_Prec','RFUS_F1','RFUS_Recall','RFUS_BA','RFUS_CohensKappa','RFUS_DP','RFUS_GMEAN','RFUS_NLiR','RFUS_TypeIError','RFUS_TypeIIError','RFUS_YInd'].mean()\n",
    "df_results_display.groupby(['RF_Remarks'])[['RFUS_Acc', 'RFUS_Prec', 'RFUS_F1', 'RFUS_Recall', 'RFUS_BA', 'RFUS_CohensKappa', 'RFUS_DP', 'RFUS_GMEAN', 'RFUS_NLiR', 'RFUS_TypeIError', 'RFUS_TypeIIError', 'RFUS_YInd']].mean()\n"
   ]
  },
  {
   "cell_type": "code",
   "execution_count": 113,
   "metadata": {},
   "outputs": [
    {
     "data": {
      "text/html": [
       "<div>\n",
       "<style scoped>\n",
       "    .dataframe tbody tr th:only-of-type {\n",
       "        vertical-align: middle;\n",
       "    }\n",
       "\n",
       "    .dataframe tbody tr th {\n",
       "        vertical-align: top;\n",
       "    }\n",
       "\n",
       "    .dataframe thead th {\n",
       "        text-align: right;\n",
       "    }\n",
       "</style>\n",
       "<table border=\"1\" class=\"dataframe\">\n",
       "  <thead>\n",
       "    <tr style=\"text-align: right;\">\n",
       "      <th></th>\n",
       "      <th>RFUS_ROC_Class1</th>\n",
       "      <th>RFUS_ROC_Class2</th>\n",
       "      <th>RFUS_ROC_Class3</th>\n",
       "      <th>RFUS_ROC_Class4</th>\n",
       "      <th>RFUS_ROC_Class5</th>\n",
       "    </tr>\n",
       "    <tr>\n",
       "      <th>RF_Remarks</th>\n",
       "      <th></th>\n",
       "      <th></th>\n",
       "      <th></th>\n",
       "      <th></th>\n",
       "      <th></th>\n",
       "    </tr>\n",
       "  </thead>\n",
       "  <tbody>\n",
       "    <tr>\n",
       "      <th>199 estimators</th>\n",
       "      <td>0.979211</td>\n",
       "      <td>0.974848</td>\n",
       "      <td>0.987045</td>\n",
       "      <td>0.999958</td>\n",
       "      <td>0.999917</td>\n",
       "    </tr>\n",
       "  </tbody>\n",
       "</table>\n",
       "</div>"
      ],
      "text/plain": [
       "                RFUS_ROC_Class1  RFUS_ROC_Class2  RFUS_ROC_Class3  \\\n",
       "RF_Remarks                                                          \n",
       "199 estimators         0.979211         0.974848         0.987045   \n",
       "\n",
       "                RFUS_ROC_Class4  RFUS_ROC_Class5  \n",
       "RF_Remarks                                        \n",
       "199 estimators         0.999958         0.999917  "
      ]
     },
     "execution_count": 113,
     "metadata": {},
     "output_type": "execute_result"
    }
   ],
   "source": [
    "#Mean RF ROC results after Dataset Balancing\n",
    "df_results_display.groupby(['RF_Remarks'])[['RFUS_ROC_Class1','RFUS_ROC_Class2','RFUS_ROC_Class3','RFUS_ROC_Class4','RFUS_ROC_Class5']].mean()\n"
   ]
  },
  {
   "cell_type": "code",
   "execution_count": null,
   "metadata": {},
   "outputs": [],
   "source": []
  },
  {
   "cell_type": "code",
   "execution_count": 114,
   "metadata": {},
   "outputs": [
    {
     "data": {
      "text/html": [
       "<div>\n",
       "<style scoped>\n",
       "    .dataframe tbody tr th:only-of-type {\n",
       "        vertical-align: middle;\n",
       "    }\n",
       "\n",
       "    .dataframe tbody tr th {\n",
       "        vertical-align: top;\n",
       "    }\n",
       "\n",
       "    .dataframe thead th {\n",
       "        text-align: right;\n",
       "    }\n",
       "</style>\n",
       "<table border=\"1\" class=\"dataframe\">\n",
       "  <thead>\n",
       "    <tr style=\"text-align: right;\">\n",
       "      <th></th>\n",
       "      <th>HMLUS_Acc</th>\n",
       "      <th>HMLUS_Prec</th>\n",
       "      <th>HMLUS_F1</th>\n",
       "      <th>HMLUS_Recall</th>\n",
       "      <th>HMLUS_BA</th>\n",
       "      <th>HMLUS_CohensKappa</th>\n",
       "      <th>HMLUS_DP</th>\n",
       "      <th>HMLUS_GMEAN</th>\n",
       "      <th>HMLUS_NLiR</th>\n",
       "      <th>HMLUS_TypeIError</th>\n",
       "      <th>HMLUS_TypeIIError</th>\n",
       "      <th>HMLUS_YInd</th>\n",
       "    </tr>\n",
       "    <tr>\n",
       "      <th>HMLUS_Remarks</th>\n",
       "      <th></th>\n",
       "      <th></th>\n",
       "      <th></th>\n",
       "      <th></th>\n",
       "      <th></th>\n",
       "      <th></th>\n",
       "      <th></th>\n",
       "      <th></th>\n",
       "      <th></th>\n",
       "      <th></th>\n",
       "      <th></th>\n",
       "      <th></th>\n",
       "    </tr>\n",
       "  </thead>\n",
       "  <tbody>\n",
       "    <tr>\n",
       "      <th>Hybrid of R2(RF) and M6(MLP) Models</th>\n",
       "      <td>0.960573</td>\n",
       "      <td>0.961304</td>\n",
       "      <td>0.960574</td>\n",
       "      <td>0.960573</td>\n",
       "      <td>0.960701</td>\n",
       "      <td>0.95072</td>\n",
       "      <td>2.55998</td>\n",
       "      <td>0.960111</td>\n",
       "      <td>0.012663</td>\n",
       "      <td>0.011632</td>\n",
       "      <td>0.081414</td>\n",
       "      <td>0.906954</td>\n",
       "    </tr>\n",
       "  </tbody>\n",
       "</table>\n",
       "</div>"
      ],
      "text/plain": [
       "                                     HMLUS_Acc  HMLUS_Prec  HMLUS_F1  \\\n",
       "HMLUS_Remarks                                                          \n",
       "Hybrid of R2(RF) and M6(MLP) Models   0.960573    0.961304  0.960574   \n",
       "\n",
       "                                     HMLUS_Recall  HMLUS_BA  \\\n",
       "HMLUS_Remarks                                                 \n",
       "Hybrid of R2(RF) and M6(MLP) Models      0.960573  0.960701   \n",
       "\n",
       "                                     HMLUS_CohensKappa  HMLUS_DP  HMLUS_GMEAN  \\\n",
       "HMLUS_Remarks                                                                   \n",
       "Hybrid of R2(RF) and M6(MLP) Models            0.95072   2.55998     0.960111   \n",
       "\n",
       "                                     HMLUS_NLiR  HMLUS_TypeIError  \\\n",
       "HMLUS_Remarks                                                       \n",
       "Hybrid of R2(RF) and M6(MLP) Models    0.012663          0.011632   \n",
       "\n",
       "                                     HMLUS_TypeIIError  HMLUS_YInd  \n",
       "HMLUS_Remarks                                                       \n",
       "Hybrid of R2(RF) and M6(MLP) Models           0.081414    0.906954  "
      ]
     },
     "execution_count": 114,
     "metadata": {},
     "output_type": "execute_result"
    }
   ],
   "source": [
    "#Mean HML results (except ROC)\n",
    "df_results_display.groupby(['HMLUS_Remarks'])[['HMLUS_Acc','HMLUS_Prec','HMLUS_F1','HMLUS_Recall','HMLUS_BA','HMLUS_CohensKappa','HMLUS_DP','HMLUS_GMEAN','HMLUS_NLiR','HMLUS_TypeIError','HMLUS_TypeIIError','HMLUS_YInd']].mean()\n",
    " "
   ]
  },
  {
   "cell_type": "code",
   "execution_count": 115,
   "metadata": {},
   "outputs": [
    {
     "data": {
      "text/html": [
       "<div>\n",
       "<style scoped>\n",
       "    .dataframe tbody tr th:only-of-type {\n",
       "        vertical-align: middle;\n",
       "    }\n",
       "\n",
       "    .dataframe tbody tr th {\n",
       "        vertical-align: top;\n",
       "    }\n",
       "\n",
       "    .dataframe thead th {\n",
       "        text-align: right;\n",
       "    }\n",
       "</style>\n",
       "<table border=\"1\" class=\"dataframe\">\n",
       "  <thead>\n",
       "    <tr style=\"text-align: right;\">\n",
       "      <th></th>\n",
       "      <th>HML_ROC_Class1</th>\n",
       "      <th>HML_ROC_Class2</th>\n",
       "      <th>HML_ROC_Class3</th>\n",
       "      <th>HML_ROC_Class4</th>\n",
       "      <th>HML_ROC_Class5</th>\n",
       "    </tr>\n",
       "    <tr>\n",
       "      <th>HMLUS_Remarks</th>\n",
       "      <th></th>\n",
       "      <th></th>\n",
       "      <th></th>\n",
       "      <th></th>\n",
       "      <th></th>\n",
       "    </tr>\n",
       "  </thead>\n",
       "  <tbody>\n",
       "    <tr>\n",
       "      <th>Hybrid of R2(RF) and M6(MLP) Models</th>\n",
       "      <td>0.956488</td>\n",
       "      <td>0.951842</td>\n",
       "      <td>0.976874</td>\n",
       "      <td>0.993223</td>\n",
       "      <td>0.998752</td>\n",
       "    </tr>\n",
       "  </tbody>\n",
       "</table>\n",
       "</div>"
      ],
      "text/plain": [
       "                                     HML_ROC_Class1  HML_ROC_Class2  \\\n",
       "HMLUS_Remarks                                                         \n",
       "Hybrid of R2(RF) and M6(MLP) Models        0.956488        0.951842   \n",
       "\n",
       "                                     HML_ROC_Class3  HML_ROC_Class4  \\\n",
       "HMLUS_Remarks                                                         \n",
       "Hybrid of R2(RF) and M6(MLP) Models        0.976874        0.993223   \n",
       "\n",
       "                                     HML_ROC_Class5  \n",
       "HMLUS_Remarks                                        \n",
       "Hybrid of R2(RF) and M6(MLP) Models        0.998752  "
      ]
     },
     "execution_count": 115,
     "metadata": {},
     "output_type": "execute_result"
    }
   ],
   "source": [
    "#Mean HML ROC results \n",
    "df_results_display.groupby(['HMLUS_Remarks'])[['HML_ROC_Class1','HML_ROC_Class2','HML_ROC_Class3','HML_ROC_Class4','HML_ROC_Class5']].mean()\n"
   ]
  },
  {
   "cell_type": "code",
   "execution_count": null,
   "metadata": {},
   "outputs": [],
   "source": []
  },
  {
   "cell_type": "code",
   "execution_count": 116,
   "metadata": {},
   "outputs": [
    {
     "data": {
      "text/html": [
       "<div>\n",
       "<style scoped>\n",
       "    .dataframe tbody tr th:only-of-type {\n",
       "        vertical-align: middle;\n",
       "    }\n",
       "\n",
       "    .dataframe tbody tr th {\n",
       "        vertical-align: top;\n",
       "    }\n",
       "\n",
       "    .dataframe thead th {\n",
       "        text-align: right;\n",
       "    }\n",
       "</style>\n",
       "<table border=\"1\" class=\"dataframe\">\n",
       "  <thead>\n",
       "    <tr style=\"text-align: right;\">\n",
       "      <th></th>\n",
       "      <th>MLPUS_Acc</th>\n",
       "      <th>MLPUS_Prec</th>\n",
       "      <th>MLPUS_F1</th>\n",
       "      <th>MLPUS_Recall</th>\n",
       "      <th>MLPUS_BA</th>\n",
       "      <th>MLPUS_CohensKappa</th>\n",
       "      <th>MLPUS_DP</th>\n",
       "      <th>MLPUS_GMEAN</th>\n",
       "      <th>MLPUS_NLiR</th>\n",
       "      <th>MLPUS_TypeIError</th>\n",
       "      <th>MLPUS_TypeIIError</th>\n",
       "      <th>MLPUS_YInd</th>\n",
       "    </tr>\n",
       "    <tr>\n",
       "      <th>MLPUS_Remarks</th>\n",
       "      <th></th>\n",
       "      <th></th>\n",
       "      <th></th>\n",
       "      <th></th>\n",
       "      <th></th>\n",
       "      <th></th>\n",
       "      <th></th>\n",
       "      <th></th>\n",
       "      <th></th>\n",
       "      <th></th>\n",
       "      <th></th>\n",
       "      <th></th>\n",
       "    </tr>\n",
       "  </thead>\n",
       "  <tbody>\n",
       "    <tr>\n",
       "      <th>MLP Architecture:Model M6: 10-512-250-120-80-60-6 Dropout None, Loss:sparse_categorical_crossentropy, Optimizer:ADAM, epochs:30, validation_split:0.3</th>\n",
       "      <td>0.941126</td>\n",
       "      <td>0.941593</td>\n",
       "      <td>0.941226</td>\n",
       "      <td>0.941126</td>\n",
       "      <td>0.940984</td>\n",
       "      <td>0.926406</td>\n",
       "      <td>2.290782</td>\n",
       "      <td>0.940391</td>\n",
       "      <td>0.054504</td>\n",
       "      <td>0.050615</td>\n",
       "      <td>0.071359</td>\n",
       "      <td>0.878026</td>\n",
       "    </tr>\n",
       "  </tbody>\n",
       "</table>\n",
       "</div>"
      ],
      "text/plain": [
       "                                                    MLPUS_Acc  MLPUS_Prec  \\\n",
       "MLPUS_Remarks                                                               \n",
       "MLP Architecture:Model M6: 10-512-250-120-80-60...   0.941126    0.941593   \n",
       "\n",
       "                                                    MLPUS_F1  MLPUS_Recall  \\\n",
       "MLPUS_Remarks                                                                \n",
       "MLP Architecture:Model M6: 10-512-250-120-80-60...  0.941226      0.941126   \n",
       "\n",
       "                                                    MLPUS_BA  \\\n",
       "MLPUS_Remarks                                                  \n",
       "MLP Architecture:Model M6: 10-512-250-120-80-60...  0.940984   \n",
       "\n",
       "                                                    MLPUS_CohensKappa  \\\n",
       "MLPUS_Remarks                                                           \n",
       "MLP Architecture:Model M6: 10-512-250-120-80-60...           0.926406   \n",
       "\n",
       "                                                    MLPUS_DP  MLPUS_GMEAN  \\\n",
       "MLPUS_Remarks                                                               \n",
       "MLP Architecture:Model M6: 10-512-250-120-80-60...  2.290782     0.940391   \n",
       "\n",
       "                                                    MLPUS_NLiR  \\\n",
       "MLPUS_Remarks                                                    \n",
       "MLP Architecture:Model M6: 10-512-250-120-80-60...    0.054504   \n",
       "\n",
       "                                                    MLPUS_TypeIError  \\\n",
       "MLPUS_Remarks                                                          \n",
       "MLP Architecture:Model M6: 10-512-250-120-80-60...          0.050615   \n",
       "\n",
       "                                                    MLPUS_TypeIIError  \\\n",
       "MLPUS_Remarks                                                           \n",
       "MLP Architecture:Model M6: 10-512-250-120-80-60...           0.071359   \n",
       "\n",
       "                                                    MLPUS_YInd  \n",
       "MLPUS_Remarks                                                   \n",
       "MLP Architecture:Model M6: 10-512-250-120-80-60...    0.878026  "
      ]
     },
     "execution_count": 116,
     "metadata": {},
     "output_type": "execute_result"
    }
   ],
   "source": [
    "#Mean MLP results (Except ROC)\n",
    "df_results_display.groupby(['MLPUS_Remarks'])[['MLPUS_Acc','MLPUS_Prec','MLPUS_F1','MLPUS_Recall','MLPUS_BA','MLPUS_CohensKappa','MLPUS_DP','MLPUS_GMEAN','MLPUS_NLiR','MLPUS_TypeIError','MLPUS_TypeIIError','MLPUS_YInd']].mean()\n",
    "  "
   ]
  },
  {
   "cell_type": "code",
   "execution_count": 117,
   "metadata": {},
   "outputs": [
    {
     "data": {
      "text/html": [
       "<div>\n",
       "<style scoped>\n",
       "    .dataframe tbody tr th:only-of-type {\n",
       "        vertical-align: middle;\n",
       "    }\n",
       "\n",
       "    .dataframe tbody tr th {\n",
       "        vertical-align: top;\n",
       "    }\n",
       "\n",
       "    .dataframe thead th {\n",
       "        text-align: right;\n",
       "    }\n",
       "</style>\n",
       "<table border=\"1\" class=\"dataframe\">\n",
       "  <thead>\n",
       "    <tr style=\"text-align: right;\">\n",
       "      <th></th>\n",
       "      <th>MLPUS_ROC_Class1</th>\n",
       "      <th>MLPUS_ROC_Class2</th>\n",
       "      <th>MLPUS_ROC_Class3</th>\n",
       "      <th>MLPUS_ROC_Class4</th>\n",
       "      <th>MLPUS_ROC_Class5</th>\n",
       "    </tr>\n",
       "    <tr>\n",
       "      <th>MLPUS_Remarks</th>\n",
       "      <th></th>\n",
       "      <th></th>\n",
       "      <th></th>\n",
       "      <th></th>\n",
       "      <th></th>\n",
       "    </tr>\n",
       "  </thead>\n",
       "  <tbody>\n",
       "    <tr>\n",
       "      <th>MLP Architecture:Model M6: 10-512-250-120-80-60-6 Dropout None, Loss:sparse_categorical_crossentropy, Optimizer:ADAM, epochs:30, validation_split:0.3</th>\n",
       "      <td>0.956721</td>\n",
       "      <td>0.931968</td>\n",
       "      <td>0.954575</td>\n",
       "      <td>0.987731</td>\n",
       "      <td>0.984724</td>\n",
       "    </tr>\n",
       "  </tbody>\n",
       "</table>\n",
       "</div>"
      ],
      "text/plain": [
       "                                                    MLPUS_ROC_Class1  \\\n",
       "MLPUS_Remarks                                                          \n",
       "MLP Architecture:Model M6: 10-512-250-120-80-60...          0.956721   \n",
       "\n",
       "                                                    MLPUS_ROC_Class2  \\\n",
       "MLPUS_Remarks                                                          \n",
       "MLP Architecture:Model M6: 10-512-250-120-80-60...          0.931968   \n",
       "\n",
       "                                                    MLPUS_ROC_Class3  \\\n",
       "MLPUS_Remarks                                                          \n",
       "MLP Architecture:Model M6: 10-512-250-120-80-60...          0.954575   \n",
       "\n",
       "                                                    MLPUS_ROC_Class4  \\\n",
       "MLPUS_Remarks                                                          \n",
       "MLP Architecture:Model M6: 10-512-250-120-80-60...          0.987731   \n",
       "\n",
       "                                                    MLPUS_ROC_Class5  \n",
       "MLPUS_Remarks                                                         \n",
       "MLP Architecture:Model M6: 10-512-250-120-80-60...          0.984724  "
      ]
     },
     "execution_count": 117,
     "metadata": {},
     "output_type": "execute_result"
    }
   ],
   "source": [
    "#Mean MLP ROC results\n",
    "df_results_display.groupby(['MLPUS_Remarks'])[['MLPUS_ROC_Class1', 'MLPUS_ROC_Class2', 'MLPUS_ROC_Class3', 'MLPUS_ROC_Class4', 'MLPUS_ROC_Class5']].mean()\n",
    "\n",
    "\n"
   ]
  },
  {
   "cell_type": "code",
   "execution_count": null,
   "metadata": {},
   "outputs": [],
   "source": []
  }
 ],
 "metadata": {
  "accelerator": "GPU",
  "colab": {
   "authorship_tag": "ABX9TyP6ySJ3XP8zWcAlTq+MHTCc",
   "mount_file_id": "1svXdFleArbdJDJOsJD0jDob_8fFaUBQW",
   "provenance": [
    {
     "file_id": "1PQ9kTk3hJfKxeTVMqTztidcJyNDIUwKF",
     "timestamp": 1657599517852
    }
   ]
  },
  "gpuClass": "standard",
  "kernelspec": {
   "display_name": "Python 3 (ipykernel)",
   "language": "python",
   "name": "python3"
  },
  "language_info": {
   "codemirror_mode": {
    "name": "ipython",
    "version": 3
   },
   "file_extension": ".py",
   "mimetype": "text/x-python",
   "name": "python",
   "nbconvert_exporter": "python",
   "pygments_lexer": "ipython3",
   "version": "3.8.10"
  }
 },
 "nbformat": 4,
 "nbformat_minor": 4
}
