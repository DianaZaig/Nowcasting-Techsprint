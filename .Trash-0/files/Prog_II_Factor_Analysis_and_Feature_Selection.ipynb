{
 "cells": [
  {
   "cell_type": "markdown",
   "metadata": {},
   "source": [
    "### Program 2 of 3\n",
    "### Purpose: This code performs factor analysis and feature selection\n",
    "### Inputs: final weekly dataset\n",
    "### Outputs: Selected Liquidity Risk Factors and Features \n",
    "### Developer: Rweyemamu Barongo rbarongo@gmail.com, ribarongo@bot.go.tz, ribarongo@udsm.ac.tz"
   ]
  },
  {
   "cell_type": "markdown",
   "metadata": {},
   "source": [
    "#### Install libraries"
   ]
  },
  {
   "cell_type": "code",
   "execution_count": null,
   "metadata": {
    "colab": {
     "base_uri": "https://localhost:8080/"
    },
    "executionInfo": {
     "elapsed": 4263,
     "status": "ok",
     "timestamp": 1674385238142,
     "user": {
      "displayName": "rweyemamu barongo",
      "userId": "08892034532025439007"
     },
     "user_tz": -180
    },
    "id": "bWKs7yjb-K3G",
    "outputId": "87fc7f0e-f56b-4c6c-a1be-5d613c32a014"
   },
   "outputs": [],
   "source": [
    "!pip install --upgrade xlrd"
   ]
  },
  {
   "cell_type": "code",
   "execution_count": null,
   "metadata": {},
   "outputs": [],
   "source": [
    "!pip install sklearn"
   ]
  },
  {
   "cell_type": "code",
   "execution_count": null,
   "metadata": {},
   "outputs": [],
   "source": [
    "!pip install scikit-learn"
   ]
  },
  {
   "cell_type": "markdown",
   "metadata": {},
   "source": [
    "#### Import libraries"
   ]
  },
  {
   "cell_type": "code",
   "execution_count": null,
   "metadata": {
    "colab": {
     "base_uri": "https://localhost:8080/"
    },
    "executionInfo": {
     "elapsed": 5320,
     "status": "ok",
     "timestamp": 1674385243448,
     "user": {
      "displayName": "rweyemamu barongo",
      "userId": "08892034532025439007"
     },
     "user_tz": -180
    },
    "id": "1dIeiJF--OqK",
    "outputId": "a41b3e32-e638-4bc2-fe08-4eb229e1512c"
   },
   "outputs": [],
   "source": [
    "#import local libraries\n",
    "import sys\n",
    "import pandas as pd\n",
    "import numpy as np\n",
    "import seaborn as sns\n",
    "from datetime import date\n",
    "import warnings\n",
    "#configuration of data files\n",
    "import config_unix_filesystem as config\n",
    "from config_unix_filesystem import check_model_results_file\n",
    "from config_unix_filesystem import check_if_exist_or_create_folders\n",
    "from config_unix_filesystem import check_data_files_II\n",
    "from sklearn.ensemble import RandomForestClassifier\n",
    "import matplotlib\n",
    "import matplotlib.pyplot as plt\n",
    "\n",
    "\n",
    "try:\n",
    "    import google.colab\n",
    "    IN_COLAB = True\n",
    "except:\n",
    "    IN_COLAB = False\n",
    "    \n",
    "if IN_COLAB==True:    \n",
    "    from google.colab import drive\n",
    "    drive.mount('/content/gdrive/', force_remount=True)\n",
    "    sys.path.append(config.path_to_module)\n"
   ]
  },
  {
   "cell_type": "code",
   "execution_count": null,
   "metadata": {},
   "outputs": [],
   "source": []
  },
  {
   "cell_type": "markdown",
   "metadata": {},
   "source": [
    "#### inspect configurations and dataset"
   ]
  },
  {
   "cell_type": "code",
   "execution_count": null,
   "metadata": {},
   "outputs": [],
   "source": [
    "check_data_files_II()\n",
    "check_if_exist_or_create_folders()\n",
    "check_model_results_file()"
   ]
  },
  {
   "cell_type": "markdown",
   "metadata": {},
   "source": [
    "#### Load data from files"
   ]
  },
  {
   "cell_type": "code",
   "execution_count": null,
   "metadata": {
    "executionInfo": {
     "elapsed": 9,
     "status": "ok",
     "timestamp": 1674385414505,
     "user": {
      "displayName": "rweyemamu barongo",
      "userId": "08892034532025439007"
     },
     "user_tz": -180
    },
    "id": "00wBjNb9-cDK"
   },
   "outputs": [],
   "source": [
    "df_new = pd.read_csv(config.weekly_dataset, parse_dates=[\"REPORTINGDATE\"])\n",
    "unnamedCols2 = [col for col in df_new.columns if 'Unnamed' in str(col)]\n",
    "df_new.drop(columns=unnamedCols2, inplace=True)\n",
    "\n",
    "dataset = pd.read_csv(config.dataWbook) #, sheet_name=\"finalDataset_240622\", header=1)\n",
    "unnamedCols = [col for col in dataset.columns if 'Unnamed' in col]\n",
    "dataset.drop(columns=unnamedCols, inplace=True)\n",
    "dataset.shape \n"
   ]
  },
  {
   "cell_type": "code",
   "execution_count": null,
   "metadata": {},
   "outputs": [],
   "source": [
    "# dfX_monthly.shape "
   ]
  },
  {
   "cell_type": "markdown",
   "metadata": {},
   "source": [
    "#### Explore dataset"
   ]
  },
  {
   "cell_type": "code",
   "execution_count": null,
   "metadata": {
    "colab": {
     "base_uri": "https://localhost:8080/",
     "height": 300
    },
    "executionInfo": {
     "elapsed": 68,
     "status": "ok",
     "timestamp": 1674385415475,
     "user": {
      "displayName": "rweyemamu barongo",
      "userId": "08892034532025439007"
     },
     "user_tz": -180
    },
    "id": "fwfHHAfBsLvB",
    "outputId": "96e58b63-1136-4f1a-d482-2f7bcf26e62f"
   },
   "outputs": [],
   "source": [
    "df_new.head()"
   ]
  },
  {
   "cell_type": "code",
   "execution_count": null,
   "metadata": {
    "colab": {
     "base_uri": "https://localhost:8080/"
    },
    "executionInfo": {
     "elapsed": 63,
     "status": "ok",
     "timestamp": 1674385415479,
     "user": {
      "displayName": "rweyemamu barongo",
      "userId": "08892034532025439007"
     },
     "user_tz": -180
    },
    "id": "6PcDOZWabdKN",
    "outputId": "06395855-16a6-4983-8883-e2336523a61f"
   },
   "outputs": [],
   "source": [
    "#Number of data rows and columns\n",
    "sno_val = df_new.shape\n",
    "sno_val"
   ]
  },
  {
   "cell_type": "code",
   "execution_count": null,
   "metadata": {
    "colab": {
     "base_uri": "https://localhost:8080/"
    },
    "executionInfo": {
     "elapsed": 44,
     "status": "ok",
     "timestamp": 1674385416180,
     "user": {
      "displayName": "rweyemamu barongo",
      "userId": "08892034532025439007"
     },
     "user_tz": -180
    },
    "id": "gZj9CRUOsQjA",
    "outputId": "9d15497b-5a0a-4492-c751-c22ae5166f68"
   },
   "outputs": [],
   "source": [
    "#columns names\n",
    "df_new.columns"
   ]
  },
  {
   "cell_type": "markdown",
   "metadata": {
    "colab": {
     "base_uri": "https://localhost:8080/"
    },
    "executionInfo": {
     "elapsed": 59,
     "status": "ok",
     "timestamp": 1674385416178,
     "user": {
      "displayName": "rweyemamu barongo",
      "userId": "08892034532025439007"
     },
     "user_tz": -180
    },
    "id": "JYLcT7iR92cy",
    "outputId": "0c9f78be-f8ba-4d93-e14c-c04badfcae60"
   },
   "source": [
    "#### Compute Derived Variables"
   ]
  },
  {
   "cell_type": "code",
   "execution_count": null,
   "metadata": {
    "colab": {
     "base_uri": "https://localhost:8080/",
     "height": 70
    },
    "executionInfo": {
     "elapsed": 6800,
     "status": "ok",
     "timestamp": 1674385422952,
     "user": {
      "displayName": "rweyemamu barongo",
      "userId": "08892034532025439007"
     },
     "user_tz": -180
    },
    "id": "RGSOxihIkZO_",
    "outputId": "d6ce9e58-bdd8-4acc-a9b7-7a34ff00925a"
   },
   "outputs": [],
   "source": [
    "df_new['CORE_DEPOSITS']=df_new.apply(lambda x: x['01_CURR_ACC']+x['03_SAVINGS']+x['04_OTHER_DEPOSITS'], axis=1)\n",
    "df_new['TOTAL_DEPOSITS']=df_new.apply(lambda x: x['05_BANKS_DEPOSITS']+x['XX_CUSTOMER_DEPOSITS'], axis=1)\n",
    "df_new['GL_TO_TOTAL_FUNDING']=df_new.apply(lambda x: x['EWAQ_GrossLoans']/(x['F125_LIAB_TOTAL']+0.0001), axis=1)\n",
    "df_new['CD_TO_TOTAL_FUNDING']=df_new.apply(lambda x: x['CORE_DEPOSITS']/(x['F125_LIAB_TOTAL']+0.0001), axis=1)\n",
    "df_new['CD_TO_TOTAL_ASSET']=df_new.apply(lambda x: x['CORE_DEPOSITS']/(x['F077_ASSETS_TOTAL']+0.0001), axis=1)\n",
    "df_new['CD_TO_TOTAL_DEPOSIT']=df_new.apply(lambda x: x['CORE_DEPOSITS']/(x['TOTAL_DEPOSITS']+0.0001), axis=1)\n",
    "df_new['LiqAsset2DemandLiab']=df_new.apply(lambda x: x['XX_TOTAL_LIQUID_ASSET']/(x['CORE_DEPOSITS'] + x['02_TIME_DEPOSIT']+0.0001), axis=1)\n",
    "df_new['ExcessShortTLiab2LongTAsset']=df_new.apply(lambda x: (x['CORE_DEPOSITS'] + x['02_TIME_DEPOSIT']-x['XX_TOTAL_LIQUID_ASSET'])/(x['F077_ASSETS_TOTAL'] - x['XX_TOTAL_LIQUID_ASSET']+0.0001), axis=1)\n",
    "df_new['CD_TO_TOTAL_ASSET']=df_new.apply(lambda x: x['CORE_DEPOSITS']/(x['F077_ASSETS_TOTAL']+0.0001), axis=1)\n",
    "df_new['GL_TO_TOTAL_DEPOSITS']=df_new.apply(lambda x: x['EWAQ_GrossLoans']/(x['CORE_DEPOSITS'] + x['02_TIME_DEPOSIT']+0.0001), axis=1)\n",
    "df_new['LIQASSET2TOTALASSET']=df_new.apply(lambda x: x['XX_TOTAL_LIQUID_ASSET']/(x['F077_ASSETS_TOTAL'] +0.0001), axis=1)\n",
    "df_new['BANKSIZE']= np.log10(df_new['F077_ASSETS_TOTAL'])\n",
    "df_new['LOAN2DEPOSIT']= df_new.apply(lambda x: x['EWAQ_GrossLoans']/(x['CORE_DEPOSITS'] + x['02_TIME_DEPOSIT'] +0.0001), axis=1)\n",
    "df_new['LIQASSET2DEPOSIT']= df_new.apply(lambda x: x['XX_TOTAL_LIQUID_ASSET']/(x['CORE_DEPOSITS'] + x['02_TIME_DEPOSIT']+0.0001), axis=1)\n",
    "df_new['CURRENTRATIO']= df_new.apply(lambda x: x['XX_TOTAL_LIQUID_ASSET']/(x['XX_TOTAL_LIQUID_LIAB'] + 0.0001), axis=1)\n",
    "df_new['LIQASSET2TOTALASSET']= df_new.apply(lambda x: x['XX_TOTAL_LIQUID_ASSET']/(x['F077_ASSETS_TOTAL'] + 0.0001), axis=1)\n",
    "df_new['VOLATILEDEPOSITS2LIAB']= df_new.apply(lambda x: (x['XX_TOTAL_LIQUID_ASSET']-x['CORE_DEPOSITS'])/(x['F125_LIAB_TOTAL'] + 0.0001), axis=1)\n",
    "df_new['LOAN2ASSETS']= df_new.apply(lambda x: x['EWAQ_GrossLoans']/(x['F077_ASSETS_TOTAL']+0.0001), axis=1)\n",
    "df_new['DOMESTICDEPOSIT2ASSETS']= df_new.apply(lambda x: (x['TOTAL_DEPOSITS']-x['10_FOREIGN_DEPOSITS_AND_BORROWINGS'])/(x['F077_ASSETS_TOTAL']+0.0001), axis=1)\n",
    "df_new['LOAN2COREDEPOSIT']= df_new.apply(lambda x: x['EWAQ_GrossLoans']/(x['CORE_DEPOSITS']+0.0001), axis=1)\n",
    "df_new['BOTBAL2TOTALDEPOSIT']= df_new.apply(lambda x: x['XX_BOT_BALANCE']/(x['TOTAL_DEPOSITS']+0.0001), axis=1)\n",
    "\n"
   ]
  },
  {
   "cell_type": "code",
   "execution_count": null,
   "metadata": {
    "colab": {
     "base_uri": "https://localhost:8080/",
     "height": 300
    },
    "executionInfo": {
     "elapsed": 81,
     "status": "ok",
     "timestamp": 1674385422954,
     "user": {
      "displayName": "rweyemamu barongo",
      "userId": "08892034532025439007"
     },
     "user_tz": -180
    },
    "id": "K6iWLLijsdPX",
    "outputId": "1aedba22-cf0a-4b98-9446-1e9e0a2b9397"
   },
   "outputs": [],
   "source": [
    "#Explore new dataset\n",
    "df_new.head(5)"
   ]
  },
  {
   "cell_type": "markdown",
   "metadata": {},
   "source": [
    "#### Factors Analysis Using Correlation"
   ]
  },
  {
   "cell_type": "code",
   "execution_count": null,
   "metadata": {},
   "outputs": [],
   "source": [
    "df_new"
   ]
  },
  {
   "cell_type": "code",
   "execution_count": null,
   "metadata": {},
   "outputs": [],
   "source": [
    "df_new.iloc[:,2:]"
   ]
  },
  {
   "cell_type": "code",
   "execution_count": null,
   "metadata": {
    "colab": {
     "base_uri": "https://localhost:8080/",
     "height": 488
    },
    "executionInfo": {
     "elapsed": 75,
     "status": "ok",
     "timestamp": 1674385422956,
     "user": {
      "displayName": "rweyemamu barongo",
      "userId": "08892034532025439007"
     },
     "user_tz": -180
    },
    "id": "bkznDe2kr15D",
    "outputId": "ffcd5fd3-9d36-4a75-f67c-cf3124fc5ef2"
   },
   "outputs": [],
   "source": [
    "df_new.iloc[:,2:].corr()"
   ]
  },
  {
   "cell_type": "code",
   "execution_count": null,
   "metadata": {
    "colab": {
     "base_uri": "https://localhost:8080/"
    },
    "executionInfo": {
     "elapsed": 1089,
     "status": "ok",
     "timestamp": 1674385423978,
     "user": {
      "displayName": "rweyemamu barongo",
      "userId": "08892034532025439007"
     },
     "user_tz": -180
    },
    "id": "n0A7xWkEphQl",
    "outputId": "67438715-d0fb-4b4c-fa2d-47f06301cbf9"
   },
   "outputs": [],
   "source": [
    "df_new.shape"
   ]
  },
  {
   "cell_type": "code",
   "execution_count": null,
   "metadata": {},
   "outputs": [],
   "source": [
    "df_factors_cor = df_new.iloc[:,2:].corr()\n",
    "df_factors_cor"
   ]
  },
  {
   "cell_type": "code",
   "execution_count": null,
   "metadata": {
    "executionInfo": {
     "elapsed": 179,
     "status": "ok",
     "timestamp": 1674385423982,
     "user": {
      "displayName": "rweyemamu barongo",
      "userId": "08892034532025439007"
     },
     "user_tz": -180
    },
    "id": "9I1sLhpWCgp0"
   },
   "outputs": [],
   "source": [
    "\n",
    "df_factors_cor.to_csv(config.factors_corr)"
   ]
  },
  {
   "cell_type": "code",
   "execution_count": null,
   "metadata": {
    "colab": {
     "base_uri": "https://localhost:8080/",
     "height": 52
    },
    "executionInfo": {
     "elapsed": 179,
     "status": "ok",
     "timestamp": 1674385423983,
     "user": {
      "displayName": "rweyemamu barongo",
      "userId": "08892034532025439007"
     },
     "user_tz": -180
    },
    "id": "Koe2ewXJBRQ-",
    "outputId": "1745fece-b19f-4c8f-8f21-9181f9929299"
   },
   "outputs": [],
   "source": [
    "#visualize correlation of all variables for all institutions\n",
    "plt.figure(figsize=(30,30))\n",
    "sns.heatmap(df_new.iloc[:,2:].corr(),annot=True, vmin = 0.2, vmax=1, cmap=\"Greens\", fmt='0.1')\n",
    "plt.title('Significant Correlation of All Variables for Commercial Banks in Tanzanian 2010-2021', pad=20)\n",
    "plt.xlabel('Liquidity Risk Variables')\n",
    "plt.ylabel('Liquidity Risk Variables')\n",
    "plt.plot()"
   ]
  },
  {
   "cell_type": "code",
   "execution_count": null,
   "metadata": {
    "colab": {
     "base_uri": "https://localhost:8080/",
     "height": 52
    },
    "executionInfo": {
     "elapsed": 162,
     "status": "ok",
     "timestamp": 1674385423983,
     "user": {
      "displayName": "rweyemamu barongo",
      "userId": "08892034532025439007"
     },
     "user_tz": -180
    },
    "id": "vSXHo2FgsByR",
    "outputId": "c5790426-e6e6-4270-8ea6-b829a153ed69"
   },
   "outputs": [],
   "source": [
    "plt.figure(figsize=(30,30))\n",
    "sns.heatmap(df_new.iloc[:,2:][df_new['INSTITUTIONCODE']=='B5015'].corr(),annot=True, vmin = 0.2, vmax=1, cmap=\"Greens\", fmt='0.1')\n",
    "plt.title('Signifiant Positive Correlation of All Variables for Bank B5015 in Tanzanian 2010-2021', pad=20)\n",
    "plt.xlabel('Liquidity Risk Variables')\n",
    "plt.ylabel('Liquidity Risk Variables')\n",
    "plt.plot()\n",
    "\n"
   ]
  },
  {
   "cell_type": "code",
   "execution_count": null,
   "metadata": {},
   "outputs": [],
   "source": [
    "plt.figure(figsize=(40,40))\n",
    "sns.heatmap(df_new.iloc[:,2:].corr(),annot=True, vmin = -1, vmax=-0.2, cmap=\"Greens\", fmt='0.1')\n",
    "plt.title('Significant Negative Correlation of Variables for Commercial Banks in Tanzanian 2010-2021', pad=20)\n",
    "plt.xlabel('Liquidity Risk Variables')\n",
    "plt.ylabel('Liquidity Risk Variables')\n",
    "plt.plot()"
   ]
  },
  {
   "cell_type": "markdown",
   "metadata": {},
   "source": [
    "**Analysis for Factors Identified In Literature**"
   ]
  },
  {
   "cell_type": "code",
   "execution_count": null,
   "metadata": {},
   "outputs": [],
   "source": [
    "df_new.columns"
   ]
  },
  {
   "cell_type": "code",
   "execution_count": null,
   "metadata": {},
   "outputs": [],
   "source": [
    "df_factors = df_new[['CURRENTRATIO',\n",
    "                         'LIQASSET2DEPOSIT',\n",
    "                         'TOTAL_DEPOSITS',\n",
    "                         'CORE_DEPOSITS',\n",
    "                         'LOAN2DEPOSIT',\n",
    "                         'VOLATILEDEPOSITS2LIAB',\n",
    "                         'BOTBAL2TOTALDEPOSIT',\n",
    "                         'LOAN2COREDEPOSIT',\n",
    "                         'DOMESTICDEPOSIT2ASSETS',\n",
    "                         'BANKSIZE',\n",
    "                         'GDP',\n",
    "                         'INF',\n",
    "                         'LOAN2ASSETS',\n",
    "                         'EWAQ_NPL',\n",
    "                         'EWAQ_NPLsNetOfProvisions',\n",
    "                         'EWAQ_NPLsNetOfProvisions2CoreCapital',\n",
    "                         'LR',\n",
    "                         'CD_TO_TOTAL_ASSET',\n",
    "                         'LIQASSET2TOTALASSET',\n",
    "                         'ExcessShortTLiab2LongTAsset']]"
   ]
  },
  {
   "cell_type": "code",
   "execution_count": null,
   "metadata": {},
   "outputs": [],
   "source": [
    "plt.figure(figsize=(20,10))\n",
    "sns.heatmap(df_factors.corr(method='spearman', min_periods=1),annot=True, vmin = -1, vmax=1, cmap=\"Greys\", fmt='0.1')\n",
    "plt.title('Correlation Analysis of Liquidity Riks Factors')\n",
    "plt.xlabel('Liquidity Risk Factors')\n",
    "plt.ylabel('Liquidity Risk Factors')\n",
    "plt.show()"
   ]
  },
  {
   "cell_type": "code",
   "execution_count": null,
   "metadata": {},
   "outputs": [],
   "source": [
    "plt.figure(figsize=(20,10))\n",
    "sns.heatmap(df_factors.corr(method='spearman', min_periods=1),annot=True, vmin = -0.6, vmax=0.6, cmap=\"Greys\", fmt='0.1')\n",
    "plt.title('Correlation Analysis of Liquidity Riks Factors')\n",
    "plt.xlabel(\"Liquidity Risk Factors' variables\")\n",
    "plt.ylabel(\"Liquidity Risk Factors' variables\")\n",
    "plt.show()"
   ]
  },
  {
   "cell_type": "markdown",
   "metadata": {
    "id": "eBqvulZoTZyO"
   },
   "source": []
  },
  {
   "cell_type": "markdown",
   "metadata": {},
   "source": [
    "#### Detailed Pearson, Spearman, and Kendall Correlation for Factors Analysis on All, Big, Intermediate, and Small Banks"
   ]
  },
  {
   "cell_type": "code",
   "execution_count": null,
   "metadata": {},
   "outputs": [],
   "source": [
    "\"\"\"\n",
    "Clustering of Banks was done in a separate process using Elbow method and KNN algorithm on\n",
    "Total Assets of Banks as of 31 Dec 2021 that included 32 banks out of 38. \n",
    "Three clusters were obtained that included 2 big banks, 10 intermediate banks, and 20 small banks \n",
    "\"\"\""
   ]
  },
  {
   "cell_type": "code",
   "execution_count": null,
   "metadata": {},
   "outputs": [],
   "source": [
    "#On monthly dataset - all banks\n",
    "dataset_corr_pearson=dataset.iloc[:,2:-1].corr(method='pearson', min_periods=1)\n",
    "dataset_corr_pearson = dataset_corr_pearson['MLA'].reset_index()\n",
    "dataset_corr_pearson.rename(columns = {'MLA':'Pearson'}, inplace = True)\n",
    "dataset_corr_spearman=dataset.iloc[:,2:-1].corr(method='spearman', min_periods=1)\n",
    "dataset_corr_spearman  = dataset_corr_spearman['MLA'].reset_index()\n",
    "dataset_corr_spearman.rename(columns = {'MLA':'Spearman'}, inplace = True)\n",
    "dataset_corr_kendall=dataset.iloc[:,2:-1].corr(method='kendall', min_periods=1)\n",
    "dataset_corr_kendall= dataset_corr_kendall['MLA'].reset_index()\n",
    "dataset_corr_kendall.rename(columns = {'MLA':'Kendall'}, inplace = True)\n",
    "#df_corr_kendall\n",
    "\n",
    "dataset_corr = pd.concat([dataset_corr_pearson,dataset_corr_spearman], axis=0)\n",
    "dataset_corr = pd.concat([dataset_corr,dataset_corr_kendall], axis=0)\n",
    "\n",
    "\n",
    "dataset_corr = dataset_corr_pearson.merge(dataset_corr_spearman[['index', 'Spearman']])\n",
    "dataset_corr = dataset_corr.merge(dataset_corr_kendall[['index', 'Kendall']])\n",
    "dataset_corr.rename(columns = {'index':'Variables'}, inplace = True)\n",
    "dataset_corr.to_csv(config.monthly_correlations)\n",
    "dataset_corr"
   ]
  },
  {
   "cell_type": "code",
   "execution_count": null,
   "metadata": {},
   "outputs": [],
   "source": [
    "df = dataset.iloc[:,2:-1]\n",
    "df"
   ]
  },
  {
   "cell_type": "code",
   "execution_count": null,
   "metadata": {},
   "outputs": [],
   "source": []
  },
  {
   "cell_type": "code",
   "execution_count": null,
   "metadata": {},
   "outputs": [],
   "source": [
    "mask = ((df_new['MLA'] > 0) & (df_new['MLA'] < 100))"
   ]
  },
  {
   "cell_type": "code",
   "execution_count": null,
   "metadata": {},
   "outputs": [],
   "source": [
    "#on final weekly dataset - all banks\n",
    "df_new1 = df_new.iloc[:,2:-1][mask]\n",
    "df_corr_pearson=df_new1.corr(method='pearson', min_periods=1)\n",
    "df_corr_pearson = df_corr_pearson['XX_MLA_CLASS2'].reset_index()\n",
    "df_corr_pearson.rename(columns = {'XX_MLA_CLASS2':'Pearson'}, inplace = True)\n",
    "df_corr_spearman=df_new1.corr(method='spearman', min_periods=1)\n",
    "df_corr_spearman  = df_corr_spearman['XX_MLA_CLASS2'].reset_index()\n",
    "df_corr_spearman.rename(columns = {'XX_MLA_CLASS2':'Spearman'}, inplace = True)\n",
    "df_corr_kendall=df_new1.corr(method='kendall', min_periods=1)\n",
    "df_corr_kendall= df_corr_kendall['XX_MLA_CLASS2'].reset_index()\n",
    "df_corr_kendall.rename(columns = {'XX_MLA_CLASS2':'Kendall'}, inplace = True)\n",
    "#df_corr_kendall\n",
    "\n",
    "#pd.merge(df_corr_pearson, df_corr_spearman, df_corr_kendall, on='index')\n",
    "#df_corr = pd.merge(df_corr_pearson, df_corr_spearman, how='inner', left_on='index')\n",
    "df_corr = df_corr_pearson.merge(df_corr_spearman[['index', 'Spearman']])\n",
    "df_corr = df_corr.merge(df_corr_kendall[['index', 'Kendall']])\n",
    "df_corr.rename(columns = {'index':'Variables'}, inplace = True)\n",
    "df_corr.to_csv(config.correlations_int)\n"
   ]
  },
  {
   "cell_type": "code",
   "execution_count": null,
   "metadata": {},
   "outputs": [],
   "source": [
    "df_corr"
   ]
  },
  {
   "cell_type": "code",
   "execution_count": null,
   "metadata": {},
   "outputs": [],
   "source": [
    "#On final weekly dataset Big Banks\n",
    "mask_inst =( (df_new['INSTITUTIONCODE']=='B5015') | (df_new['INSTITUTIONCODE']=='B5912'))\n",
    "df_new1 = df_new.iloc[:,2:-1][mask][mask_inst]\n",
    "df_corr_pearson=df_new1.corr(method='pearson', min_periods=1)\n",
    "df_corr_pearson = df_corr_pearson['XX_MLA_CLASS2'].reset_index()\n",
    "df_corr_pearson.rename(columns = {'XX_MLA_CLASS2':'Pearson'}, inplace = True)\n",
    "df_corr_spearman=df_new1.corr(method='spearman', min_periods=1)\n",
    "df_corr_spearman  = df_corr_spearman['XX_MLA_CLASS2'].reset_index()\n",
    "df_corr_spearman.rename(columns = {'XX_MLA_CLASS2':'Spearman'}, inplace = True)\n",
    "df_corr_kendall=df_new1.corr(method='kendall', min_periods=1)\n",
    "df_corr_kendall= df_corr_kendall['XX_MLA_CLASS2'].reset_index()\n",
    "df_corr_kendall.rename(columns = {'XX_MLA_CLASS2':'Kendall'}, inplace = True)\n",
    "#df_corr_kendall\n",
    "\n",
    "#pd.merge(df_corr_pearson, df_corr_spearman, df_corr_kendall, on='index')\n",
    "#df_corr = pd.merge(df_corr_pearson, df_corr_spearman, how='inner', left_on='index')\n",
    "df_corr = df_corr_pearson.merge(df_corr_spearman[['index', 'Spearman']])\n",
    "df_corr = df_corr.merge(df_corr_kendall[['index', 'Kendall']])\n",
    "df_corr.rename(columns = {'index':'Variables'}, inplace = True)\n",
    "df_corr.to_csv(config.correlations_int)\n",
    "#dataset_corr1"
   ]
  },
  {
   "cell_type": "code",
   "execution_count": null,
   "metadata": {},
   "outputs": [],
   "source": [
    "df_corr"
   ]
  },
  {
   "cell_type": "code",
   "execution_count": null,
   "metadata": {},
   "outputs": [],
   "source": [
    "dataset_corr"
   ]
  },
  {
   "cell_type": "code",
   "execution_count": null,
   "metadata": {},
   "outputs": [],
   "source": [
    "#On final weekly dataset Intermediate Banks\n",
    "mask = (df_new['MLA'] > 0) & (df_new['MLA'] < 100) & (\n",
    "    (df_new['INSTITUTIONCODE']=='B5412') | (df_new['INSTITUTIONCODE']=='B5512') |\n",
    "    (df_new['INSTITUTIONCODE']=='B5213') | (df_new['INSTITUTIONCODE']=='B5413') |\n",
    "    (df_new['INSTITUTIONCODE']=='B5613') | (df_new['INSTITUTIONCODE']=='B5014') |\n",
    "    (df_new['INSTITUTIONCODE']=='B5914') | (df_new['INSTITUTIONCODE']=='B5115') |\n",
    "    (df_new['INSTITUTIONCODE']=='B5515') | (df_new['INSTITUTIONCODE']=='B5815'))\n",
    "df_new1 = df_new.iloc[:,2:-1][mask]\n",
    "df_corr_pearson=df_new1.corr(method='pearson', min_periods=1)\n",
    "df_corr_pearson = df_corr_pearson['XX_MLA_CLASS2'].reset_index()\n",
    "df_corr_pearson.rename(columns = {'XX_MLA_CLASS2':'Pearson'}, inplace = True)\n",
    "df_corr_spearman=df_new1.corr(method='spearman', min_periods=1)\n",
    "df_corr_spearman  = df_corr_spearman['XX_MLA_CLASS2'].reset_index()\n",
    "df_corr_spearman.rename(columns = {'XX_MLA_CLASS2':'Spearman'}, inplace = True)\n",
    "df_corr_kendall=df_new1.corr(method='kendall', min_periods=1)\n",
    "df_corr_kendall= df_corr_kendall['XX_MLA_CLASS2'].reset_index()\n",
    "df_corr_kendall.rename(columns = {'XX_MLA_CLASS2':'Kendall'}, inplace = True)\n",
    "#df_corr_kendall\n",
    "\n",
    "#pd.merge(df_corr_pearson, df_corr_spearman, df_corr_kendall, on='index')\n",
    "#df_corr = pd.merge(df_corr_pearson, df_corr_spearman, how='inner', left_on='index')\n",
    "df_corr = df_corr_pearson.merge(df_corr_spearman[['index', 'Spearman']])\n",
    "df_corr = df_corr.merge(df_corr_kendall[['index', 'Kendall']])\n",
    "df_corr.rename(columns = {'index':'Variables'}, inplace = True)\n",
    "df_corr.to_csv(config.correlations_int)"
   ]
  },
  {
   "cell_type": "code",
   "execution_count": null,
   "metadata": {},
   "outputs": [],
   "source": [
    "df_corr"
   ]
  },
  {
   "cell_type": "code",
   "execution_count": null,
   "metadata": {},
   "outputs": [],
   "source": [
    "#On final weekly dataset Small Banks\n",
    "mask = (df_new['MLA'] > 0) & (df_new['MLA'] < 100) & (\n",
    "    (df_new['INSTITUTIONCODE']=='B5812') | (df_new['INSTITUTIONCODE']=='B5813') |\n",
    "    (df_new['INSTITUTIONCODE']=='B5913') | (df_new['INSTITUTIONCODE']=='B5114') |\n",
    "    (df_new['INSTITUTIONCODE']=='B5814') | (df_new['INSTITUTIONCODE']=='B5215') |\n",
    "    (df_new['INSTITUTIONCODE']=='B5016') | (df_new['INSTITUTIONCODE']=='B5116') |\n",
    "    (df_new['INSTITUTIONCODE']=='B5716') | (df_new['INSTITUTIONCODE']=='B5117') |\n",
    "\n",
    "    (df_new['INSTITUTIONCODE']=='B5417') | (df_new['INSTITUTIONCODE']=='B5717') |\n",
    "    (df_new['INSTITUTIONCODE']=='B5917') | (df_new['INSTITUTIONCODE']=='B5018') |\n",
    "    (df_new['INSTITUTIONCODE']=='B5318') | (df_new['INSTITUTIONCODE']=='B5418') |\n",
    "    (df_new['INSTITUTIONCODE']=='B5619') | (df_new['INSTITUTIONCODE']=='B5719') |\n",
    "    (df_new['INSTITUTIONCODE']=='B5919') | (df_new['INSTITUTIONCODE']=='B5120') )\n",
    "df_new1 = df_new.iloc[:,2:-1][mask]\n",
    "df_corr_pearson=df_new1.corr(method='pearson', min_periods=1)\n",
    "df_corr_pearson = df_corr_pearson['XX_MLA_CLASS2'].reset_index()\n",
    "df_corr_pearson.rename(columns = {'XX_MLA_CLASS2':'Pearson'}, inplace = True)\n",
    "df_corr_spearman=df_new1.corr(method='spearman', min_periods=1)\n",
    "df_corr_spearman  = df_corr_spearman['XX_MLA_CLASS2'].reset_index()\n",
    "df_corr_spearman.rename(columns = {'XX_MLA_CLASS2':'Spearman'}, inplace = True)\n",
    "df_corr_kendall=df_new1.corr(method='kendall', min_periods=1)\n",
    "df_corr_kendall= df_corr_kendall['XX_MLA_CLASS2'].reset_index()\n",
    "df_corr_kendall.rename(columns = {'XX_MLA_CLASS2':'Kendall'}, inplace = True)\n",
    "#df_corr_kendall\n",
    "\n",
    "#pd.merge(df_corr_pearson, df_corr_spearman, df_corr_kendall, on='index')\n",
    "#df_corr = pd.merge(df_corr_pearson, df_corr_spearman, how='inner', left_on='index')\n",
    "df_corr = df_corr_pearson.merge(df_corr_spearman[['index', 'Spearman']])\n",
    "df_corr = df_corr.merge(df_corr_kendall[['index', 'Kendall']])\n",
    "df_corr.rename(columns = {'index':'Variables'}, inplace = True)\n",
    "df_corr.to_csv(config.correlations_small)"
   ]
  },
  {
   "cell_type": "code",
   "execution_count": null,
   "metadata": {},
   "outputs": [],
   "source": [
    "df_corr"
   ]
  },
  {
   "cell_type": "code",
   "execution_count": null,
   "metadata": {},
   "outputs": [],
   "source": [
    "df_new.columns"
   ]
  },
  {
   "cell_type": "markdown",
   "metadata": {},
   "source": [
    "##### Scatterplot Analysis of Liquidity Risk versus Factors"
   ]
  },
  {
   "cell_type": "code",
   "execution_count": null,
   "metadata": {},
   "outputs": [],
   "source": [
    "listFactors = ['CURRENTRATIO', 'LIQASSET2DEPOSIT', \n",
    "               'TOTAL_DEPOSITS', 'CORE_DEPOSITS','GL_TO_TOTAL_DEPOSITS',\n",
    "       'VOLATILEDEPOSITS2LIAB', 'BOTBAL2TOTALDEPOSIT', 'LOAN2ASSETS',\n",
    "       'LOAN2DEPOSIT', 'LOAN2COREDEPOSIT','DOMESTICDEPOSIT2ASSETS',\n",
    "       'BANKSIZE','INFLATION', 'GDP',\n",
    "       'GL_TO_TOTAL_FUNDING', 'EWAQ_NPL','EWAQ_NPLsNetOfProvisions',\n",
    "       'EWAQ_NPLsNetOfProvisions2CoreCapital', 'NETINTERESTINCOME','LR',\n",
    "       'CD_TO_TOTAL_ASSET', 'LIQASSET2TOTALASSET','ExcessShortTLiab2LongTAsset']\n",
    "listVarNames = ['Current Ratio', 'Liq Asset to Deposit', \n",
    "       'Deposits', 'Core Deposits','Loans to Deposits',\n",
    "       'Volatile Deposits to Liab.', 'Credit at C.Bank to Deposit', 'Loan to Assets',\n",
    "       'Loan to Deposit', 'Loan to Core Deposit','Domestic Deposit to Assets',\n",
    "       'Bank Size','Inflation', 'GDP',\n",
    "       'G.Loan to Funding', 'NPL','NPLs Net Of Prov.',\n",
    "       'NPLsNetOfProv to CoreCapital', 'Net Interest Income','Lending Rate',\n",
    "       'Core Dep. to Assets', 'Liq. Asset to Assets','Excess S.T.Liab to L.T.Asset']"
   ]
  },
  {
   "cell_type": "code",
   "execution_count": null,
   "metadata": {},
   "outputs": [],
   "source": [
    "fig = plt.figure() \n",
    "fig, axes = plt.subplots(nrows = 6, ncols = 4, figsize=(15,12)) #, sharex=True, sharey = True)\n",
    "fig.suptitle('Liquidity Risk Versus Liquidity Risk Factors for Commercial Banks in Tanzania 2010-2021')\n",
    "ncol = 4\n",
    "nrow = 6\n",
    "activeCol = 0\n",
    "mask = (df_new['MLA'] > 0) & (df_new['MLA'] < 100)\n",
    "mask2 = (dataset['MLA'] > 0) & (dataset['MLA'] < 100)\n",
    "for i in range(nrow):\n",
    "    for j in range(ncol):\n",
    "        #plt.subplot(ncol, nrow, activeCol)\n",
    "        if listFactors[activeCol] == 'INFLATION':\n",
    "            axes[i][j].scatter(dataset[mask2].loc[:,'INF'], dataset[mask2]['MLA'])\n",
    "        elif listFactors[activeCol]=='NETINTERESTINCOME':\n",
    "            axes[i][j].scatter(dataset[mask2].loc[:,'EWE_NetInterestIncome'], dataset[mask2]['MLA'])\n",
    "        else:\n",
    "            axes[i][j].scatter(df_new[mask].loc[:,listFactors[activeCol]], df_new[mask]['MLA'])\n",
    "        axes[i][j].set(xlabel=listVarNames[activeCol], ylabel=\"MLA\")\n",
    "        axes[i][j].set_title(listVarNames[activeCol] + ' vs MLA')\n",
    "        #axes[i][j].set_xlabel('Crosses', labelpad = 5)\n",
    "        \n",
    "        #axes[i][j].title(listVarNames[activeCol] + \" vs MLA\")\n",
    "        #axes[i][j].xlabel(listVarNames[activeCol])\n",
    "        #axes[i][j].ylabel('MLA')\n",
    "        if activeCol + 1 < len(listFactors):\n",
    "            activeCol=activeCol+1\n",
    "\n",
    "#Add separate colourbar axes\n",
    "#cbar_ax = f.add_axes([0.85, 0.15, 0.05, 0.7])\n",
    "\n",
    "#Autoscale none\n",
    "#fig.colorbar(axes[0][0], cax=cbar_ax)\n",
    "\n",
    "footnote = \"Note: Liquidity Risk versus Factors uses Weekly Dataset, with the exception of Inflation and Net Interest Income that use the Collected Monthly dataset\"\n",
    "plt.figtext(0.5, 0.01, footnote, ha=\"center\")\n",
    "\n",
    "plt.subplots_adjust(left=0.1,\n",
    "                    bottom=0.1,\n",
    "                    right=0.9,\n",
    "                    top=0.9,\n",
    "                    wspace=0.3,\n",
    "                    hspace=1.0)\n",
    "plt.show()"
   ]
  },
  {
   "cell_type": "code",
   "execution_count": null,
   "metadata": {},
   "outputs": [],
   "source": [
    "#B5015, B5912\n",
    "\n",
    "fig = plt.figure() \n",
    "fig, axes = plt.subplots(nrows = 6, ncols = 4, figsize=(15,12)) #, sharex=True, sharey = True)\n",
    "fig.suptitle('Liquidity Risk Versus Liquidity Risk Factors for Big Commercial Banks in Tanzania 2010-2021')\n",
    "ncol = 4\n",
    "nrow = 6\n",
    "activeCol = 0\n",
    "mask = (df_new['MLA'] > 0) & (df_new['MLA'] < 100) & ( (df_new['INSTITUTIONCODE']=='B5015') | (df_new['INSTITUTIONCODE']=='B5912'))\n",
    "mask2 = (dataset['MLA'] > 0) & (dataset['MLA'] < 100) & ( (df_new['INSTITUTIONCODE']=='B5015') | (df_new['INSTITUTIONCODE']=='B5912'))\n",
    "for i in range(nrow):\n",
    "    for j in range(ncol):\n",
    "        #plt.subplot(ncol, nrow, activeCol)\n",
    "        if listFactors[activeCol] == 'INFLATION':\n",
    "            axes[i][j].scatter(dataset[mask2].loc[:,'INF'], dataset[mask2]['MLA'])\n",
    "        elif listFactors[activeCol]=='NETINTERESTINCOME':\n",
    "            axes[i][j].scatter(dataset[mask2].loc[:,'EWE_NetInterestIncome'], dataset[mask2]['MLA'])\n",
    "        else:\n",
    "            axes[i][j].scatter(df_new[mask].loc[:,listFactors[activeCol]], df_new[mask]['MLA'])\n",
    "        axes[i][j].set(xlabel=listVarNames[activeCol], ylabel=\"MLA\")\n",
    "        axes[i][j].set_title(listVarNames[activeCol] + ' vs MLA')\n",
    "        #axes[i][j].set_xlabel('Crosses', labelpad = 5)\n",
    "        \n",
    "        #axes[i][j].title(listVarNames[activeCol] + \" vs MLA\")\n",
    "        #axes[i][j].xlabel(listVarNames[activeCol])\n",
    "        #axes[i][j].ylabel('MLA')\n",
    "        if activeCol + 1 < len(listFactors):\n",
    "            activeCol=activeCol+1\n",
    "\n",
    "#Add separate colourbar axes\n",
    "#cbar_ax = f.add_axes([0.85, 0.15, 0.05, 0.7])\n",
    "\n",
    "#Autoscale none\n",
    "#fig.colorbar(axes[0][0], cax=cbar_ax)\n",
    "\n",
    "footnote = \"Note: Liquidity Risk versus Factors uses Weekly Dataset, with the exception of Inflation and Net Interest Income that use the Collected Monthly dataset\"\n",
    "plt.figtext(0.5, 0.01, footnote, ha=\"center\")\n",
    "\n",
    "plt.subplots_adjust(left=0.1,\n",
    "                    bottom=0.1,\n",
    "                    right=0.9,\n",
    "                    top=0.9,\n",
    "                    wspace=0.3,\n",
    "                    hspace=1.0)\n",
    "plt.show()"
   ]
  },
  {
   "cell_type": "code",
   "execution_count": null,
   "metadata": {},
   "outputs": [],
   "source": [
    "#intermediate banks\n",
    "\"\"\"\n",
    "B5412, B5512, B5213, B5413, B5613, B5014, B5914, B5115, \n",
    "B5515, B5815\n",
    "\n",
    "\"\"\"\n",
    "\n",
    "fig = plt.figure() \n",
    "fig, axes = plt.subplots(nrows = 6, ncols = 4, figsize=(15,12)) #, sharex=True, sharey = True)\n",
    "fig.suptitle('Liquidity Risk Versus Liquidity Risk Factors for Intermediate Commercial Banks in Tanzania 2010-2021')\n",
    "ncol = 4\n",
    "nrow = 6\n",
    "activeCol = 0\n",
    "mask = (df_new['MLA'] > 0) & (df_new['MLA'] < 100) & (\n",
    "    (df_new['INSTITUTIONCODE']=='B5412') | (df_new['INSTITUTIONCODE']=='B5512') |\n",
    "    (df_new['INSTITUTIONCODE']=='B5213') | (df_new['INSTITUTIONCODE']=='B5413') |\n",
    "    (df_new['INSTITUTIONCODE']=='B5613') | (df_new['INSTITUTIONCODE']=='B5014') |\n",
    "    (df_new['INSTITUTIONCODE']=='B5914') | (df_new['INSTITUTIONCODE']=='B5115') |\n",
    "    (df_new['INSTITUTIONCODE']=='B5515') | (df_new['INSTITUTIONCODE']=='B5815'))\n",
    "mask2 = (dataset['MLA'] > 0) & (dataset['MLA'] < 100) & ( \n",
    "    (df_new['INSTITUTIONCODE']=='B5412') | (df_new['INSTITUTIONCODE']=='B5512') |\n",
    "    (df_new['INSTITUTIONCODE']=='B5213') | (df_new['INSTITUTIONCODE']=='B5413') |\n",
    "    (df_new['INSTITUTIONCODE']=='B5613') | (df_new['INSTITUTIONCODE']=='B5014') |\n",
    "    (df_new['INSTITUTIONCODE']=='B5914') | (df_new['INSTITUTIONCODE']=='B5115') |\n",
    "    (df_new['INSTITUTIONCODE']=='B5515') | (df_new['INSTITUTIONCODE']=='B5815')    )\n",
    "for i in range(nrow):\n",
    "    for j in range(ncol):\n",
    "        #plt.subplot(ncol, nrow, activeCol)\n",
    "        if listFactors[activeCol] == 'INFLATION':\n",
    "            axes[i][j].scatter(dataset[mask2].loc[:,'INF'], dataset[mask2]['MLA'])\n",
    "        elif listFactors[activeCol]=='NETINTERESTINCOME':\n",
    "            axes[i][j].scatter(dataset[mask2].loc[:,'EWE_NetInterestIncome'], dataset[mask2]['MLA'])\n",
    "        else:\n",
    "            axes[i][j].scatter(df_new[mask].loc[:,listFactors[activeCol]], df_new[mask]['MLA'])\n",
    "        axes[i][j].set(xlabel=listVarNames[activeCol], ylabel=\"MLA\")\n",
    "        axes[i][j].set_title(listVarNames[activeCol] + ' vs MLA')\n",
    "        #axes[i][j].set_xlabel('Crosses', labelpad = 5)\n",
    "        \n",
    "        #axes[i][j].title(listVarNames[activeCol] + \" vs MLA\")\n",
    "        #axes[i][j].xlabel(listVarNames[activeCol])\n",
    "        #axes[i][j].ylabel('MLA')\n",
    "        if activeCol + 1 < len(listFactors):\n",
    "            activeCol=activeCol+1\n",
    "\n",
    "#Add separate colourbar axes\n",
    "#cbar_ax = f.add_axes([0.85, 0.15, 0.05, 0.7])\n",
    "\n",
    "#Autoscale none\n",
    "#fig.colorbar(axes[0][0], cax=cbar_ax)\n",
    "footnote = \"Note: Liquidity Risk versus Factors uses Weekly Dataset, with the exception of Inflation and Net Interest Income that use the Collected Monthly dataset\"\n",
    "plt.figtext(0.5, 0.01, footnote, ha=\"center\")\n",
    "\n",
    "plt.subplots_adjust(left=0.1,\n",
    "                    bottom=0.1,\n",
    "                    right=0.9,\n",
    "                    top=0.9,\n",
    "                    wspace=0.3,\n",
    "                    hspace=1.0)\n",
    "plt.show()"
   ]
  },
  {
   "cell_type": "code",
   "execution_count": null,
   "metadata": {},
   "outputs": [],
   "source": [
    "#small banks\n",
    "\"\"\"\n",
    "B5812, B5813, B5913, B5114, B5814, B5215, B5016, B5116, \n",
    "B5716, B5117, B5417, B5717, B5917, B5018, B5318, B5418, \n",
    "B5619, B5719, B5919, B5120\n",
    "\"\"\"\n",
    "\n",
    "fig = plt.figure() \n",
    "fig, axes = plt.subplots(nrows = 6, ncols = 4, figsize=(15,12)) #, sharex=True, sharey = True)\n",
    "fig.suptitle('Liquidity Risk Versus Liquidity Risk Factors for Small Commercial Banks in Tanzania 2010-2021')\n",
    "ncol = 4\n",
    "nrow = 6\n",
    "activeCol = 0\n",
    "mask = (df_new['MLA'] > 0) & (df_new['MLA'] < 100) & (\n",
    "    (df_new['INSTITUTIONCODE']=='B5812') | (df_new['INSTITUTIONCODE']=='B5813') |\n",
    "    (df_new['INSTITUTIONCODE']=='B5913') | (df_new['INSTITUTIONCODE']=='B5114') |\n",
    "    (df_new['INSTITUTIONCODE']=='B5814') | (df_new['INSTITUTIONCODE']=='B5215') |\n",
    "    (df_new['INSTITUTIONCODE']=='B5016') | (df_new['INSTITUTIONCODE']=='B5116') |\n",
    "    (df_new['INSTITUTIONCODE']=='B5716') | (df_new['INSTITUTIONCODE']=='B5117') |\n",
    "\n",
    "    (df_new['INSTITUTIONCODE']=='B5417') | (df_new['INSTITUTIONCODE']=='B5717') |\n",
    "    (df_new['INSTITUTIONCODE']=='B5917') | (df_new['INSTITUTIONCODE']=='B5018') |\n",
    "    (df_new['INSTITUTIONCODE']=='B5318') | (df_new['INSTITUTIONCODE']=='B5418') |\n",
    "    (df_new['INSTITUTIONCODE']=='B5619') | (df_new['INSTITUTIONCODE']=='B5719') |\n",
    "    (df_new['INSTITUTIONCODE']=='B5919') | (df_new['INSTITUTIONCODE']=='B5120') )\n",
    "mask2 = (dataset['MLA'] > 0) & (dataset['MLA'] < 100) & ( \n",
    "    (df_new['INSTITUTIONCODE']=='B5812') | (df_new['INSTITUTIONCODE']=='B5813') |\n",
    "    (df_new['INSTITUTIONCODE']=='B5913') | (df_new['INSTITUTIONCODE']=='B5114') |\n",
    "    (df_new['INSTITUTIONCODE']=='B5814') | (df_new['INSTITUTIONCODE']=='B5215') |\n",
    "    (df_new['INSTITUTIONCODE']=='B5016') | (df_new['INSTITUTIONCODE']=='B5116') |\n",
    "    (df_new['INSTITUTIONCODE']=='B5716') | (df_new['INSTITUTIONCODE']=='B5117') |\n",
    "\n",
    "    (df_new['INSTITUTIONCODE']=='B5417') | (df_new['INSTITUTIONCODE']=='B5717') |\n",
    "    (df_new['INSTITUTIONCODE']=='B5917') | (df_new['INSTITUTIONCODE']=='B5018') |\n",
    "    (df_new['INSTITUTIONCODE']=='B5318') | (df_new['INSTITUTIONCODE']=='B5418') |\n",
    "    (df_new['INSTITUTIONCODE']=='B5619') | (df_new['INSTITUTIONCODE']=='B5719') |\n",
    "    (df_new['INSTITUTIONCODE']=='B5919') | (df_new['INSTITUTIONCODE']=='B5120') )  \n",
    "for i in range(nrow):\n",
    "    for j in range(ncol):\n",
    "        #plt.subplot(ncol, nrow, activeCol)\n",
    "        if listFactors[activeCol] == 'INFLATION':\n",
    "            axes[i][j].scatter(dataset[mask2].loc[:,'INF'], dataset[mask2]['MLA'])\n",
    "        elif listFactors[activeCol]=='NETINTERESTINCOME':\n",
    "            axes[i][j].scatter(dataset[mask2].loc[:,'EWE_NetInterestIncome'], dataset[mask2]['MLA'])\n",
    "        else:\n",
    "            axes[i][j].scatter(df_new[mask].loc[:,listFactors[activeCol]], df_new[mask]['MLA'])\n",
    "        axes[i][j].set(xlabel=listVarNames[activeCol], ylabel=\"MLA\")\n",
    "        axes[i][j].set_title(listVarNames[activeCol] + ' vs MLA')\n",
    "        #axes[i][j].set_xlabel('Crosses', labelpad = 5)\n",
    "        \n",
    "        #axes[i][j].title(listVarNames[activeCol] + \" vs MLA\")\n",
    "        #axes[i][j].xlabel(listVarNames[activeCol])\n",
    "        #axes[i][j].ylabel('MLA')\n",
    "        if activeCol + 1 < len(listFactors):\n",
    "            activeCol=activeCol+1\n",
    "\n",
    "#Add separate colourbar axes\n",
    "#cbar_ax = f.add_axes([0.85, 0.15, 0.05, 0.7])\n",
    "\n",
    "#Autoscale none\n",
    "#fig.colorbar(axes[0][0], cax=cbar_ax)\n",
    "footnote = \"Note: Liquidity Risk versus Factors uses Weekly Dataset, with the exception of Inflation and Net Interest Income that use the Collected Monthly dataset\"\n",
    "plt.figtext(0.5, 0.01, footnote, ha=\"center\")\n",
    "\n",
    "plt.subplots_adjust(left=0.1,\n",
    "                    bottom=0.1,\n",
    "                    right=0.9,\n",
    "                    top=0.9,\n",
    "                    wspace=0.3,\n",
    "                    hspace=1.0)\n",
    "plt.show()"
   ]
  },
  {
   "cell_type": "code",
   "execution_count": null,
   "metadata": {},
   "outputs": [],
   "source": [
    "df_new[['XX_MLA_CLASS2','01_CURR_ACC']].corr(method='pearson', min_periods=1)"
   ]
  },
  {
   "cell_type": "code",
   "execution_count": null,
   "metadata": {},
   "outputs": [],
   "source": []
  },
  {
   "cell_type": "markdown",
   "metadata": {},
   "source": [
    "#### Features Selection"
   ]
  },
  {
   "cell_type": "markdown",
   "metadata": {},
   "source": [
    "##### (1) Test Multi-Collinearity and Features Correlation with Label"
   ]
  },
  {
   "cell_type": "code",
   "execution_count": null,
   "metadata": {},
   "outputs": [],
   "source": [
    "#.corr()\n",
    "plt.figure(figsize=(20,20))\n",
    "sns.heatmap(df_factors.iloc[:,2:-1].corr(),annot=True, vmin = -1, vmax=-0.2, cmap=\"Greens\", fmt='0.1')\n",
    "\n"
   ]
  },
  {
   "cell_type": "code",
   "execution_count": null,
   "metadata": {},
   "outputs": [],
   "source": []
  },
  {
   "cell_type": "code",
   "execution_count": null,
   "metadata": {
    "colab": {
     "base_uri": "https://localhost:8080/"
    },
    "executionInfo": {
     "elapsed": 131,
     "status": "ok",
     "timestamp": 1674385423987,
     "user": {
      "displayName": "rweyemamu barongo",
      "userId": "08892034532025439007"
     },
     "user_tz": -180
    },
    "id": "ixTxOf7D1NQn",
    "outputId": "cee2e960-3e4e-429d-81dd-3019dfded4ec"
   },
   "outputs": [],
   "source": [
    "#### Feature selection \n",
    "listVar = ['01_CURR_ACC',\n",
    "'02_TIME_DEPOSIT',\n",
    "'03_SAVINGS',\n",
    "'05_BANKS_DEPOSITS',\n",
    "'06_BORROWING_FROM_PUBLIC',\n",
    "'07_INTERBANKS_LOAN_PAYABLE',\n",
    "'08_CHEQUES_ISSUED',\n",
    "'09_PAY_ORDERS',\n",
    "'10_FOREIGN_DEPOSITS_AND_BORROWINGS',\n",
    "'11_OFF_BALSHEET_COMMITMENTS',\n",
    "'13_CASH',\n",
    "'14_CURRENT_ACC',\n",
    "'15_SMR_ACC',\n",
    "'19_BANKS_ABROAD',\n",
    "'21_INTERBANK_LOANS',\n",
    "'22_TREASURY_BILLS',\n",
    "'24_FOREIGN_CURRENCY',\n",
    "'XX_CUSTOMER_DEPOSITS',\n",
    "'XX_TOTAL_LIQUID_ASSET',\n",
    "'XX_BOT_BALANCE',\n",
    "'XX_BAL_IN_OTHER_BANKS',\n",
    "'F077_ASSETS_TOTAL',\n",
    "'F125_LIAB_TOTAL',\n",
    "'EWAQ_GrossLoans',\n",
    "'EWAQ_Capital',\n",
    "'MLA_CLASS2', #\n",
    "'TOTAL_DEPOSITS'\n",
    "]\n",
    "\n",
    "colsAll = []\n",
    "for i in range(len(listVar)):\n",
    "    cols = [col for col in   df_new.columns if  listVar[i] in col]\n",
    "    colsAll.append(cols)\n",
    "print(colsAll)"
   ]
  },
  {
   "cell_type": "code",
   "execution_count": null,
   "metadata": {
    "colab": {
     "base_uri": "https://localhost:8080/",
     "height": 53
    },
    "executionInfo": {
     "elapsed": 121,
     "status": "ok",
     "timestamp": 1674385423989,
     "user": {
      "displayName": "rweyemamu barongo",
      "userId": "08892034532025439007"
     },
     "user_tz": -180
    },
    "id": "EDJDc7fJMDxN",
    "outputId": "9b0d74e6-34e8-4350-d7a5-abf2931a41e7"
   },
   "outputs": [],
   "source": [
    "#X = df_new[['x1','x2','x3','x4','x5','x6','x7','x8','x9','EWL_LIQUIDITY RATING']]\n",
    "\"\"\"\n",
    "scaled_X = df_new[['EWL_LIQASSET_TOTAL',\n",
    "'EWL_LIQLIAB_TOTAL',\n",
    "'EWL_09. TOTAL DEPOSITS',\n",
    "\n",
    "'EWL_LIQLIAB_TIMEDEPOSIT',\n",
    "'EWL_Gross Loans to Total Deposits ',\n",
    "'F077_ASSETS_TOTAL',\n",
    "'F002_ASSET_BAL_BOT',\n",
    "'LR',\n",
    "'x7',\n",
    "'x11']]\n",
    "\n",
    "Y = df_new[['EWL_LIQUIDITY RATING']]\n",
    "\"\"\""
   ]
  },
  {
   "cell_type": "code",
   "execution_count": null,
   "metadata": {},
   "outputs": [],
   "source": [
    "df_new.columns"
   ]
  },
  {
   "cell_type": "code",
   "execution_count": null,
   "metadata": {
    "executionInfo": {
     "elapsed": 118,
     "status": "ok",
     "timestamp": 1674385423989,
     "user": {
      "displayName": "rweyemamu barongo",
      "userId": "08892034532025439007"
     },
     "user_tz": -180
    },
    "id": "qqNBgA2yp_-5"
   },
   "outputs": [],
   "source": [
    "#X = df_new[['x1','x2','x3','x4','x5','x6','x7','x8','x9']]\n",
    "\"\"\"\"\n",
    "(1) The features below worked for a bank B5015 and gave accuracy between 0.5 to 0.62 depending on tuning, problem was uniform accuracy\n",
    "    and uniform loss bank accuracy 0.62 wit 88 records\n",
    "scaled_X = df_new[['EWL_LIQASSET_TOTAL',\n",
    "'EWL_LIQLIAB_TOTAL',\n",
    "'EWL_09. TOTAL DEPOSITS',\n",
    "'EWL_LIQLIAB_TIMEDEPOSIT',\n",
    "'EWL_Gross Loans to Total Deposits ',\n",
    "'F077_ASSETS_TOTAL',\n",
    "'F002_ASSET_BAL_BOT',\n",
    "'LR']]\n",
    "Y = df_new[['EWL_LIQUIDITY RATING']]\n",
    "\n",
    "\"\"\"\n",
    "listInst = ['B5015','B5115','B5114']\n",
    "\n",
    "mask = ( #(df_new['INSTITUTIONCODE'] == 'B5014') |   #\n",
    "        # (df_new['INSTITUTIONCODE'] == 'B5015')   #|   #acc 1.0  \n",
    "         # (df_new['INSTITUTIONCODE'] == 'B5115')  |   #acc 0.75 \n",
    "          # (df_new['INSTITUTIONCODE'] == 'B5015') \n",
    "          ( df_new['INSTITUTIONCODE'] == df_new['INSTITUTIONCODE'])\n",
    "         #(df_new['INSTITUTIONCODE'] == 'B5919')     #\n",
    "        #(df_new['INSTITUTIONCODE'] == 'B5213')\n",
    "        ) \n",
    "\n",
    "\"\"\"\n",
    "scaled_X = df_new[mask][['EWL_LIQASSET_TOTAL',\n",
    "'EWL_LIQLIAB_TOTAL',\n",
    "'EWL_09. TOTAL DEPOSITS',\n",
    "'EWL_LIQLIAB_TIMEDEPOSIT',\n",
    "'EWL_Gross Loans to Total Deposits ',\n",
    "'F077_ASSETS_TOTAL',\n",
    "'F002_ASSET_BAL_BOT',\n",
    "'LR']]\n",
    "\"\"\"\n",
    "\"\"\"\n",
    "scaled_X = df_new[mask][['01_CURR_ACC',\n",
    "'02_TIME_DEPOSIT',\n",
    "'03_SAVINGS',\n",
    "'05_BANKS_DEPOSITS',\n",
    "'06_BORROWING_FROM_PUBLIC',\n",
    "'07_INTERBANKS_LOAN_PAYABLE',\n",
    "'08_CHEQUES_ISSUED',\n",
    "'09_PAY_ORDERS',\n",
    "'10_FOREIGN_DEPOSITS_AND_BORROWINGS',\n",
    "'11_OFF_BALSHEET_COMMITMENTS',\n",
    "'13_CASH',\n",
    "'14_CURRENT_ACC',\n",
    "'15_SMR_ACC',\n",
    "'19_BANKS_ABROAD',\n",
    "'21_INTERBANK_LOANS',\n",
    "'22_TREASURY_BILLS',\n",
    "'24_FOREIGN_CURRENCY',\n",
    "'XX_CUSTOMER_DEPOSITS',\n",
    "'XX_TOTAL_LIQUID_ASSET',\n",
    "'XX_BOT_BALANCE',\n",
    "'XX_BAL_IN_OTHER_BANKS',\n",
    "'F077_ASSETS_TOTAL',\n",
    "'F125_LIAB_TOTAL',\n",
    "'EWAQ_GrossLoans',\n",
    "'EWAQ_Capital']]\n",
    "\"\"\"\n",
    "\n",
    "\n",
    "\n",
    "\"\"\"\n",
    "scaled_X = df_new[mask][[\n",
    "#'02_TIME_DEPOSIT',\n",
    "#'03_SAVINGS','\n",
    "#'INSTITUTIONCODE',\n",
    "'XX_TOTAL_LIQUID_ASSET',\n",
    "'F125_LIAB_TOTAL',\n",
    "'XX_CUSTOMER_DEPOSITS',\n",
    "'05_BANKS_DEPOSITS',\n",
    "'02_TIME_DEPOSIT',\n",
    "'03_SAVINGS',\n",
    "'22_TREASURY_BILLS',\n",
    "'EWAQ_GrossLoans',\n",
    "'EWAQ_Capital',\n",
    "'F077_ASSETS_TOTAL',\n",
    "'F125_LIAB_TOTAL',\n",
    "'LR',\n",
    "'06_BORROWING_FROM_PUBLIC',\n",
    "'07_INTERBANKS_LOAN_PAYABLE',\n",
    "'19_BANKS_ABROAD',\n",
    "'EWAQ_NPLsNetOfProvisions',  #significant contribution\n",
    "'GDP', #little contribution\n",
    "'EWAQ_NPLsNetOfProvisions2CoreCapital', #little contribution\n",
    "#'EWAQ_NPL'  poor contribution\n",
    "#'XX_BAL_IN_OTHER_BANKS' poor contribution\n",
    "'XX_BOT_BALANCE', #significant contribution\n",
    "'21_INTERBANK_LOANS',\n",
    "'GL_TO_TOTAL_FUNDING', #not very significant accuracy boost\n",
    "'CD_TO_TOTAL_FUNDING',  #significant accuracy boost\n",
    "#'LiqAsset2DemandLiab',\n",
    "'ExcessShortTLiab2LongTAsset',\n",
    "#'CD_TO_TOTAL_ASSET'\n",
    "#'GL_TO_TOTAL_DEPOSITS'  #insignificant impact, reduction in accuracy, has high correlation with LiqAsset2DemLiab(-0.9)\n",
    "'LIQASSET2TOTALASSET'\n",
    "]]\n",
    "\"\"\"\n",
    "\n",
    "scaled_X = df_new[mask][[\n",
    "#'02_TIME_DEPOSIT',\n",
    "#'03_SAVINGS','\n",
    "#'INSTITUTIONCODE',\n",
    "##'XX_TOTAL_LIQUID_ASSET',\n",
    "##'F125_LIAB_TOTAL',\n",
    "##'XX_CUSTOMER_DEPOSITS',\n",
    "##'05_BANKS_DEPOSITS',\n",
    "##'02_TIME_DEPOSIT',\n",
    "##'03_SAVINGS',\n",
    "##'22_TREASURY_BILLS',\n",
    "##'EWAQ_GrossLoans',\n",
    "##'EWAQ_Capital',\n",
    "'BANKSIZE', \n",
    "#'F077_ASSETS_TOTAL',\n",
    "##'F125_LIAB_TOTAL',\n",
    "'LR',\n",
    "##'06_BORROWING_FROM_PUBLIC',\n",
    "##'07_INTERBANKS_LOAN_PAYABLE',\n",
    "##'19_BANKS_ABROAD',\n",
    "'EWAQ_NPLsNetOfProvisions',  #significant contribution\n",
    "'GDP', #little contribution\n",
    "'EWAQ_NPLsNetOfProvisions2CoreCapital', #little contribution\n",
    "#'EWAQ_NPL'  poor contribution\n",
    "#'XX_BAL_IN_OTHER_BANKS' poor contribution\n",
    "#'XX_BOT_BALANCE', #significant contribution\n",
    "##'21_INTERBANK_LOANS',\n",
    "#'GL_TO_TOTAL_FUNDING', #not very significant accuracy boost\n",
    "#'CD_TO_TOTAL_FUNDING',  #significant accuracy boost   #total funding includes loans, other than just deposit\n",
    "##'LiqAsset2DemandLiab',\n",
    "'ExcessShortTLiab2LongTAsset',\n",
    "'CD_TO_TOTAL_ASSET',\n",
    "#'GL_TO_TOTAL_DEPOSITS'  #insignificant impact, reduction in accuracy, has high correlation with LiqAsset2DemLiab(-0.9)\n",
    "'LIQASSET2TOTALASSET',\n",
    "#'LOAN2DEPOSIT' #,   \n",
    "'LIQASSET2DEPOSIT', #RWEY\n",
    "'TOTAL_DEPOSITS'\n",
    "]]\n",
    "#Y = df_new[mask][['EWL_LIQUIDITY RATING']]\n",
    "#Y = df_new[mask][['EWL_LIQUIDITY RATING']]\n",
    "Y = df_new[mask][['XX_MLA_CLASS2']]\n"
   ]
  },
  {
   "cell_type": "markdown",
   "metadata": {},
   "source": []
  },
  {
   "cell_type": "code",
   "execution_count": null,
   "metadata": {},
   "outputs": [],
   "source": []
  },
  {
   "cell_type": "code",
   "execution_count": null,
   "metadata": {},
   "outputs": [],
   "source": [
    "# df_tmp_results"
   ]
  },
  {
   "cell_type": "code",
   "execution_count": null,
   "metadata": {
    "colab": {
     "base_uri": "https://localhost:8080/"
    },
    "executionInfo": {
     "elapsed": 107,
     "status": "ok",
     "timestamp": 1674385423991,
     "user": {
      "displayName": "rweyemamu barongo",
      "userId": "08892034532025439007"
     },
     "user_tz": -180
    },
    "id": "NzIaTezr1aWB",
    "outputId": "919e6aa2-5aea-4f20-e4bb-e4058216a30f"
   },
   "outputs": [],
   "source": [
    "factors = pd.concat([scaled_X, Y], axis = 1)\n",
    "factors.columns"
   ]
  },
  {
   "cell_type": "code",
   "execution_count": null,
   "metadata": {
    "colab": {
     "base_uri": "https://localhost:8080/",
     "height": 52
    },
    "executionInfo": {
     "elapsed": 99,
     "status": "ok",
     "timestamp": 1674385423992,
     "user": {
      "displayName": "rweyemamu barongo",
      "userId": "08892034532025439007"
     },
     "user_tz": -180
    },
    "id": "-AxS3jmp1BXX",
    "outputId": "ee0441b5-e258-4ff3-d0bb-7f4aa8d0b8e5"
   },
   "outputs": [],
   "source": [
    "\n",
    "#.corr()\n",
    "plt.figure(figsize=(20,20))\n",
    "#sns.heatmap(factors.corr(),annot=True, vmin = -1, vmax=-0.2, cmap=\"Greens\", fmt='0.1')"
   ]
  },
  {
   "cell_type": "code",
   "execution_count": null,
   "metadata": {
    "colab": {
     "base_uri": "https://localhost:8080/"
    },
    "executionInfo": {
     "elapsed": 89,
     "status": "ok",
     "timestamp": 1674385423993,
     "user": {
      "displayName": "rweyemamu barongo",
      "userId": "08892034532025439007"
     },
     "user_tz": -180
    },
    "id": "x8JWi2ljg5Yk",
    "outputId": "ad83e41b-cb68-4bbe-ce04-b0a0226b3834"
   },
   "outputs": [],
   "source": [
    "scaled_X.info()"
   ]
  },
  {
   "cell_type": "code",
   "execution_count": null,
   "metadata": {
    "colab": {
     "base_uri": "https://localhost:8080/"
    },
    "executionInfo": {
     "elapsed": 50,
     "status": "ok",
     "timestamp": 1674385473443,
     "user": {
      "displayName": "rweyemamu barongo",
      "userId": "08892034532025439007"
     },
     "user_tz": -180
    },
    "id": "ZgcS_UhKV0Vu",
    "outputId": "ceed5cf0-0f56-4da1-bfc0-946224e8dd6a"
   },
   "outputs": [],
   "source": [
    "df_new.shape"
   ]
  },
  {
   "cell_type": "code",
   "execution_count": null,
   "metadata": {
    "colab": {
     "base_uri": "https://localhost:8080/",
     "height": 300
    },
    "executionInfo": {
     "elapsed": 45,
     "status": "ok",
     "timestamp": 1674385473444,
     "user": {
      "displayName": "rweyemamu barongo",
      "userId": "08892034532025439007"
     },
     "user_tz": -180
    },
    "id": "0G77PrV8V07I",
    "outputId": "61e472db-0d1d-4792-a3f0-3d8489f2c9b3"
   },
   "outputs": [],
   "source": [
    "df_new[mask].head()"
   ]
  },
  {
   "cell_type": "markdown",
   "metadata": {
    "executionInfo": {
     "elapsed": 39,
     "status": "ok",
     "timestamp": 1674385473445,
     "user": {
      "displayName": "rweyemamu barongo",
      "userId": "08892034532025439007"
     },
     "user_tz": -180
    },
    "id": "fALsDb2vWcd5"
   },
   "source": [
    "##### Correlation Analysis by Clusters (Big, Intermediate Banks, Small Banks)\n"
   ]
  },
  {
   "cell_type": "markdown",
   "metadata": {
    "executionInfo": {
     "elapsed": 53,
     "status": "ok",
     "timestamp": 1674385531909,
     "user": {
      "displayName": "rweyemamu barongo",
      "userId": "08892034532025439007"
     },
     "user_tz": -180
    },
    "id": "Z1r6EXmlVDCb"
   },
   "source": [
    "#### Ranking features based on importance"
   ]
  },
  {
   "cell_type": "code",
   "execution_count": null,
   "metadata": {},
   "outputs": [],
   "source": [
    "df_factors = df_new.rename(columns={\"CURRENTRATIO\": \"X1\", \n",
    "                           \"LIQASSET2DEPOSIT\": \"X2\",\n",
    "                           \"TOTAL_DEPOSITS\": \"X3\",\n",
    "                           \"CORE_DEPOSITS\": \"X4\",\n",
    "                           \"LOAN2DEPOSIT\": \"X5\",\n",
    "                           \"VOLATILEDEPOSITS2LIAB\": \"X6\",\n",
    "                           \"BOTBAL2TOTALDEPOSIT\": \"X7\",\n",
    "                           \"LOAN2COREDEPOSIT\": \"X10\",\n",
    "                           \"DOMESTICDEPOSIT2ASSETS\": \"X11\",\n",
    "                           \"BANKSIZE\": \"X12\",\n",
    "                           \"GDP\": \"X14\",\n",
    "                           \"LOAN2ASSETS\": \"X15\",\n",
    "                           \"EWAQ_NPL\": \"X16\",\n",
    "                           \"EWAQ_NPLsNetOfProvisions\": \"X17\",\n",
    "                           \"EWAQ_NPLsNetOfProvisions2CoreCapital\": \"X18\",\n",
    "                           \"LR\": \"X20\",\n",
    "                           \"CD_TO_TOTAL_ASSET\": \"X21\",\n",
    "                           \"LIQASSET2TOTALASSET\": \"X22\",\n",
    "                           \"ExcessShortTLiab2LongTAsset\": \"X23\",\n",
    "                           \"XX_MLA_CLASS2\": \"Y\"}, errors=\"raise\")"
   ]
  },
  {
   "cell_type": "code",
   "execution_count": null,
   "metadata": {},
   "outputs": [],
   "source": [
    "# Train a classifier\n",
    "from sklearn.ensemble import RandomForestClassifier\n",
    "clf = RandomForestClassifier(random_state=1)\n",
    "clf.fit(df_factors[['X1', \n",
    "                    'X2',\n",
    "                    'X3',\n",
    "                    'X4',\n",
    "                    'X5',\n",
    "                    'X6',\n",
    "                    'X7',\n",
    "                    'X10',\n",
    "                    'X11',\n",
    "                    'X12',\n",
    "                    'X14',\n",
    "                    'X15',\n",
    "                    'X16',\n",
    "                    'X17',\n",
    "                    'X18',\n",
    "                    'X20',\n",
    "                    'X21',\n",
    "                    'X22',\n",
    "                    'X23']].values, \n",
    "        df_factors['Y'].values)\n",
    "\n",
    "# Index sort the most important features\n",
    "sorted_feature_weight_idxes = np.argsort(clf.feature_importances_)[::-1] # Reverse sort\n",
    "\n",
    "# Get the most important features names and weights\n",
    "\n",
    "most_important_features = np.take_along_axis(\n",
    "    np.array(df_factors[['X1', \n",
    "                    'X2',\n",
    "                    'X3',\n",
    "                    'X4',\n",
    "                    'X5',\n",
    "                    'X6',\n",
    "                    'X7',\n",
    "                    'X10',\n",
    "                    'X11',\n",
    "                    'X12',\n",
    "                    'X14',\n",
    "                    'X15',\n",
    "                    'X16',\n",
    "                    'X17',\n",
    "                    'X18',\n",
    "                    'X20',\n",
    "                    'X21',\n",
    "                    'X22',\n",
    "                    'X23','Y']].iloc[:, 1:20].columns.tolist()), \n",
    "    sorted_feature_weight_idxes, axis=0)\n",
    "most_important_weights = np.take_along_axis(\n",
    "    np.array(clf.feature_importances_), \n",
    "    sorted_feature_weight_idxes, axis=0)\n",
    "\n",
    "# Show\n",
    "list(zip(most_important_features, most_important_weights))\n",
    "\n",
    "# [('Feature1', 0.59), ('Feature2', 0.41)]\n",
    "#source:https://gist.github.com/YousefGh/f6c42d5384cb53ac159082415fe43faa#file-kmeans_interp11-py"
   ]
  },
  {
   "cell_type": "code",
   "execution_count": null,
   "metadata": {},
   "outputs": [],
   "source": [
    "import matplotlib.pyplot as plt\n",
    "plt.barh(most_important_features, most_important_weights)\n",
    "plt.xlabel('Most Important Weights')\n",
    "plt.ylabel('Most Important Features')\n",
    "plt.title('Feature Importance ')\n",
    "plt.show()"
   ]
  },
  {
   "cell_type": "markdown",
   "metadata": {},
   "source": [
    "#### Confirmation of features "
   ]
  },
  {
   "cell_type": "code",
   "execution_count": null,
   "metadata": {},
   "outputs": [],
   "source": []
  },
  {
   "cell_type": "code",
   "execution_count": null,
   "metadata": {},
   "outputs": [],
   "source": [
    "#fig, ax = plt.subplots()\n",
    "#fig.suptitle('A single ax with no data')\n",
    "#fig, axes = plt.subplots(2, 2)\n",
    "#fig.suptitle('2 row x 2 columns axes with no dat')\n",
    "#fig, ax = plt.subplots(2, 2)\n",
    "fig, axes = plt.subplots(2, 4, sharex=True, figsize=(14,7))\n",
    "fig.suptitle('Benchmarking Bank B5916 with Industry Prior to its Failure in August 2018')\n",
    "#axes[0].set_title('Title of the first chart')\n",
    "\n",
    "#sns.barplot(ax=axes[0], x=bulbasaur.index, y=bulbasaur.values)\n",
    "#axes[0].set_title(bulbasaur.name)\n",
    "df_new['Core Dep./Dep.'] = df_new['CD_TO_TOTAL_DEPOSIT']\n",
    "df_new['Net NPLs'] = df_new['EWAQ_NPLsNetOfProvisions']\n",
    "df_new['Liq. Assets/Assets'] = df_new['LIQASSET2TOTALASSET']\n",
    "df_new['Liq. Assets/Deposits'] = df_new['LIQASSET2DEPOSIT']\n",
    "df_new['Net NPLs/Core Cap.'] = df_new['EWAQ_NPLsNetOfProvisions2CoreCapital']\n",
    "df_new['GL/Deposits'] = df_new['GL_TO_TOTAL_DEPOSITS']\n",
    "mask_bankM = (df_new['INSTITUTIONCODE']=='B5916')\n",
    "sns.lineplot(ax=axes[0,0], x=df_new['REPORTINGDATE'],y=df_new['Core Dep./Dep.'],label=\"TZ Banks\", color='b')\n",
    "sns.lineplot(ax=axes[0,0], x=df_new[mask_bankM]['REPORTINGDATE'],y=df_new[mask_bankM]['Core Dep./Dep.'], label=\"Bank B5916\", color='r')\n",
    "axes[0,0].set_title('Core Deposits to Deposits')\n",
    "#axes[0,0].set_ylabels('Core Deposits/Total Assets', size = 12)\n",
    "\n",
    "sns.lineplot(ax=axes[0,1],x=df_new['REPORTINGDATE'],y=df_new['Net NPLs'],label=\"TZ Banks\",color='b')\n",
    "sns.lineplot(ax=axes[0,1],x=df_new[mask_bankM]['REPORTINGDATE'],y=df_new[mask_bankM]['Net NPLs'], label=\"Bank B5916\", color='r')\n",
    "axes[0,1].axhline(0.05, color='r', linestyle='--')\n",
    "axes[0,1].set_title('Net NPLs')\n",
    "#axes[0,1].set_ylabels('Net NPLs', size = 12)\n",
    "sns.lineplot(ax=axes[0,2], x=df_new[df_new['LIQASSET2TOTALASSET']<1.5]['REPORTINGDATE'],y=df_new[df_new['Liq. Assets/Assets']<1.5]['Liq. Assets/Assets'],label=\"TZ Banks\",color='b')\n",
    "sns.lineplot(ax=axes[0,2], x=df_new[mask_bankM]['REPORTINGDATE'],y=df_new[mask_bankM]['Liq. Assets/Assets'], label=\"Bank B5916\", color='r')\n",
    "axes[0,2].set_title('Liquid Assets to Assets')\n",
    "#axes[1,0].set_ylabels('Liquid Assets/Assets', size = 12)\n",
    "mask_all = (df_new['LIQASSET2DEPOSIT']> -2) & (df_new['LIQASSET2DEPOSIT']<2)\n",
    "sns.lineplot(ax=axes[0,3],x=df_new[mask_all]['REPORTINGDATE'],y=df_new[mask_all]['Liq. Assets/Deposits'],label=\"TZ Banks\",color='b')\n",
    "sns.lineplot(ax=axes[0,3],x=df_new[mask_bankM]['REPORTINGDATE'],y=df_new[mask_bankM]['Liq. Assets/Deposits'], label=\"Bank B5916\", color='r')\n",
    "axes[0,3].set_title('Liquid Assets to Deposits')\n",
    "#axes[1,1].set_ylabels('Liquid Assets/Deposits', size = 12)\n",
    "sns.lineplot(ax=axes[1,0],x=df_new['REPORTINGDATE'],y=df_new['Net NPLs/Core Cap.'],label=\"TZ Banks\", color='b')\n",
    "sns.lineplot(ax=axes[1,0],x=df_new[mask_bankM]['REPORTINGDATE'],y=df_new[mask_bankM]['Net NPLs/Core Cap.'], label=\"Bank B5916\", color='r')\n",
    "axes[1,0].set_title('Net NPLs to Core Capital')\n",
    "#axes[2,0].set_ylabels('Net NPLs/Core Capital', size = 12)\n",
    "sns.lineplot(ax=axes[1,1],x=df_new['REPORTINGDATE'],y=df_new['MLA'],label=\"TZ Banks\", color='b')\n",
    "sns.lineplot(ax=axes[1,1],x=df_new[mask_bankM]['REPORTINGDATE'],y=df_new[mask_bankM]['MLA'], label=\"Bank B5916\", color='r')\n",
    "axes[1,1].axhline(20, color='r', linestyle='--')\n",
    "axes[1,1].set_title('MLA')\n",
    "\n",
    "mask_bankM = (df_new['INSTITUTIONCODE']=='B5916')\n",
    "mask = ((df_new['GL_TO_TOTAL_DEPOSITS']>-3) & (df_new['GL_TO_TOTAL_DEPOSITS']<3))\n",
    "sns.lineplot(ax=axes[1,2],x=df_new['REPORTINGDATE'],y=df_new[mask]['GL/Deposits'],label=\"Banks in TZ\", color='b')\n",
    "sns.lineplot(ax=axes[1,2],x=df_new[mask_bankM]['REPORTINGDATE'],y=df_new[mask_bankM][mask]['GL/Deposits'], label=\"Bank B5916\", color='r')\n",
    "axes[1,2].axhline(0.80, color='r', linestyle='--')\n",
    "axes[1,2].set_title('Gross Loans to Deposits')\n",
    "\n",
    "mask1  = ((df_new['INSTITUTIONCODE']=='B5916')&(df_new['REPORTINGDATE']<='25-FEB-2017'))\n",
    "mask2  = ((df_new['INSTITUTIONCODE']=='B5916')&(df_new['REPORTINGDATE']>'25-FEB-2017'))\n",
    "sns.lineplot(ax=axes[1,3],x=df_new[mask1]['REPORTINGDATE'],y=df_new[mask1]['MLA'], label=\"Negative Liquidity Risk\",color = 'b')\n",
    "sns.lineplot(ax=axes[1,3],x=df_new[mask2]['REPORTINGDATE'],y=df_new[mask2]['MLA'], label=\"Positive Liquidity Risk\",color='r')\n",
    "axes[1,3].axhline(20, color='r', linestyle='--')\n",
    "axes[1,3].set_title('MLA trends')\n",
    "#axes[2,1].set_ylabels('MLA', size = 12)\n",
    "#fig.text(0.5, 0.04, 'Reporting Date', ha='center')\n",
    "#fig.text(0.04, 0.5, 'common Y', va='center', rotation='vertical')\n",
    "\n",
    "footnote = \"Note: Bank B5916 had a seemingly good MLA 3 years prior to its failure but practically was under Liquidity Risk which is revealed by poor performanc in Liquidity Risk factors\"\n",
    "plt.figtext(0.5, 0.01, footnote, ha=\"center\")\n",
    "# Adjust the spacing between subplots\n",
    "plt.subplots_adjust(wspace=0.4)\n",
    "\n",
    "# Add space between the title and the plots\n",
    "plt.tight_layout()\n",
    "\n",
    "plt.plot()\n",
    "\n"
   ]
  },
  {
   "cell_type": "code",
   "execution_count": null,
   "metadata": {},
   "outputs": [],
   "source": [
    "#LOAN TO DEPOSIT\n",
    "mask_bankM = (df_new['INSTITUTIONCODE']=='B5916')\n",
    "mask = ((df_new['GL_TO_TOTAL_DEPOSITS']>-3) & (df_new['GL_TO_TOTAL_DEPOSITS']<3))\n",
    "sns.lineplot(x=df_new['REPORTINGDATE'],y=df_new[mask]['GL_TO_TOTAL_DEPOSITS'],label=\"Commercial Banks in TZ\", color='b')\n",
    "sns.lineplot(x=df_new[mask_bankM]['REPORTINGDATE'],y=df_new[mask_bankM][mask]['GL_TO_TOTAL_DEPOSITS'], label=\"Bank B5916\", color='r')\n",
    "#plt.axhline(20, color='r', linestyle='--')\n",
    "plt.title('Benchmarking Gross Loan to Deposit in Bank B5916 prior to failure')\n",
    "plt.ylabel('Gloss Loan to Total Deposits')\n",
    "plt.xlabel('Reporting Periods')\n",
    "plt.legend()\n",
    "plt.show()"
   ]
  },
  {
   "cell_type": "code",
   "execution_count": null,
   "metadata": {},
   "outputs": [],
   "source": [
    "#CD_TO_TOTAL_DEPOSIT\n",
    "mask_bankM = (df_new['INSTITUTIONCODE']=='B5916')\n",
    "sns.lineplot(x=df_new['REPORTINGDATE'],y=df_new['CD_TO_TOTAL_DEPOSIT'],label=\"Commercial Banks in TZ\", color='b')\n",
    "sns.lineplot(x=df_new[mask_bankM]['REPORTINGDATE'],y=df_new[mask_bankM]['CD_TO_TOTAL_DEPOSIT'], label=\"Bank B5916\", color='r')\n",
    "#plt.axhline(20, color='r', linestyle='--')\n",
    "plt.title('Benchmarking Deposit Structure in Bank B5916 prior to failure')\n",
    "plt.ylabel('Core Deposit to Total Deposit')\n",
    "plt.xlabel('Reporting Periods')\n",
    "plt.legend()\n",
    "plt.show()"
   ]
  },
  {
   "cell_type": "code",
   "execution_count": null,
   "metadata": {},
   "outputs": [],
   "source": [
    "#Liquidity Trends Bank B5916\n",
    "mask1  = ((df_new['INSTITUTIONCODE']=='B5916')&(df_new['REPORTINGDATE']<='25-FEB-2017'))\n",
    "mask2  = ((df_new['INSTITUTIONCODE']=='B5916')&(df_new['REPORTINGDATE']>'25-FEB-2017'))\n",
    "plt.plot(df_new[mask1]['REPORTINGDATE'],df_new[mask1]['MLA'], color = 'b')\n",
    "plt.plot(df_new[mask2]['REPORTINGDATE'],df_new[mask2]['MLA'], color='r')\n",
    "plt.axhline(20, color='r', linestyle='--')\n",
    "plt.title('Liquidity Trends in Bank B5916 prior to Failure')\n",
    "plt.ylabel('MLA')\n",
    "plt.xlabel('Reporting Periods')\n",
    "plt.show()"
   ]
  },
  {
   "cell_type": "code",
   "execution_count": null,
   "metadata": {},
   "outputs": [],
   "source": [
    "#NPL Net of Provisions\n",
    "mask1  = ((df_new['INSTITUTIONCODE']=='B5916')&(df_new['REPORTINGDATE']<='30-NOV-2013'))\n",
    "mask2  = ((df_new['INSTITUTIONCODE']=='B5916')&(df_new['REPORTINGDATE']>'30-NOV-2013'))\n",
    "plt.plot(df_new[mask1]['REPORTINGDATE'],df_new[mask1]['EWAQ_NPLsNetOfProvisions'], color = 'b')\n",
    "plt.plot(df_new[mask2]['REPORTINGDATE'],df_new[mask2]['EWAQ_NPLsNetOfProvisions'], color='r')\n",
    "plt.axhline(0.05, color='r', linestyle='--')\n",
    "plt.title('Trends of NPL Net of Provisions in Bank B5916 prior to failure')\n",
    "plt.ylabel('NPL Net of Provisions')\n",
    "plt.xlabel('Reporting Periods')\n",
    "plt.show()"
   ]
  },
  {
   "cell_type": "code",
   "execution_count": null,
   "metadata": {},
   "outputs": [],
   "source": [
    "#Quality of Credit Portfolio\n",
    "mask_bankM = (df_new['INSTITUTIONCODE']=='B5916')\n",
    "sns.lineplot(x=df_new['REPORTINGDATE'],y=df_new['EWAQ_NPLsNetOfProvisions'],label=\"Commercial Banks in TZ\",color='b')\n",
    "sns.lineplot(x=df_new[mask_bankM]['REPORTINGDATE'],y=df_new[mask_bankM]['EWAQ_NPLsNetOfProvisions'], label=\"Bank B5916\", color='r')\n",
    "plt.axhline(0.05, color='r', linestyle='--')\n",
    "plt.title('Benchmarking Quality of Credit in Bank B5916 prior to failure')\n",
    "plt.ylabel('NPL Net of Provisions')\n",
    "plt.xlabel('Reporting Periods')\n",
    "plt.legend()\n",
    "plt.show()"
   ]
  },
  {
   "cell_type": "code",
   "execution_count": null,
   "metadata": {},
   "outputs": [],
   "source": [
    "#Liquid assets to total assets\n",
    "mask_bankM = (df_new['INSTITUTIONCODE']=='B5916')\n",
    "sns.lineplot(x=df_new[df_new['LIQASSET2TOTALASSET']<1.5]['REPORTINGDATE'],y=df_new[df_new['LIQASSET2TOTALASSET']<1.5]['LIQASSET2TOTALASSET'],label=\"Commercial Banks in TZ\",color='b')\n",
    "sns.lineplot(x=df_new[mask_bankM]['REPORTINGDATE'],y=df_new[mask_bankM]['LIQASSET2TOTALASSET'], label=\"Bank B5916\", color='r')\n",
    "#plt.axhline(0.05, color='r', linestyle='--')\n",
    "plt.title('Benchmarking Assets Structure in Bank B5916 prior to failure')\n",
    "plt.ylabel('Liquid Asset to Total Assets')\n",
    "plt.xlabel('Reporting Periods')\n",
    "plt.legend()\n",
    "plt.show()"
   ]
  },
  {
   "cell_type": "code",
   "execution_count": null,
   "metadata": {},
   "outputs": [],
   "source": [
    "#Liquid assets to deposits\n",
    "mask_bankM = (df_new['INSTITUTIONCODE']=='B5916')\n",
    "mask_all = (df_new['LIQASSET2DEPOSIT']> -2) & (df_new['LIQASSET2DEPOSIT']<2)\n",
    "sns.lineplot(x=df_new[mask_all]['REPORTINGDATE'],y=df_new[mask_all]['LIQASSET2DEPOSIT'],label=\"Commercial Banks in TZ\",color='b')\n",
    "sns.lineplot(x=df_new[mask_bankM]['REPORTINGDATE'],y=df_new[mask_bankM]['LIQASSET2DEPOSIT'], label=\"Bank B5916\", color='r')\n",
    "#plt.axhline(0.05, color='r', linestyle='--')\n",
    "plt.title('Benchmarking Liquid Assets to Deposits in Bank B5916 prior to failure')\n",
    "plt.ylabel('Liquid Asset to Deposits Ratio')\n",
    "plt.xlabel('Reporting Periods')\n",
    "plt.legend()\n",
    "plt.show()"
   ]
  },
  {
   "cell_type": "code",
   "execution_count": null,
   "metadata": {},
   "outputs": [],
   "source": [
    "#CD_TO_TOTAL_ASSET  #Stability of Deposits \n",
    "mask_bankM = (df_new['INSTITUTIONCODE']=='B5916')\n",
    "sns.lineplot(x=df_new['REPORTINGDATE'],y=df_new['CD_TO_TOTAL_ASSET'],label=\"Commercial Banks in TZ\",color='b')\n",
    "sns.lineplot(x=df_new[mask_bankM]['REPORTINGDATE'],y=df_new[mask_bankM]['CD_TO_TOTAL_ASSET'], label=\"Bank B5916\", color='r')\n",
    "#plt.axhline(0.05, color='r', linestyle='--')\n",
    "plt.title('Benchmarking Trends of Funding Structure in Bank B5916 prior to failure')\n",
    "plt.ylabel('Core Deposit to Total Assets')\n",
    "plt.xlabel('Reporting Periods')\n",
    "plt.legend()\n",
    "plt.show()"
   ]
  },
  {
   "cell_type": "code",
   "execution_count": null,
   "metadata": {},
   "outputs": [],
   "source": [
    "mask_bankM = (df_new['INSTITUTIONCODE']=='B5916')\n",
    "sns.lineplot(x=df_new['REPORTINGDATE'],y=df_new['EWAQ_NPLsNetOfProvisions2CoreCapital'],label=\"Commercial Banks in TZ\")\n",
    "sns.lineplot(x=df_new[mask_bankM]['REPORTINGDATE'],y=df_new[mask_bankM]['EWAQ_NPLsNetOfProvisions2CoreCapital'], label=\"Bank B5916\")\n",
    "plt.axhline(0.05, color='r', linestyle='--')\n",
    "plt.title('Trends of NPL Net of Provisions To Core Capital in Bank B5916 prior to failure')\n",
    "plt.ylabel('NPL Net of Provisions to Core Capital')\n",
    "plt.xlabel('Reporting Periods')\n",
    "plt.legend()\n",
    "plt.show()"
   ]
  },
  {
   "cell_type": "code",
   "execution_count": null,
   "metadata": {},
   "outputs": [],
   "source": [
    "mask_bankM = (df_new['INSTITUTIONCODE']=='B5916')\n",
    "sns.lineplot(x=df_new['REPORTINGDATE'],y=df_new['MLA'],label=\"Commercial Banks in TZ\", color='b')\n",
    "sns.lineplot(x=df_new[mask_bankM]['REPORTINGDATE'],y=df_new[mask_bankM]['MLA'], label=\"Bank B5916\", color='r')\n",
    "plt.axhline(20, color='r', linestyle='--')\n",
    "plt.title('Benchmarking Liquidity in Bank B5916 prior to failure')\n",
    "plt.ylabel('Minimum Liquid Assets Ratio')\n",
    "plt.xlabel('Reporting Periods')\n",
    "plt.legend()\n",
    "plt.show()"
   ]
  },
  {
   "cell_type": "code",
   "execution_count": null,
   "metadata": {},
   "outputs": [],
   "source": [
    "#NPL Net of Provisions to Core Capital\n",
    "mask1  = ((df_new['INSTITUTIONCODE']=='B5916')&(df_new['REPORTINGDATE']<='30-NOV-2013'))\n",
    "mask2  = ((df_new['INSTITUTIONCODE']=='B5916')&(df_new['REPORTINGDATE']>'30-NOV-2013'))\n",
    "plt.plot(df_new[mask1]['REPORTINGDATE'],df_new[mask1]['EWAQ_NPLsNetOfProvisions'], color = 'b')\n",
    "plt.plot(df_new[mask2]['REPORTINGDATE'],df_new[mask2]['EWAQ_NPLsNetOfProvisions'], color='r')\n",
    "plt.axhline(0.05, color='r', linestyle='--')\n",
    "plt.title('Trends of NPL Net of Provisions in Bank B5916 prior to failure')\n",
    "plt.ylabel('NPL Net of Provisions')\n",
    "plt.xlabel('Reporting Periods')\n",
    "plt.show()"
   ]
  },
  {
   "cell_type": "code",
   "execution_count": null,
   "metadata": {},
   "outputs": [],
   "source": []
  },
  {
   "cell_type": "code",
   "execution_count": null,
   "metadata": {},
   "outputs": [],
   "source": [
    "factors = pd.concat([scaled_X, Y], axis = 1)\n",
    "factors.columns"
   ]
  },
  {
   "cell_type": "code",
   "execution_count": null,
   "metadata": {},
   "outputs": [],
   "source": []
  },
  {
   "cell_type": "code",
   "execution_count": null,
   "metadata": {},
   "outputs": [],
   "source": []
  },
  {
   "cell_type": "code",
   "execution_count": null,
   "metadata": {},
   "outputs": [],
   "source": [
    "scaled_X.info()"
   ]
  },
  {
   "cell_type": "code",
   "execution_count": null,
   "metadata": {},
   "outputs": [],
   "source": [
    "#df_new['MLAclass']=df_new['MLA'].apply(lambda x: 1 if x > 80 else)\n",
    "#x*10 if x<2 elif x<4 x**2 else x+10"
   ]
  },
  {
   "cell_type": "markdown",
   "metadata": {},
   "source": [
    "**Feature and Label selection**"
   ]
  },
  {
   "cell_type": "code",
   "execution_count": null,
   "metadata": {},
   "outputs": [],
   "source": [
    "#20\n",
    "#X = df_new[['x1','x2','x3','x4','x5','x6','x7','x8','x9']]\n",
    "\n",
    "listInst = ['B5015','B5115','B5114']\n",
    "\n",
    "mask = ( #(df_new['INSTITUTIONCODE'] == 'B5014') |   #\n",
    "        # (df_new['INSTITUTIONCODE'] == 'B5015')   #|   #acc 1.0   \n",
    "         # (df_new['INSTITUTIONCODE'] == 'B5115')  |   #acc 0.75  \n",
    "          # (df_new['INSTITUTIONCODE'] == 'B5015') \n",
    "          ( df_new['INSTITUTIONCODE'] == df_new['INSTITUTIONCODE'])\n",
    "         #(df_new['INSTITUTIONCODE'] == 'B5919')     #\n",
    "        #(df_new['INSTITUTIONCODE'] == 'B5213')\n",
    "        ) \n",
    "\n",
    "\"\"\"\n",
    "scaled_X = df_new[mask][['EWL_LIQASSET_TOTAL',\n",
    "'EWL_LIQLIAB_TOTAL',\n",
    "'EWL_09. TOTAL DEPOSITS',\n",
    "'EWL_LIQLIAB_TIMEDEPOSIT',\n",
    "'EWL_Gross Loans to Total Deposits ',\n",
    "'F077_ASSETS_TOTAL',\n",
    "'F002_ASSET_BAL_BOT',\n",
    "'LR']]\n",
    "\"\"\"\n",
    "\"\"\"\n",
    "scaled_X = df_new[mask][['01_CURR_ACC',\n",
    "'02_TIME_DEPOSIT',\n",
    "'03_SAVINGS',\n",
    "'05_BANKS_DEPOSITS',\n",
    "'06_BORROWING_FROM_PUBLIC',\n",
    "'07_INTERBANKS_LOAN_PAYABLE',\n",
    "'08_CHEQUES_ISSUED',\n",
    "'09_PAY_ORDERS',\n",
    "'10_FOREIGN_DEPOSITS_AND_BORROWINGS',\n",
    "'11_OFF_BALSHEET_COMMITMENTS',\n",
    "'13_CASH',\n",
    "'14_CURRENT_ACC',\n",
    "'15_SMR_ACC',\n",
    "'19_BANKS_ABROAD',\n",
    "'21_INTERBANK_LOANS',\n",
    "'22_TREASURY_BILLS',\n",
    "'24_FOREIGN_CURRENCY',\n",
    "'XX_CUSTOMER_DEPOSITS',\n",
    "'XX_TOTAL_LIQUID_ASSET',\n",
    "'XX_BOT_BALANCE',\n",
    "'XX_BAL_IN_OTHER_BANKS',\n",
    "'F077_ASSETS_TOTAL',\n",
    "'F125_LIAB_TOTAL',\n",
    "'EWAQ_GrossLoans',\n",
    "'EWAQ_Capital']]\n",
    "\"\"\"\n",
    "\n",
    "\n",
    "\n",
    "\"\"\"\n",
    "scaled_X = df_new[mask][[\n",
    "#'02_TIME_DEPOSIT',\n",
    "#'03_SAVINGS','\n",
    "#'INSTITUTIONCODE',\n",
    "'XX_TOTAL_LIQUID_ASSET',\n",
    "'F125_LIAB_TOTAL',\n",
    "'XX_CUSTOMER_DEPOSITS',\n",
    "'05_BANKS_DEPOSITS',\n",
    "'02_TIME_DEPOSIT',\n",
    "'03_SAVINGS',\n",
    "'22_TREASURY_BILLS',\n",
    "'EWAQ_GrossLoans',\n",
    "'EWAQ_Capital',\n",
    "'F077_ASSETS_TOTAL',\n",
    "'F125_LIAB_TOTAL',\n",
    "'LR',\n",
    "'06_BORROWING_FROM_PUBLIC',\n",
    "'07_INTERBANKS_LOAN_PAYABLE',\n",
    "'19_BANKS_ABROAD',\n",
    "'EWAQ_NPLsNetOfProvisions',  #significant contribution\n",
    "'GDP', #little contribution\n",
    "'EWAQ_NPLsNetOfProvisions2CoreCapital', #little contribution\n",
    "#'EWAQ_NPL'  poor contribution\n",
    "#'XX_BAL_IN_OTHER_BANKS' poor contribution\n",
    "'XX_BOT_BALANCE', #significant contribution\n",
    "'21_INTERBANK_LOANS',\n",
    "'GL_TO_TOTAL_FUNDING', #not very significant accuracy boost\n",
    "'CD_TO_TOTAL_FUNDING',  #significant accuracy boost\n",
    "#'LiqAsset2DemandLiab',\n",
    "'ExcessShortTLiab2LongTAsset',\n",
    "#'CD_TO_TOTAL_ASSET'\n",
    "#'GL_TO_TOTAL_DEPOSITS'  #insignificant impact, reduction in accuracy, has high correlation with LiqAsset2DemLiab(-0.9)\n",
    "'LIQASSET2TOTALASSET'\n",
    "]]\n",
    "\"\"\"\n",
    "scaled_X = df_new[[\n",
    "'REPORTINGDATE',    \n",
    "'INSTITUTIONCODE', \n",
    "#scaled_X = df_new[mask][[\n",
    "#'02_TIME_DEPOSIT',\n",
    "#'03_SAVINGS','\n",
    "#'INSTITUTIONCODE',\n",
    "##'XX_TOTAL_LIQUID_ASSET',\n",
    "##'F125_LIAB_TOTAL',\n",
    "##'XX_CUSTOMER_DEPOSITS',\n",
    "##'05_BANKS_DEPOSITS',\n",
    "##'02_TIME_DEPOSIT',\n",
    "##'03_SAVINGS',\n",
    "##'22_TREASURY_BILLS',\n",
    "##'EWAQ_GrossLoans',\n",
    "##'EWAQ_Capital',\n",
    "'BANKSIZE', \n",
    "#'F077_ASSETS_TOTAL',\n",
    "##'F125_LIAB_TOTAL',\n",
    "'LR',   \n",
    "##'06_BORROWING_FROM_PUBLIC',\n",
    "##'07_INTERBANKS_LOAN_PAYABLE',\n",
    "##'19_BANKS_ABROAD',\n",
    "'EWAQ_NPLsNetOfProvisions',  #significant contribution\n",
    "#'GDP', #little contribution\n",
    "'EWAQ_NPLsNetOfProvisions2CoreCapital', #little contribution\n",
    "'EWAQ_NPL',  #poor contribution\n",
    "#'XX_BAL_IN_OTHER_BANKS' poor contribution\n",
    "#'XX_BOT_BALANCE', #significant contribution\n",
    "##'21_INTERBANK_LOANS',\n",
    "#'GL_TO_TOTAL_FUNDING', #not very significant accuracy boost\n",
    "#'CD_TO_TOTAL_FUNDING',  #significant accuracy boost   #total funding includes loans, other than just deposit\n",
    "##'LiqAsset2DemandLiab',\n",
    "'ExcessShortTLiab2LongTAsset',\n",
    "'CD_TO_TOTAL_ASSET',\n",
    "#'GL_TO_TOTAL_DEPOSITS'  #insignificant impact, reduction in accuracy, has high correlation with LiqAsset2DemLiab(-0.9)\n",
    "'LIQASSET2TOTALASSET',\n",
    "#'LOAN2DEPOSIT' #,   \n",
    "'LIQASSET2DEPOSIT', #RWEY\n",
    "'TOTAL_DEPOSITS'\n",
    "]]\n",
    "#Y = df_new[mask][['EWL_LIQUIDITY RATING']]\n",
    "#Y = df_new[mask][['EWL_LIQUIDITY RATING']]\n",
    "#Y = df_new[mask][['XX_MLA_CLASS2']]\n",
    "Y = df_new[['XX_MLA_CLASS2']]\n"
   ]
  },
  {
   "cell_type": "code",
   "execution_count": null,
   "metadata": {},
   "outputs": [],
   "source": [
    "scaled_X.shape"
   ]
  },
  {
   "cell_type": "code",
   "execution_count": null,
   "metadata": {},
   "outputs": [],
   "source": [
    "#df_X = dataset[['x7','x11','x8','EWL_Core Deposits to Total Funding','EWL_Gross Loans to Total Deposits ','F006_ASSET_BAL_OTHER_BANKS','F014_ASSET_INV_DEBT_SECURITIES_TBILLS','INF','LR','EWL_LIQASSET_TBILLS','EWL_LIQASSET_TOTAL','LiqRisk','EWL_LIQUIDITY RATING','MLA']]\n",
    "#X = df_new[['x7','x11','x8','EWL_Core Deposits to Total Funding']] #,'EWL_Gross Loans to Total Deposits ','F006_ASSET_BAL_OTHER_BANKS','F014_ASSET_INV_DEBT_SECURITIES_TBILLS','INF','LR','EWL_LIQASSET_TBILLS','EWL_LIQASSET_TOTAL']]\n",
    "#Y = df_new[['LiqRisk']]\n",
    "\n",
    "#'LiqRisk','EWL_LIQUIDITY RATING','MLA'"
   ]
  },
  {
   "cell_type": "code",
   "execution_count": null,
   "metadata": {},
   "outputs": [],
   "source": [
    "#Export Model Inputs and Labels\n",
    "scaled_X.to_csv(config.model_inputs_X) #(\"inputs.csv\")\n",
    "Y.to_csv(config.model_inputs_Y) #(\"labels.csv\")"
   ]
  },
  {
   "cell_type": "code",
   "execution_count": null,
   "metadata": {},
   "outputs": [],
   "source": []
  }
 ],
 "metadata": {
  "accelerator": "GPU",
  "colab": {
   "authorship_tag": "ABX9TyOxIpEIXwn0UiqF/vyTeamE",
   "mount_file_id": "1svXdFleArbdJDJOsJD0jDob_8fFaUBQW",
   "provenance": [
    {
     "file_id": "1PQ9kTk3hJfKxeTVMqTztidcJyNDIUwKF",
     "timestamp": 1657599517852
    }
   ]
  },
  "gpuClass": "standard",
  "kernelspec": {
   "display_name": "Python 3 (ipykernel)",
   "language": "python",
   "name": "python3"
  },
  "language_info": {
   "codemirror_mode": {
    "name": "ipython",
    "version": 3
   },
   "file_extension": ".py",
   "mimetype": "text/x-python",
   "name": "python",
   "nbconvert_exporter": "python",
   "pygments_lexer": "ipython3",
   "version": "3.8.10"
  }
 },
 "nbformat": 4,
 "nbformat_minor": 4
}
