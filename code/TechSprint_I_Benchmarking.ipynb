{
  "cells": [
    {
      "cell_type": "markdown",
      "source": [
        "This notebook is using the ARIMA (AutoRegressive Integrated Moving Average) model from the statsmodels library to forecast time series data, specifically minimum liquid assets.  This traditional model serves as a benchmark model to the Temporal Fusion Transformer model."
      ],
      "metadata": {
        "id": "tbshGXwwagjS"
      },
      "id": "tbshGXwwagjS"
    },
    {
      "cell_type": "code",
      "execution_count": null,
      "id": "6fb2c8a8-b63a-4673-8d6b-1595f774b5a3",
      "metadata": {
        "pycharm": {
          "name": "#%%\n"
        },
        "id": "6fb2c8a8-b63a-4673-8d6b-1595f774b5a3"
      },
      "outputs": [],
      "source": [
        "from __future__ import annotations # allows multiple typing of arguments in Python versions prior to 3.10"
      ]
    },
    {
      "cell_type": "code",
      "execution_count": null,
      "id": "c423f97e-6734-44bb-8941-4f8357a164b7",
      "metadata": {
        "pycharm": {
          "name": "#%%\n"
        },
        "id": "c423f97e-6734-44bb-8941-4f8357a164b7"
      },
      "outputs": [],
      "source": [
        "# Code below included to ensure compatibility with scikit-learn v1.1.x\n",
        "from sklearn import set_config\n",
        "set_config(display='text')"
      ]
    },
    {
      "cell_type": "code",
      "execution_count": null,
      "id": "4b2c8f14-5540-4b0c-841e-f40e5d11a470",
      "metadata": {
        "pycharm": {
          "name": "#%%\n"
        },
        "id": "4b2c8f14-5540-4b0c-841e-f40e5d11a470"
      },
      "outputs": [],
      "source": [
        "#| include: false\n",
        "from nbdev.showdoc import show_doc"
      ]
    },
    {
      "cell_type": "code",
      "execution_count": null,
      "id": "3b170a4d-81f2-4ab2-8dba-e34f866f8eea",
      "metadata": {
        "pycharm": {
          "name": "#%%\n"
        },
        "id": "3b170a4d-81f2-4ab2-8dba-e34f866f8eea"
      },
      "outputs": [],
      "source": [
        "import numpy as np\n",
        "import pandas as pd\n",
        "import pandas.api.types as ptypes\n",
        "from gingado.model_documentation import ggdModelDocumentation, ModelCard\n",
        "from gingado.utils import read_attr\n",
        "from sklearn.base import BaseEstimator\n",
        "from sklearn.model_selection import TimeSeriesSplit, GridSearchCV\n",
        "from sklearn.pipeline import Pipeline\n",
        "from sklearn.utils.metaestimators import available_if\n",
        "from sklearn.utils.validation import check_is_fitted\n",
        "import warnings"
      ]
    },
    {
      "cell_type": "code",
      "execution_count": null,
      "id": "34b92f1b-9673-43ed-98cd-277d4b9b41bd",
      "metadata": {
        "pycharm": {
          "name": "#%%\n"
        },
        "id": "34b92f1b-9673-43ed-98cd-277d4b9b41bd"
      },
      "outputs": [],
      "source": [
        "df_new = pd.read_csv(\"../Data/final.csv\")"
      ]
    },
    {
      "cell_type": "code",
      "execution_count": null,
      "id": "64393026-fcfe-47c6-905e-b8d377c8da37",
      "metadata": {
        "pycharm": {
          "name": "#%%\n"
        },
        "id": "64393026-fcfe-47c6-905e-b8d377c8da37"
      },
      "outputs": [],
      "source": [
        "unnamedCols = [col for col in df_new.columns if 'Unnamed' in col]\n",
        "df_new.drop(columns=unnamedCols, inplace=True)"
      ]
    },
    {
      "cell_type": "code",
      "execution_count": null,
      "outputs": [
        {
          "name": "stderr",
          "output_type": "stream",
          "text": [
            "/var/folders/cd/427m1yk53zsfjp7fxx6bb17h0000gn/T/ipykernel_42572/268649099.py:22: UserWarning: Could not infer format, so each element will be parsed individually, falling back to `dateutil`. To ensure parsing is consistent and as-expected, please specify a format.\n",
            "  df_new['REPORTINGDATE'] = pd.to_datetime(df_new.REPORTINGDATE)\n"
          ]
        }
      ],
      "source": [
        "df_new['CORE_DEPOSITS']=df_new.apply(lambda x: x['01_CURR_ACC']+x['03_SAVINGS']+x['04_OTHER_DEPOSITS'], axis=1)\n",
        "df_new['TOTAL_DEPOSITS']=df_new.apply(lambda x: x['05_BANKS_DEPOSITS']+x['XX_CUSTOMER_DEPOSITS'], axis=1)\n",
        "df_new['GL_TO_TOTAL_FUNDING']=df_new.apply(lambda x: x['EWAQ_GrossLoans']/(x['F125_LIAB_TOTAL']+0.0001), axis=1)\n",
        "df_new['CD_TO_TOTAL_FUNDING']=df_new.apply(lambda x: x['CORE_DEPOSITS']/(x['F125_LIAB_TOTAL']+0.0001), axis=1)\n",
        "df_new['CD_TO_TOTAL_ASSET']=df_new.apply(lambda x: x['CORE_DEPOSITS']/(x['F077_ASSETS_TOTAL']+0.0001), axis=1)\n",
        "df_new['CD_TO_TOTAL_DEPOSIT']=df_new.apply(lambda x: x['CORE_DEPOSITS']/(x['TOTAL_DEPOSITS']+0.0001), axis=1)\n",
        "df_new['LiqAsset2DemandLiab']=df_new.apply(lambda x: x['XX_TOTAL_LIQUID_ASSET']/(x['CORE_DEPOSITS'] + x['02_TIME_DEPOSIT']+0.0001), axis=1)\n",
        "df_new['ExcessShortTLiab2LongTAsset']=df_new.apply(lambda x: (x['CORE_DEPOSITS'] + x['02_TIME_DEPOSIT']-x['XX_TOTAL_LIQUID_ASSET'])/(x['F077_ASSETS_TOTAL'] - x['XX_TOTAL_LIQUID_ASSET']+0.0001), axis=1)\n",
        "df_new['CD_TO_TOTAL_ASSET']=df_new.apply(lambda x: x['CORE_DEPOSITS']/(x['F077_ASSETS_TOTAL']+0.0001), axis=1)\n",
        "df_new['GL_TO_TOTAL_DEPOSITS']=df_new.apply(lambda x: x['EWAQ_GrossLoans']/(x['CORE_DEPOSITS'] + x['02_TIME_DEPOSIT']+0.0001), axis=1)\n",
        "df_new['LIQASSET2TOTALASSET']=df_new.apply(lambda x: x['XX_TOTAL_LIQUID_ASSET']/(x['F077_ASSETS_TOTAL'] +0.0001), axis=1)\n",
        "df_new['BANKSIZE']= np.log10(df_new['F077_ASSETS_TOTAL'])\n",
        "df_new['LOAN2DEPOSIT']= df_new.apply(lambda x: x['EWAQ_GrossLoans']/(x['CORE_DEPOSITS'] + x['02_TIME_DEPOSIT'] +0.0001), axis=1)\n",
        "df_new['LIQASSET2DEPOSIT']= df_new.apply(lambda x: x['XX_TOTAL_LIQUID_ASSET']/(x['CORE_DEPOSITS'] + x['02_TIME_DEPOSIT']+0.0001), axis=1)\n",
        "df_new['CURRENTRATIO']= df_new.apply(lambda x: x['XX_TOTAL_LIQUID_ASSET']/(x['XX_TOTAL_LIQUID_LIAB'] + 0.0001), axis=1)\n",
        "df_new['LIQASSET2TOTALASSET']= df_new.apply(lambda x: x['XX_TOTAL_LIQUID_ASSET']/(x['F077_ASSETS_TOTAL'] + 0.0001), axis=1)\n",
        "df_new['VOLATILEDEPOSITS2LIAB']= df_new.apply(lambda x: (x['XX_TOTAL_LIQUID_ASSET']-x['CORE_DEPOSITS'])/(x['F125_LIAB_TOTAL'] + 0.0001), axis=1)\n",
        "df_new['LOAN2ASSETS']= df_new.apply(lambda x: x['EWAQ_GrossLoans']/(x['F077_ASSETS_TOTAL']+0.0001), axis=1)\n",
        "df_new['DOMESTICDEPOSIT2ASSETS']= df_new.apply(lambda x: (x['TOTAL_DEPOSITS']-x['10_FOREIGN_DEPOSITS_AND_BORROWINGS'])/(x['F077_ASSETS_TOTAL']+0.0001), axis=1)\n",
        "df_new['LOAN2COREDEPOSIT']= df_new.apply(lambda x: x['EWAQ_GrossLoans']/(x['CORE_DEPOSITS']+0.0001), axis=1)\n",
        "df_new['BOTBAL2TOTALDEPOSIT']= df_new.apply(lambda x: x['XX_BOT_BALANCE']/(x['TOTAL_DEPOSITS']+0.0001), axis=1)\n",
        "df_new['REPORTINGDATE'] = pd.to_datetime(df_new.REPORTINGDATE)"
      ],
      "metadata": {
        "pycharm": {
          "name": "#%%\n"
        },
        "id": "lf0-eGwvaOmL",
        "outputId": "825beae3-8d44-46d3-b6b1-a266342ee937"
      },
      "id": "lf0-eGwvaOmL"
    },
    {
      "cell_type": "code",
      "execution_count": null,
      "id": "f75c9ba4-2479-4c30-9010-2607aa0715cf",
      "metadata": {
        "pycharm": {
          "name": "#%%\n"
        },
        "id": "f75c9ba4-2479-4c30-9010-2607aa0715cf"
      },
      "outputs": [],
      "source": [
        "from statsmodels.tsa.arima.model import ARIMA\n",
        "from statsmodels.tsa.arima.model import ARIMAResults\n",
        "from sklearn.metrics import mean_squared_error\n",
        "from math import sqrt"
      ]
    },
    {
      "cell_type": "code",
      "execution_count": null,
      "id": "6ba883c0-1574-4616-89f2-4ca732830304",
      "metadata": {
        "pycharm": {
          "name": "#%%\n"
        },
        "id": "6ba883c0-1574-4616-89f2-4ca732830304",
        "outputId": "aa6acda2-65c4-4a0f-fb3a-c1e9ca9d24f6"
      },
      "outputs": [
        {
          "data": {
            "text/plain": "              INSTITUTIONCODE     XX_MLA\nREPORTINGDATE                           \n2010-05-02              B5014  86.898135\n2010-12-02              B5014  89.545334\n2010-02-19              B5014  90.997005\n2010-02-26              B5014  83.580184\n2010-05-03              B5014  80.905077\n...                       ...        ...\n2021-10-12              B5919  52.676231\n2021-12-17              B5919  61.124212\n2021-12-24              B5919  61.384902\n2021-12-31              B5919  58.155715\n2021-12-31              B5919  58.155715\n\n[20878 rows x 2 columns]",
            "text/html": "<div>\n<style scoped>\n    .dataframe tbody tr th:only-of-type {\n        vertical-align: middle;\n    }\n\n    .dataframe tbody tr th {\n        vertical-align: top;\n    }\n\n    .dataframe thead th {\n        text-align: right;\n    }\n</style>\n<table border=\"1\" class=\"dataframe\">\n  <thead>\n    <tr style=\"text-align: right;\">\n      <th></th>\n      <th>INSTITUTIONCODE</th>\n      <th>XX_MLA</th>\n    </tr>\n    <tr>\n      <th>REPORTINGDATE</th>\n      <th></th>\n      <th></th>\n    </tr>\n  </thead>\n  <tbody>\n    <tr>\n      <th>2010-05-02</th>\n      <td>B5014</td>\n      <td>86.898135</td>\n    </tr>\n    <tr>\n      <th>2010-12-02</th>\n      <td>B5014</td>\n      <td>89.545334</td>\n    </tr>\n    <tr>\n      <th>2010-02-19</th>\n      <td>B5014</td>\n      <td>90.997005</td>\n    </tr>\n    <tr>\n      <th>2010-02-26</th>\n      <td>B5014</td>\n      <td>83.580184</td>\n    </tr>\n    <tr>\n      <th>2010-05-03</th>\n      <td>B5014</td>\n      <td>80.905077</td>\n    </tr>\n    <tr>\n      <th>...</th>\n      <td>...</td>\n      <td>...</td>\n    </tr>\n    <tr>\n      <th>2021-10-12</th>\n      <td>B5919</td>\n      <td>52.676231</td>\n    </tr>\n    <tr>\n      <th>2021-12-17</th>\n      <td>B5919</td>\n      <td>61.124212</td>\n    </tr>\n    <tr>\n      <th>2021-12-24</th>\n      <td>B5919</td>\n      <td>61.384902</td>\n    </tr>\n    <tr>\n      <th>2021-12-31</th>\n      <td>B5919</td>\n      <td>58.155715</td>\n    </tr>\n    <tr>\n      <th>2021-12-31</th>\n      <td>B5919</td>\n      <td>58.155715</td>\n    </tr>\n  </tbody>\n</table>\n<p>20878 rows × 2 columns</p>\n</div>"
          },
          "execution_count": 182,
          "metadata": {},
          "output_type": "execute_result"
        }
      ],
      "source": [
        "df_new = df_new[['REPORTINGDATE','INSTITUTIONCODE','XX_MLA']].set_index('REPORTINGDATE')\n",
        "df_new"
      ]
    },
    {
      "cell_type": "code",
      "execution_count": null,
      "outputs": [],
      "source": [
        "def RMSE(data,cutoff,p,d,q):\n",
        " with warnings.catch_warnings():\n",
        "  warnings.simplefilter('ignore')\n",
        "  try:\n",
        "   X_train = data[data.index <cutoff]\n",
        "   X_test = data[data.index >=cutoff]\n",
        "   model = ARIMA(X_train, order=(p,d,q))\n",
        "   results = model.fit()\n",
        "   fitted = results.apply(X_test)\n",
        "   df_ = fitted.fittedvalues\n",
        "   df_.iloc[0] = results.forecast(1)\n",
        "   _df = pd.concat([X_test,df_],axis=1)\n",
        "   _df.columns = [\"actual\", \"fitted\"]\n",
        "   _df['difference'] = (_df.actual-_df.fitted)**2\n",
        "   return np.sqrt(_df.difference.mean())\n",
        "  except:\n",
        "   np.nan\n",
        "\n",
        "\n",
        "\n",
        "# plot forecasts against actual outcomes"
      ],
      "metadata": {
        "pycharm": {
          "name": "#%%\n"
        },
        "id": "uuxHqpKzaOmM"
      },
      "id": "uuxHqpKzaOmM"
    },
    {
      "cell_type": "code",
      "execution_count": null,
      "outputs": [
        {
          "name": "stderr",
          "output_type": "stream",
          "text": [
            "/var/folders/cd/427m1yk53zsfjp7fxx6bb17h0000gn/T/ipykernel_42572/3931336517.py:1: FutureWarning: The behavior of DataFrame concatenation with empty or all-NA entries is deprecated. In a future version, this will no longer exclude empty or all-NA columns when determining the result dtypes. To retain the old behavior, exclude the relevant entries before the concat operation.\n",
            "  df_new['RMSE'] =df_new.groupby('INSTITUTIONCODE').transform(lambda x: RMSE(x,'2019-01-01',1,1,1))\n"
          ]
        }
      ],
      "source": [
        "df_new['RMSE'] =df_new.groupby('INSTITUTIONCODE').transform(lambda x: RMSE(x,'2019-01-01',1,1,1))"
      ],
      "metadata": {
        "pycharm": {
          "name": "#%%\n"
        },
        "id": "SOot-ajBaOmN",
        "outputId": "c8fdb260-c0ad-4914-84bf-cfea9cad9fbe"
      },
      "id": "SOot-ajBaOmN"
    },
    {
      "cell_type": "code",
      "execution_count": null,
      "outputs": [
        {
          "data": {
            "text/plain": "13.27221080054615"
          },
          "execution_count": 207,
          "metadata": {},
          "output_type": "execute_result"
        }
      ],
      "source": [
        "df_new.RMSE.dropna().unique().mean()"
      ],
      "metadata": {
        "pycharm": {
          "name": "#%%\n"
        },
        "id": "kYBDUe-TaOmN",
        "outputId": "b3437a1f-cbb6-4ce8-a459-6769f84bb2e6"
      },
      "id": "kYBDUe-TaOmN"
    },
    {
      "cell_type": "code",
      "execution_count": null,
      "outputs": [],
      "source": [
        "data = df_new[df_new.INSTITUTIONCODE=='B5014'][['XX_MLA']]\n",
        "X_train = data[data.index <'2019-01-01']\n",
        "X_test = data[data.index >='2019-01-01']\n"
      ],
      "metadata": {
        "pycharm": {
          "name": "#%%\n"
        },
        "id": "oIE0QJeUaOmN"
      },
      "id": "oIE0QJeUaOmN"
    },
    {
      "cell_type": "markdown",
      "source": [
        "# Model Overview\n",
        "This section creates and fits an ARIMA model to the training data (`X_train`) with a specified order of (1,1,1).\n",
        "It forecasts future values using the fitted model, then calculates and stores the squared difference between\n",
        "the actual values (`X_test`) and the fitted values. Finally, it computes the root mean squared error (RMSE)\n",
        "to evaluate the model's prediction accuracy."
      ],
      "metadata": {
        "id": "Jh2HkmfeaU10"
      },
      "id": "Jh2HkmfeaU10"
    },
    {
      "cell_type": "code",
      "execution_count": null,
      "outputs": [
        {
          "name": "stderr",
          "output_type": "stream",
          "text": [
            "/usr/local/lib/python3.9/site-packages/statsmodels/tsa/base/tsa_model.py:473: ValueWarning: A date index has been provided, but it has no associated frequency information and so will be ignored when e.g. forecasting.\n",
            "  self._init_dates(dates, freq)\n",
            "/usr/local/lib/python3.9/site-packages/statsmodels/tsa/base/tsa_model.py:473: ValueWarning: A date index has been provided, but it is not monotonic and so will be ignored when e.g. forecasting.\n",
            "  self._init_dates(dates, freq)\n",
            "/usr/local/lib/python3.9/site-packages/statsmodels/tsa/base/tsa_model.py:473: ValueWarning: A date index has been provided, but it has no associated frequency information and so will be ignored when e.g. forecasting.\n",
            "  self._init_dates(dates, freq)\n",
            "/usr/local/lib/python3.9/site-packages/statsmodels/tsa/base/tsa_model.py:473: ValueWarning: A date index has been provided, but it is not monotonic and so will be ignored when e.g. forecasting.\n",
            "  self._init_dates(dates, freq)\n",
            "/usr/local/lib/python3.9/site-packages/statsmodels/tsa/base/tsa_model.py:473: ValueWarning: A date index has been provided, but it has no associated frequency information and so will be ignored when e.g. forecasting.\n",
            "  self._init_dates(dates, freq)\n",
            "/usr/local/lib/python3.9/site-packages/statsmodels/tsa/base/tsa_model.py:473: ValueWarning: A date index has been provided, but it is not monotonic and so will be ignored when e.g. forecasting.\n",
            "  self._init_dates(dates, freq)\n",
            "/usr/local/lib/python3.9/site-packages/statsmodels/tsa/base/tsa_model.py:473: ValueWarning: A date index has been provided, but it has no associated frequency information and so will be ignored when e.g. forecasting.\n",
            "  self._init_dates(dates, freq)\n",
            "/usr/local/lib/python3.9/site-packages/statsmodels/tsa/base/tsa_model.py:473: ValueWarning: A date index has been provided, but it is not monotonic and so will be ignored when e.g. forecasting.\n",
            "  self._init_dates(dates, freq)\n",
            "/usr/local/lib/python3.9/site-packages/statsmodels/tsa/base/tsa_model.py:473: ValueWarning: A date index has been provided, but it has no associated frequency information and so will be ignored when e.g. forecasting.\n",
            "  self._init_dates(dates, freq)\n",
            "/usr/local/lib/python3.9/site-packages/statsmodels/tsa/base/tsa_model.py:473: ValueWarning: A date index has been provided, but it is not monotonic and so will be ignored when e.g. forecasting.\n",
            "  self._init_dates(dates, freq)\n",
            "/usr/local/lib/python3.9/site-packages/statsmodels/tsa/base/tsa_model.py:473: ValueWarning: A date index has been provided, but it has no associated frequency information and so will be ignored when e.g. forecasting.\n",
            "  self._init_dates(dates, freq)\n",
            "/usr/local/lib/python3.9/site-packages/statsmodels/tsa/base/tsa_model.py:473: ValueWarning: A date index has been provided, but it is not monotonic and so will be ignored when e.g. forecasting.\n",
            "  self._init_dates(dates, freq)\n"
          ]
        },
        {
          "data": {
            "text/plain": "<statsmodels.tsa.arima.model.ARIMAResultsWrapper at 0x130d74340>"
          },
          "execution_count": 184,
          "metadata": {},
          "output_type": "execute_result"
        }
      ],
      "source": [
        "model = ARIMA(X_train, order=(1,1,1))\n",
        "results = model.fit()\n",
        "fitted = results.apply(X_test)\n",
        "df_ = fitted.fittedvalues\n",
        "df_.iloc[0] = results.forecast(1)\n",
        "_df = pd.concat([X_test,df_],axis=1)\n",
        "_df.columns = [\"actual\", \"fitted\"]\n",
        "_df['difference'] = (_df.actual-_df.fitted)**2\n",
        "np.sqrt(_df.difference.mean())"
      ],
      "metadata": {
        "pycharm": {
          "name": "#%%\n"
        },
        "id": "ieJDrb1waOmN",
        "outputId": "de8f4619-61bb-4256-aafe-4ff611c261f9"
      },
      "id": "ieJDrb1waOmN"
    },
    {
      "cell_type": "code",
      "execution_count": null,
      "outputs": [],
      "source": [],
      "metadata": {
        "pycharm": {
          "name": "#%%\n",
          "is_executing": true
        },
        "id": "pq2Q2BRKaOmN"
      },
      "id": "pq2Q2BRKaOmN"
    },
    {
      "cell_type": "code",
      "execution_count": null,
      "outputs": [],
      "source": [],
      "metadata": {
        "pycharm": {
          "name": "#%%\n"
        },
        "id": "70pahsXIaOmN"
      },
      "id": "70pahsXIaOmN"
    },
    {
      "cell_type": "code",
      "execution_count": null,
      "outputs": [],
      "source": [],
      "metadata": {
        "pycharm": {
          "name": "#%%\n"
        },
        "id": "fGQNmkiraOmN"
      },
      "id": "fGQNmkiraOmN"
    },
    {
      "cell_type": "code",
      "execution_count": null,
      "outputs": [
        {
          "data": {
            "text/plain": "11.514077124419153"
          },
          "execution_count": 195,
          "metadata": {},
          "output_type": "execute_result"
        }
      ],
      "source": [],
      "metadata": {
        "pycharm": {
          "name": "#%%\n"
        },
        "id": "BbiIDI_UaOmO",
        "outputId": "86130ff4-59f1-482a-a1d6-ec9441dae071"
      },
      "id": "BbiIDI_UaOmO"
    },
    {
      "cell_type": "code",
      "execution_count": null,
      "outputs": [
        {
          "ename": "InvalidIndexError",
          "evalue": "(slice(None, None, None), slice(1, None, None))",
          "output_type": "error",
          "traceback": [
            "\u001b[0;31m---------------------------------------------------------------------------\u001b[0m",
            "\u001b[0;31mTypeError\u001b[0m                                 Traceback (most recent call last)",
            "\u001b[0;32m/usr/local/lib/python3.9/site-packages/pandas/core/indexes/base.py\u001b[0m in \u001b[0;36mget_loc\u001b[0;34m(self, key)\u001b[0m\n\u001b[1;32m   3804\u001b[0m         \u001b[0;32mtry\u001b[0m\u001b[0;34m:\u001b[0m\u001b[0;34m\u001b[0m\u001b[0;34m\u001b[0m\u001b[0m\n\u001b[0;32m-> 3805\u001b[0;31m             \u001b[0;32mreturn\u001b[0m \u001b[0mself\u001b[0m\u001b[0;34m.\u001b[0m\u001b[0m_engine\u001b[0m\u001b[0;34m.\u001b[0m\u001b[0mget_loc\u001b[0m\u001b[0;34m(\u001b[0m\u001b[0mcasted_key\u001b[0m\u001b[0;34m)\u001b[0m\u001b[0;34m\u001b[0m\u001b[0;34m\u001b[0m\u001b[0m\n\u001b[0m\u001b[1;32m   3806\u001b[0m         \u001b[0;32mexcept\u001b[0m \u001b[0mKeyError\u001b[0m \u001b[0;32mas\u001b[0m \u001b[0merr\u001b[0m\u001b[0;34m:\u001b[0m\u001b[0;34m\u001b[0m\u001b[0;34m\u001b[0m\u001b[0m\n",
            "\u001b[0;32mindex.pyx\u001b[0m in \u001b[0;36mpandas._libs.index.IndexEngine.get_loc\u001b[0;34m()\u001b[0m\n",
            "\u001b[0;32mindex.pyx\u001b[0m in \u001b[0;36mpandas._libs.index.IndexEngine.get_loc\u001b[0;34m()\u001b[0m\n",
            "\u001b[0;31mTypeError\u001b[0m: '(slice(None, None, None), slice(1, None, None))' is an invalid key",
            "\nDuring handling of the above exception, another exception occurred:\n",
            "\u001b[0;31mInvalidIndexError\u001b[0m                         Traceback (most recent call last)",
            "\u001b[0;32m/var/folders/cd/427m1yk53zsfjp7fxx6bb17h0000gn/T/ipykernel_42572/3244773458.py\u001b[0m in \u001b[0;36m<module>\u001b[0;34m\u001b[0m\n\u001b[0;32m----> 1\u001b[0;31m \u001b[0m_df\u001b[0m\u001b[0;34m[\u001b[0m\u001b[0;34m:\u001b[0m\u001b[0;34m,\u001b[0m\u001b[0;36m1\u001b[0m\u001b[0;34m:\u001b[0m\u001b[0;34m]\u001b[0m\u001b[0;34m\u001b[0m\u001b[0;34m\u001b[0m\u001b[0m\n\u001b[0m",
            "\u001b[0;32m/usr/local/lib/python3.9/site-packages/pandas/core/frame.py\u001b[0m in \u001b[0;36m__getitem__\u001b[0;34m(self, key)\u001b[0m\n\u001b[1;32m   4100\u001b[0m             \u001b[0;32mif\u001b[0m \u001b[0mself\u001b[0m\u001b[0;34m.\u001b[0m\u001b[0mcolumns\u001b[0m\u001b[0;34m.\u001b[0m\u001b[0mnlevels\u001b[0m \u001b[0;34m>\u001b[0m \u001b[0;36m1\u001b[0m\u001b[0;34m:\u001b[0m\u001b[0;34m\u001b[0m\u001b[0;34m\u001b[0m\u001b[0m\n\u001b[1;32m   4101\u001b[0m                 \u001b[0;32mreturn\u001b[0m \u001b[0mself\u001b[0m\u001b[0;34m.\u001b[0m\u001b[0m_getitem_multilevel\u001b[0m\u001b[0;34m(\u001b[0m\u001b[0mkey\u001b[0m\u001b[0;34m)\u001b[0m\u001b[0;34m\u001b[0m\u001b[0;34m\u001b[0m\u001b[0m\n\u001b[0;32m-> 4102\u001b[0;31m             \u001b[0mindexer\u001b[0m \u001b[0;34m=\u001b[0m \u001b[0mself\u001b[0m\u001b[0;34m.\u001b[0m\u001b[0mcolumns\u001b[0m\u001b[0;34m.\u001b[0m\u001b[0mget_loc\u001b[0m\u001b[0;34m(\u001b[0m\u001b[0mkey\u001b[0m\u001b[0;34m)\u001b[0m\u001b[0;34m\u001b[0m\u001b[0;34m\u001b[0m\u001b[0m\n\u001b[0m\u001b[1;32m   4103\u001b[0m             \u001b[0;32mif\u001b[0m \u001b[0mis_integer\u001b[0m\u001b[0;34m(\u001b[0m\u001b[0mindexer\u001b[0m\u001b[0;34m)\u001b[0m\u001b[0;34m:\u001b[0m\u001b[0;34m\u001b[0m\u001b[0;34m\u001b[0m\u001b[0m\n\u001b[1;32m   4104\u001b[0m                 \u001b[0mindexer\u001b[0m \u001b[0;34m=\u001b[0m \u001b[0;34m[\u001b[0m\u001b[0mindexer\u001b[0m\u001b[0;34m]\u001b[0m\u001b[0;34m\u001b[0m\u001b[0;34m\u001b[0m\u001b[0m\n",
            "\u001b[0;32m/usr/local/lib/python3.9/site-packages/pandas/core/indexes/base.py\u001b[0m in \u001b[0;36mget_loc\u001b[0;34m(self, key)\u001b[0m\n\u001b[1;32m   3815\u001b[0m             \u001b[0;31m#  InvalidIndexError. Otherwise we fall through and re-raise\u001b[0m\u001b[0;34m\u001b[0m\u001b[0;34m\u001b[0m\u001b[0m\n\u001b[1;32m   3816\u001b[0m             \u001b[0;31m#  the TypeError.\u001b[0m\u001b[0;34m\u001b[0m\u001b[0;34m\u001b[0m\u001b[0m\n\u001b[0;32m-> 3817\u001b[0;31m             \u001b[0mself\u001b[0m\u001b[0;34m.\u001b[0m\u001b[0m_check_indexing_error\u001b[0m\u001b[0;34m(\u001b[0m\u001b[0mkey\u001b[0m\u001b[0;34m)\u001b[0m\u001b[0;34m\u001b[0m\u001b[0;34m\u001b[0m\u001b[0m\n\u001b[0m\u001b[1;32m   3818\u001b[0m             \u001b[0;32mraise\u001b[0m\u001b[0;34m\u001b[0m\u001b[0;34m\u001b[0m\u001b[0m\n\u001b[1;32m   3819\u001b[0m \u001b[0;34m\u001b[0m\u001b[0m\n",
            "\u001b[0;32m/usr/local/lib/python3.9/site-packages/pandas/core/indexes/base.py\u001b[0m in \u001b[0;36m_check_indexing_error\u001b[0;34m(self, key)\u001b[0m\n\u001b[1;32m   6057\u001b[0m             \u001b[0;31m# if key is not a scalar, directly raise an error (the code below\u001b[0m\u001b[0;34m\u001b[0m\u001b[0;34m\u001b[0m\u001b[0m\n\u001b[1;32m   6058\u001b[0m             \u001b[0;31m# would convert to numpy arrays and raise later any way) - GH29926\u001b[0m\u001b[0;34m\u001b[0m\u001b[0;34m\u001b[0m\u001b[0m\n\u001b[0;32m-> 6059\u001b[0;31m             \u001b[0;32mraise\u001b[0m \u001b[0mInvalidIndexError\u001b[0m\u001b[0;34m(\u001b[0m\u001b[0mkey\u001b[0m\u001b[0;34m)\u001b[0m\u001b[0;34m\u001b[0m\u001b[0;34m\u001b[0m\u001b[0m\n\u001b[0m\u001b[1;32m   6060\u001b[0m \u001b[0;34m\u001b[0m\u001b[0m\n\u001b[1;32m   6061\u001b[0m     \u001b[0;34m@\u001b[0m\u001b[0mcache_readonly\u001b[0m\u001b[0;34m\u001b[0m\u001b[0;34m\u001b[0m\u001b[0m\n",
            "\u001b[0;31mInvalidIndexError\u001b[0m: (slice(None, None, None), slice(1, None, None))"
          ]
        }
      ],
      "source": [],
      "metadata": {
        "pycharm": {
          "name": "#%%\n"
        },
        "id": "DxmWK6CtaOmO",
        "outputId": "70995ef0-d347-4fd6-fa3e-1bc579637e10"
      },
      "id": "DxmWK6CtaOmO"
    },
    {
      "cell_type": "code",
      "execution_count": null,
      "outputs": [],
      "source": [],
      "metadata": {
        "pycharm": {
          "name": "#%%\n"
        },
        "id": "V9AOjwBRaOmO"
      },
      "id": "V9AOjwBRaOmO"
    }
  ],
  "metadata": {
    "kernelspec": {
      "display_name": "Python 3 (ipykernel)",
      "language": "python",
      "name": "python3"
    },
    "language_info": {
      "codemirror_mode": {
        "name": "ipython",
        "version": 3
      },
      "file_extension": ".py",
      "mimetype": "text/x-python",
      "name": "python",
      "nbconvert_exporter": "python",
      "pygments_lexer": "ipython3",
      "version": "3.12.5"
    },
    "colab": {
      "provenance": []
    }
  },
  "nbformat": 4,
  "nbformat_minor": 5
}