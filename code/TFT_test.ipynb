{
 "cells": [
  {
   "cell_type": "raw",
   "metadata": {},
   "source": [
    "---\n",
    "title: \"Untitled\"\n",
    "format: html\n",
    "---"
   ]
  },
  {
   "cell_type": "code",
   "execution_count": 1,
   "metadata": {},
   "outputs": [
    {
     "name": "stderr",
     "output_type": "stream",
     "text": [
      "2024-10-02 15:16:22.260792: I tensorflow/core/platform/cpu_feature_guard.cc:210] This TensorFlow binary is optimized to use available CPU instructions in performance-critical operations.\n",
      "To enable the following instructions: AVX2 FMA, in other operations, rebuild TensorFlow with the appropriate compiler flags.\n"
     ]
    }
   ],
   "source": [
    "import numpy as np\n",
    "import pandas as pd\n",
    "from TFT import TFT"
   ]
  },
  {
   "cell_type": "code",
   "execution_count": 2,
   "metadata": {},
   "outputs": [],
   "source": [
    "tft = TFT(cache_data=False)"
   ]
  },
  {
   "cell_type": "markdown",
   "metadata": {},
   "source": [
    "Create simulated data"
   ]
  },
  {
   "cell_type": "code",
   "execution_count": 3,
   "metadata": {},
   "outputs": [
    {
     "data": {
      "text/html": [
       "<div>\n",
       "<style scoped>\n",
       "    .dataframe tbody tr th:only-of-type {\n",
       "        vertical-align: middle;\n",
       "    }\n",
       "\n",
       "    .dataframe tbody tr th {\n",
       "        vertical-align: top;\n",
       "    }\n",
       "\n",
       "    .dataframe thead th {\n",
       "        text-align: right;\n",
       "    }\n",
       "</style>\n",
       "<table border=\"1\" class=\"dataframe\">\n",
       "  <thead>\n",
       "    <tr style=\"text-align: right;\">\n",
       "      <th></th>\n",
       "      <th>daily_var0</th>\n",
       "      <th>daily_var1</th>\n",
       "      <th>daily_var2</th>\n",
       "      <th>daily_var3</th>\n",
       "      <th>daily_var4</th>\n",
       "    </tr>\n",
       "  </thead>\n",
       "  <tbody>\n",
       "    <tr>\n",
       "      <th>2024-01-01</th>\n",
       "      <td>-0.495368</td>\n",
       "      <td>1.354366</td>\n",
       "      <td>0.042015</td>\n",
       "      <td>0.134995</td>\n",
       "      <td>0.723933</td>\n",
       "    </tr>\n",
       "    <tr>\n",
       "      <th>2024-01-02</th>\n",
       "      <td>0.425150</td>\n",
       "      <td>-0.678571</td>\n",
       "      <td>-1.296702</td>\n",
       "      <td>0.506769</td>\n",
       "      <td>1.019666</td>\n",
       "    </tr>\n",
       "    <tr>\n",
       "      <th>2024-01-03</th>\n",
       "      <td>-1.277709</td>\n",
       "      <td>-0.224408</td>\n",
       "      <td>-1.379400</td>\n",
       "      <td>0.870327</td>\n",
       "      <td>-0.555613</td>\n",
       "    </tr>\n",
       "    <tr>\n",
       "      <th>2024-01-04</th>\n",
       "      <td>-0.368318</td>\n",
       "      <td>-1.030343</td>\n",
       "      <td>1.136388</td>\n",
       "      <td>0.454262</td>\n",
       "      <td>-0.015251</td>\n",
       "    </tr>\n",
       "    <tr>\n",
       "      <th>2024-01-05</th>\n",
       "      <td>1.885187</td>\n",
       "      <td>-0.854652</td>\n",
       "      <td>0.428716</td>\n",
       "      <td>-1.358738</td>\n",
       "      <td>-0.036511</td>\n",
       "    </tr>\n",
       "    <tr>\n",
       "      <th>...</th>\n",
       "      <td>...</td>\n",
       "      <td>...</td>\n",
       "      <td>...</td>\n",
       "      <td>...</td>\n",
       "      <td>...</td>\n",
       "    </tr>\n",
       "    <tr>\n",
       "      <th>2024-04-05</th>\n",
       "      <td>0.460083</td>\n",
       "      <td>-1.585899</td>\n",
       "      <td>-0.212797</td>\n",
       "      <td>1.136708</td>\n",
       "      <td>1.266317</td>\n",
       "    </tr>\n",
       "    <tr>\n",
       "      <th>2024-04-06</th>\n",
       "      <td>-1.091844</td>\n",
       "      <td>0.471975</td>\n",
       "      <td>-0.724779</td>\n",
       "      <td>-0.524533</td>\n",
       "      <td>1.009133</td>\n",
       "    </tr>\n",
       "    <tr>\n",
       "      <th>2024-04-07</th>\n",
       "      <td>-0.181135</td>\n",
       "      <td>-0.673323</td>\n",
       "      <td>-0.196964</td>\n",
       "      <td>-0.115822</td>\n",
       "      <td>-0.724885</td>\n",
       "    </tr>\n",
       "    <tr>\n",
       "      <th>2024-04-08</th>\n",
       "      <td>-0.906565</td>\n",
       "      <td>0.702372</td>\n",
       "      <td>-0.221252</td>\n",
       "      <td>-0.767171</td>\n",
       "      <td>1.081795</td>\n",
       "    </tr>\n",
       "    <tr>\n",
       "      <th>2024-04-09</th>\n",
       "      <td>1.120521</td>\n",
       "      <td>1.045957</td>\n",
       "      <td>0.822406</td>\n",
       "      <td>-0.983227</td>\n",
       "      <td>0.455184</td>\n",
       "    </tr>\n",
       "  </tbody>\n",
       "</table>\n",
       "<p>100 rows × 5 columns</p>\n",
       "</div>"
      ],
      "text/plain": [
       "            daily_var0  daily_var1  daily_var2  daily_var3  daily_var4\n",
       "2024-01-01   -0.495368    1.354366    0.042015    0.134995    0.723933\n",
       "2024-01-02    0.425150   -0.678571   -1.296702    0.506769    1.019666\n",
       "2024-01-03   -1.277709   -0.224408   -1.379400    0.870327   -0.555613\n",
       "2024-01-04   -0.368318   -1.030343    1.136388    0.454262   -0.015251\n",
       "2024-01-05    1.885187   -0.854652    0.428716   -1.358738   -0.036511\n",
       "...                ...         ...         ...         ...         ...\n",
       "2024-04-05    0.460083   -1.585899   -0.212797    1.136708    1.266317\n",
       "2024-04-06   -1.091844    0.471975   -0.724779   -0.524533    1.009133\n",
       "2024-04-07   -0.181135   -0.673323   -0.196964   -0.115822   -0.724885\n",
       "2024-04-08   -0.906565    0.702372   -0.221252   -0.767171    1.081795\n",
       "2024-04-09    1.120521    1.045957    0.822406   -0.983227    0.455184\n",
       "\n",
       "[100 rows x 5 columns]"
      ]
     },
     "execution_count": 3,
     "metadata": {},
     "output_type": "execute_result"
    }
   ],
   "source": [
    "n_days = 100\n",
    "n_daily_vars = 5\n",
    "\n",
    "df_daily = pd.DataFrame(\n",
    "    np.random.randn(n_days, n_daily_vars),\n",
    "    index=pd.date_range(start=\"2024-01-01\", periods=n_days, freq=\"D\")\n",
    ")\n",
    "df_daily.columns = [f\"daily_var{i}\" for i in range(n_daily_vars)]\n",
    "df_daily"
   ]
  },
  {
   "cell_type": "code",
   "execution_count": 4,
   "metadata": {},
   "outputs": [
    {
     "data": {
      "text/html": [
       "<div>\n",
       "<style scoped>\n",
       "    .dataframe tbody tr th:only-of-type {\n",
       "        vertical-align: middle;\n",
       "    }\n",
       "\n",
       "    .dataframe tbody tr th {\n",
       "        vertical-align: top;\n",
       "    }\n",
       "\n",
       "    .dataframe thead th {\n",
       "        text-align: right;\n",
       "    }\n",
       "</style>\n",
       "<table border=\"1\" class=\"dataframe\">\n",
       "  <thead>\n",
       "    <tr style=\"text-align: right;\">\n",
       "      <th></th>\n",
       "      <th>monthly_var0</th>\n",
       "      <th>monthly_var1</th>\n",
       "      <th>monthly_var2</th>\n",
       "      <th>monthly_var3</th>\n",
       "    </tr>\n",
       "  </thead>\n",
       "  <tbody>\n",
       "    <tr>\n",
       "      <th>2024-01-31</th>\n",
       "      <td>-0.539176</td>\n",
       "      <td>-1.812220</td>\n",
       "      <td>0.069715</td>\n",
       "      <td>0.804454</td>\n",
       "    </tr>\n",
       "    <tr>\n",
       "      <th>2024-02-29</th>\n",
       "      <td>0.213245</td>\n",
       "      <td>-1.183212</td>\n",
       "      <td>-0.628215</td>\n",
       "      <td>0.583423</td>\n",
       "    </tr>\n",
       "    <tr>\n",
       "      <th>2024-03-31</th>\n",
       "      <td>-1.434220</td>\n",
       "      <td>0.378218</td>\n",
       "      <td>0.491407</td>\n",
       "      <td>-0.617749</td>\n",
       "    </tr>\n",
       "    <tr>\n",
       "      <th>2024-04-30</th>\n",
       "      <td>1.189291</td>\n",
       "      <td>-0.627300</td>\n",
       "      <td>0.100821</td>\n",
       "      <td>1.974981</td>\n",
       "    </tr>\n",
       "    <tr>\n",
       "      <th>2024-05-31</th>\n",
       "      <td>-1.164507</td>\n",
       "      <td>0.282187</td>\n",
       "      <td>0.059191</td>\n",
       "      <td>-0.050107</td>\n",
       "    </tr>\n",
       "    <tr>\n",
       "      <th>2024-06-30</th>\n",
       "      <td>-0.384647</td>\n",
       "      <td>1.815453</td>\n",
       "      <td>1.227965</td>\n",
       "      <td>0.878783</td>\n",
       "    </tr>\n",
       "    <tr>\n",
       "      <th>2024-07-31</th>\n",
       "      <td>-0.472446</td>\n",
       "      <td>-1.238366</td>\n",
       "      <td>-0.474905</td>\n",
       "      <td>-0.796944</td>\n",
       "    </tr>\n",
       "    <tr>\n",
       "      <th>2024-08-31</th>\n",
       "      <td>-0.317536</td>\n",
       "      <td>-0.457679</td>\n",
       "      <td>1.967872</td>\n",
       "      <td>-0.211807</td>\n",
       "    </tr>\n",
       "  </tbody>\n",
       "</table>\n",
       "</div>"
      ],
      "text/plain": [
       "            monthly_var0  monthly_var1  monthly_var2  monthly_var3\n",
       "2024-01-31     -0.539176     -1.812220      0.069715      0.804454\n",
       "2024-02-29      0.213245     -1.183212     -0.628215      0.583423\n",
       "2024-03-31     -1.434220      0.378218      0.491407     -0.617749\n",
       "2024-04-30      1.189291     -0.627300      0.100821      1.974981\n",
       "2024-05-31     -1.164507      0.282187      0.059191     -0.050107\n",
       "2024-06-30     -0.384647      1.815453      1.227965      0.878783\n",
       "2024-07-31     -0.472446     -1.238366     -0.474905     -0.796944\n",
       "2024-08-31     -0.317536     -0.457679      1.967872     -0.211807"
      ]
     },
     "execution_count": 4,
     "metadata": {},
     "output_type": "execute_result"
    }
   ],
   "source": [
    "n_months = 8\n",
    "n_monthly_vars = 4\n",
    "\n",
    "df_monthly = pd.DataFrame(\n",
    "    np.random.randn(n_months, n_monthly_vars),\n",
    "    index=pd.date_range(start=\"2024-01-01\", periods=n_months, freq=\"ME\")\n",
    ")\n",
    "df_monthly.columns = [f\"monthly_var{i}\" for i in range(n_monthly_vars)]\n",
    "df_monthly"
   ]
  },
  {
   "cell_type": "markdown",
   "metadata": {},
   "source": [
    "Now we create the dependent variable"
   ]
  },
  {
   "cell_type": "code",
   "execution_count": 5,
   "metadata": {},
   "outputs": [
    {
     "data": {
      "text/html": [
       "<div>\n",
       "<style scoped>\n",
       "    .dataframe tbody tr th:only-of-type {\n",
       "        vertical-align: middle;\n",
       "    }\n",
       "\n",
       "    .dataframe tbody tr th {\n",
       "        vertical-align: top;\n",
       "    }\n",
       "\n",
       "    .dataframe thead th {\n",
       "        text-align: right;\n",
       "    }\n",
       "</style>\n",
       "<table border=\"1\" class=\"dataframe\">\n",
       "  <thead>\n",
       "    <tr style=\"text-align: right;\">\n",
       "      <th></th>\n",
       "      <th>monthly_var0</th>\n",
       "    </tr>\n",
       "  </thead>\n",
       "  <tbody>\n",
       "    <tr>\n",
       "      <th>2024-01-31</th>\n",
       "      <td>-0.539176</td>\n",
       "    </tr>\n",
       "    <tr>\n",
       "      <th>2024-02-29</th>\n",
       "      <td>0.213245</td>\n",
       "    </tr>\n",
       "    <tr>\n",
       "      <th>2024-03-31</th>\n",
       "      <td>-1.434220</td>\n",
       "    </tr>\n",
       "    <tr>\n",
       "      <th>2024-04-30</th>\n",
       "      <td>1.189291</td>\n",
       "    </tr>\n",
       "    <tr>\n",
       "      <th>2024-05-31</th>\n",
       "      <td>-1.164507</td>\n",
       "    </tr>\n",
       "    <tr>\n",
       "      <th>2024-06-30</th>\n",
       "      <td>-0.384647</td>\n",
       "    </tr>\n",
       "    <tr>\n",
       "      <th>2024-07-31</th>\n",
       "      <td>-0.472446</td>\n",
       "    </tr>\n",
       "    <tr>\n",
       "      <th>2024-08-31</th>\n",
       "      <td>-0.317536</td>\n",
       "    </tr>\n",
       "  </tbody>\n",
       "</table>\n",
       "</div>"
      ],
      "text/plain": [
       "            monthly_var0\n",
       "2024-01-31     -0.539176\n",
       "2024-02-29      0.213245\n",
       "2024-03-31     -1.434220\n",
       "2024-04-30      1.189291\n",
       "2024-05-31     -1.164507\n",
       "2024-06-30     -0.384647\n",
       "2024-07-31     -0.472446\n",
       "2024-08-31     -0.317536"
      ]
     },
     "execution_count": 5,
     "metadata": {},
     "output_type": "execute_result"
    }
   ],
   "source": [
    "df_y = df_monthly.pop(\"monthly_var0\")\n",
    "df_y = pd.DataFrame(df_y)\n",
    "df_y"
   ]
  },
  {
   "cell_type": "code",
   "execution_count": 6,
   "metadata": {},
   "outputs": [
    {
     "name": "stdout",
     "output_type": "stream",
     "text": [
      "Processing `X` and `y` data.\n",
      "  working out the frequencies...\n",
      "  calculating ...\n",
      "Processing `X` and `y` data: concluded\n",
      "hist LSTM SHAPES:\n",
      "D: (None, None, 8)\n",
      "ME: (None, None, 8)\n",
      "Shape of historical data: (None, 365, 8). Shape of future data: (None, None, 8)\n",
      "SHAPE OF QOUT: ((None, None, 1), [(None, None, 1), (None, None, 1), (None, None, 1)])\n",
      "SHAPE OF OUTPUTS: (None, None, 3)\n",
      "Epoch 1/2\n",
      "\u001b[1m4/4\u001b[0m \u001b[32m━━━━━━━━━━━━━━━━━━━━\u001b[0m\u001b[37m\u001b[0m \u001b[1m70s\u001b[0m 5s/step - loss: 0.8934 - val_loss: 2.0040\n",
      "Epoch 2/2\n",
      "\u001b[1m4/4\u001b[0m \u001b[32m━━━━━━━━━━━━━━━━━━━━\u001b[0m\u001b[37m\u001b[0m \u001b[1m1s\u001b[0m 201ms/step - loss: 0.7443 - val_loss: 2.0052\n"
     ]
    }
   ],
   "source": [
    "tft.fit(\n",
    "    X={\"D\": df_daily, \"ME\": df_monthly},\n",
    "    y={\"ME\": df_y}\n",
    ")"
   ]
  },
  {
   "cell_type": "code",
   "execution_count": 7,
   "metadata": {},
   "outputs": [
    {
     "data": {
      "text/plain": [
       "{'D': 5, 'ME': 4}"
      ]
     },
     "execution_count": 7,
     "metadata": {},
     "output_type": "execute_result"
    }
   ],
   "source": [
    "tft.n_features_in_"
   ]
  },
  {
   "cell_type": "code",
   "execution_count": 8,
   "metadata": {},
   "outputs": [
    {
     "data": {
      "text/plain": [
       "([<KerasTensor shape=(None, None, 5), dtype=float32, sparse=False, name=HistInput__freq_D>,\n",
       "  <KerasTensor shape=(None, None, 4), dtype=float32, sparse=False, name=HistInput__freq_ME>,\n",
       "  <KerasTensor shape=(None, None, 5), dtype=float32, sparse=False, name=FutInput__freq_D>],\n",
       " [<KerasTensor shape=(None, None, 3), dtype=float32, sparse=False, name=keras_tensor_37>])"
      ]
     },
     "execution_count": 8,
     "metadata": {},
     "output_type": "execute_result"
    }
   ],
   "source": [
    "tft.model.inputs, tft.model.outputs"
   ]
  },
  {
   "cell_type": "code",
   "execution_count": 9,
   "metadata": {},
   "outputs": [
    {
     "ename": "AttributeError",
     "evalue": "'dict' object has no attribute 'iloc'",
     "output_type": "error",
     "traceback": [
      "\u001b[0;31m---------------------------------------------------------------------------\u001b[0m",
      "\u001b[0;31mAttributeError\u001b[0m                            Traceback (most recent call last)",
      "Cell \u001b[0;32mIn[9], line 1\u001b[0m\n\u001b[0;32m----> 1\u001b[0m tft\u001b[39m.\u001b[39;49mpredict(\n\u001b[1;32m      2\u001b[0m     X\u001b[39m=\u001b[39;49m{\u001b[39m\"\u001b[39;49m\u001b[39mD\u001b[39;49m\u001b[39m\"\u001b[39;49m: df_daily, \u001b[39m\"\u001b[39;49m\u001b[39mME\u001b[39;49m\u001b[39m\"\u001b[39;49m: df_monthly},\n\u001b[1;32m      3\u001b[0m     y\u001b[39m=\u001b[39;49m{\u001b[39m\"\u001b[39;49m\u001b[39mME\u001b[39;49m\u001b[39m\"\u001b[39;49m: df_y}\n\u001b[1;32m      4\u001b[0m )\n",
      "File \u001b[0;32m~/Coding/Nowcasting-Techsprint/code/TFT/__init__.py:368\u001b[0m, in \u001b[0;36mpredict\u001b[0;34m(self, X, y)\u001b[0m\n\u001b[1;32m    367\u001b[0m \u001b[39mdef\u001b[39;00m \u001b[39mfit_predict\u001b[39m(\u001b[39mself\u001b[39m, X, y):\n\u001b[0;32m--> 368\u001b[0m     \u001b[39mself\u001b[39m\u001b[39m.\u001b[39mfit(X\u001b[39m=\u001b[39mX, y\u001b[39m=\u001b[39my)\n\u001b[1;32m    369\u001b[0m     \u001b[39mreturn\u001b[39;00m \u001b[39mself\u001b[39m\u001b[39m.\u001b[39mpredict(X\u001b[39m=\u001b[39mX)\n",
      "File \u001b[0;32m~/Coding/Nowcasting-Techsprint/code/TFT/__init__.py:259\u001b[0m, in \u001b[0;36m_organise_data\u001b[0;34m(self, X, y)\u001b[0m\n\u001b[1;32m    257\u001b[0m date_lim \u001b[39m=\u001b[39m \u001b[39mself\u001b[39m\u001b[39m.\u001b[39mlast_avail_dates_[\u001b[39mf\u001b[39m\u001b[39m\"\u001b[39m\u001b[39mLastAvail\u001b[39m\u001b[39m{\u001b[39;00mXk\u001b[39m}\u001b[39;00m\u001b[39m\"\u001b[39m][y_date]\n\u001b[1;32m    258\u001b[0m \u001b[39mtry\u001b[39;00m:\n\u001b[0;32m--> 259\u001b[0m     to_pad \u001b[39m=\u001b[39m Xv[:date_lim]\u001b[39m.\u001b[39mvalues\n\u001b[1;32m    260\u001b[0m \u001b[39mexcept\u001b[39;00m \u001b[39mKeyError\u001b[39;00m:\n\u001b[1;32m    261\u001b[0m     to_pad \u001b[39m=\u001b[39m np\u001b[39m.\u001b[39mzeros((\u001b[39m1\u001b[39m, \u001b[39m1\u001b[39m))\n",
      "\u001b[0;31mAttributeError\u001b[0m: 'dict' object has no attribute 'iloc'"
     ]
    }
   ],
   "source": [
    "tft.predict(\n",
    "    X={\"D\": df_daily, \"ME\": df_monthly},\n",
    "    y={\"ME\": df_y}\n",
    ")"
   ]
  },
  {
   "cell_type": "code",
   "execution_count": null,
   "metadata": {},
   "outputs": [],
   "source": [
    "# def arrange_Xy(X, y):\n",
    "#     pred_data = {\"X_hist\": {}, \"X_fut\": {}, \"y\": y}\n",
    "#     for Xk, Xv in X.items():\n",
    "#         pred_data[\"X_hist\"][Xk] = []\n",
    "#         for y_date in y.index:\n",
    "            \n",
    "    "
   ]
  }
 ],
 "metadata": {
  "kernelspec": {
   "display_name": "Python 3.10.2 ('.venv_gingado': venv)",
   "language": "python",
   "name": "python3"
  },
  "language_info": {
   "codemirror_mode": {
    "name": "ipython",
    "version": 3
   },
   "file_extension": ".py",
   "mimetype": "text/x-python",
   "name": "python",
   "nbconvert_exporter": "python",
   "pygments_lexer": "ipython3",
   "version": "3.10.2"
  },
  "orig_nbformat": 4,
  "vscode": {
   "interpreter": {
    "hash": "977c2d9435ad3a481cf1bbece8d5ecb19e078de55648a0a0bad32b79c2e18340"
   }
  }
 },
 "nbformat": 4,
 "nbformat_minor": 2
}
