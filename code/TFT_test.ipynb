{
 "cells": [
  {
   "cell_type": "raw",
   "metadata": {},
   "source": [
    "---\n",
    "title: \"Untitled\"\n",
    "format: html\n",
    "---"
   ]
  },
  {
   "cell_type": "code",
   "execution_count": null,
   "metadata": {},
   "outputs": [],
   "source": [
    "import numpy as np\n",
    "import pandas as pd\n",
    "from TFT import TFT"
   ]
  },
  {
   "cell_type": "code",
   "execution_count": null,
   "metadata": {},
   "outputs": [],
   "source": [
    "tft = TFT(cache_data=False)"
   ]
  },
  {
   "cell_type": "markdown",
   "metadata": {},
   "source": [
    "Create simulated data"
   ]
  },
  {
   "cell_type": "code",
   "execution_count": null,
   "metadata": {},
   "outputs": [],
   "source": [
    "n_days = 100\n",
    "n_daily_vars = 5\n",
    "\n",
    "df_daily = pd.DataFrame(\n",
    "    np.random.randn(n_days, n_daily_vars),\n",
    "    index=pd.date_range(start=\"2024-01-01\", periods=n_days, freq=\"D\")\n",
    ")\n",
    "df_daily.columns = [f\"daily_var{i}\" for i in range(n_daily_vars)]\n",
    "df_daily"
   ]
  },
  {
   "cell_type": "code",
   "execution_count": null,
   "metadata": {},
   "outputs": [],
   "source": [
    "n_months = 8\n",
    "n_monthly_vars = 4\n",
    "\n",
    "df_monthly = pd.DataFrame(\n",
    "    np.random.randn(n_months, n_monthly_vars),\n",
    "    index=pd.date_range(start=\"2024-01-01\", periods=n_months, freq=\"ME\")\n",
    ")\n",
    "df_monthly.columns = [f\"monthly_var{i}\" for i in range(n_monthly_vars)]\n",
    "df_monthly"
   ]
  },
  {
   "cell_type": "markdown",
   "metadata": {},
   "source": [
    "Now we create the dependent variable"
   ]
  },
  {
   "cell_type": "code",
   "execution_count": null,
   "metadata": {},
   "outputs": [],
   "source": [
    "df_y = df_monthly.pop(\"monthly_var0\")\n",
    "df_y = pd.DataFrame(df_y)\n",
    "df_y"
   ]
  },
  {
   "cell_type": "code",
   "execution_count": null,
   "metadata": {},
   "outputs": [],
   "source": [
    "tft.fit(\n",
    "    X={\"D\": df_daily, \"ME\": df_monthly},\n",
    "    y={\"ME\": df_y}\n",
    ")\n",
    "\n",
    "pred = tft.predict(\n",
    "    X={\"D\": df_daily, \"ME\": df_monthly},\n",
    "    y={\"ME\": df_y}\n",
    ")"
   ]
  },
  {
   "cell_type": "code",
   "execution_count": null,
   "metadata": {},
   "outputs": [],
   "source": [
    "tft.last_avail_dates_[\"LastAvailD\"][\"2024-08-29\"]"
   ]
  },
  {
   "cell_type": "code",
   "execution_count": null,
   "metadata": {},
   "outputs": [],
   "source": [
    "tft.model.inputs, tft.model.outputs"
   ]
  },
  {
   "cell_type": "code",
   "execution_count": null,
   "metadata": {},
   "outputs": [],
   "source": [
    "import matplotlib.pyplot as plt\n",
    "plt.plot(pred[:,-1,:])"
   ]
  },
  {
   "cell_type": "code",
   "execution_count": null,
   "metadata": {},
   "outputs": [],
   "source": [
    "tft.plot_model()"
   ]
  }
 ],
 "metadata": {
  "kernelspec": {
   "display_name": "Python 3.10.2 ('.venv_gingado': venv)",
   "language": "python",
   "name": "python3"
  },
  "language_info": {
   "codemirror_mode": {
    "name": "ipython",
    "version": 3
   },
   "file_extension": ".py",
   "mimetype": "text/x-python",
   "name": "python",
   "nbconvert_exporter": "python",
   "pygments_lexer": "ipython3",
   "version": "3.10.2"
  },
  "orig_nbformat": 4,
  "vscode": {
   "interpreter": {
    "hash": "977c2d9435ad3a481cf1bbece8d5ecb19e078de55648a0a0bad32b79c2e18340"
   }
  }
 },
 "nbformat": 4,
 "nbformat_minor": 2
}
