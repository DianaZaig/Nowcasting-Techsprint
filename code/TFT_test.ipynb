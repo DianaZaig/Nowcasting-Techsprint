{
 "cells": [
  {
   "cell_type": "raw",
   "metadata": {},
   "source": [
    "---\n",
    "title: \"Untitled\"\n",
    "format: html\n",
    "---"
   ]
  },
  {
   "cell_type": "code",
   "execution_count": null,
   "metadata": {},
   "outputs": [],
   "source": [
    "import numpy as np\n",
    "import pandas as pd\n",
    "from TFT import TFT"
   ]
  },
  {
   "cell_type": "code",
   "execution_count": null,
   "metadata": {},
   "outputs": [],
   "source": [
    "tft = TFT(cache_data=False)"
   ]
  },
  {
   "cell_type": "markdown",
   "metadata": {},
   "source": [
    "Create simulated data"
   ]
  },
  {
   "cell_type": "code",
   "execution_count": null,
   "metadata": {},
   "outputs": [],
   "source": [
    "n_days = 365\n",
    "n_daily_vars = 5\n",
    "\n",
    "df_daily = pd.DataFrame(\n",
    "    np.random.randn(n_days, n_daily_vars),\n",
    "    index=pd.date_range(start=\"2024-01-01\", periods=n_days, freq=\"D\")\n",
    ")\n",
    "df_daily.columns = [f\"daily_var{i}\" for i in range(n_daily_vars)]\n",
    "df_daily"
   ]
  },
  {
   "cell_type": "code",
   "execution_count": null,
   "metadata": {},
   "outputs": [],
   "source": [
    "df_daily.index"
   ]
  },
  {
   "cell_type": "code",
   "execution_count": null,
   "metadata": {},
   "outputs": [],
   "source": [
    "n_months = 8\n",
    "n_monthly_vars = 4\n",
    "\n",
    "df_monthly = pd.DataFrame(\n",
    "    np.random.randn(n_months, n_monthly_vars),\n",
    "    index=pd.date_range(start=\"2024-01-01\", periods=n_months, freq=\"ME\")\n",
    ")\n",
    "df_monthly.columns = [f\"monthly_var{i}\" for i in range(n_monthly_vars)]\n",
    "df_monthly"
   ]
  },
  {
   "cell_type": "markdown",
   "metadata": {},
   "source": [
    "Now we create the dependent variable. It can be either a dataframe with two columns, or with just one column. Use the former if testing the static covarariate and everything that depends on panel data. The latter is used for simpler setting, to develop other parts of the model."
   ]
  },
  {
   "cell_type": "code",
   "execution_count": null,
   "metadata": {},
   "outputs": [],
   "source": [
    "y_twocols = False\n",
    "if y_twocols:\n",
    "    y_cols = [\"monthly_var0\", \"monthly_var1\"]\n",
    "    df_y = df_monthly[y_cols]\n",
    "    df_monthly = df_monthly[[c for c in df_monthly if c not in y_cols]]\n",
    "    df_y\n",
    "else:\n",
    "    df_y = df_monthly.pop(\"monthly_var0\")\n",
    "    df_y = pd.DataFrame(df_y)\n",
    "    df_y"
   ]
  },
  {
   "cell_type": "code",
   "execution_count": null,
   "metadata": {},
   "outputs": [],
   "source": [
    "tft.fit(\n",
    "    X={\"D\": df_daily, \"ME\": df_monthly},\n",
    "    y={\"ME\": df_y}\n",
    ")\n",
    "\n",
    "pred, pred_dates = tft.predict(\n",
    "    X={\"D\": df_daily, \"ME\": df_monthly},\n",
    "    y={\"ME\": df_y}\n",
    ")"
   ]
  },
  {
   "cell_type": "code",
   "execution_count": null,
   "metadata": {},
   "outputs": [],
   "source": [
    "tft.entities"
   ]
  },
  {
   "cell_type": "code",
   "execution_count": null,
   "metadata": {},
   "outputs": [],
   "source": [
    "tmp_d = np.random.randn(3, 5)\n",
    "tmp_d = np.expand_dims(tmp_d, axis=1)\n",
    "print(tmp_d.shape)\n",
    "tmp_d = np.repeat(tmp_d, repeats=2, axis=1)\n",
    "print(tmp_d.shape)\n",
    "tmp_d"
   ]
  },
  {
   "cell_type": "markdown",
   "metadata": {},
   "source": [
    "The following example shows how to put dates to the predictions, assuming the latest prediction is the one of interest."
   ]
  },
  {
   "cell_type": "code",
   "execution_count": null,
   "metadata": {},
   "outputs": [],
   "source": [
    "date_idx = pred_dates[list(pred_dates.keys())[-1]]\n",
    "df_pred = pd.DataFrame(pred[-1,:,:], index=date_idx)\n",
    "df_pred.columns = [\"Q10\", \"Q50\", \"Q90\"]\n",
    "df_pred.plot()"
   ]
  },
  {
   "cell_type": "code",
   "execution_count": null,
   "metadata": {},
   "outputs": [],
   "source": [
    "{\"A\": 3, \"B\": 4} | {}"
   ]
  },
  {
   "cell_type": "code",
   "execution_count": null,
   "metadata": {},
   "outputs": [],
   "source": [
    "tft.plot_model()"
   ]
  }
 ],
 "metadata": {
  "kernelspec": {
   "display_name": "Python 3.10.2 ('.venv_gingado': venv)",
   "language": "python",
   "name": "python3"
  },
  "language_info": {
   "codemirror_mode": {
    "name": "ipython",
    "version": 3
   },
   "file_extension": ".py",
   "mimetype": "text/x-python",
   "name": "python",
   "nbconvert_exporter": "python",
   "pygments_lexer": "ipython3",
   "version": "3.10.2"
  },
  "orig_nbformat": 4,
  "vscode": {
   "interpreter": {
    "hash": "977c2d9435ad3a481cf1bbece8d5ecb19e078de55648a0a0bad32b79c2e18340"
   }
  }
 },
 "nbformat": 4,
 "nbformat_minor": 2
}
